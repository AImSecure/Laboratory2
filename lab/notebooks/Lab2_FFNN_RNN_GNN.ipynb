{
  "cells": [
    {
      "cell_type": "markdown",
      "metadata": {
        "id": "view-in-github",
        "colab_type": "text"
      },
      "source": [
        "<a href=\"https://colab.research.google.com/github/AImSecure/Laboratory2/blob/main/lab/notebooks/Lab2_FFNN_RNN_GNN.ipynb\" target=\"_parent\"><img src=\"https://colab.research.google.com/assets/colab-badge.svg\" alt=\"Open In Colab\"/></a>"
      ]
    },
    {
      "cell_type": "markdown",
      "id": "4d244321",
      "metadata": {
        "id": "4d244321"
      },
      "source": [
        "# Laboratory 2 — Model Engineering\n",
        "\n",
        "text"
      ]
    },
    {
      "cell_type": "markdown",
      "source": [
        "## Setup"
      ],
      "metadata": {
        "id": "NXfnBkl-P0ma"
      },
      "id": "NXfnBkl-P0ma"
    },
    {
      "cell_type": "code",
      "execution_count": 9,
      "metadata": {
        "colab": {
          "base_uri": "https://localhost:8080/"
        },
        "id": "svE8FspeRPW3",
        "outputId": "aa06863e-1708-49ce-d834-b6bb5439aaf7"
      },
      "outputs": [
        {
          "output_type": "stream",
          "name": "stdout",
          "text": [
            "Python 3.12.12\n",
            "Requirement already satisfied: pip in /usr/local/lib/python3.12/dist-packages (25.3)\n"
          ]
        }
      ],
      "source": [
        "# --- Check Python and pip versions ---\n",
        "!python --version\n",
        "!pip install --upgrade pip"
      ],
      "id": "svE8FspeRPW3"
    },
    {
      "cell_type": "code",
      "execution_count": 10,
      "metadata": {
        "colab": {
          "base_uri": "https://localhost:8080/"
        },
        "id": "fyfyzIzWbHTG",
        "outputId": "bd187208-9c84-4db8-c1e9-b39a53651bba"
      },
      "outputs": [
        {
          "output_type": "stream",
          "name": "stdout",
          "text": [
            "Requirement already satisfied: torch in /usr/local/lib/python3.12/dist-packages (2.8.0+cu126)\n",
            "Requirement already satisfied: filelock in /usr/local/lib/python3.12/dist-packages (from torch) (3.20.0)\n",
            "Requirement already satisfied: typing-extensions>=4.10.0 in /usr/local/lib/python3.12/dist-packages (from torch) (4.15.0)\n",
            "Requirement already satisfied: setuptools in /usr/local/lib/python3.12/dist-packages (from torch) (75.2.0)\n",
            "Requirement already satisfied: sympy>=1.13.3 in /usr/local/lib/python3.12/dist-packages (from torch) (1.13.3)\n",
            "Requirement already satisfied: networkx in /usr/local/lib/python3.12/dist-packages (from torch) (3.5)\n",
            "Requirement already satisfied: jinja2 in /usr/local/lib/python3.12/dist-packages (from torch) (3.1.6)\n",
            "Requirement already satisfied: fsspec in /usr/local/lib/python3.12/dist-packages (from torch) (2025.3.0)\n",
            "Requirement already satisfied: nvidia-cuda-nvrtc-cu12==12.6.77 in /usr/local/lib/python3.12/dist-packages (from torch) (12.6.77)\n",
            "Requirement already satisfied: nvidia-cuda-runtime-cu12==12.6.77 in /usr/local/lib/python3.12/dist-packages (from torch) (12.6.77)\n",
            "Requirement already satisfied: nvidia-cuda-cupti-cu12==12.6.80 in /usr/local/lib/python3.12/dist-packages (from torch) (12.6.80)\n",
            "Requirement already satisfied: nvidia-cudnn-cu12==9.10.2.21 in /usr/local/lib/python3.12/dist-packages (from torch) (9.10.2.21)\n",
            "Requirement already satisfied: nvidia-cublas-cu12==12.6.4.1 in /usr/local/lib/python3.12/dist-packages (from torch) (12.6.4.1)\n",
            "Requirement already satisfied: nvidia-cufft-cu12==11.3.0.4 in /usr/local/lib/python3.12/dist-packages (from torch) (11.3.0.4)\n",
            "Requirement already satisfied: nvidia-curand-cu12==10.3.7.77 in /usr/local/lib/python3.12/dist-packages (from torch) (10.3.7.77)\n",
            "Requirement already satisfied: nvidia-cusolver-cu12==11.7.1.2 in /usr/local/lib/python3.12/dist-packages (from torch) (11.7.1.2)\n",
            "Requirement already satisfied: nvidia-cusparse-cu12==12.5.4.2 in /usr/local/lib/python3.12/dist-packages (from torch) (12.5.4.2)\n",
            "Requirement already satisfied: nvidia-cusparselt-cu12==0.7.1 in /usr/local/lib/python3.12/dist-packages (from torch) (0.7.1)\n",
            "Requirement already satisfied: nvidia-nccl-cu12==2.27.3 in /usr/local/lib/python3.12/dist-packages (from torch) (2.27.3)\n",
            "Requirement already satisfied: nvidia-nvtx-cu12==12.6.77 in /usr/local/lib/python3.12/dist-packages (from torch) (12.6.77)\n",
            "Requirement already satisfied: nvidia-nvjitlink-cu12==12.6.85 in /usr/local/lib/python3.12/dist-packages (from torch) (12.6.85)\n",
            "Requirement already satisfied: nvidia-cufile-cu12==1.11.1.6 in /usr/local/lib/python3.12/dist-packages (from torch) (1.11.1.6)\n",
            "Requirement already satisfied: triton==3.4.0 in /usr/local/lib/python3.12/dist-packages (from torch) (3.4.0)\n",
            "Requirement already satisfied: mpmath<1.4,>=1.1.0 in /usr/local/lib/python3.12/dist-packages (from sympy>=1.13.3->torch) (1.3.0)\n",
            "Requirement already satisfied: MarkupSafe>=2.0 in /usr/local/lib/python3.12/dist-packages (from jinja2->torch) (3.0.3)\n",
            "Requirement already satisfied: numpy in /usr/local/lib/python3.12/dist-packages (2.0.2)\n",
            "Requirement already satisfied: pandas in /usr/local/lib/python3.12/dist-packages (2.2.2)\n",
            "Requirement already satisfied: scikit-learn in /usr/local/lib/python3.12/dist-packages (1.6.1)\n",
            "Requirement already satisfied: matplotlib in /usr/local/lib/python3.12/dist-packages (3.10.0)\n",
            "Requirement already satisfied: seaborn in /usr/local/lib/python3.12/dist-packages (0.13.2)\n",
            "Requirement already satisfied: python-dateutil>=2.8.2 in /usr/local/lib/python3.12/dist-packages (from pandas) (2.9.0.post0)\n",
            "Requirement already satisfied: pytz>=2020.1 in /usr/local/lib/python3.12/dist-packages (from pandas) (2025.2)\n",
            "Requirement already satisfied: tzdata>=2022.7 in /usr/local/lib/python3.12/dist-packages (from pandas) (2025.2)\n",
            "Requirement already satisfied: scipy>=1.6.0 in /usr/local/lib/python3.12/dist-packages (from scikit-learn) (1.16.2)\n",
            "Requirement already satisfied: joblib>=1.2.0 in /usr/local/lib/python3.12/dist-packages (from scikit-learn) (1.5.2)\n",
            "Requirement already satisfied: threadpoolctl>=3.1.0 in /usr/local/lib/python3.12/dist-packages (from scikit-learn) (3.6.0)\n",
            "Requirement already satisfied: contourpy>=1.0.1 in /usr/local/lib/python3.12/dist-packages (from matplotlib) (1.3.3)\n",
            "Requirement already satisfied: cycler>=0.10 in /usr/local/lib/python3.12/dist-packages (from matplotlib) (0.12.1)\n",
            "Requirement already satisfied: fonttools>=4.22.0 in /usr/local/lib/python3.12/dist-packages (from matplotlib) (4.60.1)\n",
            "Requirement already satisfied: kiwisolver>=1.3.1 in /usr/local/lib/python3.12/dist-packages (from matplotlib) (1.4.9)\n",
            "Requirement already satisfied: packaging>=20.0 in /usr/local/lib/python3.12/dist-packages (from matplotlib) (25.0)\n",
            "Requirement already satisfied: pillow>=8 in /usr/local/lib/python3.12/dist-packages (from matplotlib) (11.3.0)\n",
            "Requirement already satisfied: pyparsing>=2.3.1 in /usr/local/lib/python3.12/dist-packages (from matplotlib) (3.2.5)\n",
            "Requirement already satisfied: six>=1.5 in /usr/local/lib/python3.12/dist-packages (from python-dateutil>=2.8.2->pandas) (1.17.0)\n",
            "Requirement already satisfied: tqdm in /usr/local/lib/python3.12/dist-packages (4.67.1)\n"
          ]
        }
      ],
      "source": [
        "# --- Install required libraries ---\n",
        "!pip install torch\n",
        "!pip install numpy pandas scikit-learn matplotlib seaborn\n",
        "!pip install tqdm"
      ],
      "id": "fyfyzIzWbHTG"
    },
    {
      "cell_type": "code",
      "execution_count": 38,
      "metadata": {
        "id": "vZXgjER_TsGp"
      },
      "outputs": [],
      "source": [
        "# --- Import libraries ---\n",
        "import os\n",
        "import time\n",
        "import numpy as np\n",
        "import pandas as pd\n",
        "import matplotlib.pyplot as plt\n",
        "import seaborn as sns\n",
        "import json\n",
        "\n",
        "from sklearn.model_selection import train_test_split\n",
        "from sklearn.linear_model import LogisticRegression\n",
        "from sklearn.metrics import accuracy_score\n",
        "from sklearn.preprocessing import StandardScaler, MinMaxScaler, RobustScaler, LabelEncoder\n",
        "from sklearn.utils.class_weight import compute_class_weight\n",
        "from sklearn.metrics import classification_report, confusion_matrix, accuracy_score, f1_score\n",
        "from sklearn.decomposition import PCA\n",
        "from sklearn.impute import SimpleImputer\n",
        "\n",
        "import torch\n",
        "import torch.nn as nn\n",
        "import torch.optim as optim\n",
        "from torch.utils.data import Dataset, DataLoader, TensorDataset\n",
        "\n",
        "from tqdm import tqdm"
      ],
      "id": "vZXgjER_TsGp"
    },
    {
      "cell_type": "markdown",
      "metadata": {
        "id": "w201oyWVxE9k"
      },
      "source": [
        "### Colab Pro"
      ],
      "id": "w201oyWVxE9k"
    },
    {
      "cell_type": "code",
      "execution_count": 12,
      "metadata": {
        "colab": {
          "base_uri": "https://localhost:8080/"
        },
        "id": "_kIggYNUxFuZ",
        "outputId": "d14052f6-ab1c-48cf-d029-4016f2fa9cc0"
      },
      "outputs": [
        {
          "output_type": "stream",
          "name": "stdout",
          "text": [
            "/bin/bash: line 1: nvidia-smi: command not found\n"
          ]
        }
      ],
      "source": [
        "# --- Check GPU availability ---\n",
        "gpu_info = !nvidia-smi\n",
        "gpu_info = '\\n'.join(gpu_info)\n",
        "if gpu_info.find('failed') >= 0:\n",
        "  print('Not connected to a GPU')\n",
        "else:\n",
        "  print(gpu_info)"
      ],
      "id": "_kIggYNUxFuZ"
    },
    {
      "cell_type": "code",
      "execution_count": 13,
      "metadata": {
        "colab": {
          "base_uri": "https://localhost:8080/"
        },
        "id": "DH-w_NELxHpV",
        "outputId": "09286a0b-c36a-420d-ea43-8bec2b855254"
      },
      "outputs": [
        {
          "output_type": "stream",
          "name": "stdout",
          "text": [
            "Your runtime has 13.6 gigabytes of available RAM\n",
            "\n",
            "Not using a high-RAM runtime\n"
          ]
        }
      ],
      "source": [
        "# --- Check RAM availability ---\n",
        "from psutil import virtual_memory\n",
        "ram_gb = virtual_memory().total / 1e9\n",
        "print('Your runtime has {:.1f} gigabytes of available RAM\\n'.format(ram_gb))\n",
        "\n",
        "if ram_gb < 20:\n",
        "  print('Not using a high-RAM runtime')\n",
        "else:\n",
        "  print('You are using a high-RAM runtime!')"
      ],
      "id": "DH-w_NELxHpV"
    },
    {
      "cell_type": "markdown",
      "metadata": {
        "id": "2rFNp6fgTv9w"
      },
      "source": [
        "### Paths setup\n"
      ],
      "id": "2rFNp6fgTv9w"
    },
    {
      "cell_type": "code",
      "execution_count": 14,
      "metadata": {
        "colab": {
          "base_uri": "https://localhost:8080/"
        },
        "id": "rAnAndzpTxe5",
        "outputId": "c983718b-fb59-4c37-85f9-7dea44a9e34b"
      },
      "outputs": [
        {
          "output_type": "stream",
          "name": "stdout",
          "text": [
            "Drive already mounted at /content/drive; to attempt to forcibly remount, call drive.mount(\"/content/drive\", force_remount=True).\n"
          ]
        }
      ],
      "source": [
        "# --- Mount Google Drive (for Google Colab users) ---\n",
        "from google.colab import drive\n",
        "drive.mount('/content/drive')"
      ],
      "id": "rAnAndzpTxe5"
    },
    {
      "cell_type": "code",
      "execution_count": 19,
      "metadata": {
        "colab": {
          "base_uri": "https://localhost:8080/"
        },
        "id": "XqMS_38yTvFN",
        "outputId": "bd83886d-1d6c-40bb-af1c-d86112c059a4"
      },
      "outputs": [
        {
          "output_type": "stream",
          "name": "stdout",
          "text": [
            "Project path: /content/drive/MyDrive/Projects/AImSecure/Laboratory2/\n",
            "Data path: /content/drive/MyDrive/Projects/AImSecure/Laboratory2/data/\n",
            "Results path: /content/drive/MyDrive/Projects/AImSecure/Laboratory2/results/\n"
          ]
        }
      ],
      "source": [
        "# --- Define Paths ---\n",
        "group = 'AImSecure'\n",
        "laboratory = 'Laboratory2'\n",
        "\n",
        "base_path = '/content/drive/MyDrive/'\n",
        "project_path = base_path + f'Projects/{group}/{laboratory}/'\n",
        "data_path = project_path + 'data/'\n",
        "results_path = project_path + 'results/'\n",
        "\n",
        "# Ensure directories exist\n",
        "os.makedirs(project_path, exist_ok=True)\n",
        "os.makedirs(data_path, exist_ok=True)\n",
        "os.makedirs(results_path, exist_ok=True)\n",
        "\n",
        "print(f\"Project path: {project_path}\")\n",
        "print(f\"Data path: {data_path}\")\n",
        "print(f\"Results path: {results_path}\")"
      ],
      "id": "XqMS_38yTvFN"
    },
    {
      "cell_type": "code",
      "execution_count": 20,
      "metadata": {
        "id": "pi-G9FFHwZjK"
      },
      "outputs": [],
      "source": [
        "# --- Set visual style ---\n",
        "sns.set(style=\"whitegrid\", palette=\"muted\", font_scale=1.1)\n",
        "\n",
        "def save_plot(fig: plt.Figure, filename: str, path: str = \"./plots/\", fmt: str = \"png\", dpi: int = 300, close_fig: bool = False) -> None:\n",
        "    \"\"\"\n",
        "    Save a Matplotlib figure in a specific to a specified directory.\n",
        "\n",
        "    Args:\n",
        "        fig (plt.Figure): Matplotlib figure object to save.\n",
        "        filename (str): Name of the file to save (e.g., 'plot.png').\n",
        "        path (str, optional): Directory path to save the figure. Defaults to './plots/'.\n",
        "        fmt (str, optional): File format for the saved figure. Defaults to 'png'.\n",
        "        dpi (int, optional): Dots per inch for the saved figure. Defaults to 300.\n",
        "\n",
        "    Returns:\n",
        "        None\n",
        "    \"\"\"\n",
        "    # Ensure the directory exists\n",
        "    os.makedirs(path, exist_ok=True)\n",
        "    save_path = os.path.join(path, f\"{filename}.{fmt}\")\n",
        "\n",
        "    # Save the figure\n",
        "    fig.savefig(save_path, bbox_inches='tight', pad_inches=0.1, dpi=dpi, format=fmt)\n",
        "    # plt.close(fig) # Removed to display plots in notebook\n",
        "\n",
        "    if close_fig:\n",
        "        plt.close(fig)\n",
        "\n",
        "    print(f\"Saved plot: {save_path}\")"
      ],
      "id": "pi-G9FFHwZjK"
    },
    {
      "cell_type": "markdown",
      "metadata": {
        "id": "dswv2Je3UA5Y"
      },
      "source": [
        "## Task 1 — Frequency-based baseline\n",
        "\n",
        "We implement a simple frequency-based baseline.  \n",
        "- Transform sequences into feature vectors counting API call occurrences.  \n",
        "- Helps evaluate whether simple approaches already perform well before using complex models.\n"
      ],
      "id": "dswv2Je3UA5Y"
    },
    {
      "cell_type": "code",
      "source": [
        "# Create directory for plots\n",
        "save_dir = results_path + 'images/' + 'task1_plots/'\n",
        "os.makedirs(save_dir, exist_ok=True)"
      ],
      "metadata": {
        "id": "UbIMFRXuZxMB"
      },
      "id": "UbIMFRXuZxMB",
      "execution_count": 21,
      "outputs": []
    },
    {
      "cell_type": "markdown",
      "source": [
        "### Frequency-Based Approach\n",
        "\n",
        "- Extract vocabulary from train and test datasets.\n",
        "- Use vocabulary to create feature vectors (frequency counts per API call).\n",
        "- Output dataframe: one row per sequence, one column per API call."
      ],
      "metadata": {
        "id": "NA3pR682ci7a"
      },
      "id": "NA3pR682ci7a"
    },
    {
      "cell_type": "code",
      "source": [
        "file_path_train = data_path + 'train.json'\n",
        "df_train = pd.read_json(file_path_train)\n",
        "file_path_test = data_path + 'test.json'\n",
        "df_test = pd.read_json(file_path_test)\n",
        "\n",
        "# Basic info\n",
        "print(\"Info training dataset:\")\n",
        "print(\"Shape (raw):\", df_train.shape)\n",
        "print(\"Columns:\", list(df_train.columns))\n",
        "\n",
        "# Basic info\n",
        "print(\"\\nInfo test dataset:\")\n",
        "print(\"Shape (raw):\", df_test.shape)\n",
        "print(\"Columns:\", list(df_test.columns))"
      ],
      "metadata": {
        "id": "h2r7Arn9lfrW",
        "colab": {
          "base_uri": "https://localhost:8080/"
        },
        "outputId": "0e675794-6596-4435-ee7d-6ef1710cff72"
      },
      "id": "h2r7Arn9lfrW",
      "execution_count": 26,
      "outputs": [
        {
          "output_type": "stream",
          "name": "stdout",
          "text": [
            "Info training dataset:\n",
            "Shape (raw): (16325, 2)\n",
            "Columns: ['api_call_sequence', 'is_malware']\n",
            "\n",
            "Info test dataset:\n",
            "Shape (raw): (6505, 2)\n",
            "Columns: ['api_call_sequence', 'is_malware']\n"
          ]
        }
      ]
    },
    {
      "cell_type": "code",
      "source": [
        "df_train"
      ],
      "metadata": {
        "colab": {
          "base_uri": "https://localhost:8080/",
          "height": 424
        },
        "id": "kMkpSs3KpxU5",
        "outputId": "7a05d1d2-b983-4c5f-8f45-666ffbd348c2"
      },
      "id": "kMkpSs3KpxU5",
      "execution_count": 24,
      "outputs": [
        {
          "output_type": "execute_result",
          "data": {
            "text/plain": [
              "                                       api_call_sequence  is_malware\n",
              "0      [LdrGetDllHandle, LdrGetProcedureAddress, LdrL...           1\n",
              "1      [NtAllocateVirtualMemory, LdrLoadDll, LdrGetPr...           1\n",
              "2      [FindResourceExW, LoadResource, FindResourceEx...           1\n",
              "3      [FindResourceExW, LoadResource, FindResourceEx...           1\n",
              "4      [LdrGetProcedureAddress, SetErrorMode, LdrLoad...           1\n",
              "...                                                  ...         ...\n",
              "16320  [LdrGetProcedureAddress, LdrLoadDll, LdrGetPro...           1\n",
              "16321  [NtClose, LdrGetProcedureAddress, CryptCreateH...           1\n",
              "16322  [LdrGetProcedureAddress, LdrGetDllHandle, LdrG...           1\n",
              "16323  [LdrGetProcedureAddress, LdrGetDllHandle, LdrG...           1\n",
              "16324  [SetFilePointer, NtReadFile, SetFilePointer, N...           1\n",
              "\n",
              "[16325 rows x 2 columns]"
            ],
            "text/html": [
              "\n",
              "  <div id=\"df-395ca07d-f8bb-47d7-929b-15310a37d693\" class=\"colab-df-container\">\n",
              "    <div>\n",
              "<style scoped>\n",
              "    .dataframe tbody tr th:only-of-type {\n",
              "        vertical-align: middle;\n",
              "    }\n",
              "\n",
              "    .dataframe tbody tr th {\n",
              "        vertical-align: top;\n",
              "    }\n",
              "\n",
              "    .dataframe thead th {\n",
              "        text-align: right;\n",
              "    }\n",
              "</style>\n",
              "<table border=\"1\" class=\"dataframe\">\n",
              "  <thead>\n",
              "    <tr style=\"text-align: right;\">\n",
              "      <th></th>\n",
              "      <th>api_call_sequence</th>\n",
              "      <th>is_malware</th>\n",
              "    </tr>\n",
              "  </thead>\n",
              "  <tbody>\n",
              "    <tr>\n",
              "      <th>0</th>\n",
              "      <td>[LdrGetDllHandle, LdrGetProcedureAddress, LdrL...</td>\n",
              "      <td>1</td>\n",
              "    </tr>\n",
              "    <tr>\n",
              "      <th>1</th>\n",
              "      <td>[NtAllocateVirtualMemory, LdrLoadDll, LdrGetPr...</td>\n",
              "      <td>1</td>\n",
              "    </tr>\n",
              "    <tr>\n",
              "      <th>2</th>\n",
              "      <td>[FindResourceExW, LoadResource, FindResourceEx...</td>\n",
              "      <td>1</td>\n",
              "    </tr>\n",
              "    <tr>\n",
              "      <th>3</th>\n",
              "      <td>[FindResourceExW, LoadResource, FindResourceEx...</td>\n",
              "      <td>1</td>\n",
              "    </tr>\n",
              "    <tr>\n",
              "      <th>4</th>\n",
              "      <td>[LdrGetProcedureAddress, SetErrorMode, LdrLoad...</td>\n",
              "      <td>1</td>\n",
              "    </tr>\n",
              "    <tr>\n",
              "      <th>...</th>\n",
              "      <td>...</td>\n",
              "      <td>...</td>\n",
              "    </tr>\n",
              "    <tr>\n",
              "      <th>16320</th>\n",
              "      <td>[LdrGetProcedureAddress, LdrLoadDll, LdrGetPro...</td>\n",
              "      <td>1</td>\n",
              "    </tr>\n",
              "    <tr>\n",
              "      <th>16321</th>\n",
              "      <td>[NtClose, LdrGetProcedureAddress, CryptCreateH...</td>\n",
              "      <td>1</td>\n",
              "    </tr>\n",
              "    <tr>\n",
              "      <th>16322</th>\n",
              "      <td>[LdrGetProcedureAddress, LdrGetDllHandle, LdrG...</td>\n",
              "      <td>1</td>\n",
              "    </tr>\n",
              "    <tr>\n",
              "      <th>16323</th>\n",
              "      <td>[LdrGetProcedureAddress, LdrGetDllHandle, LdrG...</td>\n",
              "      <td>1</td>\n",
              "    </tr>\n",
              "    <tr>\n",
              "      <th>16324</th>\n",
              "      <td>[SetFilePointer, NtReadFile, SetFilePointer, N...</td>\n",
              "      <td>1</td>\n",
              "    </tr>\n",
              "  </tbody>\n",
              "</table>\n",
              "<p>16325 rows × 2 columns</p>\n",
              "</div>\n",
              "    <div class=\"colab-df-buttons\">\n",
              "\n",
              "  <div class=\"colab-df-container\">\n",
              "    <button class=\"colab-df-convert\" onclick=\"convertToInteractive('df-395ca07d-f8bb-47d7-929b-15310a37d693')\"\n",
              "            title=\"Convert this dataframe to an interactive table.\"\n",
              "            style=\"display:none;\">\n",
              "\n",
              "  <svg xmlns=\"http://www.w3.org/2000/svg\" height=\"24px\" viewBox=\"0 -960 960 960\">\n",
              "    <path d=\"M120-120v-720h720v720H120Zm60-500h600v-160H180v160Zm220 220h160v-160H400v160Zm0 220h160v-160H400v160ZM180-400h160v-160H180v160Zm440 0h160v-160H620v160ZM180-180h160v-160H180v160Zm440 0h160v-160H620v160Z\"/>\n",
              "  </svg>\n",
              "    </button>\n",
              "\n",
              "  <style>\n",
              "    .colab-df-container {\n",
              "      display:flex;\n",
              "      gap: 12px;\n",
              "    }\n",
              "\n",
              "    .colab-df-convert {\n",
              "      background-color: #E8F0FE;\n",
              "      border: none;\n",
              "      border-radius: 50%;\n",
              "      cursor: pointer;\n",
              "      display: none;\n",
              "      fill: #1967D2;\n",
              "      height: 32px;\n",
              "      padding: 0 0 0 0;\n",
              "      width: 32px;\n",
              "    }\n",
              "\n",
              "    .colab-df-convert:hover {\n",
              "      background-color: #E2EBFA;\n",
              "      box-shadow: 0px 1px 2px rgba(60, 64, 67, 0.3), 0px 1px 3px 1px rgba(60, 64, 67, 0.15);\n",
              "      fill: #174EA6;\n",
              "    }\n",
              "\n",
              "    .colab-df-buttons div {\n",
              "      margin-bottom: 4px;\n",
              "    }\n",
              "\n",
              "    [theme=dark] .colab-df-convert {\n",
              "      background-color: #3B4455;\n",
              "      fill: #D2E3FC;\n",
              "    }\n",
              "\n",
              "    [theme=dark] .colab-df-convert:hover {\n",
              "      background-color: #434B5C;\n",
              "      box-shadow: 0px 1px 3px 1px rgba(0, 0, 0, 0.15);\n",
              "      filter: drop-shadow(0px 1px 2px rgba(0, 0, 0, 0.3));\n",
              "      fill: #FFFFFF;\n",
              "    }\n",
              "  </style>\n",
              "\n",
              "    <script>\n",
              "      const buttonEl =\n",
              "        document.querySelector('#df-395ca07d-f8bb-47d7-929b-15310a37d693 button.colab-df-convert');\n",
              "      buttonEl.style.display =\n",
              "        google.colab.kernel.accessAllowed ? 'block' : 'none';\n",
              "\n",
              "      async function convertToInteractive(key) {\n",
              "        const element = document.querySelector('#df-395ca07d-f8bb-47d7-929b-15310a37d693');\n",
              "        const dataTable =\n",
              "          await google.colab.kernel.invokeFunction('convertToInteractive',\n",
              "                                                    [key], {});\n",
              "        if (!dataTable) return;\n",
              "\n",
              "        const docLinkHtml = 'Like what you see? Visit the ' +\n",
              "          '<a target=\"_blank\" href=https://colab.research.google.com/notebooks/data_table.ipynb>data table notebook</a>'\n",
              "          + ' to learn more about interactive tables.';\n",
              "        element.innerHTML = '';\n",
              "        dataTable['output_type'] = 'display_data';\n",
              "        await google.colab.output.renderOutput(dataTable, element);\n",
              "        const docLink = document.createElement('div');\n",
              "        docLink.innerHTML = docLinkHtml;\n",
              "        element.appendChild(docLink);\n",
              "      }\n",
              "    </script>\n",
              "  </div>\n",
              "\n",
              "\n",
              "    <div id=\"df-43504530-8dea-463d-8703-620bd32deecd\">\n",
              "      <button class=\"colab-df-quickchart\" onclick=\"quickchart('df-43504530-8dea-463d-8703-620bd32deecd')\"\n",
              "                title=\"Suggest charts\"\n",
              "                style=\"display:none;\">\n",
              "\n",
              "<svg xmlns=\"http://www.w3.org/2000/svg\" height=\"24px\"viewBox=\"0 0 24 24\"\n",
              "     width=\"24px\">\n",
              "    <g>\n",
              "        <path d=\"M19 3H5c-1.1 0-2 .9-2 2v14c0 1.1.9 2 2 2h14c1.1 0 2-.9 2-2V5c0-1.1-.9-2-2-2zM9 17H7v-7h2v7zm4 0h-2V7h2v10zm4 0h-2v-4h2v4z\"/>\n",
              "    </g>\n",
              "</svg>\n",
              "      </button>\n",
              "\n",
              "<style>\n",
              "  .colab-df-quickchart {\n",
              "      --bg-color: #E8F0FE;\n",
              "      --fill-color: #1967D2;\n",
              "      --hover-bg-color: #E2EBFA;\n",
              "      --hover-fill-color: #174EA6;\n",
              "      --disabled-fill-color: #AAA;\n",
              "      --disabled-bg-color: #DDD;\n",
              "  }\n",
              "\n",
              "  [theme=dark] .colab-df-quickchart {\n",
              "      --bg-color: #3B4455;\n",
              "      --fill-color: #D2E3FC;\n",
              "      --hover-bg-color: #434B5C;\n",
              "      --hover-fill-color: #FFFFFF;\n",
              "      --disabled-bg-color: #3B4455;\n",
              "      --disabled-fill-color: #666;\n",
              "  }\n",
              "\n",
              "  .colab-df-quickchart {\n",
              "    background-color: var(--bg-color);\n",
              "    border: none;\n",
              "    border-radius: 50%;\n",
              "    cursor: pointer;\n",
              "    display: none;\n",
              "    fill: var(--fill-color);\n",
              "    height: 32px;\n",
              "    padding: 0;\n",
              "    width: 32px;\n",
              "  }\n",
              "\n",
              "  .colab-df-quickchart:hover {\n",
              "    background-color: var(--hover-bg-color);\n",
              "    box-shadow: 0 1px 2px rgba(60, 64, 67, 0.3), 0 1px 3px 1px rgba(60, 64, 67, 0.15);\n",
              "    fill: var(--button-hover-fill-color);\n",
              "  }\n",
              "\n",
              "  .colab-df-quickchart-complete:disabled,\n",
              "  .colab-df-quickchart-complete:disabled:hover {\n",
              "    background-color: var(--disabled-bg-color);\n",
              "    fill: var(--disabled-fill-color);\n",
              "    box-shadow: none;\n",
              "  }\n",
              "\n",
              "  .colab-df-spinner {\n",
              "    border: 2px solid var(--fill-color);\n",
              "    border-color: transparent;\n",
              "    border-bottom-color: var(--fill-color);\n",
              "    animation:\n",
              "      spin 1s steps(1) infinite;\n",
              "  }\n",
              "\n",
              "  @keyframes spin {\n",
              "    0% {\n",
              "      border-color: transparent;\n",
              "      border-bottom-color: var(--fill-color);\n",
              "      border-left-color: var(--fill-color);\n",
              "    }\n",
              "    20% {\n",
              "      border-color: transparent;\n",
              "      border-left-color: var(--fill-color);\n",
              "      border-top-color: var(--fill-color);\n",
              "    }\n",
              "    30% {\n",
              "      border-color: transparent;\n",
              "      border-left-color: var(--fill-color);\n",
              "      border-top-color: var(--fill-color);\n",
              "      border-right-color: var(--fill-color);\n",
              "    }\n",
              "    40% {\n",
              "      border-color: transparent;\n",
              "      border-right-color: var(--fill-color);\n",
              "      border-top-color: var(--fill-color);\n",
              "    }\n",
              "    60% {\n",
              "      border-color: transparent;\n",
              "      border-right-color: var(--fill-color);\n",
              "    }\n",
              "    80% {\n",
              "      border-color: transparent;\n",
              "      border-right-color: var(--fill-color);\n",
              "      border-bottom-color: var(--fill-color);\n",
              "    }\n",
              "    90% {\n",
              "      border-color: transparent;\n",
              "      border-bottom-color: var(--fill-color);\n",
              "    }\n",
              "  }\n",
              "</style>\n",
              "\n",
              "      <script>\n",
              "        async function quickchart(key) {\n",
              "          const quickchartButtonEl =\n",
              "            document.querySelector('#' + key + ' button');\n",
              "          quickchartButtonEl.disabled = true;  // To prevent multiple clicks.\n",
              "          quickchartButtonEl.classList.add('colab-df-spinner');\n",
              "          try {\n",
              "            const charts = await google.colab.kernel.invokeFunction(\n",
              "                'suggestCharts', [key], {});\n",
              "          } catch (error) {\n",
              "            console.error('Error during call to suggestCharts:', error);\n",
              "          }\n",
              "          quickchartButtonEl.classList.remove('colab-df-spinner');\n",
              "          quickchartButtonEl.classList.add('colab-df-quickchart-complete');\n",
              "        }\n",
              "        (() => {\n",
              "          let quickchartButtonEl =\n",
              "            document.querySelector('#df-43504530-8dea-463d-8703-620bd32deecd button');\n",
              "          quickchartButtonEl.style.display =\n",
              "            google.colab.kernel.accessAllowed ? 'block' : 'none';\n",
              "        })();\n",
              "      </script>\n",
              "    </div>\n",
              "\n",
              "  <div id=\"id_655293d5-d22c-4c75-a71e-11d32d57b177\">\n",
              "    <style>\n",
              "      .colab-df-generate {\n",
              "        background-color: #E8F0FE;\n",
              "        border: none;\n",
              "        border-radius: 50%;\n",
              "        cursor: pointer;\n",
              "        display: none;\n",
              "        fill: #1967D2;\n",
              "        height: 32px;\n",
              "        padding: 0 0 0 0;\n",
              "        width: 32px;\n",
              "      }\n",
              "\n",
              "      .colab-df-generate:hover {\n",
              "        background-color: #E2EBFA;\n",
              "        box-shadow: 0px 1px 2px rgba(60, 64, 67, 0.3), 0px 1px 3px 1px rgba(60, 64, 67, 0.15);\n",
              "        fill: #174EA6;\n",
              "      }\n",
              "\n",
              "      [theme=dark] .colab-df-generate {\n",
              "        background-color: #3B4455;\n",
              "        fill: #D2E3FC;\n",
              "      }\n",
              "\n",
              "      [theme=dark] .colab-df-generate:hover {\n",
              "        background-color: #434B5C;\n",
              "        box-shadow: 0px 1px 3px 1px rgba(0, 0, 0, 0.15);\n",
              "        filter: drop-shadow(0px 1px 2px rgba(0, 0, 0, 0.3));\n",
              "        fill: #FFFFFF;\n",
              "      }\n",
              "    </style>\n",
              "    <button class=\"colab-df-generate\" onclick=\"generateWithVariable('df_train')\"\n",
              "            title=\"Generate code using this dataframe.\"\n",
              "            style=\"display:none;\">\n",
              "\n",
              "  <svg xmlns=\"http://www.w3.org/2000/svg\" height=\"24px\"viewBox=\"0 0 24 24\"\n",
              "       width=\"24px\">\n",
              "    <path d=\"M7,19H8.4L18.45,9,17,7.55,7,17.6ZM5,21V16.75L18.45,3.32a2,2,0,0,1,2.83,0l1.4,1.43a1.91,1.91,0,0,1,.58,1.4,1.91,1.91,0,0,1-.58,1.4L9.25,21ZM18.45,9,17,7.55Zm-12,3A5.31,5.31,0,0,0,4.9,8.1,5.31,5.31,0,0,0,1,6.5,5.31,5.31,0,0,0,4.9,4.9,5.31,5.31,0,0,0,6.5,1,5.31,5.31,0,0,0,8.1,4.9,5.31,5.31,0,0,0,12,6.5,5.46,5.46,0,0,0,6.5,12Z\"/>\n",
              "  </svg>\n",
              "    </button>\n",
              "    <script>\n",
              "      (() => {\n",
              "      const buttonEl =\n",
              "        document.querySelector('#id_655293d5-d22c-4c75-a71e-11d32d57b177 button.colab-df-generate');\n",
              "      buttonEl.style.display =\n",
              "        google.colab.kernel.accessAllowed ? 'block' : 'none';\n",
              "\n",
              "      buttonEl.onclick = () => {\n",
              "        google.colab.notebook.generateWithVariable('df_train');\n",
              "      }\n",
              "      })();\n",
              "    </script>\n",
              "  </div>\n",
              "\n",
              "    </div>\n",
              "  </div>\n"
            ],
            "application/vnd.google.colaboratory.intrinsic+json": {
              "type": "dataframe",
              "variable_name": "df_train",
              "summary": "{\n  \"name\": \"df_train\",\n  \"rows\": 16325,\n  \"fields\": [\n    {\n      \"column\": \"api_call_sequence\",\n      \"properties\": {\n        \"dtype\": \"object\",\n        \"semantic_type\": \"\",\n        \"description\": \"\"\n      }\n    },\n    {\n      \"column\": \"is_malware\",\n      \"properties\": {\n        \"dtype\": \"number\",\n        \"std\": 0,\n        \"min\": 0,\n        \"max\": 1,\n        \"num_unique_values\": 2,\n        \"samples\": [\n          0,\n          1\n        ],\n        \"semantic_type\": \"\",\n        \"description\": \"\"\n      }\n    }\n  ]\n}"
            }
          },
          "metadata": {},
          "execution_count": 24
        }
      ]
    },
    {
      "cell_type": "code",
      "source": [
        "df_test"
      ],
      "metadata": {
        "colab": {
          "base_uri": "https://localhost:8080/",
          "height": 424
        },
        "id": "zdIsZvF0rYkR",
        "outputId": "2d2aa810-9a6c-4731-e4b5-d65c8dfbb419"
      },
      "id": "zdIsZvF0rYkR",
      "execution_count": 27,
      "outputs": [
        {
          "output_type": "execute_result",
          "data": {
            "text/plain": [
              "                                      api_call_sequence  is_malware\n",
              "0     [NtQueryValueKey, NtClose, NtOpenKey, NtQueryV...           1\n",
              "1     [LdrGetProcedureAddress, NtClose, NtOpenKey, N...           1\n",
              "2     [NtOpenKey, NtQueryValueKey, NtClose, NtOpenKe...           1\n",
              "3     [NtAllocateVirtualMemory, LdrLoadDll, LdrGetPr...           1\n",
              "4     [NtOpenKey, NtQueryValueKey, NtClose, LdrGetPr...           1\n",
              "...                                                 ...         ...\n",
              "6500  [SetErrorMode, NtOpenFile, NtClose, SHGetFolde...           0\n",
              "6501  [NtProtectVirtualMemory, RegOpenKeyExW, RegQue...           1\n",
              "6502  [RegOpenKeyExW, RegQueryValueExW, RegCloseKey,...           1\n",
              "6503  [NtQueryValueKey, NtClose, RegOpenKeyExA, RegQ...           1\n",
              "6504  [NtClose, LdrGetProcedureAddress, CryptCreateH...           1\n",
              "\n",
              "[6505 rows x 2 columns]"
            ],
            "text/html": [
              "\n",
              "  <div id=\"df-e72e6459-d8e5-43b8-aba1-a4adada7520b\" class=\"colab-df-container\">\n",
              "    <div>\n",
              "<style scoped>\n",
              "    .dataframe tbody tr th:only-of-type {\n",
              "        vertical-align: middle;\n",
              "    }\n",
              "\n",
              "    .dataframe tbody tr th {\n",
              "        vertical-align: top;\n",
              "    }\n",
              "\n",
              "    .dataframe thead th {\n",
              "        text-align: right;\n",
              "    }\n",
              "</style>\n",
              "<table border=\"1\" class=\"dataframe\">\n",
              "  <thead>\n",
              "    <tr style=\"text-align: right;\">\n",
              "      <th></th>\n",
              "      <th>api_call_sequence</th>\n",
              "      <th>is_malware</th>\n",
              "    </tr>\n",
              "  </thead>\n",
              "  <tbody>\n",
              "    <tr>\n",
              "      <th>0</th>\n",
              "      <td>[NtQueryValueKey, NtClose, NtOpenKey, NtQueryV...</td>\n",
              "      <td>1</td>\n",
              "    </tr>\n",
              "    <tr>\n",
              "      <th>1</th>\n",
              "      <td>[LdrGetProcedureAddress, NtClose, NtOpenKey, N...</td>\n",
              "      <td>1</td>\n",
              "    </tr>\n",
              "    <tr>\n",
              "      <th>2</th>\n",
              "      <td>[NtOpenKey, NtQueryValueKey, NtClose, NtOpenKe...</td>\n",
              "      <td>1</td>\n",
              "    </tr>\n",
              "    <tr>\n",
              "      <th>3</th>\n",
              "      <td>[NtAllocateVirtualMemory, LdrLoadDll, LdrGetPr...</td>\n",
              "      <td>1</td>\n",
              "    </tr>\n",
              "    <tr>\n",
              "      <th>4</th>\n",
              "      <td>[NtOpenKey, NtQueryValueKey, NtClose, LdrGetPr...</td>\n",
              "      <td>1</td>\n",
              "    </tr>\n",
              "    <tr>\n",
              "      <th>...</th>\n",
              "      <td>...</td>\n",
              "      <td>...</td>\n",
              "    </tr>\n",
              "    <tr>\n",
              "      <th>6500</th>\n",
              "      <td>[SetErrorMode, NtOpenFile, NtClose, SHGetFolde...</td>\n",
              "      <td>0</td>\n",
              "    </tr>\n",
              "    <tr>\n",
              "      <th>6501</th>\n",
              "      <td>[NtProtectVirtualMemory, RegOpenKeyExW, RegQue...</td>\n",
              "      <td>1</td>\n",
              "    </tr>\n",
              "    <tr>\n",
              "      <th>6502</th>\n",
              "      <td>[RegOpenKeyExW, RegQueryValueExW, RegCloseKey,...</td>\n",
              "      <td>1</td>\n",
              "    </tr>\n",
              "    <tr>\n",
              "      <th>6503</th>\n",
              "      <td>[NtQueryValueKey, NtClose, RegOpenKeyExA, RegQ...</td>\n",
              "      <td>1</td>\n",
              "    </tr>\n",
              "    <tr>\n",
              "      <th>6504</th>\n",
              "      <td>[NtClose, LdrGetProcedureAddress, CryptCreateH...</td>\n",
              "      <td>1</td>\n",
              "    </tr>\n",
              "  </tbody>\n",
              "</table>\n",
              "<p>6505 rows × 2 columns</p>\n",
              "</div>\n",
              "    <div class=\"colab-df-buttons\">\n",
              "\n",
              "  <div class=\"colab-df-container\">\n",
              "    <button class=\"colab-df-convert\" onclick=\"convertToInteractive('df-e72e6459-d8e5-43b8-aba1-a4adada7520b')\"\n",
              "            title=\"Convert this dataframe to an interactive table.\"\n",
              "            style=\"display:none;\">\n",
              "\n",
              "  <svg xmlns=\"http://www.w3.org/2000/svg\" height=\"24px\" viewBox=\"0 -960 960 960\">\n",
              "    <path d=\"M120-120v-720h720v720H120Zm60-500h600v-160H180v160Zm220 220h160v-160H400v160Zm0 220h160v-160H400v160ZM180-400h160v-160H180v160Zm440 0h160v-160H620v160ZM180-180h160v-160H180v160Zm440 0h160v-160H620v160Z\"/>\n",
              "  </svg>\n",
              "    </button>\n",
              "\n",
              "  <style>\n",
              "    .colab-df-container {\n",
              "      display:flex;\n",
              "      gap: 12px;\n",
              "    }\n",
              "\n",
              "    .colab-df-convert {\n",
              "      background-color: #E8F0FE;\n",
              "      border: none;\n",
              "      border-radius: 50%;\n",
              "      cursor: pointer;\n",
              "      display: none;\n",
              "      fill: #1967D2;\n",
              "      height: 32px;\n",
              "      padding: 0 0 0 0;\n",
              "      width: 32px;\n",
              "    }\n",
              "\n",
              "    .colab-df-convert:hover {\n",
              "      background-color: #E2EBFA;\n",
              "      box-shadow: 0px 1px 2px rgba(60, 64, 67, 0.3), 0px 1px 3px 1px rgba(60, 64, 67, 0.15);\n",
              "      fill: #174EA6;\n",
              "    }\n",
              "\n",
              "    .colab-df-buttons div {\n",
              "      margin-bottom: 4px;\n",
              "    }\n",
              "\n",
              "    [theme=dark] .colab-df-convert {\n",
              "      background-color: #3B4455;\n",
              "      fill: #D2E3FC;\n",
              "    }\n",
              "\n",
              "    [theme=dark] .colab-df-convert:hover {\n",
              "      background-color: #434B5C;\n",
              "      box-shadow: 0px 1px 3px 1px rgba(0, 0, 0, 0.15);\n",
              "      filter: drop-shadow(0px 1px 2px rgba(0, 0, 0, 0.3));\n",
              "      fill: #FFFFFF;\n",
              "    }\n",
              "  </style>\n",
              "\n",
              "    <script>\n",
              "      const buttonEl =\n",
              "        document.querySelector('#df-e72e6459-d8e5-43b8-aba1-a4adada7520b button.colab-df-convert');\n",
              "      buttonEl.style.display =\n",
              "        google.colab.kernel.accessAllowed ? 'block' : 'none';\n",
              "\n",
              "      async function convertToInteractive(key) {\n",
              "        const element = document.querySelector('#df-e72e6459-d8e5-43b8-aba1-a4adada7520b');\n",
              "        const dataTable =\n",
              "          await google.colab.kernel.invokeFunction('convertToInteractive',\n",
              "                                                    [key], {});\n",
              "        if (!dataTable) return;\n",
              "\n",
              "        const docLinkHtml = 'Like what you see? Visit the ' +\n",
              "          '<a target=\"_blank\" href=https://colab.research.google.com/notebooks/data_table.ipynb>data table notebook</a>'\n",
              "          + ' to learn more about interactive tables.';\n",
              "        element.innerHTML = '';\n",
              "        dataTable['output_type'] = 'display_data';\n",
              "        await google.colab.output.renderOutput(dataTable, element);\n",
              "        const docLink = document.createElement('div');\n",
              "        docLink.innerHTML = docLinkHtml;\n",
              "        element.appendChild(docLink);\n",
              "      }\n",
              "    </script>\n",
              "  </div>\n",
              "\n",
              "\n",
              "    <div id=\"df-9c35881d-2a1e-45ba-8e1e-d2a6cf0deadc\">\n",
              "      <button class=\"colab-df-quickchart\" onclick=\"quickchart('df-9c35881d-2a1e-45ba-8e1e-d2a6cf0deadc')\"\n",
              "                title=\"Suggest charts\"\n",
              "                style=\"display:none;\">\n",
              "\n",
              "<svg xmlns=\"http://www.w3.org/2000/svg\" height=\"24px\"viewBox=\"0 0 24 24\"\n",
              "     width=\"24px\">\n",
              "    <g>\n",
              "        <path d=\"M19 3H5c-1.1 0-2 .9-2 2v14c0 1.1.9 2 2 2h14c1.1 0 2-.9 2-2V5c0-1.1-.9-2-2-2zM9 17H7v-7h2v7zm4 0h-2V7h2v10zm4 0h-2v-4h2v4z\"/>\n",
              "    </g>\n",
              "</svg>\n",
              "      </button>\n",
              "\n",
              "<style>\n",
              "  .colab-df-quickchart {\n",
              "      --bg-color: #E8F0FE;\n",
              "      --fill-color: #1967D2;\n",
              "      --hover-bg-color: #E2EBFA;\n",
              "      --hover-fill-color: #174EA6;\n",
              "      --disabled-fill-color: #AAA;\n",
              "      --disabled-bg-color: #DDD;\n",
              "  }\n",
              "\n",
              "  [theme=dark] .colab-df-quickchart {\n",
              "      --bg-color: #3B4455;\n",
              "      --fill-color: #D2E3FC;\n",
              "      --hover-bg-color: #434B5C;\n",
              "      --hover-fill-color: #FFFFFF;\n",
              "      --disabled-bg-color: #3B4455;\n",
              "      --disabled-fill-color: #666;\n",
              "  }\n",
              "\n",
              "  .colab-df-quickchart {\n",
              "    background-color: var(--bg-color);\n",
              "    border: none;\n",
              "    border-radius: 50%;\n",
              "    cursor: pointer;\n",
              "    display: none;\n",
              "    fill: var(--fill-color);\n",
              "    height: 32px;\n",
              "    padding: 0;\n",
              "    width: 32px;\n",
              "  }\n",
              "\n",
              "  .colab-df-quickchart:hover {\n",
              "    background-color: var(--hover-bg-color);\n",
              "    box-shadow: 0 1px 2px rgba(60, 64, 67, 0.3), 0 1px 3px 1px rgba(60, 64, 67, 0.15);\n",
              "    fill: var(--button-hover-fill-color);\n",
              "  }\n",
              "\n",
              "  .colab-df-quickchart-complete:disabled,\n",
              "  .colab-df-quickchart-complete:disabled:hover {\n",
              "    background-color: var(--disabled-bg-color);\n",
              "    fill: var(--disabled-fill-color);\n",
              "    box-shadow: none;\n",
              "  }\n",
              "\n",
              "  .colab-df-spinner {\n",
              "    border: 2px solid var(--fill-color);\n",
              "    border-color: transparent;\n",
              "    border-bottom-color: var(--fill-color);\n",
              "    animation:\n",
              "      spin 1s steps(1) infinite;\n",
              "  }\n",
              "\n",
              "  @keyframes spin {\n",
              "    0% {\n",
              "      border-color: transparent;\n",
              "      border-bottom-color: var(--fill-color);\n",
              "      border-left-color: var(--fill-color);\n",
              "    }\n",
              "    20% {\n",
              "      border-color: transparent;\n",
              "      border-left-color: var(--fill-color);\n",
              "      border-top-color: var(--fill-color);\n",
              "    }\n",
              "    30% {\n",
              "      border-color: transparent;\n",
              "      border-left-color: var(--fill-color);\n",
              "      border-top-color: var(--fill-color);\n",
              "      border-right-color: var(--fill-color);\n",
              "    }\n",
              "    40% {\n",
              "      border-color: transparent;\n",
              "      border-right-color: var(--fill-color);\n",
              "      border-top-color: var(--fill-color);\n",
              "    }\n",
              "    60% {\n",
              "      border-color: transparent;\n",
              "      border-right-color: var(--fill-color);\n",
              "    }\n",
              "    80% {\n",
              "      border-color: transparent;\n",
              "      border-right-color: var(--fill-color);\n",
              "      border-bottom-color: var(--fill-color);\n",
              "    }\n",
              "    90% {\n",
              "      border-color: transparent;\n",
              "      border-bottom-color: var(--fill-color);\n",
              "    }\n",
              "  }\n",
              "</style>\n",
              "\n",
              "      <script>\n",
              "        async function quickchart(key) {\n",
              "          const quickchartButtonEl =\n",
              "            document.querySelector('#' + key + ' button');\n",
              "          quickchartButtonEl.disabled = true;  // To prevent multiple clicks.\n",
              "          quickchartButtonEl.classList.add('colab-df-spinner');\n",
              "          try {\n",
              "            const charts = await google.colab.kernel.invokeFunction(\n",
              "                'suggestCharts', [key], {});\n",
              "          } catch (error) {\n",
              "            console.error('Error during call to suggestCharts:', error);\n",
              "          }\n",
              "          quickchartButtonEl.classList.remove('colab-df-spinner');\n",
              "          quickchartButtonEl.classList.add('colab-df-quickchart-complete');\n",
              "        }\n",
              "        (() => {\n",
              "          let quickchartButtonEl =\n",
              "            document.querySelector('#df-9c35881d-2a1e-45ba-8e1e-d2a6cf0deadc button');\n",
              "          quickchartButtonEl.style.display =\n",
              "            google.colab.kernel.accessAllowed ? 'block' : 'none';\n",
              "        })();\n",
              "      </script>\n",
              "    </div>\n",
              "\n",
              "  <div id=\"id_7f7336db-53e4-4a97-bbee-1bb4a273f942\">\n",
              "    <style>\n",
              "      .colab-df-generate {\n",
              "        background-color: #E8F0FE;\n",
              "        border: none;\n",
              "        border-radius: 50%;\n",
              "        cursor: pointer;\n",
              "        display: none;\n",
              "        fill: #1967D2;\n",
              "        height: 32px;\n",
              "        padding: 0 0 0 0;\n",
              "        width: 32px;\n",
              "      }\n",
              "\n",
              "      .colab-df-generate:hover {\n",
              "        background-color: #E2EBFA;\n",
              "        box-shadow: 0px 1px 2px rgba(60, 64, 67, 0.3), 0px 1px 3px 1px rgba(60, 64, 67, 0.15);\n",
              "        fill: #174EA6;\n",
              "      }\n",
              "\n",
              "      [theme=dark] .colab-df-generate {\n",
              "        background-color: #3B4455;\n",
              "        fill: #D2E3FC;\n",
              "      }\n",
              "\n",
              "      [theme=dark] .colab-df-generate:hover {\n",
              "        background-color: #434B5C;\n",
              "        box-shadow: 0px 1px 3px 1px rgba(0, 0, 0, 0.15);\n",
              "        filter: drop-shadow(0px 1px 2px rgba(0, 0, 0, 0.3));\n",
              "        fill: #FFFFFF;\n",
              "      }\n",
              "    </style>\n",
              "    <button class=\"colab-df-generate\" onclick=\"generateWithVariable('df_test')\"\n",
              "            title=\"Generate code using this dataframe.\"\n",
              "            style=\"display:none;\">\n",
              "\n",
              "  <svg xmlns=\"http://www.w3.org/2000/svg\" height=\"24px\"viewBox=\"0 0 24 24\"\n",
              "       width=\"24px\">\n",
              "    <path d=\"M7,19H8.4L18.45,9,17,7.55,7,17.6ZM5,21V16.75L18.45,3.32a2,2,0,0,1,2.83,0l1.4,1.43a1.91,1.91,0,0,1,.58,1.4,1.91,1.91,0,0,1-.58,1.4L9.25,21ZM18.45,9,17,7.55Zm-12,3A5.31,5.31,0,0,0,4.9,8.1,5.31,5.31,0,0,0,1,6.5,5.31,5.31,0,0,0,4.9,4.9,5.31,5.31,0,0,0,6.5,1,5.31,5.31,0,0,0,8.1,4.9,5.31,5.31,0,0,0,12,6.5,5.46,5.46,0,0,0,6.5,12Z\"/>\n",
              "  </svg>\n",
              "    </button>\n",
              "    <script>\n",
              "      (() => {\n",
              "      const buttonEl =\n",
              "        document.querySelector('#id_7f7336db-53e4-4a97-bbee-1bb4a273f942 button.colab-df-generate');\n",
              "      buttonEl.style.display =\n",
              "        google.colab.kernel.accessAllowed ? 'block' : 'none';\n",
              "\n",
              "      buttonEl.onclick = () => {\n",
              "        google.colab.notebook.generateWithVariable('df_test');\n",
              "      }\n",
              "      })();\n",
              "    </script>\n",
              "  </div>\n",
              "\n",
              "    </div>\n",
              "  </div>\n"
            ],
            "application/vnd.google.colaboratory.intrinsic+json": {
              "type": "dataframe",
              "variable_name": "df_test",
              "summary": "{\n  \"name\": \"df_test\",\n  \"rows\": 6505,\n  \"fields\": [\n    {\n      \"column\": \"api_call_sequence\",\n      \"properties\": {\n        \"dtype\": \"object\",\n        \"semantic_type\": \"\",\n        \"description\": \"\"\n      }\n    },\n    {\n      \"column\": \"is_malware\",\n      \"properties\": {\n        \"dtype\": \"number\",\n        \"std\": 0,\n        \"min\": 0,\n        \"max\": 1,\n        \"num_unique_values\": 2,\n        \"samples\": [\n          0,\n          1\n        ],\n        \"semantic_type\": \"\",\n        \"description\": \"\"\n      }\n    }\n  ]\n}"
            }
          },
          "metadata": {},
          "execution_count": 27
        }
      ]
    },
    {
      "cell_type": "markdown",
      "source": [
        "### Extract the vocabularies"
      ],
      "metadata": {
        "id": "SItC6NaJlciX"
      },
      "id": "SItC6NaJlciX"
    },
    {
      "cell_type": "code",
      "source": [
        "# --- Extract vocabulary from training set ---\n",
        "train_vocab = set(api_call for seq in df_train['api_call_sequence'] for api_call in seq)\n",
        "\n",
        "# --- Count unique API calls ---\n",
        "print(f\"Train: {len(train_vocab)}\")"
      ],
      "metadata": {
        "colab": {
          "base_uri": "https://localhost:8080/"
        },
        "id": "Z047DQ9srCw-",
        "outputId": "2d1cb5b9-a536-44f6-e5dd-5920571a9287"
      },
      "id": "Z047DQ9srCw-",
      "execution_count": 30,
      "outputs": [
        {
          "output_type": "stream",
          "name": "stdout",
          "text": [
            "Train: 258\n"
          ]
        }
      ]
    },
    {
      "cell_type": "code",
      "source": [
        "# --- Extract vocabulary from test set ---\n",
        "test_vocab = set(api_call for seq in df_test['api_call_sequence'] for api_call in seq)\n",
        "\n",
        "# --- Count unique API calls ---\n",
        "print(f\"Test: {len(test_vocab)}\")"
      ],
      "metadata": {
        "colab": {
          "base_uri": "https://localhost:8080/"
        },
        "id": "8R5NE501r_O2",
        "outputId": "9651d75a-8cda-4b81-f13a-de3da59c54dc"
      },
      "id": "8R5NE501r_O2",
      "execution_count": 31,
      "outputs": [
        {
          "output_type": "stream",
          "name": "stdout",
          "text": [
            "Test: 232\n"
          ]
        }
      ]
    },
    {
      "cell_type": "markdown",
      "source": [
        "#### Q: How many unique API calls does the training set contain? How many in the test set?\n",
        "\n",
        "*   Train set: 258\n",
        "*   Test set: 232"
      ],
      "metadata": {
        "id": "gKR2C5nZa-9q"
      },
      "id": "gKR2C5nZa-9q"
    },
    {
      "cell_type": "code",
      "source": [
        "# --- Find API calls only in the test set ---\n",
        "only_in_test = test_vocab - train_vocab\n",
        "\n",
        "# --- Count and print them ---\n",
        "print(f\"Number of API calls only in test set: {len(only_in_test)}\")\n",
        "print(\"API calls only in test set:\", only_in_test)"
      ],
      "metadata": {
        "colab": {
          "base_uri": "https://localhost:8080/"
        },
        "id": "jPqKVaMjt2dp",
        "outputId": "d7e857f9-4b6b-4388-d8ef-ebc1f230c4bb"
      },
      "id": "jPqKVaMjt2dp",
      "execution_count": 36,
      "outputs": [
        {
          "output_type": "stream",
          "name": "stdout",
          "text": [
            "Number of API calls only in test set: 3\n",
            "API calls only in test set: {'WSASocketA', 'ControlService', 'NtDeleteKey'}\n"
          ]
        }
      ]
    },
    {
      "cell_type": "markdown",
      "source": [
        "#### Q: Are there any API calls that appear only in the test set (but not in the training set)? If yes, how many? Which ones?\n",
        "\n",
        "Number of API calls only in test set: 3\n",
        "\n",
        "API calls only in test set: {'WSASocketA', 'ControlService', 'NtDeleteKey'}\n"
      ],
      "metadata": {
        "id": "VFaqFS8bbAKH"
      },
      "id": "VFaqFS8bbAKH"
    },
    {
      "cell_type": "markdown",
      "source": [
        "### New frequency-based dataframes\n",
        "\n",
        "- Create dataframe using training vocabulary as features.\n",
        "- Count occurrences of each API call per sequence."
      ],
      "metadata": {
        "id": "950319IfljRh"
      },
      "id": "950319IfljRh"
    },
    {
      "cell_type": "code",
      "source": [
        "# --- Create frequency-based dataframe for training data ---\n",
        "train_df_freq = pd.DataFrame([{api: seq.count(api) for api in train_vocab} for seq in df_train['api_call_sequence']])\n",
        "display(train_df_freq.head())"
      ],
      "metadata": {
        "id": "M6zhlfEnnj5-",
        "colab": {
          "base_uri": "https://localhost:8080/",
          "height": 256
        },
        "outputId": "d7f9015a-2b67-41ef-f09a-0e476e99078d"
      },
      "id": "M6zhlfEnnj5-",
      "execution_count": 57,
      "outputs": [
        {
          "output_type": "display_data",
          "data": {
            "text/plain": [
              "   GetSystemDirectoryW  GetFileAttributesW  DrawTextExW  UuidCreate  connect  \\\n",
              "0                    0                   0            2           0        0   \n",
              "1                    2                   0            0           0        0   \n",
              "2                    1                   0            2           0        0   \n",
              "3                    0                   0            2           0        0   \n",
              "4                    0                   0            1           0        0   \n",
              "\n",
              "   NtOpenKeyEx  RegCloseKey  NtReadFile  RegQueryInfoKeyW  \\\n",
              "0            0            1           0                 0   \n",
              "1            5            0           0                 0   \n",
              "2            0            0           0                 0   \n",
              "3            0            0           0                 0   \n",
              "4            0            0           0                 0   \n",
              "\n",
              "   CryptAcquireContextA  ...  RemoveDirectoryA  SHGetSpecialFolderLocation  \\\n",
              "0                     0  ...                 0                           0   \n",
              "1                     0  ...                 0                           0   \n",
              "2                     0  ...                 0                           0   \n",
              "3                     0  ...                 0                           0   \n",
              "4                     0  ...                 0                           0   \n",
              "\n",
              "   LoadResource  NtSetValueKey  GetUserNameExW  DeleteUrlCacheEntryA  \\\n",
              "0             8              0               0                     0   \n",
              "1             0              0               0                     0   \n",
              "2            21              0               0                     0   \n",
              "3            18              0               0                     0   \n",
              "4            16              0               0                     0   \n",
              "\n",
              "   NtOpenDirectoryObject  WSARecv  GetSystemTimeAsFileTime  WriteProcessMemory  \n",
              "0                      0        0                        0                   0  \n",
              "1                      1        0                        2                   0  \n",
              "2                      0        0                        0                   0  \n",
              "3                      0        0                        0                   0  \n",
              "4                      0        0                        0                   0  \n",
              "\n",
              "[5 rows x 258 columns]"
            ],
            "text/html": [
              "\n",
              "  <div id=\"df-919f2280-9299-469a-9c0c-a37a00026a45\" class=\"colab-df-container\">\n",
              "    <div>\n",
              "<style scoped>\n",
              "    .dataframe tbody tr th:only-of-type {\n",
              "        vertical-align: middle;\n",
              "    }\n",
              "\n",
              "    .dataframe tbody tr th {\n",
              "        vertical-align: top;\n",
              "    }\n",
              "\n",
              "    .dataframe thead th {\n",
              "        text-align: right;\n",
              "    }\n",
              "</style>\n",
              "<table border=\"1\" class=\"dataframe\">\n",
              "  <thead>\n",
              "    <tr style=\"text-align: right;\">\n",
              "      <th></th>\n",
              "      <th>GetSystemDirectoryW</th>\n",
              "      <th>GetFileAttributesW</th>\n",
              "      <th>DrawTextExW</th>\n",
              "      <th>UuidCreate</th>\n",
              "      <th>connect</th>\n",
              "      <th>NtOpenKeyEx</th>\n",
              "      <th>RegCloseKey</th>\n",
              "      <th>NtReadFile</th>\n",
              "      <th>RegQueryInfoKeyW</th>\n",
              "      <th>CryptAcquireContextA</th>\n",
              "      <th>...</th>\n",
              "      <th>RemoveDirectoryA</th>\n",
              "      <th>SHGetSpecialFolderLocation</th>\n",
              "      <th>LoadResource</th>\n",
              "      <th>NtSetValueKey</th>\n",
              "      <th>GetUserNameExW</th>\n",
              "      <th>DeleteUrlCacheEntryA</th>\n",
              "      <th>NtOpenDirectoryObject</th>\n",
              "      <th>WSARecv</th>\n",
              "      <th>GetSystemTimeAsFileTime</th>\n",
              "      <th>WriteProcessMemory</th>\n",
              "    </tr>\n",
              "  </thead>\n",
              "  <tbody>\n",
              "    <tr>\n",
              "      <th>0</th>\n",
              "      <td>0</td>\n",
              "      <td>0</td>\n",
              "      <td>2</td>\n",
              "      <td>0</td>\n",
              "      <td>0</td>\n",
              "      <td>0</td>\n",
              "      <td>1</td>\n",
              "      <td>0</td>\n",
              "      <td>0</td>\n",
              "      <td>0</td>\n",
              "      <td>...</td>\n",
              "      <td>0</td>\n",
              "      <td>0</td>\n",
              "      <td>8</td>\n",
              "      <td>0</td>\n",
              "      <td>0</td>\n",
              "      <td>0</td>\n",
              "      <td>0</td>\n",
              "      <td>0</td>\n",
              "      <td>0</td>\n",
              "      <td>0</td>\n",
              "    </tr>\n",
              "    <tr>\n",
              "      <th>1</th>\n",
              "      <td>2</td>\n",
              "      <td>0</td>\n",
              "      <td>0</td>\n",
              "      <td>0</td>\n",
              "      <td>0</td>\n",
              "      <td>5</td>\n",
              "      <td>0</td>\n",
              "      <td>0</td>\n",
              "      <td>0</td>\n",
              "      <td>0</td>\n",
              "      <td>...</td>\n",
              "      <td>0</td>\n",
              "      <td>0</td>\n",
              "      <td>0</td>\n",
              "      <td>0</td>\n",
              "      <td>0</td>\n",
              "      <td>0</td>\n",
              "      <td>1</td>\n",
              "      <td>0</td>\n",
              "      <td>2</td>\n",
              "      <td>0</td>\n",
              "    </tr>\n",
              "    <tr>\n",
              "      <th>2</th>\n",
              "      <td>1</td>\n",
              "      <td>0</td>\n",
              "      <td>2</td>\n",
              "      <td>0</td>\n",
              "      <td>0</td>\n",
              "      <td>0</td>\n",
              "      <td>0</td>\n",
              "      <td>0</td>\n",
              "      <td>0</td>\n",
              "      <td>0</td>\n",
              "      <td>...</td>\n",
              "      <td>0</td>\n",
              "      <td>0</td>\n",
              "      <td>21</td>\n",
              "      <td>0</td>\n",
              "      <td>0</td>\n",
              "      <td>0</td>\n",
              "      <td>0</td>\n",
              "      <td>0</td>\n",
              "      <td>0</td>\n",
              "      <td>0</td>\n",
              "    </tr>\n",
              "    <tr>\n",
              "      <th>3</th>\n",
              "      <td>0</td>\n",
              "      <td>0</td>\n",
              "      <td>2</td>\n",
              "      <td>0</td>\n",
              "      <td>0</td>\n",
              "      <td>0</td>\n",
              "      <td>0</td>\n",
              "      <td>0</td>\n",
              "      <td>0</td>\n",
              "      <td>0</td>\n",
              "      <td>...</td>\n",
              "      <td>0</td>\n",
              "      <td>0</td>\n",
              "      <td>18</td>\n",
              "      <td>0</td>\n",
              "      <td>0</td>\n",
              "      <td>0</td>\n",
              "      <td>0</td>\n",
              "      <td>0</td>\n",
              "      <td>0</td>\n",
              "      <td>0</td>\n",
              "    </tr>\n",
              "    <tr>\n",
              "      <th>4</th>\n",
              "      <td>0</td>\n",
              "      <td>0</td>\n",
              "      <td>1</td>\n",
              "      <td>0</td>\n",
              "      <td>0</td>\n",
              "      <td>0</td>\n",
              "      <td>0</td>\n",
              "      <td>0</td>\n",
              "      <td>0</td>\n",
              "      <td>0</td>\n",
              "      <td>...</td>\n",
              "      <td>0</td>\n",
              "      <td>0</td>\n",
              "      <td>16</td>\n",
              "      <td>0</td>\n",
              "      <td>0</td>\n",
              "      <td>0</td>\n",
              "      <td>0</td>\n",
              "      <td>0</td>\n",
              "      <td>0</td>\n",
              "      <td>0</td>\n",
              "    </tr>\n",
              "  </tbody>\n",
              "</table>\n",
              "<p>5 rows × 258 columns</p>\n",
              "</div>\n",
              "    <div class=\"colab-df-buttons\">\n",
              "\n",
              "  <div class=\"colab-df-container\">\n",
              "    <button class=\"colab-df-convert\" onclick=\"convertToInteractive('df-919f2280-9299-469a-9c0c-a37a00026a45')\"\n",
              "            title=\"Convert this dataframe to an interactive table.\"\n",
              "            style=\"display:none;\">\n",
              "\n",
              "  <svg xmlns=\"http://www.w3.org/2000/svg\" height=\"24px\" viewBox=\"0 -960 960 960\">\n",
              "    <path d=\"M120-120v-720h720v720H120Zm60-500h600v-160H180v160Zm220 220h160v-160H400v160Zm0 220h160v-160H400v160ZM180-400h160v-160H180v160Zm440 0h160v-160H620v160ZM180-180h160v-160H180v160Zm440 0h160v-160H620v160Z\"/>\n",
              "  </svg>\n",
              "    </button>\n",
              "\n",
              "  <style>\n",
              "    .colab-df-container {\n",
              "      display:flex;\n",
              "      gap: 12px;\n",
              "    }\n",
              "\n",
              "    .colab-df-convert {\n",
              "      background-color: #E8F0FE;\n",
              "      border: none;\n",
              "      border-radius: 50%;\n",
              "      cursor: pointer;\n",
              "      display: none;\n",
              "      fill: #1967D2;\n",
              "      height: 32px;\n",
              "      padding: 0 0 0 0;\n",
              "      width: 32px;\n",
              "    }\n",
              "\n",
              "    .colab-df-convert:hover {\n",
              "      background-color: #E2EBFA;\n",
              "      box-shadow: 0px 1px 2px rgba(60, 64, 67, 0.3), 0px 1px 3px 1px rgba(60, 64, 67, 0.15);\n",
              "      fill: #174EA6;\n",
              "    }\n",
              "\n",
              "    .colab-df-buttons div {\n",
              "      margin-bottom: 4px;\n",
              "    }\n",
              "\n",
              "    [theme=dark] .colab-df-convert {\n",
              "      background-color: #3B4455;\n",
              "      fill: #D2E3FC;\n",
              "    }\n",
              "\n",
              "    [theme=dark] .colab-df-convert:hover {\n",
              "      background-color: #434B5C;\n",
              "      box-shadow: 0px 1px 3px 1px rgba(0, 0, 0, 0.15);\n",
              "      filter: drop-shadow(0px 1px 2px rgba(0, 0, 0, 0.3));\n",
              "      fill: #FFFFFF;\n",
              "    }\n",
              "  </style>\n",
              "\n",
              "    <script>\n",
              "      const buttonEl =\n",
              "        document.querySelector('#df-919f2280-9299-469a-9c0c-a37a00026a45 button.colab-df-convert');\n",
              "      buttonEl.style.display =\n",
              "        google.colab.kernel.accessAllowed ? 'block' : 'none';\n",
              "\n",
              "      async function convertToInteractive(key) {\n",
              "        const element = document.querySelector('#df-919f2280-9299-469a-9c0c-a37a00026a45');\n",
              "        const dataTable =\n",
              "          await google.colab.kernel.invokeFunction('convertToInteractive',\n",
              "                                                    [key], {});\n",
              "        if (!dataTable) return;\n",
              "\n",
              "        const docLinkHtml = 'Like what you see? Visit the ' +\n",
              "          '<a target=\"_blank\" href=https://colab.research.google.com/notebooks/data_table.ipynb>data table notebook</a>'\n",
              "          + ' to learn more about interactive tables.';\n",
              "        element.innerHTML = '';\n",
              "        dataTable['output_type'] = 'display_data';\n",
              "        await google.colab.output.renderOutput(dataTable, element);\n",
              "        const docLink = document.createElement('div');\n",
              "        docLink.innerHTML = docLinkHtml;\n",
              "        element.appendChild(docLink);\n",
              "      }\n",
              "    </script>\n",
              "  </div>\n",
              "\n",
              "\n",
              "    <div id=\"df-602e2f32-6d29-482a-94e3-b0374a684ebd\">\n",
              "      <button class=\"colab-df-quickchart\" onclick=\"quickchart('df-602e2f32-6d29-482a-94e3-b0374a684ebd')\"\n",
              "                title=\"Suggest charts\"\n",
              "                style=\"display:none;\">\n",
              "\n",
              "<svg xmlns=\"http://www.w3.org/2000/svg\" height=\"24px\"viewBox=\"0 0 24 24\"\n",
              "     width=\"24px\">\n",
              "    <g>\n",
              "        <path d=\"M19 3H5c-1.1 0-2 .9-2 2v14c0 1.1.9 2 2 2h14c1.1 0 2-.9 2-2V5c0-1.1-.9-2-2-2zM9 17H7v-7h2v7zm4 0h-2V7h2v10zm4 0h-2v-4h2v4z\"/>\n",
              "    </g>\n",
              "</svg>\n",
              "      </button>\n",
              "\n",
              "<style>\n",
              "  .colab-df-quickchart {\n",
              "      --bg-color: #E8F0FE;\n",
              "      --fill-color: #1967D2;\n",
              "      --hover-bg-color: #E2EBFA;\n",
              "      --hover-fill-color: #174EA6;\n",
              "      --disabled-fill-color: #AAA;\n",
              "      --disabled-bg-color: #DDD;\n",
              "  }\n",
              "\n",
              "  [theme=dark] .colab-df-quickchart {\n",
              "      --bg-color: #3B4455;\n",
              "      --fill-color: #D2E3FC;\n",
              "      --hover-bg-color: #434B5C;\n",
              "      --hover-fill-color: #FFFFFF;\n",
              "      --disabled-bg-color: #3B4455;\n",
              "      --disabled-fill-color: #666;\n",
              "  }\n",
              "\n",
              "  .colab-df-quickchart {\n",
              "    background-color: var(--bg-color);\n",
              "    border: none;\n",
              "    border-radius: 50%;\n",
              "    cursor: pointer;\n",
              "    display: none;\n",
              "    fill: var(--fill-color);\n",
              "    height: 32px;\n",
              "    padding: 0;\n",
              "    width: 32px;\n",
              "  }\n",
              "\n",
              "  .colab-df-quickchart:hover {\n",
              "    background-color: var(--hover-bg-color);\n",
              "    box-shadow: 0 1px 2px rgba(60, 64, 67, 0.3), 0 1px 3px 1px rgba(60, 64, 67, 0.15);\n",
              "    fill: var(--button-hover-fill-color);\n",
              "  }\n",
              "\n",
              "  .colab-df-quickchart-complete:disabled,\n",
              "  .colab-df-quickchart-complete:disabled:hover {\n",
              "    background-color: var(--disabled-bg-color);\n",
              "    fill: var(--disabled-fill-color);\n",
              "    box-shadow: none;\n",
              "  }\n",
              "\n",
              "  .colab-df-spinner {\n",
              "    border: 2px solid var(--fill-color);\n",
              "    border-color: transparent;\n",
              "    border-bottom-color: var(--fill-color);\n",
              "    animation:\n",
              "      spin 1s steps(1) infinite;\n",
              "  }\n",
              "\n",
              "  @keyframes spin {\n",
              "    0% {\n",
              "      border-color: transparent;\n",
              "      border-bottom-color: var(--fill-color);\n",
              "      border-left-color: var(--fill-color);\n",
              "    }\n",
              "    20% {\n",
              "      border-color: transparent;\n",
              "      border-left-color: var(--fill-color);\n",
              "      border-top-color: var(--fill-color);\n",
              "    }\n",
              "    30% {\n",
              "      border-color: transparent;\n",
              "      border-left-color: var(--fill-color);\n",
              "      border-top-color: var(--fill-color);\n",
              "      border-right-color: var(--fill-color);\n",
              "    }\n",
              "    40% {\n",
              "      border-color: transparent;\n",
              "      border-right-color: var(--fill-color);\n",
              "      border-top-color: var(--fill-color);\n",
              "    }\n",
              "    60% {\n",
              "      border-color: transparent;\n",
              "      border-right-color: var(--fill-color);\n",
              "    }\n",
              "    80% {\n",
              "      border-color: transparent;\n",
              "      border-right-color: var(--fill-color);\n",
              "      border-bottom-color: var(--fill-color);\n",
              "    }\n",
              "    90% {\n",
              "      border-color: transparent;\n",
              "      border-bottom-color: var(--fill-color);\n",
              "    }\n",
              "  }\n",
              "</style>\n",
              "\n",
              "      <script>\n",
              "        async function quickchart(key) {\n",
              "          const quickchartButtonEl =\n",
              "            document.querySelector('#' + key + ' button');\n",
              "          quickchartButtonEl.disabled = true;  // To prevent multiple clicks.\n",
              "          quickchartButtonEl.classList.add('colab-df-spinner');\n",
              "          try {\n",
              "            const charts = await google.colab.kernel.invokeFunction(\n",
              "                'suggestCharts', [key], {});\n",
              "          } catch (error) {\n",
              "            console.error('Error during call to suggestCharts:', error);\n",
              "          }\n",
              "          quickchartButtonEl.classList.remove('colab-df-spinner');\n",
              "          quickchartButtonEl.classList.add('colab-df-quickchart-complete');\n",
              "        }\n",
              "        (() => {\n",
              "          let quickchartButtonEl =\n",
              "            document.querySelector('#df-602e2f32-6d29-482a-94e3-b0374a684ebd button');\n",
              "          quickchartButtonEl.style.display =\n",
              "            google.colab.kernel.accessAllowed ? 'block' : 'none';\n",
              "        })();\n",
              "      </script>\n",
              "    </div>\n",
              "\n",
              "    </div>\n",
              "  </div>\n"
            ],
            "application/vnd.google.colaboratory.intrinsic+json": {
              "type": "dataframe"
            }
          },
          "metadata": {}
        }
      ]
    },
    {
      "cell_type": "code",
      "source": [
        "print(\"Info training dataset:\")\n",
        "print(\"Shape (raw):\", train_df_freq.shape)\n",
        "print(\"Columns:\", list(train_df_freq.columns))"
      ],
      "metadata": {
        "colab": {
          "base_uri": "https://localhost:8080/"
        },
        "id": "NtkEuhscta4h",
        "outputId": "f313dc82-ec9b-4104-ee8a-7e319dae8cd6"
      },
      "id": "NtkEuhscta4h",
      "execution_count": 33,
      "outputs": [
        {
          "output_type": "stream",
          "name": "stdout",
          "text": [
            "Info training dataset:\n",
            "Shape (raw): (16325, 258)\n",
            "Columns: ['GetSystemDirectoryW', 'GetFileAttributesW', 'DrawTextExW', 'UuidCreate', 'connect', 'NtOpenKeyEx', 'RegCloseKey', 'NtReadFile', 'RegQueryInfoKeyW', 'CryptAcquireContextA', 'GetUserNameExA', 'NtAllocateVirtualMemory', 'RegSetValueExA', 'GetFileVersionInfoSizeW', 'FindResourceA', 'GetFileType', 'CryptEncrypt', 'NtSetInformationFile', 'InternetOpenUrlW', 'GetBestInterfaceEx', 'GetKeyState', 'NtEnumerateValueKey', 'CreateProcessInternalW', 'gethostbyname', 'CoCreateInstanceEx', 'CryptProtectData', 'NtOpenProcess', 'StartServiceA', 'HttpSendRequestA', 'InternetCloseHandle', 'LdrLoadDll', 'CoInitializeSecurity', 'InternetSetStatusCallback', 'SHGetFolderPathW', 'SetErrorMode', 'IsDebuggerPresent', 'CopyFileW', 'CopyFileExW', 'GetFileInformationByHandleEx', 'SetStdHandle', 'NtTerminateThread', 'RegEnumKeyExW', 'InternetOpenW', 'GetAdaptersAddresses', 'GetFileVersionInfoW', 'NtUnmapViewOfSection', 'GetComputerNameW', 'WriteConsoleW', 'HttpOpenRequestW', 'RegQueryInfoKeyA', 'InternetQueryOptionA', 'GetAddrInfoW', 'LoadStringW', 'Module32FirstW', 'RegCreateKeyExA', 'FindResourceW', 'InternetOpenUrlA', 'RegQueryValueExW', 'NtOpenThread', 'CreateDirectoryW', 'CertOpenSystemStoreW', 'NtWriteVirtualMemory', 'GetUserNameA', 'CreateThread', 'FindWindowExW', 'GlobalMemoryStatusEx', '__exception__', 'MessageBoxTimeoutA', 'SendNotifyMessageW', 'GetSystemWindowsDirectoryW', 'NetUserGetLocalGroups', 'RegDeleteValueW', 'RegDeleteKeyW', 'setsockopt', 'Process32NextW', 'FindWindowA', 'GetTempPathW', 'NtQueryValueKey', 'GetVolumePathNamesForVolumeNameW', 'InternetOpenA', 'NtDeviceIoControlFile', 'GetFileSize', 'OutputDebugStringA', 'InternetCrackUrlW', 'EnumWindows', 'NtReadVirtualMemory', 'CoCreateInstance', 'CreateServiceA', 'OpenSCManagerA', 'CoGetClassObject', 'DeleteFileW', 'MoveFileWithProgressW', 'NtOpenKey', 'NtDeleteFile', 'RegQueryValueExA', 'ioctlsocket', 'SizeofResource', 'SetUnhandledExceptionFilter', 'CoUninitialize', 'GetShortPathNameW', 'NtQueryAttributesFile', 'Module32NextW', 'GetSystemDirectoryA', 'NtQueryDirectoryFile', 'HttpOpenRequestA', 'StartServiceW', 'sendto', 'recv', 'CoInitializeEx', 'NetUserGetInfo', 'WSAStartup', 'InternetSetOptionA', 'SetFilePointerEx', 'RegEnumKeyW', 'CryptGenKey', 'GetSystemMetrics', 'GetFileAttributesExW', 'GetSystemInfo', 'SetEndOfFile', 'WriteConsoleA', 'ObtainUserAgentString', 'CryptCreateHash', 'RtlDecompressBuffer', 'GetFileVersionInfoExW', 'CryptHashData', 'NtQuerySystemInformation', 'InternetCrackUrlA', 'CryptDecodeObjectEx', 'RegOpenKeyExA', 'FindFirstFileExW', 'GetComputerNameA', 'RegisterHotKey', 'NtQueryInformationFile', 'FindResourceExA', 'NtQueueApcThread', 'NtOpenMutant', 'GetDiskFreeSpaceW', 'NtFreeVirtualMemory', 'CopyFileA', 'GetKeyboardState', 'FindWindowExA', 'OpenSCManagerW', 'LoadStringA', 'WSASocketW', 'Thread32First', 'UnhookWindowsHookEx', 'RegEnumValueW', 'NtCreateThreadEx', 'socket', 'CryptDecrypt', 'NtCreateSection', 'getaddrinfo', 'getsockname', 'send', 'CreateServiceW', 'GetTimeZoneInformation', 'closesocket', 'DrawTextExA', 'RtlAddVectoredExceptionHandler', 'RegEnumValueA', 'CertOpenStore', 'SetFilePointer', 'RegSetValueExW', 'NtQueryKey', 'CryptAcquireContextW', 'NtCreateKey', 'GetUserNameW', 'NtOpenFile', 'RegDeleteKeyA', 'NtGetContextThread', 'LdrUnloadDll', 'NtMapViewOfSection', 'SetFileAttributesW', 'FindResourceExW', 'IWbemServices_ExecQuery', 'OpenServiceW', 'FindFirstFileExA', 'GetNativeSystemInfo', 'recvfrom', 'GetAdaptersInfo', 'MessageBoxTimeoutW', 'NtSuspendThread', 'CreateActCtxW', 'DeviceIoControl', 'LdrGetProcedureAddress', 'InternetGetConnectedState', 'NtSetContextThread', 'NtClose', 'GetForegroundWindow', 'NtOpenSection', 'GetVolumeNameForVolumeMountPointW', 'GetAsyncKeyState', 'CryptProtectMemory', 'LookupPrivilegeValueW', 'RegOpenKeyExW', 'CreateRemoteThread', 'CryptExportKey', 'DeleteUrlCacheEntryW', 'NtResumeThread', 'NtTerminateProcess', 'GetFileVersionInfoSizeExW', 'SetFileTime', 'HttpQueryInfoA', 'SearchPathW', 'Process32FirstW', 'GetSystemWindowsDirectoryA', 'IWbemServices_ExecMethod', 'SetWindowsHookExW', 'RegCreateKeyExW', 'GetCursorPos', 'FindWindowW', 'InternetReadFile', 'CreateToolhelp32Snapshot', 'timeGetTime', 'NtWriteFile', 'select', 'OleInitialize', 'EnumServicesStatusA', 'ShellExecuteExW', 'listen', 'GlobalMemoryStatus', 'NtEnumerateKey', 'GetFileInformationByHandle', 'DnsQuery_A', 'bind', 'InternetConnectA', 'InternetConnectW', 'RtlRemoveVectoredExceptionHandler', 'GetVolumePathNameW', 'RegEnumKeyExA', 'NtLoadKey', 'OpenServiceA', 'LookupAccountSidW', 'NtProtectVirtualMemory', 'shutdown', 'NtDuplicateObject', 'RegDeleteValueA', 'Thread32Next', 'LdrGetDllHandle', 'CreateJobObjectW', 'NtCreateMutant', 'GetFileSizeEx', 'NtDelayExecution', 'GetDiskFreeSpaceExW', 'ReadProcessMemory', 'NtCreateFile', 'SetWindowsHookExA', 'RemoveDirectoryW', 'RemoveDirectoryA', 'SHGetSpecialFolderLocation', 'LoadResource', 'NtSetValueKey', 'GetUserNameExW', 'DeleteUrlCacheEntryA', 'NtOpenDirectoryObject', 'WSARecv', 'GetSystemTimeAsFileTime', 'WriteProcessMemory']\n"
          ]
        }
      ]
    },
    {
      "cell_type": "code",
      "source": [
        "# --- Create frequency-based dataframe for training data ---\n",
        "test_df_freq = pd.DataFrame([{api: seq.count(api) for api in test_vocab} for seq in df_test['api_call_sequence']])\n",
        "display(test_df_freq.head())"
      ],
      "metadata": {
        "colab": {
          "base_uri": "https://localhost:8080/",
          "height": 256
        },
        "id": "65yJsj1wtm17",
        "outputId": "d8344180-c36e-4dfb-f0f1-c85f5ee7b3be"
      },
      "id": "65yJsj1wtm17",
      "execution_count": 34,
      "outputs": [
        {
          "output_type": "display_data",
          "data": {
            "text/plain": [
              "   GetSystemDirectoryW  GetFileAttributesW  DrawTextExW  UuidCreate  connect  \\\n",
              "0                    0                   0            2           0        0   \n",
              "1                    1                   0            1           0        0   \n",
              "2                    0                   0            2           0        0   \n",
              "3                    1                   0            4           0        0   \n",
              "4                    0                   0            0           1        0   \n",
              "\n",
              "   NtOpenKeyEx  RegCloseKey  NtReadFile  RegQueryInfoKeyW  \\\n",
              "0            0            0           0                 0   \n",
              "1            0            3          13                 0   \n",
              "2            0            1           0                 0   \n",
              "3            0            3           0                 0   \n",
              "4            0            8           1                 2   \n",
              "\n",
              "   CryptAcquireContextA  ...  RemoveDirectoryW  RemoveDirectoryA  \\\n",
              "0                     0  ...                 0                 0   \n",
              "1                     0  ...                 0                 0   \n",
              "2                     0  ...                 0                 0   \n",
              "3                     0  ...                 0                 0   \n",
              "4                     0  ...                 0                 0   \n",
              "\n",
              "   SHGetSpecialFolderLocation  LoadResource  NtSetValueKey  \\\n",
              "0                           0            23              0   \n",
              "1                           0             0              0   \n",
              "2                           0             8              0   \n",
              "3                           0             0              0   \n",
              "4                           0             1              0   \n",
              "\n",
              "   DeleteUrlCacheEntryA  NtOpenDirectoryObject  WSARecv  \\\n",
              "0                     0                      0        0   \n",
              "1                     0                      0        0   \n",
              "2                     0                      0        0   \n",
              "3                     0                      0        0   \n",
              "4                     0                      0        0   \n",
              "\n",
              "   GetSystemTimeAsFileTime  WriteProcessMemory  \n",
              "0                        0                   0  \n",
              "1                        0                   0  \n",
              "2                        0                   0  \n",
              "3                        2                   0  \n",
              "4                        3                   0  \n",
              "\n",
              "[5 rows x 232 columns]"
            ],
            "text/html": [
              "\n",
              "  <div id=\"df-40245ae5-e8bf-4e7f-b31c-11573a7a6af5\" class=\"colab-df-container\">\n",
              "    <div>\n",
              "<style scoped>\n",
              "    .dataframe tbody tr th:only-of-type {\n",
              "        vertical-align: middle;\n",
              "    }\n",
              "\n",
              "    .dataframe tbody tr th {\n",
              "        vertical-align: top;\n",
              "    }\n",
              "\n",
              "    .dataframe thead th {\n",
              "        text-align: right;\n",
              "    }\n",
              "</style>\n",
              "<table border=\"1\" class=\"dataframe\">\n",
              "  <thead>\n",
              "    <tr style=\"text-align: right;\">\n",
              "      <th></th>\n",
              "      <th>GetSystemDirectoryW</th>\n",
              "      <th>GetFileAttributesW</th>\n",
              "      <th>DrawTextExW</th>\n",
              "      <th>UuidCreate</th>\n",
              "      <th>connect</th>\n",
              "      <th>NtOpenKeyEx</th>\n",
              "      <th>RegCloseKey</th>\n",
              "      <th>NtReadFile</th>\n",
              "      <th>RegQueryInfoKeyW</th>\n",
              "      <th>CryptAcquireContextA</th>\n",
              "      <th>...</th>\n",
              "      <th>RemoveDirectoryW</th>\n",
              "      <th>RemoveDirectoryA</th>\n",
              "      <th>SHGetSpecialFolderLocation</th>\n",
              "      <th>LoadResource</th>\n",
              "      <th>NtSetValueKey</th>\n",
              "      <th>DeleteUrlCacheEntryA</th>\n",
              "      <th>NtOpenDirectoryObject</th>\n",
              "      <th>WSARecv</th>\n",
              "      <th>GetSystemTimeAsFileTime</th>\n",
              "      <th>WriteProcessMemory</th>\n",
              "    </tr>\n",
              "  </thead>\n",
              "  <tbody>\n",
              "    <tr>\n",
              "      <th>0</th>\n",
              "      <td>0</td>\n",
              "      <td>0</td>\n",
              "      <td>2</td>\n",
              "      <td>0</td>\n",
              "      <td>0</td>\n",
              "      <td>0</td>\n",
              "      <td>0</td>\n",
              "      <td>0</td>\n",
              "      <td>0</td>\n",
              "      <td>0</td>\n",
              "      <td>...</td>\n",
              "      <td>0</td>\n",
              "      <td>0</td>\n",
              "      <td>0</td>\n",
              "      <td>23</td>\n",
              "      <td>0</td>\n",
              "      <td>0</td>\n",
              "      <td>0</td>\n",
              "      <td>0</td>\n",
              "      <td>0</td>\n",
              "      <td>0</td>\n",
              "    </tr>\n",
              "    <tr>\n",
              "      <th>1</th>\n",
              "      <td>1</td>\n",
              "      <td>0</td>\n",
              "      <td>1</td>\n",
              "      <td>0</td>\n",
              "      <td>0</td>\n",
              "      <td>0</td>\n",
              "      <td>3</td>\n",
              "      <td>13</td>\n",
              "      <td>0</td>\n",
              "      <td>0</td>\n",
              "      <td>...</td>\n",
              "      <td>0</td>\n",
              "      <td>0</td>\n",
              "      <td>0</td>\n",
              "      <td>0</td>\n",
              "      <td>0</td>\n",
              "      <td>0</td>\n",
              "      <td>0</td>\n",
              "      <td>0</td>\n",
              "      <td>0</td>\n",
              "      <td>0</td>\n",
              "    </tr>\n",
              "    <tr>\n",
              "      <th>2</th>\n",
              "      <td>0</td>\n",
              "      <td>0</td>\n",
              "      <td>2</td>\n",
              "      <td>0</td>\n",
              "      <td>0</td>\n",
              "      <td>0</td>\n",
              "      <td>1</td>\n",
              "      <td>0</td>\n",
              "      <td>0</td>\n",
              "      <td>0</td>\n",
              "      <td>...</td>\n",
              "      <td>0</td>\n",
              "      <td>0</td>\n",
              "      <td>0</td>\n",
              "      <td>8</td>\n",
              "      <td>0</td>\n",
              "      <td>0</td>\n",
              "      <td>0</td>\n",
              "      <td>0</td>\n",
              "      <td>0</td>\n",
              "      <td>0</td>\n",
              "    </tr>\n",
              "    <tr>\n",
              "      <th>3</th>\n",
              "      <td>1</td>\n",
              "      <td>0</td>\n",
              "      <td>4</td>\n",
              "      <td>0</td>\n",
              "      <td>0</td>\n",
              "      <td>0</td>\n",
              "      <td>3</td>\n",
              "      <td>0</td>\n",
              "      <td>0</td>\n",
              "      <td>0</td>\n",
              "      <td>...</td>\n",
              "      <td>0</td>\n",
              "      <td>0</td>\n",
              "      <td>0</td>\n",
              "      <td>0</td>\n",
              "      <td>0</td>\n",
              "      <td>0</td>\n",
              "      <td>0</td>\n",
              "      <td>0</td>\n",
              "      <td>2</td>\n",
              "      <td>0</td>\n",
              "    </tr>\n",
              "    <tr>\n",
              "      <th>4</th>\n",
              "      <td>0</td>\n",
              "      <td>0</td>\n",
              "      <td>0</td>\n",
              "      <td>1</td>\n",
              "      <td>0</td>\n",
              "      <td>0</td>\n",
              "      <td>8</td>\n",
              "      <td>1</td>\n",
              "      <td>2</td>\n",
              "      <td>0</td>\n",
              "      <td>...</td>\n",
              "      <td>0</td>\n",
              "      <td>0</td>\n",
              "      <td>0</td>\n",
              "      <td>1</td>\n",
              "      <td>0</td>\n",
              "      <td>0</td>\n",
              "      <td>0</td>\n",
              "      <td>0</td>\n",
              "      <td>3</td>\n",
              "      <td>0</td>\n",
              "    </tr>\n",
              "  </tbody>\n",
              "</table>\n",
              "<p>5 rows × 232 columns</p>\n",
              "</div>\n",
              "    <div class=\"colab-df-buttons\">\n",
              "\n",
              "  <div class=\"colab-df-container\">\n",
              "    <button class=\"colab-df-convert\" onclick=\"convertToInteractive('df-40245ae5-e8bf-4e7f-b31c-11573a7a6af5')\"\n",
              "            title=\"Convert this dataframe to an interactive table.\"\n",
              "            style=\"display:none;\">\n",
              "\n",
              "  <svg xmlns=\"http://www.w3.org/2000/svg\" height=\"24px\" viewBox=\"0 -960 960 960\">\n",
              "    <path d=\"M120-120v-720h720v720H120Zm60-500h600v-160H180v160Zm220 220h160v-160H400v160Zm0 220h160v-160H400v160ZM180-400h160v-160H180v160Zm440 0h160v-160H620v160ZM180-180h160v-160H180v160Zm440 0h160v-160H620v160Z\"/>\n",
              "  </svg>\n",
              "    </button>\n",
              "\n",
              "  <style>\n",
              "    .colab-df-container {\n",
              "      display:flex;\n",
              "      gap: 12px;\n",
              "    }\n",
              "\n",
              "    .colab-df-convert {\n",
              "      background-color: #E8F0FE;\n",
              "      border: none;\n",
              "      border-radius: 50%;\n",
              "      cursor: pointer;\n",
              "      display: none;\n",
              "      fill: #1967D2;\n",
              "      height: 32px;\n",
              "      padding: 0 0 0 0;\n",
              "      width: 32px;\n",
              "    }\n",
              "\n",
              "    .colab-df-convert:hover {\n",
              "      background-color: #E2EBFA;\n",
              "      box-shadow: 0px 1px 2px rgba(60, 64, 67, 0.3), 0px 1px 3px 1px rgba(60, 64, 67, 0.15);\n",
              "      fill: #174EA6;\n",
              "    }\n",
              "\n",
              "    .colab-df-buttons div {\n",
              "      margin-bottom: 4px;\n",
              "    }\n",
              "\n",
              "    [theme=dark] .colab-df-convert {\n",
              "      background-color: #3B4455;\n",
              "      fill: #D2E3FC;\n",
              "    }\n",
              "\n",
              "    [theme=dark] .colab-df-convert:hover {\n",
              "      background-color: #434B5C;\n",
              "      box-shadow: 0px 1px 3px 1px rgba(0, 0, 0, 0.15);\n",
              "      filter: drop-shadow(0px 1px 2px rgba(0, 0, 0, 0.3));\n",
              "      fill: #FFFFFF;\n",
              "    }\n",
              "  </style>\n",
              "\n",
              "    <script>\n",
              "      const buttonEl =\n",
              "        document.querySelector('#df-40245ae5-e8bf-4e7f-b31c-11573a7a6af5 button.colab-df-convert');\n",
              "      buttonEl.style.display =\n",
              "        google.colab.kernel.accessAllowed ? 'block' : 'none';\n",
              "\n",
              "      async function convertToInteractive(key) {\n",
              "        const element = document.querySelector('#df-40245ae5-e8bf-4e7f-b31c-11573a7a6af5');\n",
              "        const dataTable =\n",
              "          await google.colab.kernel.invokeFunction('convertToInteractive',\n",
              "                                                    [key], {});\n",
              "        if (!dataTable) return;\n",
              "\n",
              "        const docLinkHtml = 'Like what you see? Visit the ' +\n",
              "          '<a target=\"_blank\" href=https://colab.research.google.com/notebooks/data_table.ipynb>data table notebook</a>'\n",
              "          + ' to learn more about interactive tables.';\n",
              "        element.innerHTML = '';\n",
              "        dataTable['output_type'] = 'display_data';\n",
              "        await google.colab.output.renderOutput(dataTable, element);\n",
              "        const docLink = document.createElement('div');\n",
              "        docLink.innerHTML = docLinkHtml;\n",
              "        element.appendChild(docLink);\n",
              "      }\n",
              "    </script>\n",
              "  </div>\n",
              "\n",
              "\n",
              "    <div id=\"df-2a3b01f3-1ddb-4e77-b375-2208de9afd9d\">\n",
              "      <button class=\"colab-df-quickchart\" onclick=\"quickchart('df-2a3b01f3-1ddb-4e77-b375-2208de9afd9d')\"\n",
              "                title=\"Suggest charts\"\n",
              "                style=\"display:none;\">\n",
              "\n",
              "<svg xmlns=\"http://www.w3.org/2000/svg\" height=\"24px\"viewBox=\"0 0 24 24\"\n",
              "     width=\"24px\">\n",
              "    <g>\n",
              "        <path d=\"M19 3H5c-1.1 0-2 .9-2 2v14c0 1.1.9 2 2 2h14c1.1 0 2-.9 2-2V5c0-1.1-.9-2-2-2zM9 17H7v-7h2v7zm4 0h-2V7h2v10zm4 0h-2v-4h2v4z\"/>\n",
              "    </g>\n",
              "</svg>\n",
              "      </button>\n",
              "\n",
              "<style>\n",
              "  .colab-df-quickchart {\n",
              "      --bg-color: #E8F0FE;\n",
              "      --fill-color: #1967D2;\n",
              "      --hover-bg-color: #E2EBFA;\n",
              "      --hover-fill-color: #174EA6;\n",
              "      --disabled-fill-color: #AAA;\n",
              "      --disabled-bg-color: #DDD;\n",
              "  }\n",
              "\n",
              "  [theme=dark] .colab-df-quickchart {\n",
              "      --bg-color: #3B4455;\n",
              "      --fill-color: #D2E3FC;\n",
              "      --hover-bg-color: #434B5C;\n",
              "      --hover-fill-color: #FFFFFF;\n",
              "      --disabled-bg-color: #3B4455;\n",
              "      --disabled-fill-color: #666;\n",
              "  }\n",
              "\n",
              "  .colab-df-quickchart {\n",
              "    background-color: var(--bg-color);\n",
              "    border: none;\n",
              "    border-radius: 50%;\n",
              "    cursor: pointer;\n",
              "    display: none;\n",
              "    fill: var(--fill-color);\n",
              "    height: 32px;\n",
              "    padding: 0;\n",
              "    width: 32px;\n",
              "  }\n",
              "\n",
              "  .colab-df-quickchart:hover {\n",
              "    background-color: var(--hover-bg-color);\n",
              "    box-shadow: 0 1px 2px rgba(60, 64, 67, 0.3), 0 1px 3px 1px rgba(60, 64, 67, 0.15);\n",
              "    fill: var(--button-hover-fill-color);\n",
              "  }\n",
              "\n",
              "  .colab-df-quickchart-complete:disabled,\n",
              "  .colab-df-quickchart-complete:disabled:hover {\n",
              "    background-color: var(--disabled-bg-color);\n",
              "    fill: var(--disabled-fill-color);\n",
              "    box-shadow: none;\n",
              "  }\n",
              "\n",
              "  .colab-df-spinner {\n",
              "    border: 2px solid var(--fill-color);\n",
              "    border-color: transparent;\n",
              "    border-bottom-color: var(--fill-color);\n",
              "    animation:\n",
              "      spin 1s steps(1) infinite;\n",
              "  }\n",
              "\n",
              "  @keyframes spin {\n",
              "    0% {\n",
              "      border-color: transparent;\n",
              "      border-bottom-color: var(--fill-color);\n",
              "      border-left-color: var(--fill-color);\n",
              "    }\n",
              "    20% {\n",
              "      border-color: transparent;\n",
              "      border-left-color: var(--fill-color);\n",
              "      border-top-color: var(--fill-color);\n",
              "    }\n",
              "    30% {\n",
              "      border-color: transparent;\n",
              "      border-left-color: var(--fill-color);\n",
              "      border-top-color: var(--fill-color);\n",
              "      border-right-color: var(--fill-color);\n",
              "    }\n",
              "    40% {\n",
              "      border-color: transparent;\n",
              "      border-right-color: var(--fill-color);\n",
              "      border-top-color: var(--fill-color);\n",
              "    }\n",
              "    60% {\n",
              "      border-color: transparent;\n",
              "      border-right-color: var(--fill-color);\n",
              "    }\n",
              "    80% {\n",
              "      border-color: transparent;\n",
              "      border-right-color: var(--fill-color);\n",
              "      border-bottom-color: var(--fill-color);\n",
              "    }\n",
              "    90% {\n",
              "      border-color: transparent;\n",
              "      border-bottom-color: var(--fill-color);\n",
              "    }\n",
              "  }\n",
              "</style>\n",
              "\n",
              "      <script>\n",
              "        async function quickchart(key) {\n",
              "          const quickchartButtonEl =\n",
              "            document.querySelector('#' + key + ' button');\n",
              "          quickchartButtonEl.disabled = true;  // To prevent multiple clicks.\n",
              "          quickchartButtonEl.classList.add('colab-df-spinner');\n",
              "          try {\n",
              "            const charts = await google.colab.kernel.invokeFunction(\n",
              "                'suggestCharts', [key], {});\n",
              "          } catch (error) {\n",
              "            console.error('Error during call to suggestCharts:', error);\n",
              "          }\n",
              "          quickchartButtonEl.classList.remove('colab-df-spinner');\n",
              "          quickchartButtonEl.classList.add('colab-df-quickchart-complete');\n",
              "        }\n",
              "        (() => {\n",
              "          let quickchartButtonEl =\n",
              "            document.querySelector('#df-2a3b01f3-1ddb-4e77-b375-2208de9afd9d button');\n",
              "          quickchartButtonEl.style.display =\n",
              "            google.colab.kernel.accessAllowed ? 'block' : 'none';\n",
              "        })();\n",
              "      </script>\n",
              "    </div>\n",
              "\n",
              "    </div>\n",
              "  </div>\n"
            ],
            "application/vnd.google.colaboratory.intrinsic+json": {
              "type": "dataframe"
            }
          },
          "metadata": {}
        }
      ]
    },
    {
      "cell_type": "code",
      "source": [
        "print(\"Info training dataset:\")\n",
        "print(\"Shape (raw):\", test_df_freq.shape)\n",
        "print(\"Columns:\", list(test_df_freq.columns))"
      ],
      "metadata": {
        "colab": {
          "base_uri": "https://localhost:8080/"
        },
        "id": "xAAJy_ZPtsOs",
        "outputId": "75b5dc8f-ccf2-48b4-b64c-5b32aff26b1d"
      },
      "id": "xAAJy_ZPtsOs",
      "execution_count": 35,
      "outputs": [
        {
          "output_type": "stream",
          "name": "stdout",
          "text": [
            "Info training dataset:\n",
            "Shape (raw): (6505, 232)\n",
            "Columns: ['GetSystemDirectoryW', 'GetFileAttributesW', 'DrawTextExW', 'UuidCreate', 'connect', 'NtOpenKeyEx', 'RegCloseKey', 'NtReadFile', 'RegQueryInfoKeyW', 'CryptAcquireContextA', 'NtAllocateVirtualMemory', 'RegSetValueExA', 'GetFileVersionInfoSizeW', 'FindResourceA', 'GetFileType', 'CryptEncrypt', 'NtSetInformationFile', 'GetBestInterfaceEx', 'GetKeyState', 'NtEnumerateValueKey', 'CreateProcessInternalW', 'gethostbyname', 'StartServiceA', 'CoCreateInstanceEx', 'NtOpenProcess', 'InternetCloseHandle', 'CryptProtectData', 'HttpSendRequestA', 'LdrLoadDll', 'CoInitializeSecurity', 'SHGetFolderPathW', 'SetErrorMode', 'IsDebuggerPresent', 'CopyFileW', 'CopyFileExW', 'SetStdHandle', 'NtTerminateThread', 'RegEnumKeyExW', 'InternetOpenW', 'GetAdaptersAddresses', 'GetFileVersionInfoW', 'NtUnmapViewOfSection', 'GetComputerNameW', 'WriteConsoleW', 'HttpOpenRequestW', 'RegQueryInfoKeyA', 'InternetQueryOptionA', 'LoadStringW', 'Module32FirstW', 'RegCreateKeyExA', 'FindResourceW', 'InternetOpenUrlA', 'RegQueryValueExW', 'NtOpenThread', 'CreateDirectoryW', 'GetUserNameA', 'CreateThread', 'FindWindowExW', 'GlobalMemoryStatusEx', '__exception__', 'MessageBoxTimeoutA', 'GetSystemWindowsDirectoryW', 'setsockopt', 'RegDeleteKeyW', 'RegDeleteValueW', 'Process32NextW', 'FindWindowA', 'GetTempPathW', 'NtQueryValueKey', 'GetVolumePathNamesForVolumeNameW', 'NtDeviceIoControlFile', 'InternetOpenA', 'GetFileSize', 'OutputDebugStringA', 'InternetCrackUrlW', 'EnumWindows', 'CoCreateInstance', 'CreateServiceA', 'OpenSCManagerA', 'CoGetClassObject', 'DeleteFileW', 'MoveFileWithProgressW', 'NtOpenKey', 'RegQueryValueExA', 'ioctlsocket', 'SizeofResource', 'SetUnhandledExceptionFilter', 'CoUninitialize', 'GetShortPathNameW', 'ControlService', 'NtQueryAttributesFile', 'Module32NextW', 'GetSystemDirectoryA', 'NtQueryDirectoryFile', 'HttpOpenRequestA', 'StartServiceW', 'recv', 'WSASocketA', 'CoInitializeEx', 'WSAStartup', 'InternetSetOptionA', 'SetFilePointerEx', 'RegEnumKeyW', 'CryptGenKey', 'GetSystemMetrics', 'GetFileAttributesExW', 'GetSystemInfo', 'SetEndOfFile', 'WriteConsoleA', 'CryptCreateHash', 'RtlDecompressBuffer', 'GetFileVersionInfoExW', 'CryptHashData', 'NtQuerySystemInformation', 'InternetCrackUrlA', 'FindFirstFileExW', 'RegOpenKeyExA', 'GetComputerNameA', 'RegisterHotKey', 'NtQueryInformationFile', 'FindResourceExA', 'NtQueueApcThread', 'NtOpenMutant', 'GetDiskFreeSpaceW', 'NtFreeVirtualMemory', 'CopyFileA', 'FindWindowExA', 'OpenSCManagerW', 'LoadStringA', 'Thread32First', 'UnhookWindowsHookEx', 'RegEnumValueW', 'NtCreateThreadEx', 'socket', 'CryptDecrypt', 'NtCreateSection', 'getaddrinfo', 'getsockname', 'send', 'CreateServiceW', 'GetTimeZoneInformation', 'RtlAddVectoredExceptionHandler', 'closesocket', 'DrawTextExA', 'RegEnumValueA', 'SetFilePointer', 'RegSetValueExW', 'NtQueryKey', 'CryptAcquireContextW', 'NtCreateKey', 'GetUserNameW', 'NtOpenFile', 'NtGetContextThread', 'LdrUnloadDll', 'NtMapViewOfSection', 'SetFileAttributesW', 'FindResourceExW', 'OpenServiceW', 'IWbemServices_ExecQuery', 'GetNativeSystemInfo', 'GetAdaptersInfo', 'MessageBoxTimeoutW', 'NtSuspendThread', 'CreateActCtxW', 'DeviceIoControl', 'LdrGetProcedureAddress', 'InternetGetConnectedState', 'NtSetContextThread', 'NtClose', 'GetForegroundWindow', 'NtOpenSection', 'GetVolumeNameForVolumeMountPointW', 'GetAsyncKeyState', 'LookupPrivilegeValueW', 'RegOpenKeyExW', 'CryptExportKey', 'DeleteUrlCacheEntryW', 'NtResumeThread', 'NtTerminateProcess', 'GetFileVersionInfoSizeExW', 'SetFileTime', 'HttpQueryInfoA', 'SearchPathW', 'Process32FirstW', 'GetSystemWindowsDirectoryA', 'SetWindowsHookExW', 'RegCreateKeyExW', 'GetCursorPos', 'FindWindowW', 'CreateToolhelp32Snapshot', 'timeGetTime', 'NtWriteFile', 'select', 'OleInitialize', 'EnumServicesStatusA', 'ShellExecuteExW', 'GlobalMemoryStatus', 'NtEnumerateKey', 'GetFileInformationByHandle', 'bind', 'DnsQuery_A', 'InternetConnectA', 'InternetConnectW', 'NtDeleteKey', 'GetVolumePathNameW', 'RegEnumKeyExA', 'OpenServiceA', 'LookupAccountSidW', 'NtProtectVirtualMemory', 'shutdown', 'NtDuplicateObject', 'RegDeleteValueA', 'Thread32Next', 'LdrGetDllHandle', 'CreateJobObjectW', 'NtCreateMutant', 'GetFileSizeEx', 'NtDelayExecution', 'GetDiskFreeSpaceExW', 'ReadProcessMemory', 'NtCreateFile', 'SetWindowsHookExA', 'RemoveDirectoryW', 'RemoveDirectoryA', 'SHGetSpecialFolderLocation', 'LoadResource', 'NtSetValueKey', 'DeleteUrlCacheEntryA', 'NtOpenDirectoryObject', 'WSARecv', 'GetSystemTimeAsFileTime', 'WriteProcessMemory']\n"
          ]
        }
      ]
    },
    {
      "cell_type": "markdown",
      "source": [
        "#### Q: Can you use the test vocabulary to build the new test dataframe? If not, how do you handle API calls in the test set that do not exist in the training vocabulary?\n",
        "\n",
        "just ignore them"
      ],
      "metadata": {
        "id": "eijmLDzabFX9"
      },
      "id": "eijmLDzabFX9"
    },
    {
      "cell_type": "code",
      "source": [
        "# --- Calculate average non-zero elements per row for training data ---\n",
        "avg_nonzero_train = (train_df_freq != 0).sum(axis=1).mean()\n",
        "print(f\"Average non-zero elements per row in train_df_freq: {avg_nonzero_train:.2f}\")\n",
        "\n",
        "# --- Calculate ratio of non-zero elements for training data ---\n",
        "ratio_nonzero_train = avg_nonzero_train / train_df_freq.shape[1]\n",
        "print(f\"Ratio of non-zero elements per row in train_df_freq: {ratio_nonzero_train:.4f}\")\n",
        "\n",
        "# --- Calculate average non-zero elements per row for test data ---\n",
        "avg_nonzero_test = (test_df_freq != 0).sum(axis=1).mean()\n",
        "print(f\"Average non-zero elements per row in test_df_freq: {avg_nonzero_test:.2f}\")\n",
        "\n",
        "# --- Calculate ratio of non-zero elements for test data ---\n",
        "ratio_nonzero_test = avg_nonzero_test / test_df_freq.shape[1]\n",
        "print(f\"Ratio of non-zero elements per row in test_df_freq: {ratio_nonzero_test:.4f}\")"
      ],
      "metadata": {
        "id": "ZEiDnT4vnmMS",
        "colab": {
          "base_uri": "https://localhost:8080/"
        },
        "outputId": "5fea1585-500a-445b-fff6-a58e5a40c9cf"
      },
      "id": "ZEiDnT4vnmMS",
      "execution_count": 37,
      "outputs": [
        {
          "output_type": "stream",
          "name": "stdout",
          "text": [
            "Average non-zero elements per row in train_df_freq: 21.95\n",
            "Ratio of non-zero elements per row in train_df_freq: 0.0851\n",
            "Average non-zero elements per row in test_df_freq: 24.28\n",
            "Ratio of non-zero elements per row in test_df_freq: 0.1046\n"
          ]
        }
      ]
    },
    {
      "cell_type": "markdown",
      "source": [
        "#### Q: How many non-zero elements per row do you have on average in the training set? How many in the test set? What is the ratio with respect to the number of elements per row?"
      ],
      "metadata": {
        "id": "MeJMVfhPbGa8"
      },
      "id": "MeJMVfhPbGa8"
    },
    {
      "cell_type": "markdown",
      "source": [
        "#### Q: The original API sequences were ordered. Is it still the case now in the frequency-based dataframe? Why?"
      ],
      "metadata": {
        "id": "zxxQ9ubZbGQd"
      },
      "id": "zxxQ9ubZbGQd"
    },
    {
      "cell_type": "markdown",
      "source": [
        "### Feed the frequency-based datasets to a classifier\n",
        "\n",
        "- Any classifier can be used (shallow/deep neural or non-neural).\n",
        "- Goal: evaluate baseline performance on sparse vectors without sequence information."
      ],
      "metadata": {
        "id": "1auoE5O0lqJX"
      },
      "id": "1auoE5O0lqJX"
    },
    {
      "cell_type": "code",
      "source": [
        "# --- Split data into features (X) and target (y) ---\n",
        "X_train = train_df_freq\n",
        "y_train = df_train['is_malware']\n",
        "print(X_train.shape)\n",
        "# ---\n",
        "X_test = pd.DataFrame([{api: seq.count(api) for api in train_vocab} for seq in df_test['api_call_sequence']])\n",
        "print(X_test.shape)\n",
        "y_test = df_test['is_malware']\n",
        "\n",
        "# Using default hyperparameters for a simple baseline\n",
        "clf = LogisticRegression(random_state=42, solver='liblinear') # 'liblinear' solver is good for small datasets and sparse data\n",
        "clf.fit(X_train, y_train)\n",
        "y_pred = clf.predict(X_test)\n",
        "print(f\"Test Accuracy: {accuracy_score(y_test, y_pred):.4f}\")"
      ],
      "metadata": {
        "id": "MnBZa6Pnlrii",
        "colab": {
          "base_uri": "https://localhost:8080/"
        },
        "outputId": "c282f99d-48a6-4252-fd93-6f2c0ac0af39"
      },
      "id": "MnBZa6Pnlrii",
      "execution_count": 60,
      "outputs": [
        {
          "output_type": "stream",
          "name": "stdout",
          "text": [
            "(16325, 258)\n",
            "(6505, 258)\n",
            "Test Accuracy: 0.9694\n"
          ]
        }
      ]
    },
    {
      "cell_type": "code",
      "source": [
        "print(\"\\nClassification Report:\\n\", classification_report(y_pred, y_test))"
      ],
      "metadata": {
        "colab": {
          "base_uri": "https://localhost:8080/"
        },
        "id": "Lrq0B8WBDVQM",
        "outputId": "d9eb18e1-73b5-462a-8647-38aa7772fa56"
      },
      "id": "Lrq0B8WBDVQM",
      "execution_count": 56,
      "outputs": [
        {
          "output_type": "stream",
          "name": "stdout",
          "text": [
            "\n",
            "Classification Report:\n",
            "               precision    recall  f1-score   support\n",
            "\n",
            "           0       0.32      0.70      0.44       112\n",
            "           1       0.99      0.97      0.98      6393\n",
            "\n",
            "    accuracy                           0.97      6505\n",
            "   macro avg       0.66      0.84      0.71      6505\n",
            "weighted avg       0.98      0.97      0.97      6505\n",
            "\n"
          ]
        }
      ]
    },
    {
      "cell_type": "markdown",
      "source": [
        "#### Q: Report how you chose the hyperparameters of your classifier, and the final performance on the test set."
      ],
      "metadata": {
        "id": "w-qM18CHbGB5"
      },
      "id": "w-qM18CHbGB5"
    },
    {
      "cell_type": "markdown",
      "source": [
        "#### Q: Is the final performance good, even ignoring the order of API calls and handling very sparse vectors?"
      ],
      "metadata": {
        "id": "SgnC8DmjbFwL"
      },
      "id": "SgnC8DmjbFwL"
    },
    {
      "cell_type": "markdown",
      "source": [
        "## Task 2 - Feed Forward Neural Network (FFNN)\n",
        "\n",
        "text"
      ],
      "metadata": {
        "id": "ad7SH8cyZ1K_"
      },
      "id": "ad7SH8cyZ1K_"
    },
    {
      "cell_type": "code",
      "source": [
        "# Create directory for plots\n",
        "save_dir = results_path + 'images/' + 'task2_plots/'\n",
        "os.makedirs(save_dir, exist_ok=True)"
      ],
      "metadata": {
        "id": "QRKP-a8gZ1bH"
      },
      "id": "QRKP-a8gZ1bH",
      "execution_count": null,
      "outputs": []
    },
    {
      "cell_type": "markdown",
      "source": [
        "### API Call Statistics"
      ],
      "metadata": {
        "id": "hpIwk43BcgpV"
      },
      "id": "hpIwk43BcgpV"
    },
    {
      "cell_type": "markdown",
      "source": [
        "#### Q: Do you have the same number of API calls per sequence? If not, is the distribution of API calls per sequence the same for training and test sets?"
      ],
      "metadata": {
        "id": "jaJDCdvSbkBr"
      },
      "id": "jaJDCdvSbkBr"
    },
    {
      "cell_type": "markdown",
      "source": [
        "#### Q: Can a FFNN handle a variable number of elements? If not, why?"
      ],
      "metadata": {
        "id": "KQ3p_4-XblBt"
      },
      "id": "KQ3p_4-XblBt"
    },
    {
      "cell_type": "markdown",
      "source": [
        "### Fixed-Size Sequences"
      ],
      "metadata": {
        "id": "-1YpgfFGce9i"
      },
      "id": "-1YpgfFGce9i"
    },
    {
      "cell_type": "markdown",
      "source": [
        "#### Q: How to estimate a fixed-size candidate? Which partition do you use to estimate it?"
      ],
      "metadata": {
        "id": "F1z-IWJhbk6a"
      },
      "id": "F1z-IWJhbk6a"
    },
    {
      "cell_type": "markdown",
      "source": [
        "#### Q: Given the estimate, what technique could you use to obtain the same number of API calls per sequence?"
      ],
      "metadata": {
        "id": "7mZhjlflbkyG"
      },
      "id": "7mZhjlflbkyG"
    },
    {
      "cell_type": "markdown",
      "source": [
        "#### Q: If at test time you have more API calls than the fixed-size, what do you do with the exceeding API calls?"
      ],
      "metadata": {
        "id": "Pt9eHesxbkqR"
      },
      "id": "Pt9eHesxbkqR"
    },
    {
      "cell_type": "markdown",
      "source": [
        "### Handling Categorical Features"
      ],
      "metadata": {
        "id": "ZKDxmJEsccAw"
      },
      "id": "ZKDxmJEsccAw"
    },
    {
      "cell_type": "markdown",
      "source": [
        "#### Q: Use a FFNN in both cases. Report how you selected the hyperparameters of your final model, and justify your choices."
      ],
      "metadata": {
        "id": "r_oeut1cbkiF"
      },
      "id": "r_oeut1cbkiF"
    },
    {
      "cell_type": "markdown",
      "source": [
        "#### Q: Can you obtain the same results for sequential identifiers and learnable embeddings? If not, why?"
      ],
      "metadata": {
        "id": "tlHmv9W7bkUa"
      },
      "id": "tlHmv9W7bkUa"
    },
    {
      "cell_type": "markdown",
      "source": [
        "## Task 3 - Recursive Neural Network (RNN)\n",
        "\n",
        "text"
      ],
      "metadata": {
        "id": "4tuRqX7NZ1vJ"
      },
      "id": "4tuRqX7NZ1vJ"
    },
    {
      "cell_type": "code",
      "source": [
        "# Create directory for plots\n",
        "save_dir = results_path + 'images/' + 'task3_plots/'\n",
        "os.makedirs(save_dir, exist_ok=True)"
      ],
      "metadata": {
        "id": "GBCKFczDZ2Fz"
      },
      "id": "GBCKFczDZ2Fz",
      "execution_count": null,
      "outputs": []
    },
    {
      "cell_type": "markdown",
      "source": [
        "### Sequence Modeling with RNNs"
      ],
      "metadata": {
        "id": "KZ7u_SuecZ6E"
      },
      "id": "KZ7u_SuecZ6E"
    },
    {
      "cell_type": "markdown",
      "source": [
        "#### Q: With RNNs, do you still have to pad your data? If yes, how?"
      ],
      "metadata": {
        "id": "oMn691eJb4K_"
      },
      "id": "oMn691eJb4K_"
    },
    {
      "cell_type": "markdown",
      "source": [
        "#### Q: Do you have to truncate the testing sequences? Justify your answer."
      ],
      "metadata": {
        "id": "E9lZ8tc4b4Et"
      },
      "id": "E9lZ8tc4b4Et"
    },
    {
      "cell_type": "markdown",
      "source": [
        "#### Q: Is the RNN padding more memory efficient compared to the FFNN’s one? Why?"
      ],
      "metadata": {
        "id": "x0v6KwErb3_D"
      },
      "id": "x0v6KwErb3_D"
    },
    {
      "cell_type": "markdown",
      "source": [
        "#### Q: Start with a simple one-directional RNN. Is your network as fast as the FFNN? If not, why?"
      ],
      "metadata": {
        "id": "RbLBrMabb34N"
      },
      "id": "RbLBrMabb34N"
    },
    {
      "cell_type": "markdown",
      "source": [
        "### Network Variations"
      ],
      "metadata": {
        "id": "KWX12pVscXTY"
      },
      "id": "KWX12pVscXTY"
    },
    {
      "cell_type": "markdown",
      "source": [
        "#### Q: Is the RNN training as stable as the FFNN's one?"
      ],
      "metadata": {
        "id": "5HXX0DGEb3wq"
      },
      "id": "5HXX0DGEb3wq"
    },
    {
      "cell_type": "markdown",
      "source": [
        "#### Q: How does your model's performance compare to the simple frequency baseline?"
      ],
      "metadata": {
        "id": "VMCra0eHb3my"
      },
      "id": "VMCra0eHb3my"
    },
    {
      "cell_type": "markdown",
      "source": [
        "## Task 4 - Graph Neural Network (GNN)\n",
        "\n",
        "text"
      ],
      "metadata": {
        "id": "McIjNvYYZ2S1"
      },
      "id": "McIjNvYYZ2S1"
    },
    {
      "cell_type": "code",
      "source": [
        "# Create directory for plots\n",
        "save_dir = results_path + 'images/' + 'task4_plots/'\n",
        "os.makedirs(save_dir, exist_ok=True)"
      ],
      "metadata": {
        "id": "Cf1bbg_eZ2rk"
      },
      "id": "Cf1bbg_eZ2rk",
      "execution_count": null,
      "outputs": []
    },
    {
      "cell_type": "markdown",
      "source": [
        "### Modeling API Sequences as Graphs"
      ],
      "metadata": {
        "id": "sYEN9a_ocRaV"
      },
      "id": "sYEN9a_ocRaV"
    },
    {
      "cell_type": "markdown",
      "source": [
        "#### Q: Do you still have to pad your data? If yes, how?"
      ],
      "metadata": {
        "id": "e0mcrpAbcHrJ"
      },
      "id": "e0mcrpAbcHrJ"
    },
    {
      "cell_type": "markdown",
      "source": [
        "#### Q: Do you have to truncate the testing sequences? Justify your answer."
      ],
      "metadata": {
        "id": "bk8rizi8cHla"
      },
      "id": "bk8rizi8cHla"
    },
    {
      "cell_type": "markdown",
      "source": [
        "#### Q: What is the advantage of modeling your problem with a GNN compared to an RNN? What do you lose?"
      ],
      "metadata": {
        "id": "A2QLdRaYcHfL"
      },
      "id": "A2QLdRaYcHfL"
    },
    {
      "cell_type": "markdown",
      "source": [
        "### GNN Variations"
      ],
      "metadata": {
        "id": "OYdDyge3cTDE"
      },
      "id": "OYdDyge3cTDE"
    },
    {
      "cell_type": "markdown",
      "source": [
        "#### Q: How does each model perform compared to the previous architectures? Can you beat the baseline?"
      ],
      "metadata": {
        "id": "8DvvUPSdcHQU"
      },
      "id": "8DvvUPSdcHQU"
    }
  ],
  "metadata": {
    "language_info": {
      "name": "python"
    },
    "colab": {
      "provenance": [],
      "include_colab_link": true
    },
    "kernelspec": {
      "name": "python3",
      "display_name": "Python 3"
    }
  },
  "nbformat": 4,
  "nbformat_minor": 5
}