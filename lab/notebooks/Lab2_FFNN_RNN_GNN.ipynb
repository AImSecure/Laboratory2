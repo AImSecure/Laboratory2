{
  "cells": [
    {
      "cell_type": "markdown",
      "metadata": {
        "id": "view-in-github",
        "colab_type": "text"
      },
      "source": [
        "<a href=\"https://colab.research.google.com/github/AImSecure/Laboratory2/blob/main/lab/notebooks/Lab2_FFNN_RNN_GNN.ipynb\" target=\"_parent\"><img src=\"https://colab.research.google.com/assets/colab-badge.svg\" alt=\"Open In Colab\"/></a>"
      ]
    },
    {
      "cell_type": "markdown",
      "id": "4d244321",
      "metadata": {
        "id": "4d244321"
      },
      "source": [
        "# Laboratory 2 — Model Engineering\n",
        "\n",
        "text"
      ]
    },
    {
      "cell_type": "markdown",
      "source": [
        "## Setup"
      ],
      "metadata": {
        "id": "NXfnBkl-P0ma"
      },
      "id": "NXfnBkl-P0ma"
    },
    {
      "cell_type": "code",
      "execution_count": 1,
      "metadata": {
        "colab": {
          "base_uri": "https://localhost:8080/"
        },
        "id": "svE8FspeRPW3",
        "outputId": "8a0af6c2-7749-40ae-a7a4-4196fd3ff8b4"
      },
      "outputs": [
        {
          "output_type": "stream",
          "name": "stdout",
          "text": [
            "Python 3.12.12\n",
            "Requirement already satisfied: pip in /usr/local/lib/python3.12/dist-packages (24.1.2)\n",
            "Collecting pip\n",
            "  Downloading pip-25.3-py3-none-any.whl.metadata (4.7 kB)\n",
            "Downloading pip-25.3-py3-none-any.whl (1.8 MB)\n",
            "\u001b[2K   \u001b[90m━━━━━━━━━━━━━━━━━━━━━━━━━━━━━━━━━━━━━━━━\u001b[0m \u001b[32m1.8/1.8 MB\u001b[0m \u001b[31m21.3 MB/s\u001b[0m eta \u001b[36m0:00:00\u001b[0m\n",
            "\u001b[?25hInstalling collected packages: pip\n",
            "  Attempting uninstall: pip\n",
            "    Found existing installation: pip 24.1.2\n",
            "    Uninstalling pip-24.1.2:\n",
            "      Successfully uninstalled pip-24.1.2\n",
            "Successfully installed pip-25.3\n"
          ]
        }
      ],
      "source": [
        "# --- Check Python and pip versions ---\n",
        "!python --version\n",
        "!pip install --upgrade pip"
      ],
      "id": "svE8FspeRPW3"
    },
    {
      "cell_type": "code",
      "execution_count": 2,
      "metadata": {
        "colab": {
          "base_uri": "https://localhost:8080/"
        },
        "id": "fyfyzIzWbHTG",
        "outputId": "6d133f87-dc37-49b2-b412-4e4d957ac6f3"
      },
      "outputs": [
        {
          "output_type": "stream",
          "name": "stdout",
          "text": [
            "Requirement already satisfied: torch in /usr/local/lib/python3.12/dist-packages (2.8.0+cu126)\n",
            "Requirement already satisfied: filelock in /usr/local/lib/python3.12/dist-packages (from torch) (3.20.0)\n",
            "Requirement already satisfied: typing-extensions>=4.10.0 in /usr/local/lib/python3.12/dist-packages (from torch) (4.15.0)\n",
            "Requirement already satisfied: setuptools in /usr/local/lib/python3.12/dist-packages (from torch) (75.2.0)\n",
            "Requirement already satisfied: sympy>=1.13.3 in /usr/local/lib/python3.12/dist-packages (from torch) (1.13.3)\n",
            "Requirement already satisfied: networkx in /usr/local/lib/python3.12/dist-packages (from torch) (3.5)\n",
            "Requirement already satisfied: jinja2 in /usr/local/lib/python3.12/dist-packages (from torch) (3.1.6)\n",
            "Requirement already satisfied: fsspec in /usr/local/lib/python3.12/dist-packages (from torch) (2025.3.0)\n",
            "Requirement already satisfied: nvidia-cuda-nvrtc-cu12==12.6.77 in /usr/local/lib/python3.12/dist-packages (from torch) (12.6.77)\n",
            "Requirement already satisfied: nvidia-cuda-runtime-cu12==12.6.77 in /usr/local/lib/python3.12/dist-packages (from torch) (12.6.77)\n",
            "Requirement already satisfied: nvidia-cuda-cupti-cu12==12.6.80 in /usr/local/lib/python3.12/dist-packages (from torch) (12.6.80)\n",
            "Requirement already satisfied: nvidia-cudnn-cu12==9.10.2.21 in /usr/local/lib/python3.12/dist-packages (from torch) (9.10.2.21)\n",
            "Requirement already satisfied: nvidia-cublas-cu12==12.6.4.1 in /usr/local/lib/python3.12/dist-packages (from torch) (12.6.4.1)\n",
            "Requirement already satisfied: nvidia-cufft-cu12==11.3.0.4 in /usr/local/lib/python3.12/dist-packages (from torch) (11.3.0.4)\n",
            "Requirement already satisfied: nvidia-curand-cu12==10.3.7.77 in /usr/local/lib/python3.12/dist-packages (from torch) (10.3.7.77)\n",
            "Requirement already satisfied: nvidia-cusolver-cu12==11.7.1.2 in /usr/local/lib/python3.12/dist-packages (from torch) (11.7.1.2)\n",
            "Requirement already satisfied: nvidia-cusparse-cu12==12.5.4.2 in /usr/local/lib/python3.12/dist-packages (from torch) (12.5.4.2)\n",
            "Requirement already satisfied: nvidia-cusparselt-cu12==0.7.1 in /usr/local/lib/python3.12/dist-packages (from torch) (0.7.1)\n",
            "Requirement already satisfied: nvidia-nccl-cu12==2.27.3 in /usr/local/lib/python3.12/dist-packages (from torch) (2.27.3)\n",
            "Requirement already satisfied: nvidia-nvtx-cu12==12.6.77 in /usr/local/lib/python3.12/dist-packages (from torch) (12.6.77)\n",
            "Requirement already satisfied: nvidia-nvjitlink-cu12==12.6.85 in /usr/local/lib/python3.12/dist-packages (from torch) (12.6.85)\n",
            "Requirement already satisfied: nvidia-cufile-cu12==1.11.1.6 in /usr/local/lib/python3.12/dist-packages (from torch) (1.11.1.6)\n",
            "Requirement already satisfied: triton==3.4.0 in /usr/local/lib/python3.12/dist-packages (from torch) (3.4.0)\n",
            "Requirement already satisfied: mpmath<1.4,>=1.1.0 in /usr/local/lib/python3.12/dist-packages (from sympy>=1.13.3->torch) (1.3.0)\n",
            "Requirement already satisfied: MarkupSafe>=2.0 in /usr/local/lib/python3.12/dist-packages (from jinja2->torch) (3.0.3)\n",
            "Requirement already satisfied: numpy in /usr/local/lib/python3.12/dist-packages (2.0.2)\n",
            "Requirement already satisfied: pandas in /usr/local/lib/python3.12/dist-packages (2.2.2)\n",
            "Requirement already satisfied: scikit-learn in /usr/local/lib/python3.12/dist-packages (1.6.1)\n",
            "Requirement already satisfied: matplotlib in /usr/local/lib/python3.12/dist-packages (3.10.0)\n",
            "Requirement already satisfied: seaborn in /usr/local/lib/python3.12/dist-packages (0.13.2)\n",
            "Requirement already satisfied: python-dateutil>=2.8.2 in /usr/local/lib/python3.12/dist-packages (from pandas) (2.9.0.post0)\n",
            "Requirement already satisfied: pytz>=2020.1 in /usr/local/lib/python3.12/dist-packages (from pandas) (2025.2)\n",
            "Requirement already satisfied: tzdata>=2022.7 in /usr/local/lib/python3.12/dist-packages (from pandas) (2025.2)\n",
            "Requirement already satisfied: scipy>=1.6.0 in /usr/local/lib/python3.12/dist-packages (from scikit-learn) (1.16.2)\n",
            "Requirement already satisfied: joblib>=1.2.0 in /usr/local/lib/python3.12/dist-packages (from scikit-learn) (1.5.2)\n",
            "Requirement already satisfied: threadpoolctl>=3.1.0 in /usr/local/lib/python3.12/dist-packages (from scikit-learn) (3.6.0)\n",
            "Requirement already satisfied: contourpy>=1.0.1 in /usr/local/lib/python3.12/dist-packages (from matplotlib) (1.3.3)\n",
            "Requirement already satisfied: cycler>=0.10 in /usr/local/lib/python3.12/dist-packages (from matplotlib) (0.12.1)\n",
            "Requirement already satisfied: fonttools>=4.22.0 in /usr/local/lib/python3.12/dist-packages (from matplotlib) (4.60.1)\n",
            "Requirement already satisfied: kiwisolver>=1.3.1 in /usr/local/lib/python3.12/dist-packages (from matplotlib) (1.4.9)\n",
            "Requirement already satisfied: packaging>=20.0 in /usr/local/lib/python3.12/dist-packages (from matplotlib) (25.0)\n",
            "Requirement already satisfied: pillow>=8 in /usr/local/lib/python3.12/dist-packages (from matplotlib) (11.3.0)\n",
            "Requirement already satisfied: pyparsing>=2.3.1 in /usr/local/lib/python3.12/dist-packages (from matplotlib) (3.2.5)\n",
            "Requirement already satisfied: six>=1.5 in /usr/local/lib/python3.12/dist-packages (from python-dateutil>=2.8.2->pandas) (1.17.0)\n",
            "Requirement already satisfied: tqdm in /usr/local/lib/python3.12/dist-packages (4.67.1)\n"
          ]
        }
      ],
      "source": [
        "# --- Install required libraries ---\n",
        "!pip install torch\n",
        "!pip install numpy pandas scikit-learn matplotlib seaborn\n",
        "!pip install tqdm"
      ],
      "id": "fyfyzIzWbHTG"
    },
    {
      "cell_type": "code",
      "execution_count": 29,
      "metadata": {
        "id": "vZXgjER_TsGp"
      },
      "outputs": [],
      "source": [
        "# --- Import libraries ---\n",
        "import os\n",
        "import time\n",
        "import numpy as np\n",
        "import pandas as pd\n",
        "import matplotlib.pyplot as plt\n",
        "import seaborn as sns\n",
        "import json\n",
        "\n",
        "from sklearn.model_selection import train_test_split\n",
        "from sklearn.linear_model import LogisticRegression\n",
        "from sklearn.metrics import accuracy_score\n",
        "from sklearn.preprocessing import StandardScaler, MinMaxScaler, RobustScaler, LabelEncoder\n",
        "from sklearn.utils.class_weight import compute_class_weight\n",
        "from sklearn.metrics import classification_report, confusion_matrix, accuracy_score, f1_score, log_loss\n",
        "from sklearn.decomposition import PCA\n",
        "from sklearn.impute import SimpleImputer\n",
        "\n",
        "import torch\n",
        "import torch.nn as nn\n",
        "import torch.optim as optim\n",
        "from torch.utils.data import Dataset, DataLoader, TensorDataset\n",
        "\n",
        "from tqdm import tqdm"
      ],
      "id": "vZXgjER_TsGp"
    },
    {
      "cell_type": "markdown",
      "metadata": {
        "id": "w201oyWVxE9k"
      },
      "source": [
        "### Colab Pro"
      ],
      "id": "w201oyWVxE9k"
    },
    {
      "cell_type": "code",
      "execution_count": 4,
      "metadata": {
        "colab": {
          "base_uri": "https://localhost:8080/"
        },
        "id": "_kIggYNUxFuZ",
        "outputId": "69484be2-ce12-42cf-e105-81c2c7e222ff"
      },
      "outputs": [
        {
          "output_type": "stream",
          "name": "stdout",
          "text": [
            "/bin/bash: line 1: nvidia-smi: command not found\n"
          ]
        }
      ],
      "source": [
        "# --- Check GPU availability ---\n",
        "gpu_info = !nvidia-smi\n",
        "gpu_info = '\\n'.join(gpu_info)\n",
        "if gpu_info.find('failed') >= 0:\n",
        "  print('Not connected to a GPU')\n",
        "else:\n",
        "  print(gpu_info)"
      ],
      "id": "_kIggYNUxFuZ"
    },
    {
      "cell_type": "code",
      "execution_count": 5,
      "metadata": {
        "colab": {
          "base_uri": "https://localhost:8080/"
        },
        "id": "DH-w_NELxHpV",
        "outputId": "d3cf6488-eaa7-4cc5-c3dd-00a4a731123e"
      },
      "outputs": [
        {
          "output_type": "stream",
          "name": "stdout",
          "text": [
            "Your runtime has 13.6 gigabytes of available RAM\n",
            "\n",
            "Not using a high-RAM runtime\n"
          ]
        }
      ],
      "source": [
        "# --- Check RAM availability ---\n",
        "from psutil import virtual_memory\n",
        "ram_gb = virtual_memory().total / 1e9\n",
        "print('Your runtime has {:.1f} gigabytes of available RAM\\n'.format(ram_gb))\n",
        "\n",
        "if ram_gb < 20:\n",
        "  print('Not using a high-RAM runtime')\n",
        "else:\n",
        "  print('You are using a high-RAM runtime!')"
      ],
      "id": "DH-w_NELxHpV"
    },
    {
      "cell_type": "markdown",
      "metadata": {
        "id": "2rFNp6fgTv9w"
      },
      "source": [
        "### Paths setup\n"
      ],
      "id": "2rFNp6fgTv9w"
    },
    {
      "cell_type": "code",
      "execution_count": 6,
      "metadata": {
        "colab": {
          "base_uri": "https://localhost:8080/"
        },
        "id": "rAnAndzpTxe5",
        "outputId": "f9c0ec4d-be32-4ab9-edc1-78a92df04034"
      },
      "outputs": [
        {
          "output_type": "stream",
          "name": "stdout",
          "text": [
            "Mounted at /content/drive\n"
          ]
        }
      ],
      "source": [
        "# --- Mount Google Drive (for Google Colab users) ---\n",
        "from google.colab import drive\n",
        "drive.mount('/content/drive')"
      ],
      "id": "rAnAndzpTxe5"
    },
    {
      "cell_type": "code",
      "execution_count": 7,
      "metadata": {
        "colab": {
          "base_uri": "https://localhost:8080/"
        },
        "id": "XqMS_38yTvFN",
        "outputId": "4187958e-bdfc-4c6b-e586-6381f3a707db"
      },
      "outputs": [
        {
          "output_type": "stream",
          "name": "stdout",
          "text": [
            "Project path: /content/drive/MyDrive/Projects/AImSecure/Laboratory2/\n",
            "Data path: /content/drive/MyDrive/Projects/AImSecure/Laboratory2/data/\n",
            "Results path: /content/drive/MyDrive/Projects/AImSecure/Laboratory2/results/\n"
          ]
        }
      ],
      "source": [
        "# --- Define Paths ---\n",
        "group = 'AImSecure'\n",
        "laboratory = 'Laboratory2'\n",
        "\n",
        "base_path = '/content/drive/MyDrive/'\n",
        "project_path = base_path + f'Projects/{group}/{laboratory}/'\n",
        "data_path = project_path + 'data/'\n",
        "results_path = project_path + 'results/'\n",
        "\n",
        "# Ensure directories exist\n",
        "os.makedirs(project_path, exist_ok=True)\n",
        "os.makedirs(data_path, exist_ok=True)\n",
        "os.makedirs(results_path, exist_ok=True)\n",
        "\n",
        "print(f\"Project path: {project_path}\")\n",
        "print(f\"Data path: {data_path}\")\n",
        "print(f\"Results path: {results_path}\")"
      ],
      "id": "XqMS_38yTvFN"
    },
    {
      "cell_type": "code",
      "execution_count": 8,
      "metadata": {
        "id": "pi-G9FFHwZjK"
      },
      "outputs": [],
      "source": [
        "# --- Set visual style ---\n",
        "sns.set(style=\"whitegrid\", palette=\"muted\", font_scale=1.1)\n",
        "\n",
        "def save_plot(fig: plt.Figure, filename: str, path: str = \"./plots/\", fmt: str = \"png\", dpi: int = 300, close_fig: bool = False) -> None:\n",
        "    \"\"\"\n",
        "    Save a Matplotlib figure in a specific to a specified directory.\n",
        "\n",
        "    Args:\n",
        "        fig (plt.Figure): Matplotlib figure object to save.\n",
        "        filename (str): Name of the file to save (e.g., 'plot.png').\n",
        "        path (str, optional): Directory path to save the figure. Defaults to './plots/'.\n",
        "        fmt (str, optional): File format for the saved figure. Defaults to 'png'.\n",
        "        dpi (int, optional): Dots per inch for the saved figure. Defaults to 300.\n",
        "\n",
        "    Returns:\n",
        "        None\n",
        "    \"\"\"\n",
        "    # Ensure the directory exists\n",
        "    os.makedirs(path, exist_ok=True)\n",
        "    save_path = os.path.join(path, f\"{filename}.{fmt}\")\n",
        "\n",
        "    # Save the figure\n",
        "    fig.savefig(save_path, bbox_inches='tight', pad_inches=0.1, dpi=dpi, format=fmt)\n",
        "    # plt.close(fig) # Removed to display plots in notebook\n",
        "\n",
        "    if close_fig:\n",
        "        plt.close(fig)\n",
        "\n",
        "    print(f\"Saved plot: {save_path}\")"
      ],
      "id": "pi-G9FFHwZjK"
    },
    {
      "cell_type": "markdown",
      "metadata": {
        "id": "dswv2Je3UA5Y"
      },
      "source": [
        "## Task 1 — Frequency-based baseline\n",
        "\n",
        "We implement a simple frequency-based baseline.  \n",
        "- Transform sequences into feature vectors counting API call occurrences.  \n",
        "- Helps evaluate whether simple approaches already perform well before using complex models.\n"
      ],
      "id": "dswv2Je3UA5Y"
    },
    {
      "cell_type": "code",
      "source": [
        "# Create directory for plots\n",
        "save_dir = results_path + 'images/' + 'task1_plots/'\n",
        "os.makedirs(save_dir, exist_ok=True)"
      ],
      "metadata": {
        "id": "UbIMFRXuZxMB"
      },
      "id": "UbIMFRXuZxMB",
      "execution_count": 9,
      "outputs": []
    },
    {
      "cell_type": "markdown",
      "source": [
        "### Frequency-Based Approach\n",
        "\n",
        "- Extract vocabulary from train and test datasets.\n",
        "- Use vocabulary to create feature vectors (frequency counts per API call).\n",
        "- Output dataframe: one row per sequence, one column per API call."
      ],
      "metadata": {
        "id": "NA3pR682ci7a"
      },
      "id": "NA3pR682ci7a"
    },
    {
      "cell_type": "code",
      "source": [
        "# --- Load dataset and perform initial inspection ---\n",
        "\n",
        "# Train set\n",
        "file_path_train = data_path + 'train.json'\n",
        "df_train = pd.read_json(file_path_train)\n",
        "\n",
        "# Basic info\n",
        "print(\"Train set:\")\n",
        "print(\"  Shape (raw):\", df_train.shape)\n",
        "print(\"  Columns:\", list(df_train.columns))\n",
        "\n",
        "# Test set\n",
        "file_path_test = data_path + 'test.json'\n",
        "df_test = pd.read_json(file_path_test)\n",
        "\n",
        "# Basic info\n",
        "print(\"\\nTest set:\")\n",
        "print(\"  Shape (raw):\", df_test.shape)\n",
        "print(\"  Columns:\", list(df_test.columns))"
      ],
      "metadata": {
        "id": "h2r7Arn9lfrW",
        "colab": {
          "base_uri": "https://localhost:8080/"
        },
        "outputId": "69367c2b-5ac9-4ebb-d803-991139d5c6e7"
      },
      "id": "h2r7Arn9lfrW",
      "execution_count": 49,
      "outputs": [
        {
          "output_type": "stream",
          "name": "stdout",
          "text": [
            "Train set:\n",
            "  Shape (raw): (16325, 2)\n",
            "  Columns: ['api_call_sequence', 'is_malware']\n",
            "\n",
            "Test set:\n",
            "  Shape (raw): (6505, 2)\n",
            "  Columns: ['api_call_sequence', 'is_malware']\n"
          ]
        }
      ]
    },
    {
      "cell_type": "code",
      "source": [
        "df_train"
      ],
      "metadata": {
        "colab": {
          "base_uri": "https://localhost:8080/",
          "height": 419
        },
        "id": "kMkpSs3KpxU5",
        "outputId": "ddd90e96-f903-4a54-8e38-9df171fea318"
      },
      "id": "kMkpSs3KpxU5",
      "execution_count": 50,
      "outputs": [
        {
          "output_type": "execute_result",
          "data": {
            "text/plain": [
              "                                       api_call_sequence  is_malware\n",
              "0      [LdrGetDllHandle, LdrGetProcedureAddress, LdrL...           1\n",
              "1      [NtAllocateVirtualMemory, LdrLoadDll, LdrGetPr...           1\n",
              "2      [FindResourceExW, LoadResource, FindResourceEx...           1\n",
              "3      [FindResourceExW, LoadResource, FindResourceEx...           1\n",
              "4      [LdrGetProcedureAddress, SetErrorMode, LdrLoad...           1\n",
              "...                                                  ...         ...\n",
              "16320  [LdrGetProcedureAddress, LdrLoadDll, LdrGetPro...           1\n",
              "16321  [NtClose, LdrGetProcedureAddress, CryptCreateH...           1\n",
              "16322  [LdrGetProcedureAddress, LdrGetDllHandle, LdrG...           1\n",
              "16323  [LdrGetProcedureAddress, LdrGetDllHandle, LdrG...           1\n",
              "16324  [SetFilePointer, NtReadFile, SetFilePointer, N...           1\n",
              "\n",
              "[16325 rows x 2 columns]"
            ],
            "text/html": [
              "\n",
              "  <div id=\"df-8384d671-b918-4c3a-8bf5-edd645e02a1f\" class=\"colab-df-container\">\n",
              "    <div>\n",
              "<style scoped>\n",
              "    .dataframe tbody tr th:only-of-type {\n",
              "        vertical-align: middle;\n",
              "    }\n",
              "\n",
              "    .dataframe tbody tr th {\n",
              "        vertical-align: top;\n",
              "    }\n",
              "\n",
              "    .dataframe thead th {\n",
              "        text-align: right;\n",
              "    }\n",
              "</style>\n",
              "<table border=\"1\" class=\"dataframe\">\n",
              "  <thead>\n",
              "    <tr style=\"text-align: right;\">\n",
              "      <th></th>\n",
              "      <th>api_call_sequence</th>\n",
              "      <th>is_malware</th>\n",
              "    </tr>\n",
              "  </thead>\n",
              "  <tbody>\n",
              "    <tr>\n",
              "      <th>0</th>\n",
              "      <td>[LdrGetDllHandle, LdrGetProcedureAddress, LdrL...</td>\n",
              "      <td>1</td>\n",
              "    </tr>\n",
              "    <tr>\n",
              "      <th>1</th>\n",
              "      <td>[NtAllocateVirtualMemory, LdrLoadDll, LdrGetPr...</td>\n",
              "      <td>1</td>\n",
              "    </tr>\n",
              "    <tr>\n",
              "      <th>2</th>\n",
              "      <td>[FindResourceExW, LoadResource, FindResourceEx...</td>\n",
              "      <td>1</td>\n",
              "    </tr>\n",
              "    <tr>\n",
              "      <th>3</th>\n",
              "      <td>[FindResourceExW, LoadResource, FindResourceEx...</td>\n",
              "      <td>1</td>\n",
              "    </tr>\n",
              "    <tr>\n",
              "      <th>4</th>\n",
              "      <td>[LdrGetProcedureAddress, SetErrorMode, LdrLoad...</td>\n",
              "      <td>1</td>\n",
              "    </tr>\n",
              "    <tr>\n",
              "      <th>...</th>\n",
              "      <td>...</td>\n",
              "      <td>...</td>\n",
              "    </tr>\n",
              "    <tr>\n",
              "      <th>16320</th>\n",
              "      <td>[LdrGetProcedureAddress, LdrLoadDll, LdrGetPro...</td>\n",
              "      <td>1</td>\n",
              "    </tr>\n",
              "    <tr>\n",
              "      <th>16321</th>\n",
              "      <td>[NtClose, LdrGetProcedureAddress, CryptCreateH...</td>\n",
              "      <td>1</td>\n",
              "    </tr>\n",
              "    <tr>\n",
              "      <th>16322</th>\n",
              "      <td>[LdrGetProcedureAddress, LdrGetDllHandle, LdrG...</td>\n",
              "      <td>1</td>\n",
              "    </tr>\n",
              "    <tr>\n",
              "      <th>16323</th>\n",
              "      <td>[LdrGetProcedureAddress, LdrGetDllHandle, LdrG...</td>\n",
              "      <td>1</td>\n",
              "    </tr>\n",
              "    <tr>\n",
              "      <th>16324</th>\n",
              "      <td>[SetFilePointer, NtReadFile, SetFilePointer, N...</td>\n",
              "      <td>1</td>\n",
              "    </tr>\n",
              "  </tbody>\n",
              "</table>\n",
              "<p>16325 rows × 2 columns</p>\n",
              "</div>\n",
              "    <div class=\"colab-df-buttons\">\n",
              "\n",
              "  <div class=\"colab-df-container\">\n",
              "    <button class=\"colab-df-convert\" onclick=\"convertToInteractive('df-8384d671-b918-4c3a-8bf5-edd645e02a1f')\"\n",
              "            title=\"Convert this dataframe to an interactive table.\"\n",
              "            style=\"display:none;\">\n",
              "\n",
              "  <svg xmlns=\"http://www.w3.org/2000/svg\" height=\"24px\" viewBox=\"0 -960 960 960\">\n",
              "    <path d=\"M120-120v-720h720v720H120Zm60-500h600v-160H180v160Zm220 220h160v-160H400v160Zm0 220h160v-160H400v160ZM180-400h160v-160H180v160Zm440 0h160v-160H620v160ZM180-180h160v-160H180v160Zm440 0h160v-160H620v160Z\"/>\n",
              "  </svg>\n",
              "    </button>\n",
              "\n",
              "  <style>\n",
              "    .colab-df-container {\n",
              "      display:flex;\n",
              "      gap: 12px;\n",
              "    }\n",
              "\n",
              "    .colab-df-convert {\n",
              "      background-color: #E8F0FE;\n",
              "      border: none;\n",
              "      border-radius: 50%;\n",
              "      cursor: pointer;\n",
              "      display: none;\n",
              "      fill: #1967D2;\n",
              "      height: 32px;\n",
              "      padding: 0 0 0 0;\n",
              "      width: 32px;\n",
              "    }\n",
              "\n",
              "    .colab-df-convert:hover {\n",
              "      background-color: #E2EBFA;\n",
              "      box-shadow: 0px 1px 2px rgba(60, 64, 67, 0.3), 0px 1px 3px 1px rgba(60, 64, 67, 0.15);\n",
              "      fill: #174EA6;\n",
              "    }\n",
              "\n",
              "    .colab-df-buttons div {\n",
              "      margin-bottom: 4px;\n",
              "    }\n",
              "\n",
              "    [theme=dark] .colab-df-convert {\n",
              "      background-color: #3B4455;\n",
              "      fill: #D2E3FC;\n",
              "    }\n",
              "\n",
              "    [theme=dark] .colab-df-convert:hover {\n",
              "      background-color: #434B5C;\n",
              "      box-shadow: 0px 1px 3px 1px rgba(0, 0, 0, 0.15);\n",
              "      filter: drop-shadow(0px 1px 2px rgba(0, 0, 0, 0.3));\n",
              "      fill: #FFFFFF;\n",
              "    }\n",
              "  </style>\n",
              "\n",
              "    <script>\n",
              "      const buttonEl =\n",
              "        document.querySelector('#df-8384d671-b918-4c3a-8bf5-edd645e02a1f button.colab-df-convert');\n",
              "      buttonEl.style.display =\n",
              "        google.colab.kernel.accessAllowed ? 'block' : 'none';\n",
              "\n",
              "      async function convertToInteractive(key) {\n",
              "        const element = document.querySelector('#df-8384d671-b918-4c3a-8bf5-edd645e02a1f');\n",
              "        const dataTable =\n",
              "          await google.colab.kernel.invokeFunction('convertToInteractive',\n",
              "                                                    [key], {});\n",
              "        if (!dataTable) return;\n",
              "\n",
              "        const docLinkHtml = 'Like what you see? Visit the ' +\n",
              "          '<a target=\"_blank\" href=https://colab.research.google.com/notebooks/data_table.ipynb>data table notebook</a>'\n",
              "          + ' to learn more about interactive tables.';\n",
              "        element.innerHTML = '';\n",
              "        dataTable['output_type'] = 'display_data';\n",
              "        await google.colab.output.renderOutput(dataTable, element);\n",
              "        const docLink = document.createElement('div');\n",
              "        docLink.innerHTML = docLinkHtml;\n",
              "        element.appendChild(docLink);\n",
              "      }\n",
              "    </script>\n",
              "  </div>\n",
              "\n",
              "\n",
              "    <div id=\"df-12a43a1d-837b-409c-ba8e-9b9a821dd14c\">\n",
              "      <button class=\"colab-df-quickchart\" onclick=\"quickchart('df-12a43a1d-837b-409c-ba8e-9b9a821dd14c')\"\n",
              "                title=\"Suggest charts\"\n",
              "                style=\"display:none;\">\n",
              "\n",
              "<svg xmlns=\"http://www.w3.org/2000/svg\" height=\"24px\"viewBox=\"0 0 24 24\"\n",
              "     width=\"24px\">\n",
              "    <g>\n",
              "        <path d=\"M19 3H5c-1.1 0-2 .9-2 2v14c0 1.1.9 2 2 2h14c1.1 0 2-.9 2-2V5c0-1.1-.9-2-2-2zM9 17H7v-7h2v7zm4 0h-2V7h2v10zm4 0h-2v-4h2v4z\"/>\n",
              "    </g>\n",
              "</svg>\n",
              "      </button>\n",
              "\n",
              "<style>\n",
              "  .colab-df-quickchart {\n",
              "      --bg-color: #E8F0FE;\n",
              "      --fill-color: #1967D2;\n",
              "      --hover-bg-color: #E2EBFA;\n",
              "      --hover-fill-color: #174EA6;\n",
              "      --disabled-fill-color: #AAA;\n",
              "      --disabled-bg-color: #DDD;\n",
              "  }\n",
              "\n",
              "  [theme=dark] .colab-df-quickchart {\n",
              "      --bg-color: #3B4455;\n",
              "      --fill-color: #D2E3FC;\n",
              "      --hover-bg-color: #434B5C;\n",
              "      --hover-fill-color: #FFFFFF;\n",
              "      --disabled-bg-color: #3B4455;\n",
              "      --disabled-fill-color: #666;\n",
              "  }\n",
              "\n",
              "  .colab-df-quickchart {\n",
              "    background-color: var(--bg-color);\n",
              "    border: none;\n",
              "    border-radius: 50%;\n",
              "    cursor: pointer;\n",
              "    display: none;\n",
              "    fill: var(--fill-color);\n",
              "    height: 32px;\n",
              "    padding: 0;\n",
              "    width: 32px;\n",
              "  }\n",
              "\n",
              "  .colab-df-quickchart:hover {\n",
              "    background-color: var(--hover-bg-color);\n",
              "    box-shadow: 0 1px 2px rgba(60, 64, 67, 0.3), 0 1px 3px 1px rgba(60, 64, 67, 0.15);\n",
              "    fill: var(--button-hover-fill-color);\n",
              "  }\n",
              "\n",
              "  .colab-df-quickchart-complete:disabled,\n",
              "  .colab-df-quickchart-complete:disabled:hover {\n",
              "    background-color: var(--disabled-bg-color);\n",
              "    fill: var(--disabled-fill-color);\n",
              "    box-shadow: none;\n",
              "  }\n",
              "\n",
              "  .colab-df-spinner {\n",
              "    border: 2px solid var(--fill-color);\n",
              "    border-color: transparent;\n",
              "    border-bottom-color: var(--fill-color);\n",
              "    animation:\n",
              "      spin 1s steps(1) infinite;\n",
              "  }\n",
              "\n",
              "  @keyframes spin {\n",
              "    0% {\n",
              "      border-color: transparent;\n",
              "      border-bottom-color: var(--fill-color);\n",
              "      border-left-color: var(--fill-color);\n",
              "    }\n",
              "    20% {\n",
              "      border-color: transparent;\n",
              "      border-left-color: var(--fill-color);\n",
              "      border-top-color: var(--fill-color);\n",
              "    }\n",
              "    30% {\n",
              "      border-color: transparent;\n",
              "      border-left-color: var(--fill-color);\n",
              "      border-top-color: var(--fill-color);\n",
              "      border-right-color: var(--fill-color);\n",
              "    }\n",
              "    40% {\n",
              "      border-color: transparent;\n",
              "      border-right-color: var(--fill-color);\n",
              "      border-top-color: var(--fill-color);\n",
              "    }\n",
              "    60% {\n",
              "      border-color: transparent;\n",
              "      border-right-color: var(--fill-color);\n",
              "    }\n",
              "    80% {\n",
              "      border-color: transparent;\n",
              "      border-right-color: var(--fill-color);\n",
              "      border-bottom-color: var(--fill-color);\n",
              "    }\n",
              "    90% {\n",
              "      border-color: transparent;\n",
              "      border-bottom-color: var(--fill-color);\n",
              "    }\n",
              "  }\n",
              "</style>\n",
              "\n",
              "      <script>\n",
              "        async function quickchart(key) {\n",
              "          const quickchartButtonEl =\n",
              "            document.querySelector('#' + key + ' button');\n",
              "          quickchartButtonEl.disabled = true;  // To prevent multiple clicks.\n",
              "          quickchartButtonEl.classList.add('colab-df-spinner');\n",
              "          try {\n",
              "            const charts = await google.colab.kernel.invokeFunction(\n",
              "                'suggestCharts', [key], {});\n",
              "          } catch (error) {\n",
              "            console.error('Error during call to suggestCharts:', error);\n",
              "          }\n",
              "          quickchartButtonEl.classList.remove('colab-df-spinner');\n",
              "          quickchartButtonEl.classList.add('colab-df-quickchart-complete');\n",
              "        }\n",
              "        (() => {\n",
              "          let quickchartButtonEl =\n",
              "            document.querySelector('#df-12a43a1d-837b-409c-ba8e-9b9a821dd14c button');\n",
              "          quickchartButtonEl.style.display =\n",
              "            google.colab.kernel.accessAllowed ? 'block' : 'none';\n",
              "        })();\n",
              "      </script>\n",
              "    </div>\n",
              "\n",
              "  <div id=\"id_6e37a793-1dbb-4b14-b012-e2033209dbb0\">\n",
              "    <style>\n",
              "      .colab-df-generate {\n",
              "        background-color: #E8F0FE;\n",
              "        border: none;\n",
              "        border-radius: 50%;\n",
              "        cursor: pointer;\n",
              "        display: none;\n",
              "        fill: #1967D2;\n",
              "        height: 32px;\n",
              "        padding: 0 0 0 0;\n",
              "        width: 32px;\n",
              "      }\n",
              "\n",
              "      .colab-df-generate:hover {\n",
              "        background-color: #E2EBFA;\n",
              "        box-shadow: 0px 1px 2px rgba(60, 64, 67, 0.3), 0px 1px 3px 1px rgba(60, 64, 67, 0.15);\n",
              "        fill: #174EA6;\n",
              "      }\n",
              "\n",
              "      [theme=dark] .colab-df-generate {\n",
              "        background-color: #3B4455;\n",
              "        fill: #D2E3FC;\n",
              "      }\n",
              "\n",
              "      [theme=dark] .colab-df-generate:hover {\n",
              "        background-color: #434B5C;\n",
              "        box-shadow: 0px 1px 3px 1px rgba(0, 0, 0, 0.15);\n",
              "        filter: drop-shadow(0px 1px 2px rgba(0, 0, 0, 0.3));\n",
              "        fill: #FFFFFF;\n",
              "      }\n",
              "    </style>\n",
              "    <button class=\"colab-df-generate\" onclick=\"generateWithVariable('df_train')\"\n",
              "            title=\"Generate code using this dataframe.\"\n",
              "            style=\"display:none;\">\n",
              "\n",
              "  <svg xmlns=\"http://www.w3.org/2000/svg\" height=\"24px\"viewBox=\"0 0 24 24\"\n",
              "       width=\"24px\">\n",
              "    <path d=\"M7,19H8.4L18.45,9,17,7.55,7,17.6ZM5,21V16.75L18.45,3.32a2,2,0,0,1,2.83,0l1.4,1.43a1.91,1.91,0,0,1,.58,1.4,1.91,1.91,0,0,1-.58,1.4L9.25,21ZM18.45,9,17,7.55Zm-12,3A5.31,5.31,0,0,0,4.9,8.1,5.31,5.31,0,0,0,1,6.5,5.31,5.31,0,0,0,4.9,4.9,5.31,5.31,0,0,0,6.5,1,5.31,5.31,0,0,0,8.1,4.9,5.31,5.31,0,0,0,12,6.5,5.46,5.46,0,0,0,6.5,12Z\"/>\n",
              "  </svg>\n",
              "    </button>\n",
              "    <script>\n",
              "      (() => {\n",
              "      const buttonEl =\n",
              "        document.querySelector('#id_6e37a793-1dbb-4b14-b012-e2033209dbb0 button.colab-df-generate');\n",
              "      buttonEl.style.display =\n",
              "        google.colab.kernel.accessAllowed ? 'block' : 'none';\n",
              "\n",
              "      buttonEl.onclick = () => {\n",
              "        google.colab.notebook.generateWithVariable('df_train');\n",
              "      }\n",
              "      })();\n",
              "    </script>\n",
              "  </div>\n",
              "\n",
              "    </div>\n",
              "  </div>\n"
            ],
            "application/vnd.google.colaboratory.intrinsic+json": {
              "type": "dataframe",
              "variable_name": "df_train",
              "summary": "{\n  \"name\": \"df_train\",\n  \"rows\": 16325,\n  \"fields\": [\n    {\n      \"column\": \"api_call_sequence\",\n      \"properties\": {\n        \"dtype\": \"object\",\n        \"semantic_type\": \"\",\n        \"description\": \"\"\n      }\n    },\n    {\n      \"column\": \"is_malware\",\n      \"properties\": {\n        \"dtype\": \"number\",\n        \"std\": 0,\n        \"min\": 0,\n        \"max\": 1,\n        \"num_unique_values\": 2,\n        \"samples\": [\n          0,\n          1\n        ],\n        \"semantic_type\": \"\",\n        \"description\": \"\"\n      }\n    }\n  ]\n}"
            }
          },
          "metadata": {},
          "execution_count": 50
        }
      ]
    },
    {
      "cell_type": "code",
      "source": [
        "df_test"
      ],
      "metadata": {
        "colab": {
          "base_uri": "https://localhost:8080/",
          "height": 419
        },
        "id": "zdIsZvF0rYkR",
        "outputId": "c9ea9cc2-86fb-4af7-a741-4e3d2f5e8752"
      },
      "id": "zdIsZvF0rYkR",
      "execution_count": 51,
      "outputs": [
        {
          "output_type": "execute_result",
          "data": {
            "text/plain": [
              "                                      api_call_sequence  is_malware\n",
              "0     [NtQueryValueKey, NtClose, NtOpenKey, NtQueryV...           1\n",
              "1     [LdrGetProcedureAddress, NtClose, NtOpenKey, N...           1\n",
              "2     [NtOpenKey, NtQueryValueKey, NtClose, NtOpenKe...           1\n",
              "3     [NtAllocateVirtualMemory, LdrLoadDll, LdrGetPr...           1\n",
              "4     [NtOpenKey, NtQueryValueKey, NtClose, LdrGetPr...           1\n",
              "...                                                 ...         ...\n",
              "6500  [SetErrorMode, NtOpenFile, NtClose, SHGetFolde...           0\n",
              "6501  [NtProtectVirtualMemory, RegOpenKeyExW, RegQue...           1\n",
              "6502  [RegOpenKeyExW, RegQueryValueExW, RegCloseKey,...           1\n",
              "6503  [NtQueryValueKey, NtClose, RegOpenKeyExA, RegQ...           1\n",
              "6504  [NtClose, LdrGetProcedureAddress, CryptCreateH...           1\n",
              "\n",
              "[6505 rows x 2 columns]"
            ],
            "text/html": [
              "\n",
              "  <div id=\"df-5f677c70-ee01-4364-9461-49f956369533\" class=\"colab-df-container\">\n",
              "    <div>\n",
              "<style scoped>\n",
              "    .dataframe tbody tr th:only-of-type {\n",
              "        vertical-align: middle;\n",
              "    }\n",
              "\n",
              "    .dataframe tbody tr th {\n",
              "        vertical-align: top;\n",
              "    }\n",
              "\n",
              "    .dataframe thead th {\n",
              "        text-align: right;\n",
              "    }\n",
              "</style>\n",
              "<table border=\"1\" class=\"dataframe\">\n",
              "  <thead>\n",
              "    <tr style=\"text-align: right;\">\n",
              "      <th></th>\n",
              "      <th>api_call_sequence</th>\n",
              "      <th>is_malware</th>\n",
              "    </tr>\n",
              "  </thead>\n",
              "  <tbody>\n",
              "    <tr>\n",
              "      <th>0</th>\n",
              "      <td>[NtQueryValueKey, NtClose, NtOpenKey, NtQueryV...</td>\n",
              "      <td>1</td>\n",
              "    </tr>\n",
              "    <tr>\n",
              "      <th>1</th>\n",
              "      <td>[LdrGetProcedureAddress, NtClose, NtOpenKey, N...</td>\n",
              "      <td>1</td>\n",
              "    </tr>\n",
              "    <tr>\n",
              "      <th>2</th>\n",
              "      <td>[NtOpenKey, NtQueryValueKey, NtClose, NtOpenKe...</td>\n",
              "      <td>1</td>\n",
              "    </tr>\n",
              "    <tr>\n",
              "      <th>3</th>\n",
              "      <td>[NtAllocateVirtualMemory, LdrLoadDll, LdrGetPr...</td>\n",
              "      <td>1</td>\n",
              "    </tr>\n",
              "    <tr>\n",
              "      <th>4</th>\n",
              "      <td>[NtOpenKey, NtQueryValueKey, NtClose, LdrGetPr...</td>\n",
              "      <td>1</td>\n",
              "    </tr>\n",
              "    <tr>\n",
              "      <th>...</th>\n",
              "      <td>...</td>\n",
              "      <td>...</td>\n",
              "    </tr>\n",
              "    <tr>\n",
              "      <th>6500</th>\n",
              "      <td>[SetErrorMode, NtOpenFile, NtClose, SHGetFolde...</td>\n",
              "      <td>0</td>\n",
              "    </tr>\n",
              "    <tr>\n",
              "      <th>6501</th>\n",
              "      <td>[NtProtectVirtualMemory, RegOpenKeyExW, RegQue...</td>\n",
              "      <td>1</td>\n",
              "    </tr>\n",
              "    <tr>\n",
              "      <th>6502</th>\n",
              "      <td>[RegOpenKeyExW, RegQueryValueExW, RegCloseKey,...</td>\n",
              "      <td>1</td>\n",
              "    </tr>\n",
              "    <tr>\n",
              "      <th>6503</th>\n",
              "      <td>[NtQueryValueKey, NtClose, RegOpenKeyExA, RegQ...</td>\n",
              "      <td>1</td>\n",
              "    </tr>\n",
              "    <tr>\n",
              "      <th>6504</th>\n",
              "      <td>[NtClose, LdrGetProcedureAddress, CryptCreateH...</td>\n",
              "      <td>1</td>\n",
              "    </tr>\n",
              "  </tbody>\n",
              "</table>\n",
              "<p>6505 rows × 2 columns</p>\n",
              "</div>\n",
              "    <div class=\"colab-df-buttons\">\n",
              "\n",
              "  <div class=\"colab-df-container\">\n",
              "    <button class=\"colab-df-convert\" onclick=\"convertToInteractive('df-5f677c70-ee01-4364-9461-49f956369533')\"\n",
              "            title=\"Convert this dataframe to an interactive table.\"\n",
              "            style=\"display:none;\">\n",
              "\n",
              "  <svg xmlns=\"http://www.w3.org/2000/svg\" height=\"24px\" viewBox=\"0 -960 960 960\">\n",
              "    <path d=\"M120-120v-720h720v720H120Zm60-500h600v-160H180v160Zm220 220h160v-160H400v160Zm0 220h160v-160H400v160ZM180-400h160v-160H180v160Zm440 0h160v-160H620v160ZM180-180h160v-160H180v160Zm440 0h160v-160H620v160Z\"/>\n",
              "  </svg>\n",
              "    </button>\n",
              "\n",
              "  <style>\n",
              "    .colab-df-container {\n",
              "      display:flex;\n",
              "      gap: 12px;\n",
              "    }\n",
              "\n",
              "    .colab-df-convert {\n",
              "      background-color: #E8F0FE;\n",
              "      border: none;\n",
              "      border-radius: 50%;\n",
              "      cursor: pointer;\n",
              "      display: none;\n",
              "      fill: #1967D2;\n",
              "      height: 32px;\n",
              "      padding: 0 0 0 0;\n",
              "      width: 32px;\n",
              "    }\n",
              "\n",
              "    .colab-df-convert:hover {\n",
              "      background-color: #E2EBFA;\n",
              "      box-shadow: 0px 1px 2px rgba(60, 64, 67, 0.3), 0px 1px 3px 1px rgba(60, 64, 67, 0.15);\n",
              "      fill: #174EA6;\n",
              "    }\n",
              "\n",
              "    .colab-df-buttons div {\n",
              "      margin-bottom: 4px;\n",
              "    }\n",
              "\n",
              "    [theme=dark] .colab-df-convert {\n",
              "      background-color: #3B4455;\n",
              "      fill: #D2E3FC;\n",
              "    }\n",
              "\n",
              "    [theme=dark] .colab-df-convert:hover {\n",
              "      background-color: #434B5C;\n",
              "      box-shadow: 0px 1px 3px 1px rgba(0, 0, 0, 0.15);\n",
              "      filter: drop-shadow(0px 1px 2px rgba(0, 0, 0, 0.3));\n",
              "      fill: #FFFFFF;\n",
              "    }\n",
              "  </style>\n",
              "\n",
              "    <script>\n",
              "      const buttonEl =\n",
              "        document.querySelector('#df-5f677c70-ee01-4364-9461-49f956369533 button.colab-df-convert');\n",
              "      buttonEl.style.display =\n",
              "        google.colab.kernel.accessAllowed ? 'block' : 'none';\n",
              "\n",
              "      async function convertToInteractive(key) {\n",
              "        const element = document.querySelector('#df-5f677c70-ee01-4364-9461-49f956369533');\n",
              "        const dataTable =\n",
              "          await google.colab.kernel.invokeFunction('convertToInteractive',\n",
              "                                                    [key], {});\n",
              "        if (!dataTable) return;\n",
              "\n",
              "        const docLinkHtml = 'Like what you see? Visit the ' +\n",
              "          '<a target=\"_blank\" href=https://colab.research.google.com/notebooks/data_table.ipynb>data table notebook</a>'\n",
              "          + ' to learn more about interactive tables.';\n",
              "        element.innerHTML = '';\n",
              "        dataTable['output_type'] = 'display_data';\n",
              "        await google.colab.output.renderOutput(dataTable, element);\n",
              "        const docLink = document.createElement('div');\n",
              "        docLink.innerHTML = docLinkHtml;\n",
              "        element.appendChild(docLink);\n",
              "      }\n",
              "    </script>\n",
              "  </div>\n",
              "\n",
              "\n",
              "    <div id=\"df-548deb96-24c6-4f8b-ae4c-6b5d61d58cbc\">\n",
              "      <button class=\"colab-df-quickchart\" onclick=\"quickchart('df-548deb96-24c6-4f8b-ae4c-6b5d61d58cbc')\"\n",
              "                title=\"Suggest charts\"\n",
              "                style=\"display:none;\">\n",
              "\n",
              "<svg xmlns=\"http://www.w3.org/2000/svg\" height=\"24px\"viewBox=\"0 0 24 24\"\n",
              "     width=\"24px\">\n",
              "    <g>\n",
              "        <path d=\"M19 3H5c-1.1 0-2 .9-2 2v14c0 1.1.9 2 2 2h14c1.1 0 2-.9 2-2V5c0-1.1-.9-2-2-2zM9 17H7v-7h2v7zm4 0h-2V7h2v10zm4 0h-2v-4h2v4z\"/>\n",
              "    </g>\n",
              "</svg>\n",
              "      </button>\n",
              "\n",
              "<style>\n",
              "  .colab-df-quickchart {\n",
              "      --bg-color: #E8F0FE;\n",
              "      --fill-color: #1967D2;\n",
              "      --hover-bg-color: #E2EBFA;\n",
              "      --hover-fill-color: #174EA6;\n",
              "      --disabled-fill-color: #AAA;\n",
              "      --disabled-bg-color: #DDD;\n",
              "  }\n",
              "\n",
              "  [theme=dark] .colab-df-quickchart {\n",
              "      --bg-color: #3B4455;\n",
              "      --fill-color: #D2E3FC;\n",
              "      --hover-bg-color: #434B5C;\n",
              "      --hover-fill-color: #FFFFFF;\n",
              "      --disabled-bg-color: #3B4455;\n",
              "      --disabled-fill-color: #666;\n",
              "  }\n",
              "\n",
              "  .colab-df-quickchart {\n",
              "    background-color: var(--bg-color);\n",
              "    border: none;\n",
              "    border-radius: 50%;\n",
              "    cursor: pointer;\n",
              "    display: none;\n",
              "    fill: var(--fill-color);\n",
              "    height: 32px;\n",
              "    padding: 0;\n",
              "    width: 32px;\n",
              "  }\n",
              "\n",
              "  .colab-df-quickchart:hover {\n",
              "    background-color: var(--hover-bg-color);\n",
              "    box-shadow: 0 1px 2px rgba(60, 64, 67, 0.3), 0 1px 3px 1px rgba(60, 64, 67, 0.15);\n",
              "    fill: var(--button-hover-fill-color);\n",
              "  }\n",
              "\n",
              "  .colab-df-quickchart-complete:disabled,\n",
              "  .colab-df-quickchart-complete:disabled:hover {\n",
              "    background-color: var(--disabled-bg-color);\n",
              "    fill: var(--disabled-fill-color);\n",
              "    box-shadow: none;\n",
              "  }\n",
              "\n",
              "  .colab-df-spinner {\n",
              "    border: 2px solid var(--fill-color);\n",
              "    border-color: transparent;\n",
              "    border-bottom-color: var(--fill-color);\n",
              "    animation:\n",
              "      spin 1s steps(1) infinite;\n",
              "  }\n",
              "\n",
              "  @keyframes spin {\n",
              "    0% {\n",
              "      border-color: transparent;\n",
              "      border-bottom-color: var(--fill-color);\n",
              "      border-left-color: var(--fill-color);\n",
              "    }\n",
              "    20% {\n",
              "      border-color: transparent;\n",
              "      border-left-color: var(--fill-color);\n",
              "      border-top-color: var(--fill-color);\n",
              "    }\n",
              "    30% {\n",
              "      border-color: transparent;\n",
              "      border-left-color: var(--fill-color);\n",
              "      border-top-color: var(--fill-color);\n",
              "      border-right-color: var(--fill-color);\n",
              "    }\n",
              "    40% {\n",
              "      border-color: transparent;\n",
              "      border-right-color: var(--fill-color);\n",
              "      border-top-color: var(--fill-color);\n",
              "    }\n",
              "    60% {\n",
              "      border-color: transparent;\n",
              "      border-right-color: var(--fill-color);\n",
              "    }\n",
              "    80% {\n",
              "      border-color: transparent;\n",
              "      border-right-color: var(--fill-color);\n",
              "      border-bottom-color: var(--fill-color);\n",
              "    }\n",
              "    90% {\n",
              "      border-color: transparent;\n",
              "      border-bottom-color: var(--fill-color);\n",
              "    }\n",
              "  }\n",
              "</style>\n",
              "\n",
              "      <script>\n",
              "        async function quickchart(key) {\n",
              "          const quickchartButtonEl =\n",
              "            document.querySelector('#' + key + ' button');\n",
              "          quickchartButtonEl.disabled = true;  // To prevent multiple clicks.\n",
              "          quickchartButtonEl.classList.add('colab-df-spinner');\n",
              "          try {\n",
              "            const charts = await google.colab.kernel.invokeFunction(\n",
              "                'suggestCharts', [key], {});\n",
              "          } catch (error) {\n",
              "            console.error('Error during call to suggestCharts:', error);\n",
              "          }\n",
              "          quickchartButtonEl.classList.remove('colab-df-spinner');\n",
              "          quickchartButtonEl.classList.add('colab-df-quickchart-complete');\n",
              "        }\n",
              "        (() => {\n",
              "          let quickchartButtonEl =\n",
              "            document.querySelector('#df-548deb96-24c6-4f8b-ae4c-6b5d61d58cbc button');\n",
              "          quickchartButtonEl.style.display =\n",
              "            google.colab.kernel.accessAllowed ? 'block' : 'none';\n",
              "        })();\n",
              "      </script>\n",
              "    </div>\n",
              "\n",
              "  <div id=\"id_c5c1695b-261a-417e-935b-c8a83ae9174a\">\n",
              "    <style>\n",
              "      .colab-df-generate {\n",
              "        background-color: #E8F0FE;\n",
              "        border: none;\n",
              "        border-radius: 50%;\n",
              "        cursor: pointer;\n",
              "        display: none;\n",
              "        fill: #1967D2;\n",
              "        height: 32px;\n",
              "        padding: 0 0 0 0;\n",
              "        width: 32px;\n",
              "      }\n",
              "\n",
              "      .colab-df-generate:hover {\n",
              "        background-color: #E2EBFA;\n",
              "        box-shadow: 0px 1px 2px rgba(60, 64, 67, 0.3), 0px 1px 3px 1px rgba(60, 64, 67, 0.15);\n",
              "        fill: #174EA6;\n",
              "      }\n",
              "\n",
              "      [theme=dark] .colab-df-generate {\n",
              "        background-color: #3B4455;\n",
              "        fill: #D2E3FC;\n",
              "      }\n",
              "\n",
              "      [theme=dark] .colab-df-generate:hover {\n",
              "        background-color: #434B5C;\n",
              "        box-shadow: 0px 1px 3px 1px rgba(0, 0, 0, 0.15);\n",
              "        filter: drop-shadow(0px 1px 2px rgba(0, 0, 0, 0.3));\n",
              "        fill: #FFFFFF;\n",
              "      }\n",
              "    </style>\n",
              "    <button class=\"colab-df-generate\" onclick=\"generateWithVariable('df_test')\"\n",
              "            title=\"Generate code using this dataframe.\"\n",
              "            style=\"display:none;\">\n",
              "\n",
              "  <svg xmlns=\"http://www.w3.org/2000/svg\" height=\"24px\"viewBox=\"0 0 24 24\"\n",
              "       width=\"24px\">\n",
              "    <path d=\"M7,19H8.4L18.45,9,17,7.55,7,17.6ZM5,21V16.75L18.45,3.32a2,2,0,0,1,2.83,0l1.4,1.43a1.91,1.91,0,0,1,.58,1.4,1.91,1.91,0,0,1-.58,1.4L9.25,21ZM18.45,9,17,7.55Zm-12,3A5.31,5.31,0,0,0,4.9,8.1,5.31,5.31,0,0,0,1,6.5,5.31,5.31,0,0,0,4.9,4.9,5.31,5.31,0,0,0,6.5,1,5.31,5.31,0,0,0,8.1,4.9,5.31,5.31,0,0,0,12,6.5,5.46,5.46,0,0,0,6.5,12Z\"/>\n",
              "  </svg>\n",
              "    </button>\n",
              "    <script>\n",
              "      (() => {\n",
              "      const buttonEl =\n",
              "        document.querySelector('#id_c5c1695b-261a-417e-935b-c8a83ae9174a button.colab-df-generate');\n",
              "      buttonEl.style.display =\n",
              "        google.colab.kernel.accessAllowed ? 'block' : 'none';\n",
              "\n",
              "      buttonEl.onclick = () => {\n",
              "        google.colab.notebook.generateWithVariable('df_test');\n",
              "      }\n",
              "      })();\n",
              "    </script>\n",
              "  </div>\n",
              "\n",
              "    </div>\n",
              "  </div>\n"
            ],
            "application/vnd.google.colaboratory.intrinsic+json": {
              "type": "dataframe",
              "variable_name": "df_test",
              "summary": "{\n  \"name\": \"df_test\",\n  \"rows\": 6505,\n  \"fields\": [\n    {\n      \"column\": \"api_call_sequence\",\n      \"properties\": {\n        \"dtype\": \"object\",\n        \"semantic_type\": \"\",\n        \"description\": \"\"\n      }\n    },\n    {\n      \"column\": \"is_malware\",\n      \"properties\": {\n        \"dtype\": \"number\",\n        \"std\": 0,\n        \"min\": 0,\n        \"max\": 1,\n        \"num_unique_values\": 2,\n        \"samples\": [\n          0,\n          1\n        ],\n        \"semantic_type\": \"\",\n        \"description\": \"\"\n      }\n    }\n  ]\n}"
            }
          },
          "metadata": {},
          "execution_count": 51
        }
      ]
    },
    {
      "cell_type": "markdown",
      "source": [
        "### Extract the vocabularies"
      ],
      "metadata": {
        "id": "SItC6NaJlciX"
      },
      "id": "SItC6NaJlciX"
    },
    {
      "cell_type": "code",
      "source": [
        "# --- Extract vocabulary from training set ---\n",
        "train_vocab = set(api_call for seq in df_train['api_call_sequence'] for api_call in seq)\n",
        "\n",
        "# --- Count unique API calls ---\n",
        "print(f\"Train: {len(train_vocab)}\")"
      ],
      "metadata": {
        "colab": {
          "base_uri": "https://localhost:8080/"
        },
        "id": "Z047DQ9srCw-",
        "outputId": "b6e8b10a-2824-4ae5-cb81-cf2537ee0f43"
      },
      "id": "Z047DQ9srCw-",
      "execution_count": 52,
      "outputs": [
        {
          "output_type": "stream",
          "name": "stdout",
          "text": [
            "Train: 258\n"
          ]
        }
      ]
    },
    {
      "cell_type": "code",
      "source": [
        "# --- Extract vocabulary from test set ---\n",
        "test_vocab = set(api_call for seq in df_test['api_call_sequence'] for api_call in seq)\n",
        "\n",
        "# --- Count unique API calls ---\n",
        "print(f\"Test: {len(test_vocab)}\")"
      ],
      "metadata": {
        "colab": {
          "base_uri": "https://localhost:8080/"
        },
        "id": "8R5NE501r_O2",
        "outputId": "d8319484-3322-4288-f02f-739f66d53b40"
      },
      "id": "8R5NE501r_O2",
      "execution_count": 53,
      "outputs": [
        {
          "output_type": "stream",
          "name": "stdout",
          "text": [
            "Test: 232\n"
          ]
        }
      ]
    },
    {
      "cell_type": "markdown",
      "source": [
        "#### Q: How many unique API calls does the training set contain? How many in the test set?\n",
        "\n",
        "*   Train set: 258\n",
        "*   Test set: 232"
      ],
      "metadata": {
        "id": "gKR2C5nZa-9q"
      },
      "id": "gKR2C5nZa-9q"
    },
    {
      "cell_type": "code",
      "source": [
        "# --- Find API calls only in the train set ---\n",
        "only_in_train = train_vocab - test_vocab\n",
        "\n",
        "# --- Count and print them ---\n",
        "print(f\"Number of API calls only in train set: {len(only_in_train)}\")\n",
        "print(\"API calls only in train set:\", only_in_train)"
      ],
      "metadata": {
        "colab": {
          "base_uri": "https://localhost:8080/"
        },
        "id": "niFLaTCeNfwf",
        "outputId": "eeae6e58-ff87-4ae5-ace4-0692a6a108ab"
      },
      "id": "niFLaTCeNfwf",
      "execution_count": 54,
      "outputs": [
        {
          "output_type": "stream",
          "name": "stdout",
          "text": [
            "Number of API calls only in train set: 29\n",
            "API calls only in train set: {'InternetReadFile', 'RtlRemoveVectoredExceptionHandler', 'RegDeleteKeyA', 'CryptProtectMemory', 'NetUserGetLocalGroups', 'GetAddrInfoW', 'InternetSetStatusCallback', 'WSASocketW', 'NtDeleteFile', 'NtLoadKey', 'sendto', 'CryptDecodeObjectEx', 'ObtainUserAgentString', 'GetUserNameExA', 'NetUserGetInfo', 'SendNotifyMessageW', 'CertOpenSystemStoreW', 'CreateRemoteThread', 'GetKeyboardState', 'NtReadVirtualMemory', 'GetFileInformationByHandleEx', 'listen', 'FindFirstFileExA', 'CertOpenStore', 'NtWriteVirtualMemory', 'InternetOpenUrlW', 'recvfrom', 'IWbemServices_ExecMethod', 'GetUserNameExW'}\n"
          ]
        }
      ]
    },
    {
      "cell_type": "code",
      "source": [
        "# --- Find API calls only in the test set ---\n",
        "only_in_test = test_vocab - train_vocab\n",
        "\n",
        "# --- Count and print them ---\n",
        "print(f\"Number of API calls only in test set: {len(only_in_test)}\")\n",
        "print(\"API calls only in test set:\", only_in_test)"
      ],
      "metadata": {
        "colab": {
          "base_uri": "https://localhost:8080/"
        },
        "id": "jPqKVaMjt2dp",
        "outputId": "97c80022-d5ad-478d-871b-b920b24bbcd2"
      },
      "id": "jPqKVaMjt2dp",
      "execution_count": 55,
      "outputs": [
        {
          "output_type": "stream",
          "name": "stdout",
          "text": [
            "Number of API calls only in test set: 3\n",
            "API calls only in test set: {'NtDeleteKey', 'ControlService', 'WSASocketA'}\n"
          ]
        }
      ]
    },
    {
      "cell_type": "markdown",
      "source": [
        "#### Q: Are there any API calls that appear only in the test set (but not in the training set)? If yes, how many? Which ones?\n",
        "\n",
        "Number of API calls only in test set: 3\n",
        "\n",
        "API calls only in test set: {'WSASocketA', 'ControlService', 'NtDeleteKey'}\n"
      ],
      "metadata": {
        "id": "VFaqFS8bbAKH"
      },
      "id": "VFaqFS8bbAKH"
    },
    {
      "cell_type": "markdown",
      "source": [
        "### New frequency-based dataframes\n",
        "\n",
        "- Create dataframe using training vocabulary as features.\n",
        "- Count occurrences of each API call per sequence."
      ],
      "metadata": {
        "id": "950319IfljRh"
      },
      "id": "950319IfljRh"
    },
    {
      "cell_type": "code",
      "source": [
        "# --- Create frequency-based dataframe for training data ---\n",
        "train_df_freq = pd.DataFrame([{api: seq.count(api) for api in train_vocab} for seq in df_train['api_call_sequence']])\n",
        "display(train_df_freq.head())"
      ],
      "metadata": {
        "id": "M6zhlfEnnj5-",
        "colab": {
          "base_uri": "https://localhost:8080/",
          "height": 253
        },
        "outputId": "28abeeff-6386-4d63-c470-3bb987e10a6c"
      },
      "id": "M6zhlfEnnj5-",
      "execution_count": 56,
      "outputs": [
        {
          "output_type": "display_data",
          "data": {
            "text/plain": [
              "   FindResourceW  SHGetSpecialFolderLocation  IWbemServices_ExecQuery  \\\n",
              "0              0                           0                        0   \n",
              "1              0                           0                        0   \n",
              "2              0                           0                        0   \n",
              "3              0                           0                        0   \n",
              "4              0                           0                        0   \n",
              "\n",
              "   InternetCrackUrlA  NtQuerySystemInformation  Module32NextW  SetStdHandle  \\\n",
              "0                  0                         0              0             0   \n",
              "1                  0                         1              0             0   \n",
              "2                  0                         0              0             0   \n",
              "3                  0                         0              0             0   \n",
              "4                  0                         0              0             0   \n",
              "\n",
              "   RegDeleteKeyA  InternetSetOptionA  SetErrorMode  ...  RegQueryInfoKeyW  \\\n",
              "0              0                   0             3  ...                 0   \n",
              "1              0                   0             0  ...                 0   \n",
              "2              0                   0             2  ...                 0   \n",
              "3              0                   0             0  ...                 0   \n",
              "4              0                   0             2  ...                 0   \n",
              "\n",
              "   HttpOpenRequestW  CopyFileW  CryptExportKey  RemoveDirectoryA  \\\n",
              "0                 0          0               0                 0   \n",
              "1                 0          0               0                 0   \n",
              "2                 0          0               0                 0   \n",
              "3                 0          0               0                 0   \n",
              "4                 0          0               0                 0   \n",
              "\n",
              "   OpenSCManagerW  GetShortPathNameW  NtWriteVirtualMemory  \\\n",
              "0               0                  0                     0   \n",
              "1               0                  0                     0   \n",
              "2               0                  0                     0   \n",
              "3               0                  0                     0   \n",
              "4               0                  0                     0   \n",
              "\n",
              "   LdrGetProcedureAddress  NtOpenKey  \n",
              "0                      16          0  \n",
              "1                      10         14  \n",
              "2                      10          0  \n",
              "3                       6          0  \n",
              "4                      10          0  \n",
              "\n",
              "[5 rows x 258 columns]"
            ],
            "text/html": [
              "\n",
              "  <div id=\"df-dff5742e-dee7-43ec-9ea5-3e36796bcf05\" class=\"colab-df-container\">\n",
              "    <div>\n",
              "<style scoped>\n",
              "    .dataframe tbody tr th:only-of-type {\n",
              "        vertical-align: middle;\n",
              "    }\n",
              "\n",
              "    .dataframe tbody tr th {\n",
              "        vertical-align: top;\n",
              "    }\n",
              "\n",
              "    .dataframe thead th {\n",
              "        text-align: right;\n",
              "    }\n",
              "</style>\n",
              "<table border=\"1\" class=\"dataframe\">\n",
              "  <thead>\n",
              "    <tr style=\"text-align: right;\">\n",
              "      <th></th>\n",
              "      <th>FindResourceW</th>\n",
              "      <th>SHGetSpecialFolderLocation</th>\n",
              "      <th>IWbemServices_ExecQuery</th>\n",
              "      <th>InternetCrackUrlA</th>\n",
              "      <th>NtQuerySystemInformation</th>\n",
              "      <th>Module32NextW</th>\n",
              "      <th>SetStdHandle</th>\n",
              "      <th>RegDeleteKeyA</th>\n",
              "      <th>InternetSetOptionA</th>\n",
              "      <th>SetErrorMode</th>\n",
              "      <th>...</th>\n",
              "      <th>RegQueryInfoKeyW</th>\n",
              "      <th>HttpOpenRequestW</th>\n",
              "      <th>CopyFileW</th>\n",
              "      <th>CryptExportKey</th>\n",
              "      <th>RemoveDirectoryA</th>\n",
              "      <th>OpenSCManagerW</th>\n",
              "      <th>GetShortPathNameW</th>\n",
              "      <th>NtWriteVirtualMemory</th>\n",
              "      <th>LdrGetProcedureAddress</th>\n",
              "      <th>NtOpenKey</th>\n",
              "    </tr>\n",
              "  </thead>\n",
              "  <tbody>\n",
              "    <tr>\n",
              "      <th>0</th>\n",
              "      <td>0</td>\n",
              "      <td>0</td>\n",
              "      <td>0</td>\n",
              "      <td>0</td>\n",
              "      <td>0</td>\n",
              "      <td>0</td>\n",
              "      <td>0</td>\n",
              "      <td>0</td>\n",
              "      <td>0</td>\n",
              "      <td>3</td>\n",
              "      <td>...</td>\n",
              "      <td>0</td>\n",
              "      <td>0</td>\n",
              "      <td>0</td>\n",
              "      <td>0</td>\n",
              "      <td>0</td>\n",
              "      <td>0</td>\n",
              "      <td>0</td>\n",
              "      <td>0</td>\n",
              "      <td>16</td>\n",
              "      <td>0</td>\n",
              "    </tr>\n",
              "    <tr>\n",
              "      <th>1</th>\n",
              "      <td>0</td>\n",
              "      <td>0</td>\n",
              "      <td>0</td>\n",
              "      <td>0</td>\n",
              "      <td>1</td>\n",
              "      <td>0</td>\n",
              "      <td>0</td>\n",
              "      <td>0</td>\n",
              "      <td>0</td>\n",
              "      <td>0</td>\n",
              "      <td>...</td>\n",
              "      <td>0</td>\n",
              "      <td>0</td>\n",
              "      <td>0</td>\n",
              "      <td>0</td>\n",
              "      <td>0</td>\n",
              "      <td>0</td>\n",
              "      <td>0</td>\n",
              "      <td>0</td>\n",
              "      <td>10</td>\n",
              "      <td>14</td>\n",
              "    </tr>\n",
              "    <tr>\n",
              "      <th>2</th>\n",
              "      <td>0</td>\n",
              "      <td>0</td>\n",
              "      <td>0</td>\n",
              "      <td>0</td>\n",
              "      <td>0</td>\n",
              "      <td>0</td>\n",
              "      <td>0</td>\n",
              "      <td>0</td>\n",
              "      <td>0</td>\n",
              "      <td>2</td>\n",
              "      <td>...</td>\n",
              "      <td>0</td>\n",
              "      <td>0</td>\n",
              "      <td>0</td>\n",
              "      <td>0</td>\n",
              "      <td>0</td>\n",
              "      <td>0</td>\n",
              "      <td>0</td>\n",
              "      <td>0</td>\n",
              "      <td>10</td>\n",
              "      <td>0</td>\n",
              "    </tr>\n",
              "    <tr>\n",
              "      <th>3</th>\n",
              "      <td>0</td>\n",
              "      <td>0</td>\n",
              "      <td>0</td>\n",
              "      <td>0</td>\n",
              "      <td>0</td>\n",
              "      <td>0</td>\n",
              "      <td>0</td>\n",
              "      <td>0</td>\n",
              "      <td>0</td>\n",
              "      <td>0</td>\n",
              "      <td>...</td>\n",
              "      <td>0</td>\n",
              "      <td>0</td>\n",
              "      <td>0</td>\n",
              "      <td>0</td>\n",
              "      <td>0</td>\n",
              "      <td>0</td>\n",
              "      <td>0</td>\n",
              "      <td>0</td>\n",
              "      <td>6</td>\n",
              "      <td>0</td>\n",
              "    </tr>\n",
              "    <tr>\n",
              "      <th>4</th>\n",
              "      <td>0</td>\n",
              "      <td>0</td>\n",
              "      <td>0</td>\n",
              "      <td>0</td>\n",
              "      <td>0</td>\n",
              "      <td>0</td>\n",
              "      <td>0</td>\n",
              "      <td>0</td>\n",
              "      <td>0</td>\n",
              "      <td>2</td>\n",
              "      <td>...</td>\n",
              "      <td>0</td>\n",
              "      <td>0</td>\n",
              "      <td>0</td>\n",
              "      <td>0</td>\n",
              "      <td>0</td>\n",
              "      <td>0</td>\n",
              "      <td>0</td>\n",
              "      <td>0</td>\n",
              "      <td>10</td>\n",
              "      <td>0</td>\n",
              "    </tr>\n",
              "  </tbody>\n",
              "</table>\n",
              "<p>5 rows × 258 columns</p>\n",
              "</div>\n",
              "    <div class=\"colab-df-buttons\">\n",
              "\n",
              "  <div class=\"colab-df-container\">\n",
              "    <button class=\"colab-df-convert\" onclick=\"convertToInteractive('df-dff5742e-dee7-43ec-9ea5-3e36796bcf05')\"\n",
              "            title=\"Convert this dataframe to an interactive table.\"\n",
              "            style=\"display:none;\">\n",
              "\n",
              "  <svg xmlns=\"http://www.w3.org/2000/svg\" height=\"24px\" viewBox=\"0 -960 960 960\">\n",
              "    <path d=\"M120-120v-720h720v720H120Zm60-500h600v-160H180v160Zm220 220h160v-160H400v160Zm0 220h160v-160H400v160ZM180-400h160v-160H180v160Zm440 0h160v-160H620v160ZM180-180h160v-160H180v160Zm440 0h160v-160H620v160Z\"/>\n",
              "  </svg>\n",
              "    </button>\n",
              "\n",
              "  <style>\n",
              "    .colab-df-container {\n",
              "      display:flex;\n",
              "      gap: 12px;\n",
              "    }\n",
              "\n",
              "    .colab-df-convert {\n",
              "      background-color: #E8F0FE;\n",
              "      border: none;\n",
              "      border-radius: 50%;\n",
              "      cursor: pointer;\n",
              "      display: none;\n",
              "      fill: #1967D2;\n",
              "      height: 32px;\n",
              "      padding: 0 0 0 0;\n",
              "      width: 32px;\n",
              "    }\n",
              "\n",
              "    .colab-df-convert:hover {\n",
              "      background-color: #E2EBFA;\n",
              "      box-shadow: 0px 1px 2px rgba(60, 64, 67, 0.3), 0px 1px 3px 1px rgba(60, 64, 67, 0.15);\n",
              "      fill: #174EA6;\n",
              "    }\n",
              "\n",
              "    .colab-df-buttons div {\n",
              "      margin-bottom: 4px;\n",
              "    }\n",
              "\n",
              "    [theme=dark] .colab-df-convert {\n",
              "      background-color: #3B4455;\n",
              "      fill: #D2E3FC;\n",
              "    }\n",
              "\n",
              "    [theme=dark] .colab-df-convert:hover {\n",
              "      background-color: #434B5C;\n",
              "      box-shadow: 0px 1px 3px 1px rgba(0, 0, 0, 0.15);\n",
              "      filter: drop-shadow(0px 1px 2px rgba(0, 0, 0, 0.3));\n",
              "      fill: #FFFFFF;\n",
              "    }\n",
              "  </style>\n",
              "\n",
              "    <script>\n",
              "      const buttonEl =\n",
              "        document.querySelector('#df-dff5742e-dee7-43ec-9ea5-3e36796bcf05 button.colab-df-convert');\n",
              "      buttonEl.style.display =\n",
              "        google.colab.kernel.accessAllowed ? 'block' : 'none';\n",
              "\n",
              "      async function convertToInteractive(key) {\n",
              "        const element = document.querySelector('#df-dff5742e-dee7-43ec-9ea5-3e36796bcf05');\n",
              "        const dataTable =\n",
              "          await google.colab.kernel.invokeFunction('convertToInteractive',\n",
              "                                                    [key], {});\n",
              "        if (!dataTable) return;\n",
              "\n",
              "        const docLinkHtml = 'Like what you see? Visit the ' +\n",
              "          '<a target=\"_blank\" href=https://colab.research.google.com/notebooks/data_table.ipynb>data table notebook</a>'\n",
              "          + ' to learn more about interactive tables.';\n",
              "        element.innerHTML = '';\n",
              "        dataTable['output_type'] = 'display_data';\n",
              "        await google.colab.output.renderOutput(dataTable, element);\n",
              "        const docLink = document.createElement('div');\n",
              "        docLink.innerHTML = docLinkHtml;\n",
              "        element.appendChild(docLink);\n",
              "      }\n",
              "    </script>\n",
              "  </div>\n",
              "\n",
              "\n",
              "    <div id=\"df-95858c94-a8e5-43bc-9231-3e98cce5700d\">\n",
              "      <button class=\"colab-df-quickchart\" onclick=\"quickchart('df-95858c94-a8e5-43bc-9231-3e98cce5700d')\"\n",
              "                title=\"Suggest charts\"\n",
              "                style=\"display:none;\">\n",
              "\n",
              "<svg xmlns=\"http://www.w3.org/2000/svg\" height=\"24px\"viewBox=\"0 0 24 24\"\n",
              "     width=\"24px\">\n",
              "    <g>\n",
              "        <path d=\"M19 3H5c-1.1 0-2 .9-2 2v14c0 1.1.9 2 2 2h14c1.1 0 2-.9 2-2V5c0-1.1-.9-2-2-2zM9 17H7v-7h2v7zm4 0h-2V7h2v10zm4 0h-2v-4h2v4z\"/>\n",
              "    </g>\n",
              "</svg>\n",
              "      </button>\n",
              "\n",
              "<style>\n",
              "  .colab-df-quickchart {\n",
              "      --bg-color: #E8F0FE;\n",
              "      --fill-color: #1967D2;\n",
              "      --hover-bg-color: #E2EBFA;\n",
              "      --hover-fill-color: #174EA6;\n",
              "      --disabled-fill-color: #AAA;\n",
              "      --disabled-bg-color: #DDD;\n",
              "  }\n",
              "\n",
              "  [theme=dark] .colab-df-quickchart {\n",
              "      --bg-color: #3B4455;\n",
              "      --fill-color: #D2E3FC;\n",
              "      --hover-bg-color: #434B5C;\n",
              "      --hover-fill-color: #FFFFFF;\n",
              "      --disabled-bg-color: #3B4455;\n",
              "      --disabled-fill-color: #666;\n",
              "  }\n",
              "\n",
              "  .colab-df-quickchart {\n",
              "    background-color: var(--bg-color);\n",
              "    border: none;\n",
              "    border-radius: 50%;\n",
              "    cursor: pointer;\n",
              "    display: none;\n",
              "    fill: var(--fill-color);\n",
              "    height: 32px;\n",
              "    padding: 0;\n",
              "    width: 32px;\n",
              "  }\n",
              "\n",
              "  .colab-df-quickchart:hover {\n",
              "    background-color: var(--hover-bg-color);\n",
              "    box-shadow: 0 1px 2px rgba(60, 64, 67, 0.3), 0 1px 3px 1px rgba(60, 64, 67, 0.15);\n",
              "    fill: var(--button-hover-fill-color);\n",
              "  }\n",
              "\n",
              "  .colab-df-quickchart-complete:disabled,\n",
              "  .colab-df-quickchart-complete:disabled:hover {\n",
              "    background-color: var(--disabled-bg-color);\n",
              "    fill: var(--disabled-fill-color);\n",
              "    box-shadow: none;\n",
              "  }\n",
              "\n",
              "  .colab-df-spinner {\n",
              "    border: 2px solid var(--fill-color);\n",
              "    border-color: transparent;\n",
              "    border-bottom-color: var(--fill-color);\n",
              "    animation:\n",
              "      spin 1s steps(1) infinite;\n",
              "  }\n",
              "\n",
              "  @keyframes spin {\n",
              "    0% {\n",
              "      border-color: transparent;\n",
              "      border-bottom-color: var(--fill-color);\n",
              "      border-left-color: var(--fill-color);\n",
              "    }\n",
              "    20% {\n",
              "      border-color: transparent;\n",
              "      border-left-color: var(--fill-color);\n",
              "      border-top-color: var(--fill-color);\n",
              "    }\n",
              "    30% {\n",
              "      border-color: transparent;\n",
              "      border-left-color: var(--fill-color);\n",
              "      border-top-color: var(--fill-color);\n",
              "      border-right-color: var(--fill-color);\n",
              "    }\n",
              "    40% {\n",
              "      border-color: transparent;\n",
              "      border-right-color: var(--fill-color);\n",
              "      border-top-color: var(--fill-color);\n",
              "    }\n",
              "    60% {\n",
              "      border-color: transparent;\n",
              "      border-right-color: var(--fill-color);\n",
              "    }\n",
              "    80% {\n",
              "      border-color: transparent;\n",
              "      border-right-color: var(--fill-color);\n",
              "      border-bottom-color: var(--fill-color);\n",
              "    }\n",
              "    90% {\n",
              "      border-color: transparent;\n",
              "      border-bottom-color: var(--fill-color);\n",
              "    }\n",
              "  }\n",
              "</style>\n",
              "\n",
              "      <script>\n",
              "        async function quickchart(key) {\n",
              "          const quickchartButtonEl =\n",
              "            document.querySelector('#' + key + ' button');\n",
              "          quickchartButtonEl.disabled = true;  // To prevent multiple clicks.\n",
              "          quickchartButtonEl.classList.add('colab-df-spinner');\n",
              "          try {\n",
              "            const charts = await google.colab.kernel.invokeFunction(\n",
              "                'suggestCharts', [key], {});\n",
              "          } catch (error) {\n",
              "            console.error('Error during call to suggestCharts:', error);\n",
              "          }\n",
              "          quickchartButtonEl.classList.remove('colab-df-spinner');\n",
              "          quickchartButtonEl.classList.add('colab-df-quickchart-complete');\n",
              "        }\n",
              "        (() => {\n",
              "          let quickchartButtonEl =\n",
              "            document.querySelector('#df-95858c94-a8e5-43bc-9231-3e98cce5700d button');\n",
              "          quickchartButtonEl.style.display =\n",
              "            google.colab.kernel.accessAllowed ? 'block' : 'none';\n",
              "        })();\n",
              "      </script>\n",
              "    </div>\n",
              "\n",
              "    </div>\n",
              "  </div>\n"
            ],
            "application/vnd.google.colaboratory.intrinsic+json": {
              "type": "dataframe"
            }
          },
          "metadata": {}
        }
      ]
    },
    {
      "cell_type": "code",
      "source": [
        "# Dataframe characteristics\n",
        "print(\"Shape (raw):\", train_df_freq.shape)\n",
        "print(\"Columns:\", list(train_df_freq.columns))"
      ],
      "metadata": {
        "colab": {
          "base_uri": "https://localhost:8080/"
        },
        "id": "NtkEuhscta4h",
        "outputId": "d99409d9-6419-4e82-fec8-4a896848442b"
      },
      "id": "NtkEuhscta4h",
      "execution_count": 57,
      "outputs": [
        {
          "output_type": "stream",
          "name": "stdout",
          "text": [
            "Shape (raw): (16325, 258)\n",
            "Columns: ['FindResourceW', 'SHGetSpecialFolderLocation', 'IWbemServices_ExecQuery', 'InternetCrackUrlA', 'NtQuerySystemInformation', 'Module32NextW', 'SetStdHandle', 'RegDeleteKeyA', 'InternetSetOptionA', 'SetErrorMode', 'CreateActCtxW', 'GetTempPathW', 'GetSystemTimeAsFileTime', 'CoInitializeEx', 'CryptAcquireContextW', 'RegCreateKeyExA', 'GetDiskFreeSpaceExW', 'GetFileType', 'WriteProcessMemory', 'NtWriteFile', 'GetUserNameA', 'CryptGenKey', 'GetFileInformationByHandle', 'ReadProcessMemory', 'WriteConsoleA', 'GetFileAttributesExW', 'DeleteFileW', 'GetSystemInfo', 'NtResumeThread', 'InternetQueryOptionA', 'RegDeleteKeyW', 'NetUserGetInfo', 'LdrUnloadDll', 'GetAdaptersAddresses', 'GetSystemDirectoryW', 'recv', 'OutputDebugStringA', 'FindWindowExA', 'SearchPathW', 'WSAStartup', 'GetFileVersionInfoExW', 'CoCreateInstance', 'GetDiskFreeSpaceW', 'GetVolumeNameForVolumeMountPointW', 'NtDuplicateObject', 'MessageBoxTimeoutW', 'FindWindowW', 'NtOpenKeyEx', 'Process32FirstW', 'InternetOpenUrlW', 'IWbemServices_ExecMethod', 'RegOpenKeyExW', 'LdrGetDllHandle', 'LdrLoadDll', 'SetFilePointer', 'GetUserNameW', 'CoCreateInstanceEx', 'InternetOpenW', 'RegQueryInfoKeyA', 'NtAllocateVirtualMemory', 'StartServiceW', 'CreateProcessInternalW', 'socket', 'NtCreateMutant', 'GlobalMemoryStatus', 'send', 'NtQueryValueKey', 'setsockopt', 'InternetCloseHandle', 'DrawTextExA', 'GetSystemMetrics', 'NtSetValueKey', '__exception__', 'RegEnumValueA', 'GetFileVersionInfoSizeW', 'CreateJobObjectW', 'CreateDirectoryW', 'GetAddrInfoW', 'RegSetValueExA', 'NtOpenDirectoryObject', 'CryptAcquireContextA', 'CopyFileExW', 'CryptCreateHash', 'NtLoadKey', 'NtReadFile', 'NtSetInformationFile', 'GetSystemWindowsDirectoryA', 'GetVolumePathNameW', 'SetWindowsHookExA', 'SizeofResource', 'CryptDecrypt', 'CryptEncrypt', 'RegDeleteValueA', 'CryptHashData', 'CoUninitialize', 'NtGetContextThread', 'RemoveDirectoryW', 'GetAsyncKeyState', 'EnumWindows', 'WSARecv', 'NtDelayExecution', 'RegCloseKey', 'RegDeleteValueW', 'RegisterHotKey', 'SendNotifyMessageW', 'GetFileVersionInfoSizeExW', 'NtSetContextThread', 'DnsQuery_A', 'RegOpenKeyExA', 'select', 'OpenServiceW', 'GetTimeZoneInformation', 'gethostbyname', 'timeGetTime', 'LoadStringA', 'InternetOpenA', 'NtUnmapViewOfSection', 'GetComputerNameA', 'GetFileInformationByHandleEx', 'GetVolumePathNamesForVolumeNameW', 'FindWindowA', 'CreateThread', 'GetNativeSystemInfo', 'NtQueryInformationFile', 'ShellExecuteExW', 'FindResourceExA', 'GetComputerNameW', 'CoGetClassObject', 'CopyFileA', 'GetUserNameExW', 'CreateToolhelp32Snapshot', 'getsockname', 'DeleteUrlCacheEntryW', 'LoadStringW', 'GetKeyState', 'CryptProtectMemory', 'GetFileSizeEx', 'closesocket', 'NtClose', 'RegQueryValueExW', 'MessageBoxTimeoutA', 'UnhookWindowsHookEx', 'DeviceIoControl', 'GetFileVersionInfoW', 'NtCreateFile', 'RegSetValueExW', 'MoveFileWithProgressW', 'GetSystemDirectoryA', 'Thread32Next', 'InternetSetStatusCallback', 'WSASocketW', 'sendto', 'NtOpenThread', 'NtEnumerateValueKey', 'DeleteUrlCacheEntryA', 'FindFirstFileExW', 'CryptDecodeObjectEx', 'FindResourceA', 'GetBestInterfaceEx', 'Module32FirstW', 'RegEnumKeyExW', 'NtCreateSection', 'CreateServiceA', 'GetUserNameExA', 'CryptProtectData', 'SetFileAttributesW', 'StartServiceA', 'FindWindowExW', 'SetUnhandledExceptionFilter', 'RtlAddVectoredExceptionHandler', 'HttpOpenRequestA', 'RegCreateKeyExW', 'RtlDecompressBuffer', 'CreateRemoteThread', 'NtMapViewOfSection', 'NtSuspendThread', 'SetEndOfFile', 'NtReadVirtualMemory', 'NtQueryAttributesFile', 'listen', 'FindFirstFileExA', 'CertOpenStore', 'IsDebuggerPresent', 'UuidCreate', 'NtCreateKey', 'InternetCrackUrlW', 'NtTerminateProcess', 'getaddrinfo', 'GetSystemWindowsDirectoryW', 'InternetGetConnectedState', 'recvfrom', 'SetWindowsHookExW', 'NtFreeVirtualMemory', 'NtCreateThreadEx', 'OpenServiceA', 'CoInitializeSecurity', 'InternetReadFile', 'SHGetFolderPathW', 'RtlRemoveVectoredExceptionHandler', 'HttpSendRequestA', 'NtTerminateThread', 'ioctlsocket', 'NtProtectVirtualMemory', 'Thread32First', 'NtOpenMutant', 'NtOpenSection', 'InternetConnectW', 'RegEnumKeyExA', 'NtDeviceIoControlFile', 'RegEnumKeyW', 'GetCursorPos', 'NtEnumerateKey', 'NetUserGetLocalGroups', 'SetFileTime', 'Process32NextW', 'LookupAccountSidW', 'SetFilePointerEx', 'GetForegroundWindow', 'HttpQueryInfoA', 'connect', 'NtDeleteFile', 'WriteConsoleW', 'FindResourceExW', 'LookupPrivilegeValueW', 'NtOpenFile', 'EnumServicesStatusA', 'bind', 'ObtainUserAgentString', 'NtQueryKey', 'OleInitialize', 'InternetConnectA', 'OpenSCManagerA', 'NtOpenProcess', 'RegEnumValueW', 'GetFileSize', 'shutdown', 'InternetOpenUrlA', 'DrawTextExW', 'GetAdaptersInfo', 'RegQueryValueExA', 'GlobalMemoryStatusEx', 'CreateServiceW', 'CertOpenSystemStoreW', 'GetFileAttributesW', 'NtQueueApcThread', 'GetKeyboardState', 'LoadResource', 'NtQueryDirectoryFile', 'RegQueryInfoKeyW', 'HttpOpenRequestW', 'CopyFileW', 'CryptExportKey', 'RemoveDirectoryA', 'OpenSCManagerW', 'GetShortPathNameW', 'NtWriteVirtualMemory', 'LdrGetProcedureAddress', 'NtOpenKey']\n"
          ]
        }
      ]
    },
    {
      "cell_type": "code",
      "source": [
        "# --- Create frequency-based dataframe for test data ---\n",
        "test_df_freq = pd.DataFrame([{api: seq.count(api) for api in test_vocab} for seq in df_test['api_call_sequence']])\n",
        "display(test_df_freq.head())"
      ],
      "metadata": {
        "colab": {
          "base_uri": "https://localhost:8080/",
          "height": 253
        },
        "id": "65yJsj1wtm17",
        "outputId": "9e7102ec-6b80-4bdd-c2f0-62877b6e1a4b"
      },
      "id": "65yJsj1wtm17",
      "execution_count": 58,
      "outputs": [
        {
          "output_type": "display_data",
          "data": {
            "text/plain": [
              "   FindResourceW  IWbemServices_ExecQuery  SHGetSpecialFolderLocation  \\\n",
              "0              0                        0                           0   \n",
              "1              0                        0                           0   \n",
              "2              0                        0                           0   \n",
              "3              0                        0                           0   \n",
              "4              1                        0                           0   \n",
              "\n",
              "   InternetCrackUrlA  NtQuerySystemInformation  Module32NextW  SetStdHandle  \\\n",
              "0                  0                         0              0             0   \n",
              "1                  0                         0              0             0   \n",
              "2                  0                         0              0             0   \n",
              "3                  0                         0              0             0   \n",
              "4                  0                         0              0             0   \n",
              "\n",
              "   InternetSetOptionA  CreateActCtxW  SetErrorMode  ...  NtQueryDirectoryFile  \\\n",
              "0                   0              1             0  ...                     0   \n",
              "1                   0              0             0  ...                     0   \n",
              "2                   0              0             3  ...                     0   \n",
              "3                   0              0             0  ...                     0   \n",
              "4                   0              0             0  ...                     0   \n",
              "\n",
              "   RegQueryInfoKeyW  HttpOpenRequestW  CopyFileW  CryptExportKey  \\\n",
              "0                 0                 0          0               0   \n",
              "1                 0                 0          0               0   \n",
              "2                 0                 0          0               0   \n",
              "3                 0                 0          0               0   \n",
              "4                 2                 0          0               0   \n",
              "\n",
              "   RemoveDirectoryA  OpenSCManagerW  GetShortPathNameW  \\\n",
              "0                 0               0                  0   \n",
              "1                 0               0                  0   \n",
              "2                 0               0                  0   \n",
              "3                 0               0                  0   \n",
              "4                 0               0                  0   \n",
              "\n",
              "   LdrGetProcedureAddress  NtOpenKey  \n",
              "0                       9          1  \n",
              "1                      11          2  \n",
              "2                      21          3  \n",
              "3                      14          1  \n",
              "4                       5          1  \n",
              "\n",
              "[5 rows x 232 columns]"
            ],
            "text/html": [
              "\n",
              "  <div id=\"df-bc60d4e4-3263-4870-83c0-51dc8ecaaf8a\" class=\"colab-df-container\">\n",
              "    <div>\n",
              "<style scoped>\n",
              "    .dataframe tbody tr th:only-of-type {\n",
              "        vertical-align: middle;\n",
              "    }\n",
              "\n",
              "    .dataframe tbody tr th {\n",
              "        vertical-align: top;\n",
              "    }\n",
              "\n",
              "    .dataframe thead th {\n",
              "        text-align: right;\n",
              "    }\n",
              "</style>\n",
              "<table border=\"1\" class=\"dataframe\">\n",
              "  <thead>\n",
              "    <tr style=\"text-align: right;\">\n",
              "      <th></th>\n",
              "      <th>FindResourceW</th>\n",
              "      <th>IWbemServices_ExecQuery</th>\n",
              "      <th>SHGetSpecialFolderLocation</th>\n",
              "      <th>InternetCrackUrlA</th>\n",
              "      <th>NtQuerySystemInformation</th>\n",
              "      <th>Module32NextW</th>\n",
              "      <th>SetStdHandle</th>\n",
              "      <th>InternetSetOptionA</th>\n",
              "      <th>CreateActCtxW</th>\n",
              "      <th>SetErrorMode</th>\n",
              "      <th>...</th>\n",
              "      <th>NtQueryDirectoryFile</th>\n",
              "      <th>RegQueryInfoKeyW</th>\n",
              "      <th>HttpOpenRequestW</th>\n",
              "      <th>CopyFileW</th>\n",
              "      <th>CryptExportKey</th>\n",
              "      <th>RemoveDirectoryA</th>\n",
              "      <th>OpenSCManagerW</th>\n",
              "      <th>GetShortPathNameW</th>\n",
              "      <th>LdrGetProcedureAddress</th>\n",
              "      <th>NtOpenKey</th>\n",
              "    </tr>\n",
              "  </thead>\n",
              "  <tbody>\n",
              "    <tr>\n",
              "      <th>0</th>\n",
              "      <td>0</td>\n",
              "      <td>0</td>\n",
              "      <td>0</td>\n",
              "      <td>0</td>\n",
              "      <td>0</td>\n",
              "      <td>0</td>\n",
              "      <td>0</td>\n",
              "      <td>0</td>\n",
              "      <td>1</td>\n",
              "      <td>0</td>\n",
              "      <td>...</td>\n",
              "      <td>0</td>\n",
              "      <td>0</td>\n",
              "      <td>0</td>\n",
              "      <td>0</td>\n",
              "      <td>0</td>\n",
              "      <td>0</td>\n",
              "      <td>0</td>\n",
              "      <td>0</td>\n",
              "      <td>9</td>\n",
              "      <td>1</td>\n",
              "    </tr>\n",
              "    <tr>\n",
              "      <th>1</th>\n",
              "      <td>0</td>\n",
              "      <td>0</td>\n",
              "      <td>0</td>\n",
              "      <td>0</td>\n",
              "      <td>0</td>\n",
              "      <td>0</td>\n",
              "      <td>0</td>\n",
              "      <td>0</td>\n",
              "      <td>0</td>\n",
              "      <td>0</td>\n",
              "      <td>...</td>\n",
              "      <td>0</td>\n",
              "      <td>0</td>\n",
              "      <td>0</td>\n",
              "      <td>0</td>\n",
              "      <td>0</td>\n",
              "      <td>0</td>\n",
              "      <td>0</td>\n",
              "      <td>0</td>\n",
              "      <td>11</td>\n",
              "      <td>2</td>\n",
              "    </tr>\n",
              "    <tr>\n",
              "      <th>2</th>\n",
              "      <td>0</td>\n",
              "      <td>0</td>\n",
              "      <td>0</td>\n",
              "      <td>0</td>\n",
              "      <td>0</td>\n",
              "      <td>0</td>\n",
              "      <td>0</td>\n",
              "      <td>0</td>\n",
              "      <td>0</td>\n",
              "      <td>3</td>\n",
              "      <td>...</td>\n",
              "      <td>0</td>\n",
              "      <td>0</td>\n",
              "      <td>0</td>\n",
              "      <td>0</td>\n",
              "      <td>0</td>\n",
              "      <td>0</td>\n",
              "      <td>0</td>\n",
              "      <td>0</td>\n",
              "      <td>21</td>\n",
              "      <td>3</td>\n",
              "    </tr>\n",
              "    <tr>\n",
              "      <th>3</th>\n",
              "      <td>0</td>\n",
              "      <td>0</td>\n",
              "      <td>0</td>\n",
              "      <td>0</td>\n",
              "      <td>0</td>\n",
              "      <td>0</td>\n",
              "      <td>0</td>\n",
              "      <td>0</td>\n",
              "      <td>0</td>\n",
              "      <td>0</td>\n",
              "      <td>...</td>\n",
              "      <td>0</td>\n",
              "      <td>0</td>\n",
              "      <td>0</td>\n",
              "      <td>0</td>\n",
              "      <td>0</td>\n",
              "      <td>0</td>\n",
              "      <td>0</td>\n",
              "      <td>0</td>\n",
              "      <td>14</td>\n",
              "      <td>1</td>\n",
              "    </tr>\n",
              "    <tr>\n",
              "      <th>4</th>\n",
              "      <td>1</td>\n",
              "      <td>0</td>\n",
              "      <td>0</td>\n",
              "      <td>0</td>\n",
              "      <td>0</td>\n",
              "      <td>0</td>\n",
              "      <td>0</td>\n",
              "      <td>0</td>\n",
              "      <td>0</td>\n",
              "      <td>0</td>\n",
              "      <td>...</td>\n",
              "      <td>0</td>\n",
              "      <td>2</td>\n",
              "      <td>0</td>\n",
              "      <td>0</td>\n",
              "      <td>0</td>\n",
              "      <td>0</td>\n",
              "      <td>0</td>\n",
              "      <td>0</td>\n",
              "      <td>5</td>\n",
              "      <td>1</td>\n",
              "    </tr>\n",
              "  </tbody>\n",
              "</table>\n",
              "<p>5 rows × 232 columns</p>\n",
              "</div>\n",
              "    <div class=\"colab-df-buttons\">\n",
              "\n",
              "  <div class=\"colab-df-container\">\n",
              "    <button class=\"colab-df-convert\" onclick=\"convertToInteractive('df-bc60d4e4-3263-4870-83c0-51dc8ecaaf8a')\"\n",
              "            title=\"Convert this dataframe to an interactive table.\"\n",
              "            style=\"display:none;\">\n",
              "\n",
              "  <svg xmlns=\"http://www.w3.org/2000/svg\" height=\"24px\" viewBox=\"0 -960 960 960\">\n",
              "    <path d=\"M120-120v-720h720v720H120Zm60-500h600v-160H180v160Zm220 220h160v-160H400v160Zm0 220h160v-160H400v160ZM180-400h160v-160H180v160Zm440 0h160v-160H620v160ZM180-180h160v-160H180v160Zm440 0h160v-160H620v160Z\"/>\n",
              "  </svg>\n",
              "    </button>\n",
              "\n",
              "  <style>\n",
              "    .colab-df-container {\n",
              "      display:flex;\n",
              "      gap: 12px;\n",
              "    }\n",
              "\n",
              "    .colab-df-convert {\n",
              "      background-color: #E8F0FE;\n",
              "      border: none;\n",
              "      border-radius: 50%;\n",
              "      cursor: pointer;\n",
              "      display: none;\n",
              "      fill: #1967D2;\n",
              "      height: 32px;\n",
              "      padding: 0 0 0 0;\n",
              "      width: 32px;\n",
              "    }\n",
              "\n",
              "    .colab-df-convert:hover {\n",
              "      background-color: #E2EBFA;\n",
              "      box-shadow: 0px 1px 2px rgba(60, 64, 67, 0.3), 0px 1px 3px 1px rgba(60, 64, 67, 0.15);\n",
              "      fill: #174EA6;\n",
              "    }\n",
              "\n",
              "    .colab-df-buttons div {\n",
              "      margin-bottom: 4px;\n",
              "    }\n",
              "\n",
              "    [theme=dark] .colab-df-convert {\n",
              "      background-color: #3B4455;\n",
              "      fill: #D2E3FC;\n",
              "    }\n",
              "\n",
              "    [theme=dark] .colab-df-convert:hover {\n",
              "      background-color: #434B5C;\n",
              "      box-shadow: 0px 1px 3px 1px rgba(0, 0, 0, 0.15);\n",
              "      filter: drop-shadow(0px 1px 2px rgba(0, 0, 0, 0.3));\n",
              "      fill: #FFFFFF;\n",
              "    }\n",
              "  </style>\n",
              "\n",
              "    <script>\n",
              "      const buttonEl =\n",
              "        document.querySelector('#df-bc60d4e4-3263-4870-83c0-51dc8ecaaf8a button.colab-df-convert');\n",
              "      buttonEl.style.display =\n",
              "        google.colab.kernel.accessAllowed ? 'block' : 'none';\n",
              "\n",
              "      async function convertToInteractive(key) {\n",
              "        const element = document.querySelector('#df-bc60d4e4-3263-4870-83c0-51dc8ecaaf8a');\n",
              "        const dataTable =\n",
              "          await google.colab.kernel.invokeFunction('convertToInteractive',\n",
              "                                                    [key], {});\n",
              "        if (!dataTable) return;\n",
              "\n",
              "        const docLinkHtml = 'Like what you see? Visit the ' +\n",
              "          '<a target=\"_blank\" href=https://colab.research.google.com/notebooks/data_table.ipynb>data table notebook</a>'\n",
              "          + ' to learn more about interactive tables.';\n",
              "        element.innerHTML = '';\n",
              "        dataTable['output_type'] = 'display_data';\n",
              "        await google.colab.output.renderOutput(dataTable, element);\n",
              "        const docLink = document.createElement('div');\n",
              "        docLink.innerHTML = docLinkHtml;\n",
              "        element.appendChild(docLink);\n",
              "      }\n",
              "    </script>\n",
              "  </div>\n",
              "\n",
              "\n",
              "    <div id=\"df-3d7411bd-75b8-488c-bc41-cc581bc2502d\">\n",
              "      <button class=\"colab-df-quickchart\" onclick=\"quickchart('df-3d7411bd-75b8-488c-bc41-cc581bc2502d')\"\n",
              "                title=\"Suggest charts\"\n",
              "                style=\"display:none;\">\n",
              "\n",
              "<svg xmlns=\"http://www.w3.org/2000/svg\" height=\"24px\"viewBox=\"0 0 24 24\"\n",
              "     width=\"24px\">\n",
              "    <g>\n",
              "        <path d=\"M19 3H5c-1.1 0-2 .9-2 2v14c0 1.1.9 2 2 2h14c1.1 0 2-.9 2-2V5c0-1.1-.9-2-2-2zM9 17H7v-7h2v7zm4 0h-2V7h2v10zm4 0h-2v-4h2v4z\"/>\n",
              "    </g>\n",
              "</svg>\n",
              "      </button>\n",
              "\n",
              "<style>\n",
              "  .colab-df-quickchart {\n",
              "      --bg-color: #E8F0FE;\n",
              "      --fill-color: #1967D2;\n",
              "      --hover-bg-color: #E2EBFA;\n",
              "      --hover-fill-color: #174EA6;\n",
              "      --disabled-fill-color: #AAA;\n",
              "      --disabled-bg-color: #DDD;\n",
              "  }\n",
              "\n",
              "  [theme=dark] .colab-df-quickchart {\n",
              "      --bg-color: #3B4455;\n",
              "      --fill-color: #D2E3FC;\n",
              "      --hover-bg-color: #434B5C;\n",
              "      --hover-fill-color: #FFFFFF;\n",
              "      --disabled-bg-color: #3B4455;\n",
              "      --disabled-fill-color: #666;\n",
              "  }\n",
              "\n",
              "  .colab-df-quickchart {\n",
              "    background-color: var(--bg-color);\n",
              "    border: none;\n",
              "    border-radius: 50%;\n",
              "    cursor: pointer;\n",
              "    display: none;\n",
              "    fill: var(--fill-color);\n",
              "    height: 32px;\n",
              "    padding: 0;\n",
              "    width: 32px;\n",
              "  }\n",
              "\n",
              "  .colab-df-quickchart:hover {\n",
              "    background-color: var(--hover-bg-color);\n",
              "    box-shadow: 0 1px 2px rgba(60, 64, 67, 0.3), 0 1px 3px 1px rgba(60, 64, 67, 0.15);\n",
              "    fill: var(--button-hover-fill-color);\n",
              "  }\n",
              "\n",
              "  .colab-df-quickchart-complete:disabled,\n",
              "  .colab-df-quickchart-complete:disabled:hover {\n",
              "    background-color: var(--disabled-bg-color);\n",
              "    fill: var(--disabled-fill-color);\n",
              "    box-shadow: none;\n",
              "  }\n",
              "\n",
              "  .colab-df-spinner {\n",
              "    border: 2px solid var(--fill-color);\n",
              "    border-color: transparent;\n",
              "    border-bottom-color: var(--fill-color);\n",
              "    animation:\n",
              "      spin 1s steps(1) infinite;\n",
              "  }\n",
              "\n",
              "  @keyframes spin {\n",
              "    0% {\n",
              "      border-color: transparent;\n",
              "      border-bottom-color: var(--fill-color);\n",
              "      border-left-color: var(--fill-color);\n",
              "    }\n",
              "    20% {\n",
              "      border-color: transparent;\n",
              "      border-left-color: var(--fill-color);\n",
              "      border-top-color: var(--fill-color);\n",
              "    }\n",
              "    30% {\n",
              "      border-color: transparent;\n",
              "      border-left-color: var(--fill-color);\n",
              "      border-top-color: var(--fill-color);\n",
              "      border-right-color: var(--fill-color);\n",
              "    }\n",
              "    40% {\n",
              "      border-color: transparent;\n",
              "      border-right-color: var(--fill-color);\n",
              "      border-top-color: var(--fill-color);\n",
              "    }\n",
              "    60% {\n",
              "      border-color: transparent;\n",
              "      border-right-color: var(--fill-color);\n",
              "    }\n",
              "    80% {\n",
              "      border-color: transparent;\n",
              "      border-right-color: var(--fill-color);\n",
              "      border-bottom-color: var(--fill-color);\n",
              "    }\n",
              "    90% {\n",
              "      border-color: transparent;\n",
              "      border-bottom-color: var(--fill-color);\n",
              "    }\n",
              "  }\n",
              "</style>\n",
              "\n",
              "      <script>\n",
              "        async function quickchart(key) {\n",
              "          const quickchartButtonEl =\n",
              "            document.querySelector('#' + key + ' button');\n",
              "          quickchartButtonEl.disabled = true;  // To prevent multiple clicks.\n",
              "          quickchartButtonEl.classList.add('colab-df-spinner');\n",
              "          try {\n",
              "            const charts = await google.colab.kernel.invokeFunction(\n",
              "                'suggestCharts', [key], {});\n",
              "          } catch (error) {\n",
              "            console.error('Error during call to suggestCharts:', error);\n",
              "          }\n",
              "          quickchartButtonEl.classList.remove('colab-df-spinner');\n",
              "          quickchartButtonEl.classList.add('colab-df-quickchart-complete');\n",
              "        }\n",
              "        (() => {\n",
              "          let quickchartButtonEl =\n",
              "            document.querySelector('#df-3d7411bd-75b8-488c-bc41-cc581bc2502d button');\n",
              "          quickchartButtonEl.style.display =\n",
              "            google.colab.kernel.accessAllowed ? 'block' : 'none';\n",
              "        })();\n",
              "      </script>\n",
              "    </div>\n",
              "\n",
              "    </div>\n",
              "  </div>\n"
            ],
            "application/vnd.google.colaboratory.intrinsic+json": {
              "type": "dataframe"
            }
          },
          "metadata": {}
        }
      ]
    },
    {
      "cell_type": "code",
      "source": [
        "# Dataframe characteristics\n",
        "print(\"Shape (raw):\", test_df_freq.shape)\n",
        "print(\"Columns:\", list(test_df_freq.columns))"
      ],
      "metadata": {
        "colab": {
          "base_uri": "https://localhost:8080/"
        },
        "id": "xAAJy_ZPtsOs",
        "outputId": "70a3edb6-de9b-4117-ab81-adbbff4dd587"
      },
      "id": "xAAJy_ZPtsOs",
      "execution_count": 59,
      "outputs": [
        {
          "output_type": "stream",
          "name": "stdout",
          "text": [
            "Shape (raw): (6505, 232)\n",
            "Columns: ['FindResourceW', 'IWbemServices_ExecQuery', 'SHGetSpecialFolderLocation', 'InternetCrackUrlA', 'NtQuerySystemInformation', 'Module32NextW', 'SetStdHandle', 'InternetSetOptionA', 'CreateActCtxW', 'SetErrorMode', 'GetTempPathW', 'CoInitializeEx', 'GetSystemTimeAsFileTime', 'CryptAcquireContextW', 'RegCreateKeyExA', 'GetDiskFreeSpaceExW', 'GetFileType', 'WriteProcessMemory', 'NtWriteFile', 'GetUserNameA', 'CryptGenKey', 'GetFileInformationByHandle', 'ReadProcessMemory', 'WriteConsoleA', 'GetFileAttributesExW', 'DeleteFileW', 'GetSystemInfo', 'NtResumeThread', 'InternetQueryOptionA', 'RegDeleteKeyW', 'LdrUnloadDll', 'GetAdaptersAddresses', 'GetSystemDirectoryW', 'recv', 'OutputDebugStringA', 'FindWindowExA', 'SearchPathW', 'WSAStartup', 'WSASocketA', 'GetFileVersionInfoExW', 'CoCreateInstance', 'GetDiskFreeSpaceW', 'GetVolumeNameForVolumeMountPointW', 'NtDuplicateObject', 'MessageBoxTimeoutW', 'FindWindowW', 'NtOpenKeyEx', 'Process32FirstW', 'RegOpenKeyExW', 'LdrLoadDll', 'GetUserNameW', 'LdrGetDllHandle', 'SetFilePointer', 'InternetOpenW', 'CoCreateInstanceEx', 'RegQueryInfoKeyA', 'NtAllocateVirtualMemory', 'StartServiceW', 'ControlService', 'CreateProcessInternalW', 'socket', 'NtCreateMutant', 'GlobalMemoryStatus', 'send', 'NtQueryValueKey', 'setsockopt', 'InternetCloseHandle', 'DrawTextExA', 'GetSystemMetrics', 'NtSetValueKey', '__exception__', 'RegEnumValueA', 'GetFileVersionInfoSizeW', 'CreateJobObjectW', 'CreateDirectoryW', 'RegSetValueExA', 'NtOpenDirectoryObject', 'CryptAcquireContextA', 'CopyFileExW', 'CryptCreateHash', 'NtReadFile', 'NtSetInformationFile', 'GetSystemWindowsDirectoryA', 'GetVolumePathNameW', 'SetWindowsHookExA', 'SizeofResource', 'CryptDecrypt', 'CryptEncrypt', 'RegDeleteValueA', 'CryptHashData', 'CoUninitialize', 'NtGetContextThread', 'RemoveDirectoryW', 'GetAsyncKeyState', 'EnumWindows', 'WSARecv', 'NtDelayExecution', 'RegCloseKey', 'RegDeleteValueW', 'RegisterHotKey', 'GetFileVersionInfoSizeExW', 'NtSetContextThread', 'DnsQuery_A', 'RegOpenKeyExA', 'select', 'OpenServiceW', 'GetTimeZoneInformation', 'gethostbyname', 'timeGetTime', 'LoadStringA', 'InternetOpenA', 'NtUnmapViewOfSection', 'GetComputerNameA', 'GetVolumePathNamesForVolumeNameW', 'FindWindowA', 'CreateThread', 'GetNativeSystemInfo', 'NtQueryInformationFile', 'ShellExecuteExW', 'FindResourceExA', 'GetComputerNameW', 'CoGetClassObject', 'CopyFileA', 'CreateToolhelp32Snapshot', 'getsockname', 'DeleteUrlCacheEntryW', 'LoadStringW', 'GetKeyState', 'GetFileSizeEx', 'closesocket', 'NtClose', 'RegQueryValueExW', 'UnhookWindowsHookEx', 'MessageBoxTimeoutA', 'DeviceIoControl', 'GetFileVersionInfoW', 'NtCreateFile', 'RegSetValueExW', 'MoveFileWithProgressW', 'GetSystemDirectoryA', 'Thread32Next', 'NtOpenThread', 'NtEnumerateValueKey', 'DeleteUrlCacheEntryA', 'FindFirstFileExW', 'FindResourceA', 'GetBestInterfaceEx', 'Module32FirstW', 'RegEnumKeyExW', 'NtCreateSection', 'CreateServiceA', 'SetFileAttributesW', 'CryptProtectData', 'StartServiceA', 'FindWindowExW', 'SetUnhandledExceptionFilter', 'RtlAddVectoredExceptionHandler', 'HttpOpenRequestA', 'RegCreateKeyExW', 'RtlDecompressBuffer', 'NtMapViewOfSection', 'NtSuspendThread', 'SetEndOfFile', 'NtQueryAttributesFile', 'IsDebuggerPresent', 'UuidCreate', 'NtCreateKey', 'InternetCrackUrlW', 'getaddrinfo', 'NtTerminateProcess', 'GetSystemWindowsDirectoryW', 'InternetGetConnectedState', 'SetWindowsHookExW', 'NtCreateThreadEx', 'NtFreeVirtualMemory', 'OpenServiceA', 'CoInitializeSecurity', 'SHGetFolderPathW', 'HttpSendRequestA', 'NtTerminateThread', 'Thread32First', 'NtProtectVirtualMemory', 'ioctlsocket', 'NtOpenMutant', 'NtOpenSection', 'RegEnumKeyExA', 'InternetConnectW', 'GetCursorPos', 'RegEnumKeyW', 'NtDeviceIoControlFile', 'NtEnumerateKey', 'Process32NextW', 'SetFileTime', 'WriteConsoleW', 'LookupAccountSidW', 'SetFilePointerEx', 'GetForegroundWindow', 'HttpQueryInfoA', 'connect', 'FindResourceExW', 'LookupPrivilegeValueW', 'NtOpenFile', 'EnumServicesStatusA', 'bind', 'NtQueryKey', 'OleInitialize', 'InternetConnectA', 'OpenSCManagerA', 'NtOpenProcess', 'RegEnumValueW', 'GetFileSize', 'shutdown', 'InternetOpenUrlA', 'DrawTextExW', 'GlobalMemoryStatusEx', 'RegQueryValueExA', 'GetAdaptersInfo', 'CreateServiceW', 'NtDeleteKey', 'GetFileAttributesW', 'NtQueueApcThread', 'LoadResource', 'NtQueryDirectoryFile', 'RegQueryInfoKeyW', 'HttpOpenRequestW', 'CopyFileW', 'CryptExportKey', 'RemoveDirectoryA', 'OpenSCManagerW', 'GetShortPathNameW', 'LdrGetProcedureAddress', 'NtOpenKey']\n"
          ]
        }
      ]
    },
    {
      "cell_type": "markdown",
      "source": [
        "#### Q: Can you use the test vocabulary to build the new test dataframe? If not, how do you handle API calls in the test set that do not exist in the training vocabulary?\n",
        "\n",
        "just ignore them"
      ],
      "metadata": {
        "id": "eijmLDzabFX9"
      },
      "id": "eijmLDzabFX9"
    },
    {
      "cell_type": "code",
      "source": [
        "# --- Calculate average non-zero elements per row for training data ---\n",
        "avg_nonzero_train = (train_df_freq != 0).sum(axis=1).mean()\n",
        "print(f\"Average non-zero elements per row in train_df_freq: {avg_nonzero_train:.2f}\")\n",
        "\n",
        "# --- Calculate ratio of non-zero elements for training data ---\n",
        "ratio_nonzero_train = avg_nonzero_train / train_df_freq.shape[1]\n",
        "print(f\"Ratio of non-zero elements per row in train_df_freq: {ratio_nonzero_train:.4f}\")"
      ],
      "metadata": {
        "id": "ZEiDnT4vnmMS",
        "colab": {
          "base_uri": "https://localhost:8080/"
        },
        "outputId": "8cb44cc3-6a0e-4a06-f139-cc4716bbe89f"
      },
      "id": "ZEiDnT4vnmMS",
      "execution_count": 60,
      "outputs": [
        {
          "output_type": "stream",
          "name": "stdout",
          "text": [
            "Average non-zero elements per row in train_df_freq: 21.95\n",
            "Ratio of non-zero elements per row in train_df_freq: 0.0851\n"
          ]
        }
      ]
    },
    {
      "cell_type": "code",
      "source": [
        "# --- Calculate average non-zero elements per row for test data ---\n",
        "avg_nonzero_test = (test_df_freq != 0).sum(axis=1).mean()\n",
        "print(f\"Average non-zero elements per row in test_df_freq: {avg_nonzero_test:.2f}\")\n",
        "\n",
        "# --- Calculate ratio of non-zero elements for test data ---\n",
        "ratio_nonzero_test = avg_nonzero_test / test_df_freq.shape[1]\n",
        "print(f\"Ratio of non-zero elements per row in test_df_freq: {ratio_nonzero_test:.4f}\")"
      ],
      "metadata": {
        "colab": {
          "base_uri": "https://localhost:8080/"
        },
        "id": "eJM5z2D6OCKk",
        "outputId": "bcfaa523-a5b8-4a92-f449-49e1c23a8109"
      },
      "id": "eJM5z2D6OCKk",
      "execution_count": 61,
      "outputs": [
        {
          "output_type": "stream",
          "name": "stdout",
          "text": [
            "Average non-zero elements per row in test_df_freq: 24.28\n",
            "Ratio of non-zero elements per row in test_df_freq: 0.1046\n"
          ]
        }
      ]
    },
    {
      "cell_type": "markdown",
      "source": [
        "#### Q: How many non-zero elements per row do you have on average in the training set? How many in the test set? What is the ratio with respect to the number of elements per row?"
      ],
      "metadata": {
        "id": "MeJMVfhPbGa8"
      },
      "id": "MeJMVfhPbGa8"
    },
    {
      "cell_type": "markdown",
      "source": [
        "#### Q: The original API sequences were ordered. Is it still the case now in the frequency-based dataframe? Why?"
      ],
      "metadata": {
        "id": "zxxQ9ubZbGQd"
      },
      "id": "zxxQ9ubZbGQd"
    },
    {
      "cell_type": "markdown",
      "source": [
        "### Feed the frequency-based datasets to a classifier\n",
        "\n",
        "- Any classifier can be used (shallow/deep neural or non-neural).\n",
        "- Goal: evaluate baseline performance on sparse vectors without sequence information."
      ],
      "metadata": {
        "id": "1auoE5O0lqJX"
      },
      "id": "1auoE5O0lqJX"
    },
    {
      "cell_type": "code",
      "source": [
        "# --- Training with a classifier ---\n",
        "\n",
        "# Split data into features and target\n",
        "X = train_df_freq\n",
        "y = df_train['is_malware']\n",
        "\n",
        "# Create a validation set from training set\n",
        "X_train, X_val, y_train, y_val = train_test_split(\n",
        "    X, y, test_size=0.2, random_state=42, stratify=y\n",
        ")\n",
        "\n",
        "# Construct test set with features aligned to train_vocab\n",
        "X_test = pd.DataFrame([{api: seq.count(api) for api in train_vocab} for seq in df_test['api_call_sequence']])\n",
        "y_test = df_test['is_malware']\n",
        "\n",
        "# Train a simple classifier (using default hyperparameters for a simple baseline)\n",
        "clf = LogisticRegression(random_state=42, solver='liblinear') # 'liblinear' solver is good for small datasets and sparse data\n",
        "clf.fit(X_train, y_train)\n",
        "\n",
        "# Compute train/val loss\n",
        "y_train_proba = clf.predict_proba(X_train)\n",
        "y_val_proba = clf.predict_proba(X_val)\n",
        "print(f\"Training log-loss: {log_loss(y_train, y_train_proba):.4f}\")\n",
        "print(f\"Validation log-loss: {log_loss(y_val, y_val_proba):.4f}\")"
      ],
      "metadata": {
        "id": "MnBZa6Pnlrii",
        "colab": {
          "base_uri": "https://localhost:8080/"
        },
        "outputId": "6847e26b-468f-46ca-c9b1-9d05543bb37f"
      },
      "id": "MnBZa6Pnlrii",
      "execution_count": 62,
      "outputs": [
        {
          "output_type": "stream",
          "name": "stdout",
          "text": [
            "Training log-loss: 0.0824\n",
            "Validation log-loss: 0.1173\n"
          ]
        }
      ]
    },
    {
      "cell_type": "code",
      "source": [
        "def evaluate_model(model, X, y_true, model_name: str = \"Unnamed model\"):\n",
        "    \"\"\"\n",
        "    Evaluate a trained scikit-learn model on a given dataset and return the classification report.\n",
        "    Handles missing predicted classes gracefully (zero_division=0).\n",
        "    \"\"\"\n",
        "    # Get predictions\n",
        "    y_pred = model.predict(X)\n",
        "\n",
        "    # Identify missing classes (not predicted at all)\n",
        "    missing_classes = set(np.unique(y_true)) - set(np.unique(y_pred))\n",
        "    if missing_classes:\n",
        "        missing_classes = [int(x) for x in sorted(missing_classes)]\n",
        "        print(f\"Warning: {model_name} made no predictions for classes: {missing_classes}\")\n",
        "\n",
        "    # Generate classification report\n",
        "    report = classification_report(y_true, y_pred, digits=4, zero_division=0)\n",
        "\n",
        "    return report"
      ],
      "metadata": {
        "id": "3NVU3MK8RLef"
      },
      "id": "3NVU3MK8RLef",
      "execution_count": 63,
      "outputs": []
    },
    {
      "cell_type": "code",
      "source": [
        "# --- Evaluate using custom function ---\n",
        "\n",
        "print(f\"\\nValidation classification report:\\n\")\n",
        "report = evaluate_model(clf, X_val, y_val, \"Logistic Regression (Validation)\")\n",
        "print(report)\n",
        "\n",
        "print(f\"\\nTest classification report:\\n\")\n",
        "report = evaluate_model(clf, X_test, y_test, \"Logistic Regression (Test)\")\n",
        "print(report)"
      ],
      "metadata": {
        "colab": {
          "base_uri": "https://localhost:8080/"
        },
        "id": "Lrq0B8WBDVQM",
        "outputId": "ef51065b-8b8d-4c75-b31e-322eae67b0fe"
      },
      "id": "Lrq0B8WBDVQM",
      "execution_count": 64,
      "outputs": [
        {
          "output_type": "stream",
          "name": "stdout",
          "text": [
            "\n",
            "Validation classification report:\n",
            "\n",
            "              precision    recall  f1-score   support\n",
            "\n",
            "           0     0.6724    0.3197    0.4333       122\n",
            "           1     0.9741    0.9940    0.9839      3143\n",
            "\n",
            "    accuracy                         0.9688      3265\n",
            "   macro avg     0.8233    0.6568    0.7086      3265\n",
            "weighted avg     0.9628    0.9688    0.9634      3265\n",
            "\n",
            "\n",
            "Test classification report:\n",
            "\n",
            "              precision    recall  f1-score   support\n",
            "\n",
            "           0     0.6814    0.3169    0.4326       243\n",
            "           1     0.9740    0.9943    0.9840      6262\n",
            "\n",
            "    accuracy                         0.9689      6505\n",
            "   macro avg     0.8277    0.6556    0.7083      6505\n",
            "weighted avg     0.9631    0.9689    0.9634      6505\n",
            "\n"
          ]
        }
      ]
    },
    {
      "cell_type": "markdown",
      "source": [
        "#### Q: Report how you chose the hyperparameters of your classifier, and the final performance on the test set."
      ],
      "metadata": {
        "id": "w-qM18CHbGB5"
      },
      "id": "w-qM18CHbGB5"
    },
    {
      "cell_type": "markdown",
      "source": [
        "#### Q: Is the final performance good, even ignoring the order of API calls and handling very sparse vectors?"
      ],
      "metadata": {
        "id": "SgnC8DmjbFwL"
      },
      "id": "SgnC8DmjbFwL"
    },
    {
      "cell_type": "markdown",
      "source": [
        "## Task 2 - Feed Forward Neural Network (FFNN)\n",
        "\n",
        "text"
      ],
      "metadata": {
        "id": "ad7SH8cyZ1K_"
      },
      "id": "ad7SH8cyZ1K_"
    },
    {
      "cell_type": "code",
      "source": [
        "# Create directory for plots\n",
        "save_dir = results_path + 'images/' + 'task2_plots/'\n",
        "os.makedirs(save_dir, exist_ok=True)"
      ],
      "metadata": {
        "id": "QRKP-a8gZ1bH"
      },
      "id": "QRKP-a8gZ1bH",
      "execution_count": 78,
      "outputs": []
    },
    {
      "cell_type": "markdown",
      "source": [
        "### API Call Statistics"
      ],
      "metadata": {
        "id": "hpIwk43BcgpV"
      },
      "id": "hpIwk43BcgpV"
    },
    {
      "cell_type": "code",
      "source": [
        "# --- Compute the length (number of API calls) per sequence ---\n",
        "df_train['seq_length'] = df_train['api_call_sequence'].apply(len)\n",
        "df_test['seq_length'] = df_test['api_call_sequence'].apply(len)\n",
        "\n",
        "# --- Basic descriptive statistics ---\n",
        "print(\"Train set sequence length stats:\")\n",
        "print(df_train['seq_length'].describe(), \"\\n\")\n",
        "\n",
        "print(\"Test set sequence length stats:\")\n",
        "print(df_test['seq_length'].describe(), \"\\n\")\n",
        "\n",
        "# --- Check if all sequences have the same length ---\n",
        "same_length_train = df_train['seq_length'].nunique() == 1\n",
        "same_length_test = df_test['seq_length'].nunique() == 1\n",
        "print(f\"All train sequences same length? {same_length_train}\")\n",
        "print(f\"All test sequences same length? {same_length_test}\\n\")"
      ],
      "metadata": {
        "colab": {
          "base_uri": "https://localhost:8080/"
        },
        "id": "OP9J_fJ1Swvz",
        "outputId": "79818cac-5d91-4f4e-bba2-a4c0c66bd194"
      },
      "id": "OP9J_fJ1Swvz",
      "execution_count": 79,
      "outputs": [
        {
          "output_type": "stream",
          "name": "stdout",
          "text": [
            "Train set sequence length stats:\n",
            "count    16325.000000\n",
            "mean        75.030812\n",
            "std          8.951411\n",
            "min         60.000000\n",
            "25%         67.000000\n",
            "50%         75.000000\n",
            "75%         83.000000\n",
            "max         90.000000\n",
            "Name: seq_length, dtype: float64 \n",
            "\n",
            "Test set sequence length stats:\n",
            "count    6505.000000\n",
            "mean       86.331130\n",
            "std         9.113511\n",
            "min        70.000000\n",
            "25%        79.000000\n",
            "50%        87.000000\n",
            "75%        94.000000\n",
            "max       100.000000\n",
            "Name: seq_length, dtype: float64 \n",
            "\n",
            "All train sequences same length? False\n",
            "All test sequences same length? False\n",
            "\n"
          ]
        }
      ]
    },
    {
      "cell_type": "code",
      "source": [
        "df_train"
      ],
      "metadata": {
        "colab": {
          "base_uri": "https://localhost:8080/",
          "height": 589
        },
        "id": "OB2VbKxAVpQi",
        "outputId": "0f7483e8-f478-45cd-f1d3-8b6446d6f3ef"
      },
      "id": "OB2VbKxAVpQi",
      "execution_count": 80,
      "outputs": [
        {
          "output_type": "execute_result",
          "data": {
            "text/plain": [
              "                                       api_call_sequence  is_malware  \\\n",
              "0      [LdrGetDllHandle, LdrGetProcedureAddress, LdrL...           1   \n",
              "1      [NtAllocateVirtualMemory, LdrLoadDll, LdrGetPr...           1   \n",
              "2      [FindResourceExW, LoadResource, FindResourceEx...           1   \n",
              "3      [FindResourceExW, LoadResource, FindResourceEx...           1   \n",
              "4      [LdrGetProcedureAddress, SetErrorMode, LdrLoad...           1   \n",
              "...                                                  ...         ...   \n",
              "16320  [LdrGetProcedureAddress, LdrLoadDll, LdrGetPro...           1   \n",
              "16321  [NtClose, LdrGetProcedureAddress, CryptCreateH...           1   \n",
              "16322  [LdrGetProcedureAddress, LdrGetDllHandle, LdrG...           1   \n",
              "16323  [LdrGetProcedureAddress, LdrGetDllHandle, LdrG...           1   \n",
              "16324  [SetFilePointer, NtReadFile, SetFilePointer, N...           1   \n",
              "\n",
              "       seq_length                                          seq_fixed  \n",
              "0              73  [LdrGetDllHandle, LdrGetProcedureAddress, LdrL...  \n",
              "1              88  [NtAllocateVirtualMemory, LdrLoadDll, LdrGetPr...  \n",
              "2              79  [FindResourceExW, LoadResource, FindResourceEx...  \n",
              "3              71  [FindResourceExW, LoadResource, FindResourceEx...  \n",
              "4              63  [LdrGetProcedureAddress, SetErrorMode, LdrLoad...  \n",
              "...           ...                                                ...  \n",
              "16320          64  [LdrGetProcedureAddress, LdrLoadDll, LdrGetPro...  \n",
              "16321          78  [NtClose, LdrGetProcedureAddress, CryptCreateH...  \n",
              "16322          84  [LdrGetProcedureAddress, LdrGetDllHandle, LdrG...  \n",
              "16323          62  [LdrGetProcedureAddress, LdrGetDllHandle, LdrG...  \n",
              "16324          77  [SetFilePointer, NtReadFile, SetFilePointer, N...  \n",
              "\n",
              "[16325 rows x 4 columns]"
            ],
            "text/html": [
              "\n",
              "  <div id=\"df-12016eb2-cb6c-40e6-aedf-e66632cd295b\" class=\"colab-df-container\">\n",
              "    <div>\n",
              "<style scoped>\n",
              "    .dataframe tbody tr th:only-of-type {\n",
              "        vertical-align: middle;\n",
              "    }\n",
              "\n",
              "    .dataframe tbody tr th {\n",
              "        vertical-align: top;\n",
              "    }\n",
              "\n",
              "    .dataframe thead th {\n",
              "        text-align: right;\n",
              "    }\n",
              "</style>\n",
              "<table border=\"1\" class=\"dataframe\">\n",
              "  <thead>\n",
              "    <tr style=\"text-align: right;\">\n",
              "      <th></th>\n",
              "      <th>api_call_sequence</th>\n",
              "      <th>is_malware</th>\n",
              "      <th>seq_length</th>\n",
              "      <th>seq_fixed</th>\n",
              "    </tr>\n",
              "  </thead>\n",
              "  <tbody>\n",
              "    <tr>\n",
              "      <th>0</th>\n",
              "      <td>[LdrGetDllHandle, LdrGetProcedureAddress, LdrL...</td>\n",
              "      <td>1</td>\n",
              "      <td>73</td>\n",
              "      <td>[LdrGetDllHandle, LdrGetProcedureAddress, LdrL...</td>\n",
              "    </tr>\n",
              "    <tr>\n",
              "      <th>1</th>\n",
              "      <td>[NtAllocateVirtualMemory, LdrLoadDll, LdrGetPr...</td>\n",
              "      <td>1</td>\n",
              "      <td>88</td>\n",
              "      <td>[NtAllocateVirtualMemory, LdrLoadDll, LdrGetPr...</td>\n",
              "    </tr>\n",
              "    <tr>\n",
              "      <th>2</th>\n",
              "      <td>[FindResourceExW, LoadResource, FindResourceEx...</td>\n",
              "      <td>1</td>\n",
              "      <td>79</td>\n",
              "      <td>[FindResourceExW, LoadResource, FindResourceEx...</td>\n",
              "    </tr>\n",
              "    <tr>\n",
              "      <th>3</th>\n",
              "      <td>[FindResourceExW, LoadResource, FindResourceEx...</td>\n",
              "      <td>1</td>\n",
              "      <td>71</td>\n",
              "      <td>[FindResourceExW, LoadResource, FindResourceEx...</td>\n",
              "    </tr>\n",
              "    <tr>\n",
              "      <th>4</th>\n",
              "      <td>[LdrGetProcedureAddress, SetErrorMode, LdrLoad...</td>\n",
              "      <td>1</td>\n",
              "      <td>63</td>\n",
              "      <td>[LdrGetProcedureAddress, SetErrorMode, LdrLoad...</td>\n",
              "    </tr>\n",
              "    <tr>\n",
              "      <th>...</th>\n",
              "      <td>...</td>\n",
              "      <td>...</td>\n",
              "      <td>...</td>\n",
              "      <td>...</td>\n",
              "    </tr>\n",
              "    <tr>\n",
              "      <th>16320</th>\n",
              "      <td>[LdrGetProcedureAddress, LdrLoadDll, LdrGetPro...</td>\n",
              "      <td>1</td>\n",
              "      <td>64</td>\n",
              "      <td>[LdrGetProcedureAddress, LdrLoadDll, LdrGetPro...</td>\n",
              "    </tr>\n",
              "    <tr>\n",
              "      <th>16321</th>\n",
              "      <td>[NtClose, LdrGetProcedureAddress, CryptCreateH...</td>\n",
              "      <td>1</td>\n",
              "      <td>78</td>\n",
              "      <td>[NtClose, LdrGetProcedureAddress, CryptCreateH...</td>\n",
              "    </tr>\n",
              "    <tr>\n",
              "      <th>16322</th>\n",
              "      <td>[LdrGetProcedureAddress, LdrGetDllHandle, LdrG...</td>\n",
              "      <td>1</td>\n",
              "      <td>84</td>\n",
              "      <td>[LdrGetProcedureAddress, LdrGetDllHandle, LdrG...</td>\n",
              "    </tr>\n",
              "    <tr>\n",
              "      <th>16323</th>\n",
              "      <td>[LdrGetProcedureAddress, LdrGetDllHandle, LdrG...</td>\n",
              "      <td>1</td>\n",
              "      <td>62</td>\n",
              "      <td>[LdrGetProcedureAddress, LdrGetDllHandle, LdrG...</td>\n",
              "    </tr>\n",
              "    <tr>\n",
              "      <th>16324</th>\n",
              "      <td>[SetFilePointer, NtReadFile, SetFilePointer, N...</td>\n",
              "      <td>1</td>\n",
              "      <td>77</td>\n",
              "      <td>[SetFilePointer, NtReadFile, SetFilePointer, N...</td>\n",
              "    </tr>\n",
              "  </tbody>\n",
              "</table>\n",
              "<p>16325 rows × 4 columns</p>\n",
              "</div>\n",
              "    <div class=\"colab-df-buttons\">\n",
              "\n",
              "  <div class=\"colab-df-container\">\n",
              "    <button class=\"colab-df-convert\" onclick=\"convertToInteractive('df-12016eb2-cb6c-40e6-aedf-e66632cd295b')\"\n",
              "            title=\"Convert this dataframe to an interactive table.\"\n",
              "            style=\"display:none;\">\n",
              "\n",
              "  <svg xmlns=\"http://www.w3.org/2000/svg\" height=\"24px\" viewBox=\"0 -960 960 960\">\n",
              "    <path d=\"M120-120v-720h720v720H120Zm60-500h600v-160H180v160Zm220 220h160v-160H400v160Zm0 220h160v-160H400v160ZM180-400h160v-160H180v160Zm440 0h160v-160H620v160ZM180-180h160v-160H180v160Zm440 0h160v-160H620v160Z\"/>\n",
              "  </svg>\n",
              "    </button>\n",
              "\n",
              "  <style>\n",
              "    .colab-df-container {\n",
              "      display:flex;\n",
              "      gap: 12px;\n",
              "    }\n",
              "\n",
              "    .colab-df-convert {\n",
              "      background-color: #E8F0FE;\n",
              "      border: none;\n",
              "      border-radius: 50%;\n",
              "      cursor: pointer;\n",
              "      display: none;\n",
              "      fill: #1967D2;\n",
              "      height: 32px;\n",
              "      padding: 0 0 0 0;\n",
              "      width: 32px;\n",
              "    }\n",
              "\n",
              "    .colab-df-convert:hover {\n",
              "      background-color: #E2EBFA;\n",
              "      box-shadow: 0px 1px 2px rgba(60, 64, 67, 0.3), 0px 1px 3px 1px rgba(60, 64, 67, 0.15);\n",
              "      fill: #174EA6;\n",
              "    }\n",
              "\n",
              "    .colab-df-buttons div {\n",
              "      margin-bottom: 4px;\n",
              "    }\n",
              "\n",
              "    [theme=dark] .colab-df-convert {\n",
              "      background-color: #3B4455;\n",
              "      fill: #D2E3FC;\n",
              "    }\n",
              "\n",
              "    [theme=dark] .colab-df-convert:hover {\n",
              "      background-color: #434B5C;\n",
              "      box-shadow: 0px 1px 3px 1px rgba(0, 0, 0, 0.15);\n",
              "      filter: drop-shadow(0px 1px 2px rgba(0, 0, 0, 0.3));\n",
              "      fill: #FFFFFF;\n",
              "    }\n",
              "  </style>\n",
              "\n",
              "    <script>\n",
              "      const buttonEl =\n",
              "        document.querySelector('#df-12016eb2-cb6c-40e6-aedf-e66632cd295b button.colab-df-convert');\n",
              "      buttonEl.style.display =\n",
              "        google.colab.kernel.accessAllowed ? 'block' : 'none';\n",
              "\n",
              "      async function convertToInteractive(key) {\n",
              "        const element = document.querySelector('#df-12016eb2-cb6c-40e6-aedf-e66632cd295b');\n",
              "        const dataTable =\n",
              "          await google.colab.kernel.invokeFunction('convertToInteractive',\n",
              "                                                    [key], {});\n",
              "        if (!dataTable) return;\n",
              "\n",
              "        const docLinkHtml = 'Like what you see? Visit the ' +\n",
              "          '<a target=\"_blank\" href=https://colab.research.google.com/notebooks/data_table.ipynb>data table notebook</a>'\n",
              "          + ' to learn more about interactive tables.';\n",
              "        element.innerHTML = '';\n",
              "        dataTable['output_type'] = 'display_data';\n",
              "        await google.colab.output.renderOutput(dataTable, element);\n",
              "        const docLink = document.createElement('div');\n",
              "        docLink.innerHTML = docLinkHtml;\n",
              "        element.appendChild(docLink);\n",
              "      }\n",
              "    </script>\n",
              "  </div>\n",
              "\n",
              "\n",
              "    <div id=\"df-f6ba39ab-192e-4d23-9c6f-b7975b8501d2\">\n",
              "      <button class=\"colab-df-quickchart\" onclick=\"quickchart('df-f6ba39ab-192e-4d23-9c6f-b7975b8501d2')\"\n",
              "                title=\"Suggest charts\"\n",
              "                style=\"display:none;\">\n",
              "\n",
              "<svg xmlns=\"http://www.w3.org/2000/svg\" height=\"24px\"viewBox=\"0 0 24 24\"\n",
              "     width=\"24px\">\n",
              "    <g>\n",
              "        <path d=\"M19 3H5c-1.1 0-2 .9-2 2v14c0 1.1.9 2 2 2h14c1.1 0 2-.9 2-2V5c0-1.1-.9-2-2-2zM9 17H7v-7h2v7zm4 0h-2V7h2v10zm4 0h-2v-4h2v4z\"/>\n",
              "    </g>\n",
              "</svg>\n",
              "      </button>\n",
              "\n",
              "<style>\n",
              "  .colab-df-quickchart {\n",
              "      --bg-color: #E8F0FE;\n",
              "      --fill-color: #1967D2;\n",
              "      --hover-bg-color: #E2EBFA;\n",
              "      --hover-fill-color: #174EA6;\n",
              "      --disabled-fill-color: #AAA;\n",
              "      --disabled-bg-color: #DDD;\n",
              "  }\n",
              "\n",
              "  [theme=dark] .colab-df-quickchart {\n",
              "      --bg-color: #3B4455;\n",
              "      --fill-color: #D2E3FC;\n",
              "      --hover-bg-color: #434B5C;\n",
              "      --hover-fill-color: #FFFFFF;\n",
              "      --disabled-bg-color: #3B4455;\n",
              "      --disabled-fill-color: #666;\n",
              "  }\n",
              "\n",
              "  .colab-df-quickchart {\n",
              "    background-color: var(--bg-color);\n",
              "    border: none;\n",
              "    border-radius: 50%;\n",
              "    cursor: pointer;\n",
              "    display: none;\n",
              "    fill: var(--fill-color);\n",
              "    height: 32px;\n",
              "    padding: 0;\n",
              "    width: 32px;\n",
              "  }\n",
              "\n",
              "  .colab-df-quickchart:hover {\n",
              "    background-color: var(--hover-bg-color);\n",
              "    box-shadow: 0 1px 2px rgba(60, 64, 67, 0.3), 0 1px 3px 1px rgba(60, 64, 67, 0.15);\n",
              "    fill: var(--button-hover-fill-color);\n",
              "  }\n",
              "\n",
              "  .colab-df-quickchart-complete:disabled,\n",
              "  .colab-df-quickchart-complete:disabled:hover {\n",
              "    background-color: var(--disabled-bg-color);\n",
              "    fill: var(--disabled-fill-color);\n",
              "    box-shadow: none;\n",
              "  }\n",
              "\n",
              "  .colab-df-spinner {\n",
              "    border: 2px solid var(--fill-color);\n",
              "    border-color: transparent;\n",
              "    border-bottom-color: var(--fill-color);\n",
              "    animation:\n",
              "      spin 1s steps(1) infinite;\n",
              "  }\n",
              "\n",
              "  @keyframes spin {\n",
              "    0% {\n",
              "      border-color: transparent;\n",
              "      border-bottom-color: var(--fill-color);\n",
              "      border-left-color: var(--fill-color);\n",
              "    }\n",
              "    20% {\n",
              "      border-color: transparent;\n",
              "      border-left-color: var(--fill-color);\n",
              "      border-top-color: var(--fill-color);\n",
              "    }\n",
              "    30% {\n",
              "      border-color: transparent;\n",
              "      border-left-color: var(--fill-color);\n",
              "      border-top-color: var(--fill-color);\n",
              "      border-right-color: var(--fill-color);\n",
              "    }\n",
              "    40% {\n",
              "      border-color: transparent;\n",
              "      border-right-color: var(--fill-color);\n",
              "      border-top-color: var(--fill-color);\n",
              "    }\n",
              "    60% {\n",
              "      border-color: transparent;\n",
              "      border-right-color: var(--fill-color);\n",
              "    }\n",
              "    80% {\n",
              "      border-color: transparent;\n",
              "      border-right-color: var(--fill-color);\n",
              "      border-bottom-color: var(--fill-color);\n",
              "    }\n",
              "    90% {\n",
              "      border-color: transparent;\n",
              "      border-bottom-color: var(--fill-color);\n",
              "    }\n",
              "  }\n",
              "</style>\n",
              "\n",
              "      <script>\n",
              "        async function quickchart(key) {\n",
              "          const quickchartButtonEl =\n",
              "            document.querySelector('#' + key + ' button');\n",
              "          quickchartButtonEl.disabled = true;  // To prevent multiple clicks.\n",
              "          quickchartButtonEl.classList.add('colab-df-spinner');\n",
              "          try {\n",
              "            const charts = await google.colab.kernel.invokeFunction(\n",
              "                'suggestCharts', [key], {});\n",
              "          } catch (error) {\n",
              "            console.error('Error during call to suggestCharts:', error);\n",
              "          }\n",
              "          quickchartButtonEl.classList.remove('colab-df-spinner');\n",
              "          quickchartButtonEl.classList.add('colab-df-quickchart-complete');\n",
              "        }\n",
              "        (() => {\n",
              "          let quickchartButtonEl =\n",
              "            document.querySelector('#df-f6ba39ab-192e-4d23-9c6f-b7975b8501d2 button');\n",
              "          quickchartButtonEl.style.display =\n",
              "            google.colab.kernel.accessAllowed ? 'block' : 'none';\n",
              "        })();\n",
              "      </script>\n",
              "    </div>\n",
              "\n",
              "  <div id=\"id_d4b6aba5-aebf-42b5-bc47-68a436db656e\">\n",
              "    <style>\n",
              "      .colab-df-generate {\n",
              "        background-color: #E8F0FE;\n",
              "        border: none;\n",
              "        border-radius: 50%;\n",
              "        cursor: pointer;\n",
              "        display: none;\n",
              "        fill: #1967D2;\n",
              "        height: 32px;\n",
              "        padding: 0 0 0 0;\n",
              "        width: 32px;\n",
              "      }\n",
              "\n",
              "      .colab-df-generate:hover {\n",
              "        background-color: #E2EBFA;\n",
              "        box-shadow: 0px 1px 2px rgba(60, 64, 67, 0.3), 0px 1px 3px 1px rgba(60, 64, 67, 0.15);\n",
              "        fill: #174EA6;\n",
              "      }\n",
              "\n",
              "      [theme=dark] .colab-df-generate {\n",
              "        background-color: #3B4455;\n",
              "        fill: #D2E3FC;\n",
              "      }\n",
              "\n",
              "      [theme=dark] .colab-df-generate:hover {\n",
              "        background-color: #434B5C;\n",
              "        box-shadow: 0px 1px 3px 1px rgba(0, 0, 0, 0.15);\n",
              "        filter: drop-shadow(0px 1px 2px rgba(0, 0, 0, 0.3));\n",
              "        fill: #FFFFFF;\n",
              "      }\n",
              "    </style>\n",
              "    <button class=\"colab-df-generate\" onclick=\"generateWithVariable('df_train')\"\n",
              "            title=\"Generate code using this dataframe.\"\n",
              "            style=\"display:none;\">\n",
              "\n",
              "  <svg xmlns=\"http://www.w3.org/2000/svg\" height=\"24px\"viewBox=\"0 0 24 24\"\n",
              "       width=\"24px\">\n",
              "    <path d=\"M7,19H8.4L18.45,9,17,7.55,7,17.6ZM5,21V16.75L18.45,3.32a2,2,0,0,1,2.83,0l1.4,1.43a1.91,1.91,0,0,1,.58,1.4,1.91,1.91,0,0,1-.58,1.4L9.25,21ZM18.45,9,17,7.55Zm-12,3A5.31,5.31,0,0,0,4.9,8.1,5.31,5.31,0,0,0,1,6.5,5.31,5.31,0,0,0,4.9,4.9,5.31,5.31,0,0,0,6.5,1,5.31,5.31,0,0,0,8.1,4.9,5.31,5.31,0,0,0,12,6.5,5.46,5.46,0,0,0,6.5,12Z\"/>\n",
              "  </svg>\n",
              "    </button>\n",
              "    <script>\n",
              "      (() => {\n",
              "      const buttonEl =\n",
              "        document.querySelector('#id_d4b6aba5-aebf-42b5-bc47-68a436db656e button.colab-df-generate');\n",
              "      buttonEl.style.display =\n",
              "        google.colab.kernel.accessAllowed ? 'block' : 'none';\n",
              "\n",
              "      buttonEl.onclick = () => {\n",
              "        google.colab.notebook.generateWithVariable('df_train');\n",
              "      }\n",
              "      })();\n",
              "    </script>\n",
              "  </div>\n",
              "\n",
              "    </div>\n",
              "  </div>\n"
            ],
            "application/vnd.google.colaboratory.intrinsic+json": {
              "type": "dataframe",
              "variable_name": "df_train",
              "summary": "{\n  \"name\": \"df_train\",\n  \"rows\": 16325,\n  \"fields\": [\n    {\n      \"column\": \"api_call_sequence\",\n      \"properties\": {\n        \"dtype\": \"object\",\n        \"semantic_type\": \"\",\n        \"description\": \"\"\n      }\n    },\n    {\n      \"column\": \"is_malware\",\n      \"properties\": {\n        \"dtype\": \"number\",\n        \"std\": 0,\n        \"min\": 0,\n        \"max\": 1,\n        \"num_unique_values\": 2,\n        \"samples\": [\n          0,\n          1\n        ],\n        \"semantic_type\": \"\",\n        \"description\": \"\"\n      }\n    },\n    {\n      \"column\": \"seq_length\",\n      \"properties\": {\n        \"dtype\": \"number\",\n        \"std\": 8,\n        \"min\": 60,\n        \"max\": 90,\n        \"num_unique_values\": 31,\n        \"samples\": [\n          60,\n          83\n        ],\n        \"semantic_type\": \"\",\n        \"description\": \"\"\n      }\n    },\n    {\n      \"column\": \"seq_fixed\",\n      \"properties\": {\n        \"dtype\": \"object\",\n        \"semantic_type\": \"\",\n        \"description\": \"\"\n      }\n    }\n  ]\n}"
            }
          },
          "metadata": {},
          "execution_count": 80
        }
      ]
    },
    {
      "cell_type": "code",
      "source": [
        "# --- Compare distributions visually ---\n",
        "plt.figure(figsize=(8, 5))\n",
        "plt.hist(df_train['seq_length'], bins=50, alpha=0.6, label='Train', density=True)\n",
        "plt.hist(df_test['seq_length'], bins=50, alpha=0.6, label='Test', density=True)\n",
        "plt.xlabel(\"Number of API calls per sequence\")\n",
        "plt.ylabel(\"Density\")\n",
        "plt.title(\"Distribution of sequence lengths (train vs test)\")\n",
        "plt.legend()\n",
        "plt.show()"
      ],
      "metadata": {
        "colab": {
          "base_uri": "https://localhost:8080/",
          "height": 499
        },
        "id": "4yPx_SxZTjXp",
        "outputId": "b99381b4-c4f8-4a93-f9be-f8be0aeb35ef"
      },
      "id": "4yPx_SxZTjXp",
      "execution_count": 81,
      "outputs": [
        {
          "output_type": "display_data",
          "data": {
            "text/plain": [
              "<Figure size 800x500 with 1 Axes>"
            ],
            "image/png": "[encoded data removed]"
          },
          "metadata": {}
        }
      ]
    },
    {
      "cell_type": "markdown",
      "source": [
        "#### Q: Do you have the same number of API calls per sequence? If not, is the distribution of API calls per sequence the same for training and test sets?"
      ],
      "metadata": {
        "id": "jaJDCdvSbkBr"
      },
      "id": "jaJDCdvSbkBr"
    },
    {
      "cell_type": "markdown",
      "source": [
        "#### Q: Can a FFNN handle a variable number of elements? If not, why?"
      ],
      "metadata": {
        "id": "KQ3p_4-XblBt"
      },
      "id": "KQ3p_4-XblBt"
    },
    {
      "cell_type": "markdown",
      "source": [
        "### Fixed-Size Sequences"
      ],
      "metadata": {
        "id": "-1YpgfFGce9i"
      },
      "id": "-1YpgfFGce9i"
    },
    {
      "cell_type": "code",
      "source": [
        "# Compute sequence lengths in training set\n",
        "seq_lengths = df_train['api_call_sequence'].apply(len)\n",
        "\n",
        "# Option 1: maximum length\n",
        "max_len = seq_lengths.max()\n",
        "\n",
        "# Option 2: median\n",
        "median_len = int(seq_lengths.median())\n",
        "\n",
        "# Option 3: 75th percentile\n",
        "p75_len = int(np.percentile(seq_lengths, 75))\n",
        "\n",
        "print(f\"Max length: {max_len}\")\n",
        "print(f\"Median length: {median_len}\")\n",
        "print(f\"75th percentile length: {p75_len}\")"
      ],
      "metadata": {
        "colab": {
          "base_uri": "https://localhost:8080/"
        },
        "id": "l7-oDdaFUqJq",
        "outputId": "f9d5d9bc-35cc-4723-fc34-a2dd5ba450fe"
      },
      "id": "l7-oDdaFUqJq",
      "execution_count": 82,
      "outputs": [
        {
          "output_type": "stream",
          "name": "stdout",
          "text": [
            "Max length: 90\n",
            "Median length: 75\n",
            "75th percentile length: 83\n"
          ]
        }
      ]
    },
    {
      "cell_type": "markdown",
      "source": [
        "#### Q: How to estimate a fixed-size candidate? Which partition do you use to estimate it?"
      ],
      "metadata": {
        "id": "F1z-IWJhbk6a"
      },
      "id": "F1z-IWJhbk6a"
    },
    {
      "cell_type": "code",
      "source": [
        "def pad_truncate_sequence(seq, fixed_len, pad_value=0):\n",
        "    \"\"\"\n",
        "    Convert a variable-length sequence into a fixed-length sequence.\n",
        "\n",
        "    Args:\n",
        "        seq (list): original sequence (list of API calls)\n",
        "        fixed_len (int): target length L\n",
        "        pad_value: value to use for padding (0 is common for integers)\n",
        "\n",
        "    Returns:\n",
        "        list of length fixed_len\n",
        "    \"\"\"\n",
        "    if len(seq) < fixed_len:\n",
        "        # Pad at the end\n",
        "        seq_padded = seq + [pad_value] * (fixed_len - len(seq))\n",
        "    else:\n",
        "        # Truncate at the end\n",
        "        seq_padded = seq[:fixed_len]\n",
        "    return seq_padded"
      ],
      "metadata": {
        "id": "VXOSEL_pUsm_"
      },
      "id": "VXOSEL_pUsm_",
      "execution_count": 83,
      "outputs": []
    },
    {
      "cell_type": "code",
      "source": [
        "L = p75_len # chosen fixed size\n",
        "\n",
        "# Apply the padding or truncating to all the dataframe\n",
        "df_train['seq_fixed'] = df_train['api_call_sequence'].apply(lambda x: pad_truncate_sequence(x, L))\n",
        "\n",
        "# Inspect the train set (e.g. the first row)\n",
        "print(\"First row of the train set before padding:\")\n",
        "print(df_train['api_call_sequence'].iloc[0])\n",
        "print(len(df_train['api_call_sequence'].iloc[0])) # should be less than L\n",
        "\n",
        "print(\"\\nFirst row of the train set after padding:\")\n",
        "print(df_train['seq_fixed'].iloc[0])\n",
        "print(len(df_train['seq_fixed'].iloc[0])) # should be exactly L"
      ],
      "metadata": {
        "colab": {
          "base_uri": "https://localhost:8080/"
        },
        "id": "BU9pKI6hUtUl",
        "outputId": "a5792ccd-4796-49ef-f74b-4db431698ef2"
      },
      "id": "BU9pKI6hUtUl",
      "execution_count": 84,
      "outputs": [
        {
          "output_type": "stream",
          "name": "stdout",
          "text": [
            "First row of the train set before padding:\n",
            "['LdrGetDllHandle', 'LdrGetProcedureAddress', 'LdrLoadDll', 'LdrGetProcedureAddress', 'LdrGetDllHandle', 'LdrGetProcedureAddress', 'GetTimeZoneInformation', 'LoadStringW', 'RegOpenKeyExW', 'RegQueryValueExW', 'RegCloseKey', 'LdrGetDllHandle', 'LdrGetProcedureAddress', 'LdrGetDllHandle', 'LdrGetProcedureAddress', 'SetErrorMode', 'LdrLoadDll', 'SetErrorMode', 'LdrLoadDll', 'SetErrorMode', 'GetSystemMetrics', 'FindResourceExW', 'OleInitialize', 'FindResourceExW', 'LoadResource', 'FindResourceExW', 'LoadResource', 'NtClose', 'NtAllocateVirtualMemory', 'GetSystemMetrics', 'NtAllocateVirtualMemory', 'LdrLoadDll', 'LdrGetProcedureAddress', 'LdrLoadDll', 'LdrGetProcedureAddress', 'LdrLoadDll', 'LdrGetProcedureAddress', 'LdrLoadDll', 'LdrGetProcedureAddress', 'LdrLoadDll', 'LdrGetProcedureAddress', 'LookupAccountSidW', 'LdrGetProcedureAddress', 'LookupAccountSidW', 'LdrLoadDll', 'LdrGetProcedureAddress', 'LdrLoadDll', 'LdrGetProcedureAddress', 'LdrLoadDll', 'LdrGetProcedureAddress', 'LdrGetDllHandle', 'FindResourceExW', 'LoadResource', 'FindResourceExW', 'LoadResource', 'DrawTextExW', 'GetSystemMetrics', 'FindResourceExW', 'LoadResource', 'GetSystemMetrics', 'DrawTextExW', 'LdrGetDllHandle', 'FindResourceExW', 'LoadResource', 'FindResourceExW', 'LoadResource', 'FindResourceExW', 'LoadResource', 'LdrGetDllHandle', 'LdrGetProcedureAddress', 'LoadStringW', 'LdrGetDllHandle', 'LdrGetProcedureAddress']\n",
            "73\n",
            "\n",
            "First row of the train set after padding:\n",
            "['LdrGetDllHandle', 'LdrGetProcedureAddress', 'LdrLoadDll', 'LdrGetProcedureAddress', 'LdrGetDllHandle', 'LdrGetProcedureAddress', 'GetTimeZoneInformation', 'LoadStringW', 'RegOpenKeyExW', 'RegQueryValueExW', 'RegCloseKey', 'LdrGetDllHandle', 'LdrGetProcedureAddress', 'LdrGetDllHandle', 'LdrGetProcedureAddress', 'SetErrorMode', 'LdrLoadDll', 'SetErrorMode', 'LdrLoadDll', 'SetErrorMode', 'GetSystemMetrics', 'FindResourceExW', 'OleInitialize', 'FindResourceExW', 'LoadResource', 'FindResourceExW', 'LoadResource', 'NtClose', 'NtAllocateVirtualMemory', 'GetSystemMetrics', 'NtAllocateVirtualMemory', 'LdrLoadDll', 'LdrGetProcedureAddress', 'LdrLoadDll', 'LdrGetProcedureAddress', 'LdrLoadDll', 'LdrGetProcedureAddress', 'LdrLoadDll', 'LdrGetProcedureAddress', 'LdrLoadDll', 'LdrGetProcedureAddress', 'LookupAccountSidW', 'LdrGetProcedureAddress', 'LookupAccountSidW', 'LdrLoadDll', 'LdrGetProcedureAddress', 'LdrLoadDll', 'LdrGetProcedureAddress', 'LdrLoadDll', 'LdrGetProcedureAddress', 'LdrGetDllHandle', 'FindResourceExW', 'LoadResource', 'FindResourceExW', 'LoadResource', 'DrawTextExW', 'GetSystemMetrics', 'FindResourceExW', 'LoadResource', 'GetSystemMetrics', 'DrawTextExW', 'LdrGetDllHandle', 'FindResourceExW', 'LoadResource', 'FindResourceExW', 'LoadResource', 'FindResourceExW', 'LoadResource', 'LdrGetDllHandle', 'LdrGetProcedureAddress', 'LoadStringW', 'LdrGetDllHandle', 'LdrGetProcedureAddress', 0, 0, 0, 0, 0, 0, 0, 0, 0, 0]\n",
            "83\n"
          ]
        }
      ]
    },
    {
      "cell_type": "markdown",
      "source": [
        "#### Q: Given the estimate, what technique could you use to obtain the same number of API calls per sequence?"
      ],
      "metadata": {
        "id": "7mZhjlflbkyG"
      },
      "id": "7mZhjlflbkyG"
    },
    {
      "cell_type": "code",
      "source": [
        "# --- To ensure consistency, we apply the padding or truncating to also on the test df ---\n",
        "df_test['seq_fixed'] = df_test['api_call_sequence'].apply(lambda x: pad_truncate_sequence(x, L))"
      ],
      "metadata": {
        "id": "zqPHi_O7Uwn0"
      },
      "id": "zqPHi_O7Uwn0",
      "execution_count": 85,
      "outputs": []
    },
    {
      "cell_type": "markdown",
      "source": [
        "#### Q: If at test time you have more API calls than the fixed-size, what do you do with the exceeding API calls?"
      ],
      "metadata": {
        "id": "Pt9eHesxbkqR"
      },
      "id": "Pt9eHesxbkqR"
    },
    {
      "cell_type": "markdown",
      "source": [
        "### Handling Categorical Features"
      ],
      "metadata": {
        "id": "ZKDxmJEsccAw"
      },
      "id": "ZKDxmJEsccAw"
    },
    {
      "cell_type": "code",
      "source": [
        "# --- Handling Categorical Features ---\n",
        "\n",
        "# Combine train and test sequences to create a unified vocabulary for consistent mapping\n",
        "all_sequences = pd.concat([df_train['seq_fixed'], df_test['seq_fixed']], axis=0)\n",
        "all_api_calls = [api for seq in all_sequences for api in seq]\n",
        "\n",
        "# Handle the padding value (0) - ensure it's treated as a special token\n",
        "# We'll add a placeholder for padding in the vocabulary if it's not already there.\n",
        "# Since we used 0 for padding, we need to adjust the mapping.\n",
        "# Let's map padding to index 0 and start API call indices from 1.\n",
        "unique_api_calls = sorted(list(set(api for api in all_api_calls if isinstance(api, str)))) # Filter out non-string elements before sorting\n",
        "if 0 in all_api_calls and 0 not in unique_api_calls:\n",
        "     unique_api_calls.insert(0, 0) # Add 0 to the beginning of the list if it was in the original sequences\n",
        "\n",
        "# Create a mapping from API call to sequential ID (starting from 1 for API calls, 0 for padding)\n",
        "api_to_id = {api: i for i, api in enumerate(unique_api_calls)}\n",
        "\n",
        "\n",
        "# Create a mapping from ID back to API call (for verification)\n",
        "id_to_api = {i: api for api, i in api_to_id.items()}\n",
        "\n",
        "print(f\"Number of unique API calls (including padding): {len(api_to_id)}\")\n",
        "print(\"API call to ID mapping example:\", list(api_to_id.items())[:5])\n",
        "print(\"ID to API call mapping example:\", list(id_to_api.items())[:5])"
      ],
      "metadata": {
        "colab": {
          "base_uri": "https://localhost:8080/"
        },
        "id": "Jmplj_pKYp2D",
        "outputId": "6a2bbd02-4f2a-4e63-c422-b672f68eeed1"
      },
      "id": "Jmplj_pKYp2D",
      "execution_count": 90,
      "outputs": [
        {
          "output_type": "stream",
          "name": "stdout",
          "text": [
            "Number of unique API calls (including padding): 262\n",
            "API call to ID mapping example: [(0, 0), ('CertOpenStore', 1), ('CertOpenSystemStoreW', 2), ('CoCreateInstance', 3), ('CoCreateInstanceEx', 4)]\n",
            "ID to API call mapping example: [(0, 0), (1, 'CertOpenStore'), (2, 'CertOpenSystemStoreW'), (3, 'CoCreateInstance'), (4, 'CoCreateInstanceEx')]\n"
          ]
        }
      ]
    },
    {
      "cell_type": "code",
      "source": [
        "# --- 1. Sequential identifiers ---\n",
        "# Convert the fixed-size sequences to sequences of sequential IDs\n",
        "df_train['seq_sequential_ids'] = df_train['seq_fixed'].apply(lambda seq: [api_to_id[api] for api in seq])\n",
        "df_test['seq_sequential_ids'] = df_test['seq_fixed'].apply(lambda seq: [api_to_id[api] for api in seq])\n",
        "\n",
        "print(\"\\nFirst row of train set with sequential IDs:\")\n",
        "print(df_train['seq_sequential_ids'].iloc[0])\n",
        "print(len(df_train['seq_sequential_ids'].iloc[0]))\n",
        "\n",
        "print(\"\\nFirst row of test set with sequential IDs:\")\n",
        "print(df_test['seq_sequential_ids'].iloc[0])\n",
        "print(len(df_test['seq_sequential_ids'].iloc[0]))"
      ],
      "metadata": {
        "colab": {
          "base_uri": "https://localhost:8080/"
        },
        "id": "vLcg95IFY0ot",
        "outputId": "9d8920db-0584-42f1-ed74-bd9de4f75e8a"
      },
      "id": "vLcg95IFY0ot",
      "execution_count": 91,
      "outputs": [
        {
          "output_type": "stream",
          "name": "stdout",
          "text": [
            "\n",
            "First row of train set with sequential IDs:\n",
            "[117, 118, 119, 118, 117, 118, 86, 123, 202, 206, 189, 117, 118, 117, 118, 220, 119, 220, 119, 220, 81, 46, 180, 46, 121, 46, 121, 134, 133, 81, 133, 119, 118, 119, 118, 119, 118, 119, 118, 119, 118, 124, 118, 124, 119, 118, 119, 118, 119, 118, 117, 46, 121, 46, 121, 39, 81, 46, 121, 81, 39, 117, 46, 121, 46, 121, 46, 121, 117, 118, 123, 117, 118, 0, 0, 0, 0, 0, 0, 0, 0, 0, 0]\n",
            "83\n",
            "\n",
            "First row of test set with sequential IDs:\n",
            "[165, 134, 153, 165, 134, 160, 122, 133, 122, 117, 118, 117, 118, 117, 122, 118, 81, 46, 121, 46, 121, 46, 121, 46, 121, 46, 121, 46, 121, 46, 121, 46, 121, 46, 121, 46, 121, 46, 121, 46, 121, 46, 121, 46, 121, 118, 46, 121, 46, 121, 133, 81, 134, 81, 133, 119, 118, 117, 46, 121, 46, 121, 39, 81, 46, 121, 81, 39, 117, 46, 121, 46, 121, 46, 121, 117, 118, 122, 117, 118, 117, 118, 81]\n",
            "83\n"
          ]
        }
      ]
    },
    {
      "cell_type": "code",
      "source": [
        "df_train"
      ],
      "metadata": {
        "colab": {
          "base_uri": "https://localhost:8080/",
          "height": 657
        },
        "id": "M9_v-QDyZNMw",
        "outputId": "4b79623e-0680-4145-9913-537e266d1f83"
      },
      "id": "M9_v-QDyZNMw",
      "execution_count": 92,
      "outputs": [
        {
          "output_type": "execute_result",
          "data": {
            "text/plain": [
              "                                       api_call_sequence  is_malware  \\\n",
              "0      [LdrGetDllHandle, LdrGetProcedureAddress, LdrL...           1   \n",
              "1      [NtAllocateVirtualMemory, LdrLoadDll, LdrGetPr...           1   \n",
              "2      [FindResourceExW, LoadResource, FindResourceEx...           1   \n",
              "3      [FindResourceExW, LoadResource, FindResourceEx...           1   \n",
              "4      [LdrGetProcedureAddress, SetErrorMode, LdrLoad...           1   \n",
              "...                                                  ...         ...   \n",
              "16320  [LdrGetProcedureAddress, LdrLoadDll, LdrGetPro...           1   \n",
              "16321  [NtClose, LdrGetProcedureAddress, CryptCreateH...           1   \n",
              "16322  [LdrGetProcedureAddress, LdrGetDllHandle, LdrG...           1   \n",
              "16323  [LdrGetProcedureAddress, LdrGetDllHandle, LdrG...           1   \n",
              "16324  [SetFilePointer, NtReadFile, SetFilePointer, N...           1   \n",
              "\n",
              "       seq_length                                          seq_fixed  \\\n",
              "0              73  [LdrGetDllHandle, LdrGetProcedureAddress, LdrL...   \n",
              "1              88  [NtAllocateVirtualMemory, LdrLoadDll, LdrGetPr...   \n",
              "2              79  [FindResourceExW, LoadResource, FindResourceEx...   \n",
              "3              71  [FindResourceExW, LoadResource, FindResourceEx...   \n",
              "4              63  [LdrGetProcedureAddress, SetErrorMode, LdrLoad...   \n",
              "...           ...                                                ...   \n",
              "16320          64  [LdrGetProcedureAddress, LdrLoadDll, LdrGetPro...   \n",
              "16321          78  [NtClose, LdrGetProcedureAddress, CryptCreateH...   \n",
              "16322          84  [LdrGetProcedureAddress, LdrGetDllHandle, LdrG...   \n",
              "16323          62  [LdrGetProcedureAddress, LdrGetDllHandle, LdrG...   \n",
              "16324          77  [SetFilePointer, NtReadFile, SetFilePointer, N...   \n",
              "\n",
              "                                      seq_sequential_ids  \n",
              "0      [117, 118, 119, 118, 117, 118, 86, 123, 202, 2...  \n",
              "1      [133, 119, 118, 82, 80, 137, 82, 153, 154, 164...  \n",
              "2      [46, 121, 46, 121, 46, 121, 46, 121, 46, 121, ...  \n",
              "3      [46, 121, 46, 121, 46, 121, 46, 121, 46, 121, ...  \n",
              "4      [118, 220, 119, 220, 81, 46, 121, 46, 121, 46,...  \n",
              "...                                                  ...  \n",
              "16320  [118, 119, 118, 119, 118, 119, 118, 119, 118, ...  \n",
              "16321  [134, 118, 24, 118, 30, 118, 135, 66, 222, 167...  \n",
              "16322  [118, 117, 118, 81, 217, 119, 118, 46, 121, 46...  \n",
              "16323  [118, 117, 118, 117, 118, 117, 118, 117, 118, ...  \n",
              "16324  [222, 167, 222, 167, 222, 45, 121, 133, 147, 1...  \n",
              "\n",
              "[16325 rows x 5 columns]"
            ],
            "text/html": [
              "\n",
              "  <div id=\"df-22c1ddf5-36dc-4eca-8231-91f128a282e4\" class=\"colab-df-container\">\n",
              "    <div>\n",
              "<style scoped>\n",
              "    .dataframe tbody tr th:only-of-type {\n",
              "        vertical-align: middle;\n",
              "    }\n",
              "\n",
              "    .dataframe tbody tr th {\n",
              "        vertical-align: top;\n",
              "    }\n",
              "\n",
              "    .dataframe thead th {\n",
              "        text-align: right;\n",
              "    }\n",
              "</style>\n",
              "<table border=\"1\" class=\"dataframe\">\n",
              "  <thead>\n",
              "    <tr style=\"text-align: right;\">\n",
              "      <th></th>\n",
              "      <th>api_call_sequence</th>\n",
              "      <th>is_malware</th>\n",
              "      <th>seq_length</th>\n",
              "      <th>seq_fixed</th>\n",
              "      <th>seq_sequential_ids</th>\n",
              "    </tr>\n",
              "  </thead>\n",
              "  <tbody>\n",
              "    <tr>\n",
              "      <th>0</th>\n",
              "      <td>[LdrGetDllHandle, LdrGetProcedureAddress, LdrL...</td>\n",
              "      <td>1</td>\n",
              "      <td>73</td>\n",
              "      <td>[LdrGetDllHandle, LdrGetProcedureAddress, LdrL...</td>\n",
              "      <td>[117, 118, 119, 118, 117, 118, 86, 123, 202, 2...</td>\n",
              "    </tr>\n",
              "    <tr>\n",
              "      <th>1</th>\n",
              "      <td>[NtAllocateVirtualMemory, LdrLoadDll, LdrGetPr...</td>\n",
              "      <td>1</td>\n",
              "      <td>88</td>\n",
              "      <td>[NtAllocateVirtualMemory, LdrLoadDll, LdrGetPr...</td>\n",
              "      <td>[133, 119, 118, 82, 80, 137, 82, 153, 154, 164...</td>\n",
              "    </tr>\n",
              "    <tr>\n",
              "      <th>2</th>\n",
              "      <td>[FindResourceExW, LoadResource, FindResourceEx...</td>\n",
              "      <td>1</td>\n",
              "      <td>79</td>\n",
              "      <td>[FindResourceExW, LoadResource, FindResourceEx...</td>\n",
              "      <td>[46, 121, 46, 121, 46, 121, 46, 121, 46, 121, ...</td>\n",
              "    </tr>\n",
              "    <tr>\n",
              "      <th>3</th>\n",
              "      <td>[FindResourceExW, LoadResource, FindResourceEx...</td>\n",
              "      <td>1</td>\n",
              "      <td>71</td>\n",
              "      <td>[FindResourceExW, LoadResource, FindResourceEx...</td>\n",
              "      <td>[46, 121, 46, 121, 46, 121, 46, 121, 46, 121, ...</td>\n",
              "    </tr>\n",
              "    <tr>\n",
              "      <th>4</th>\n",
              "      <td>[LdrGetProcedureAddress, SetErrorMode, LdrLoad...</td>\n",
              "      <td>1</td>\n",
              "      <td>63</td>\n",
              "      <td>[LdrGetProcedureAddress, SetErrorMode, LdrLoad...</td>\n",
              "      <td>[118, 220, 119, 220, 81, 46, 121, 46, 121, 46,...</td>\n",
              "    </tr>\n",
              "    <tr>\n",
              "      <th>...</th>\n",
              "      <td>...</td>\n",
              "      <td>...</td>\n",
              "      <td>...</td>\n",
              "      <td>...</td>\n",
              "      <td>...</td>\n",
              "    </tr>\n",
              "    <tr>\n",
              "      <th>16320</th>\n",
              "      <td>[LdrGetProcedureAddress, LdrLoadDll, LdrGetPro...</td>\n",
              "      <td>1</td>\n",
              "      <td>64</td>\n",
              "      <td>[LdrGetProcedureAddress, LdrLoadDll, LdrGetPro...</td>\n",
              "      <td>[118, 119, 118, 119, 118, 119, 118, 119, 118, ...</td>\n",
              "    </tr>\n",
              "    <tr>\n",
              "      <th>16321</th>\n",
              "      <td>[NtClose, LdrGetProcedureAddress, CryptCreateH...</td>\n",
              "      <td>1</td>\n",
              "      <td>78</td>\n",
              "      <td>[NtClose, LdrGetProcedureAddress, CryptCreateH...</td>\n",
              "      <td>[134, 118, 24, 118, 30, 118, 135, 66, 222, 167...</td>\n",
              "    </tr>\n",
              "    <tr>\n",
              "      <th>16322</th>\n",
              "      <td>[LdrGetProcedureAddress, LdrGetDllHandle, LdrG...</td>\n",
              "      <td>1</td>\n",
              "      <td>84</td>\n",
              "      <td>[LdrGetProcedureAddress, LdrGetDllHandle, LdrG...</td>\n",
              "      <td>[118, 117, 118, 81, 217, 119, 118, 46, 121, 46...</td>\n",
              "    </tr>\n",
              "    <tr>\n",
              "      <th>16323</th>\n",
              "      <td>[LdrGetProcedureAddress, LdrGetDllHandle, LdrG...</td>\n",
              "      <td>1</td>\n",
              "      <td>62</td>\n",
              "      <td>[LdrGetProcedureAddress, LdrGetDllHandle, LdrG...</td>\n",
              "      <td>[118, 117, 118, 117, 118, 117, 118, 117, 118, ...</td>\n",
              "    </tr>\n",
              "    <tr>\n",
              "      <th>16324</th>\n",
              "      <td>[SetFilePointer, NtReadFile, SetFilePointer, N...</td>\n",
              "      <td>1</td>\n",
              "      <td>77</td>\n",
              "      <td>[SetFilePointer, NtReadFile, SetFilePointer, N...</td>\n",
              "      <td>[222, 167, 222, 167, 222, 45, 121, 133, 147, 1...</td>\n",
              "    </tr>\n",
              "  </tbody>\n",
              "</table>\n",
              "<p>16325 rows × 5 columns</p>\n",
              "</div>\n",
              "    <div class=\"colab-df-buttons\">\n",
              "\n",
              "  <div class=\"colab-df-container\">\n",
              "    <button class=\"colab-df-convert\" onclick=\"convertToInteractive('df-22c1ddf5-36dc-4eca-8231-91f128a282e4')\"\n",
              "            title=\"Convert this dataframe to an interactive table.\"\n",
              "            style=\"display:none;\">\n",
              "\n",
              "  <svg xmlns=\"http://www.w3.org/2000/svg\" height=\"24px\" viewBox=\"0 -960 960 960\">\n",
              "    <path d=\"M120-120v-720h720v720H120Zm60-500h600v-160H180v160Zm220 220h160v-160H400v160Zm0 220h160v-160H400v160ZM180-400h160v-160H180v160Zm440 0h160v-160H620v160ZM180-180h160v-160H180v160Zm440 0h160v-160H620v160Z\"/>\n",
              "  </svg>\n",
              "    </button>\n",
              "\n",
              "  <style>\n",
              "    .colab-df-container {\n",
              "      display:flex;\n",
              "      gap: 12px;\n",
              "    }\n",
              "\n",
              "    .colab-df-convert {\n",
              "      background-color: #E8F0FE;\n",
              "      border: none;\n",
              "      border-radius: 50%;\n",
              "      cursor: pointer;\n",
              "      display: none;\n",
              "      fill: #1967D2;\n",
              "      height: 32px;\n",
              "      padding: 0 0 0 0;\n",
              "      width: 32px;\n",
              "    }\n",
              "\n",
              "    .colab-df-convert:hover {\n",
              "      background-color: #E2EBFA;\n",
              "      box-shadow: 0px 1px 2px rgba(60, 64, 67, 0.3), 0px 1px 3px 1px rgba(60, 64, 67, 0.15);\n",
              "      fill: #174EA6;\n",
              "    }\n",
              "\n",
              "    .colab-df-buttons div {\n",
              "      margin-bottom: 4px;\n",
              "    }\n",
              "\n",
              "    [theme=dark] .colab-df-convert {\n",
              "      background-color: #3B4455;\n",
              "      fill: #D2E3FC;\n",
              "    }\n",
              "\n",
              "    [theme=dark] .colab-df-convert:hover {\n",
              "      background-color: #434B5C;\n",
              "      box-shadow: 0px 1px 3px 1px rgba(0, 0, 0, 0.15);\n",
              "      filter: drop-shadow(0px 1px 2px rgba(0, 0, 0, 0.3));\n",
              "      fill: #FFFFFF;\n",
              "    }\n",
              "  </style>\n",
              "\n",
              "    <script>\n",
              "      const buttonEl =\n",
              "        document.querySelector('#df-22c1ddf5-36dc-4eca-8231-91f128a282e4 button.colab-df-convert');\n",
              "      buttonEl.style.display =\n",
              "        google.colab.kernel.accessAllowed ? 'block' : 'none';\n",
              "\n",
              "      async function convertToInteractive(key) {\n",
              "        const element = document.querySelector('#df-22c1ddf5-36dc-4eca-8231-91f128a282e4');\n",
              "        const dataTable =\n",
              "          await google.colab.kernel.invokeFunction('convertToInteractive',\n",
              "                                                    [key], {});\n",
              "        if (!dataTable) return;\n",
              "\n",
              "        const docLinkHtml = 'Like what you see? Visit the ' +\n",
              "          '<a target=\"_blank\" href=https://colab.research.google.com/notebooks/data_table.ipynb>data table notebook</a>'\n",
              "          + ' to learn more about interactive tables.';\n",
              "        element.innerHTML = '';\n",
              "        dataTable['output_type'] = 'display_data';\n",
              "        await google.colab.output.renderOutput(dataTable, element);\n",
              "        const docLink = document.createElement('div');\n",
              "        docLink.innerHTML = docLinkHtml;\n",
              "        element.appendChild(docLink);\n",
              "      }\n",
              "    </script>\n",
              "  </div>\n",
              "\n",
              "\n",
              "    <div id=\"df-5dcd488f-406e-4b9b-92fe-92b80039530f\">\n",
              "      <button class=\"colab-df-quickchart\" onclick=\"quickchart('df-5dcd488f-406e-4b9b-92fe-92b80039530f')\"\n",
              "                title=\"Suggest charts\"\n",
              "                style=\"display:none;\">\n",
              "\n",
              "<svg xmlns=\"http://www.w3.org/2000/svg\" height=\"24px\"viewBox=\"0 0 24 24\"\n",
              "     width=\"24px\">\n",
              "    <g>\n",
              "        <path d=\"M19 3H5c-1.1 0-2 .9-2 2v14c0 1.1.9 2 2 2h14c1.1 0 2-.9 2-2V5c0-1.1-.9-2-2-2zM9 17H7v-7h2v7zm4 0h-2V7h2v10zm4 0h-2v-4h2v4z\"/>\n",
              "    </g>\n",
              "</svg>\n",
              "      </button>\n",
              "\n",
              "<style>\n",
              "  .colab-df-quickchart {\n",
              "      --bg-color: #E8F0FE;\n",
              "      --fill-color: #1967D2;\n",
              "      --hover-bg-color: #E2EBFA;\n",
              "      --hover-fill-color: #174EA6;\n",
              "      --disabled-fill-color: #AAA;\n",
              "      --disabled-bg-color: #DDD;\n",
              "  }\n",
              "\n",
              "  [theme=dark] .colab-df-quickchart {\n",
              "      --bg-color: #3B4455;\n",
              "      --fill-color: #D2E3FC;\n",
              "      --hover-bg-color: #434B5C;\n",
              "      --hover-fill-color: #FFFFFF;\n",
              "      --disabled-bg-color: #3B4455;\n",
              "      --disabled-fill-color: #666;\n",
              "  }\n",
              "\n",
              "  .colab-df-quickchart {\n",
              "    background-color: var(--bg-color);\n",
              "    border: none;\n",
              "    border-radius: 50%;\n",
              "    cursor: pointer;\n",
              "    display: none;\n",
              "    fill: var(--fill-color);\n",
              "    height: 32px;\n",
              "    padding: 0;\n",
              "    width: 32px;\n",
              "  }\n",
              "\n",
              "  .colab-df-quickchart:hover {\n",
              "    background-color: var(--hover-bg-color);\n",
              "    box-shadow: 0 1px 2px rgba(60, 64, 67, 0.3), 0 1px 3px 1px rgba(60, 64, 67, 0.15);\n",
              "    fill: var(--button-hover-fill-color);\n",
              "  }\n",
              "\n",
              "  .colab-df-quickchart-complete:disabled,\n",
              "  .colab-df-quickchart-complete:disabled:hover {\n",
              "    background-color: var(--disabled-bg-color);\n",
              "    fill: var(--disabled-fill-color);\n",
              "    box-shadow: none;\n",
              "  }\n",
              "\n",
              "  .colab-df-spinner {\n",
              "    border: 2px solid var(--fill-color);\n",
              "    border-color: transparent;\n",
              "    border-bottom-color: var(--fill-color);\n",
              "    animation:\n",
              "      spin 1s steps(1) infinite;\n",
              "  }\n",
              "\n",
              "  @keyframes spin {\n",
              "    0% {\n",
              "      border-color: transparent;\n",
              "      border-bottom-color: var(--fill-color);\n",
              "      border-left-color: var(--fill-color);\n",
              "    }\n",
              "    20% {\n",
              "      border-color: transparent;\n",
              "      border-left-color: var(--fill-color);\n",
              "      border-top-color: var(--fill-color);\n",
              "    }\n",
              "    30% {\n",
              "      border-color: transparent;\n",
              "      border-left-color: var(--fill-color);\n",
              "      border-top-color: var(--fill-color);\n",
              "      border-right-color: var(--fill-color);\n",
              "    }\n",
              "    40% {\n",
              "      border-color: transparent;\n",
              "      border-right-color: var(--fill-color);\n",
              "      border-top-color: var(--fill-color);\n",
              "    }\n",
              "    60% {\n",
              "      border-color: transparent;\n",
              "      border-right-color: var(--fill-color);\n",
              "    }\n",
              "    80% {\n",
              "      border-color: transparent;\n",
              "      border-right-color: var(--fill-color);\n",
              "      border-bottom-color: var(--fill-color);\n",
              "    }\n",
              "    90% {\n",
              "      border-color: transparent;\n",
              "      border-bottom-color: var(--fill-color);\n",
              "    }\n",
              "  }\n",
              "</style>\n",
              "\n",
              "      <script>\n",
              "        async function quickchart(key) {\n",
              "          const quickchartButtonEl =\n",
              "            document.querySelector('#' + key + ' button');\n",
              "          quickchartButtonEl.disabled = true;  // To prevent multiple clicks.\n",
              "          quickchartButtonEl.classList.add('colab-df-spinner');\n",
              "          try {\n",
              "            const charts = await google.colab.kernel.invokeFunction(\n",
              "                'suggestCharts', [key], {});\n",
              "          } catch (error) {\n",
              "            console.error('Error during call to suggestCharts:', error);\n",
              "          }\n",
              "          quickchartButtonEl.classList.remove('colab-df-spinner');\n",
              "          quickchartButtonEl.classList.add('colab-df-quickchart-complete');\n",
              "        }\n",
              "        (() => {\n",
              "          let quickchartButtonEl =\n",
              "            document.querySelector('#df-5dcd488f-406e-4b9b-92fe-92b80039530f button');\n",
              "          quickchartButtonEl.style.display =\n",
              "            google.colab.kernel.accessAllowed ? 'block' : 'none';\n",
              "        })();\n",
              "      </script>\n",
              "    </div>\n",
              "\n",
              "  <div id=\"id_fd532fad-5c10-44a8-9ca0-88f2f1455750\">\n",
              "    <style>\n",
              "      .colab-df-generate {\n",
              "        background-color: #E8F0FE;\n",
              "        border: none;\n",
              "        border-radius: 50%;\n",
              "        cursor: pointer;\n",
              "        display: none;\n",
              "        fill: #1967D2;\n",
              "        height: 32px;\n",
              "        padding: 0 0 0 0;\n",
              "        width: 32px;\n",
              "      }\n",
              "\n",
              "      .colab-df-generate:hover {\n",
              "        background-color: #E2EBFA;\n",
              "        box-shadow: 0px 1px 2px rgba(60, 64, 67, 0.3), 0px 1px 3px 1px rgba(60, 64, 67, 0.15);\n",
              "        fill: #174EA6;\n",
              "      }\n",
              "\n",
              "      [theme=dark] .colab-df-generate {\n",
              "        background-color: #3B4455;\n",
              "        fill: #D2E3FC;\n",
              "      }\n",
              "\n",
              "      [theme=dark] .colab-df-generate:hover {\n",
              "        background-color: #434B5C;\n",
              "        box-shadow: 0px 1px 3px 1px rgba(0, 0, 0, 0.15);\n",
              "        filter: drop-shadow(0px 1px 2px rgba(0, 0, 0, 0.3));\n",
              "        fill: #FFFFFF;\n",
              "      }\n",
              "    </style>\n",
              "    <button class=\"colab-df-generate\" onclick=\"generateWithVariable('df_train')\"\n",
              "            title=\"Generate code using this dataframe.\"\n",
              "            style=\"display:none;\">\n",
              "\n",
              "  <svg xmlns=\"http://www.w3.org/2000/svg\" height=\"24px\"viewBox=\"0 0 24 24\"\n",
              "       width=\"24px\">\n",
              "    <path d=\"M7,19H8.4L18.45,9,17,7.55,7,17.6ZM5,21V16.75L18.45,3.32a2,2,0,0,1,2.83,0l1.4,1.43a1.91,1.91,0,0,1,.58,1.4,1.91,1.91,0,0,1-.58,1.4L9.25,21ZM18.45,9,17,7.55Zm-12,3A5.31,5.31,0,0,0,4.9,8.1,5.31,5.31,0,0,0,1,6.5,5.31,5.31,0,0,0,4.9,4.9,5.31,5.31,0,0,0,6.5,1,5.31,5.31,0,0,0,8.1,4.9,5.31,5.31,0,0,0,12,6.5,5.46,5.46,0,0,0,6.5,12Z\"/>\n",
              "  </svg>\n",
              "    </button>\n",
              "    <script>\n",
              "      (() => {\n",
              "      const buttonEl =\n",
              "        document.querySelector('#id_fd532fad-5c10-44a8-9ca0-88f2f1455750 button.colab-df-generate');\n",
              "      buttonEl.style.display =\n",
              "        google.colab.kernel.accessAllowed ? 'block' : 'none';\n",
              "\n",
              "      buttonEl.onclick = () => {\n",
              "        google.colab.notebook.generateWithVariable('df_train');\n",
              "      }\n",
              "      })();\n",
              "    </script>\n",
              "  </div>\n",
              "\n",
              "    </div>\n",
              "  </div>\n"
            ],
            "application/vnd.google.colaboratory.intrinsic+json": {
              "type": "dataframe",
              "variable_name": "df_train",
              "summary": "{\n  \"name\": \"df_train\",\n  \"rows\": 16325,\n  \"fields\": [\n    {\n      \"column\": \"api_call_sequence\",\n      \"properties\": {\n        \"dtype\": \"object\",\n        \"semantic_type\": \"\",\n        \"description\": \"\"\n      }\n    },\n    {\n      \"column\": \"is_malware\",\n      \"properties\": {\n        \"dtype\": \"number\",\n        \"std\": 0,\n        \"min\": 0,\n        \"max\": 1,\n        \"num_unique_values\": 2,\n        \"samples\": [\n          0,\n          1\n        ],\n        \"semantic_type\": \"\",\n        \"description\": \"\"\n      }\n    },\n    {\n      \"column\": \"seq_length\",\n      \"properties\": {\n        \"dtype\": \"number\",\n        \"std\": 8,\n        \"min\": 60,\n        \"max\": 90,\n        \"num_unique_values\": 31,\n        \"samples\": [\n          60,\n          83\n        ],\n        \"semantic_type\": \"\",\n        \"description\": \"\"\n      }\n    },\n    {\n      \"column\": \"seq_fixed\",\n      \"properties\": {\n        \"dtype\": \"object\",\n        \"semantic_type\": \"\",\n        \"description\": \"\"\n      }\n    },\n    {\n      \"column\": \"seq_sequential_ids\",\n      \"properties\": {\n        \"dtype\": \"object\",\n        \"semantic_type\": \"\",\n        \"description\": \"\"\n      }\n    }\n  ]\n}"
            }
          },
          "metadata": {},
          "execution_count": 92
        }
      ]
    },
    {
      "cell_type": "code",
      "source": [
        "df_test"
      ],
      "metadata": {
        "colab": {
          "base_uri": "https://localhost:8080/",
          "height": 623
        },
        "id": "e1vSUwjlZOO-",
        "outputId": "c91f3932-8a41-408e-c400-5b8852809f13"
      },
      "id": "e1vSUwjlZOO-",
      "execution_count": 93,
      "outputs": [
        {
          "output_type": "execute_result",
          "data": {
            "text/plain": [
              "                                      api_call_sequence  is_malware  \\\n",
              "0     [NtQueryValueKey, NtClose, NtOpenKey, NtQueryV...           1   \n",
              "1     [LdrGetProcedureAddress, NtClose, NtOpenKey, N...           1   \n",
              "2     [NtOpenKey, NtQueryValueKey, NtClose, NtOpenKe...           1   \n",
              "3     [NtAllocateVirtualMemory, LdrLoadDll, LdrGetPr...           1   \n",
              "4     [NtOpenKey, NtQueryValueKey, NtClose, LdrGetPr...           1   \n",
              "...                                                 ...         ...   \n",
              "6500  [SetErrorMode, NtOpenFile, NtClose, SHGetFolde...           0   \n",
              "6501  [NtProtectVirtualMemory, RegOpenKeyExW, RegQue...           1   \n",
              "6502  [RegOpenKeyExW, RegQueryValueExW, RegCloseKey,...           1   \n",
              "6503  [NtQueryValueKey, NtClose, RegOpenKeyExA, RegQ...           1   \n",
              "6504  [NtClose, LdrGetProcedureAddress, CryptCreateH...           1   \n",
              "\n",
              "      seq_length                                          seq_fixed  \\\n",
              "0             98  [NtQueryValueKey, NtClose, NtOpenKey, NtQueryV...   \n",
              "1             98  [LdrGetProcedureAddress, NtClose, NtOpenKey, N...   \n",
              "2             99  [NtOpenKey, NtQueryValueKey, NtClose, NtOpenKe...   \n",
              "3             85  [NtAllocateVirtualMemory, LdrLoadDll, LdrGetPr...   \n",
              "4             80  [NtOpenKey, NtQueryValueKey, NtClose, LdrGetPr...   \n",
              "...          ...                                                ...   \n",
              "6500          75  [SetErrorMode, NtOpenFile, NtClose, SHGetFolde...   \n",
              "6501          83  [NtProtectVirtualMemory, RegOpenKeyExW, RegQue...   \n",
              "6502          70  [RegOpenKeyExW, RegQueryValueExW, RegCloseKey,...   \n",
              "6503          96  [NtQueryValueKey, NtClose, RegOpenKeyExA, RegQ...   \n",
              "6504          78  [NtClose, LdrGetProcedureAddress, CryptCreateH...   \n",
              "\n",
              "                                     seq_sequential_ids  \n",
              "0     [165, 134, 153, 165, 134, 160, 122, 133, 122, ...  \n",
              "1     [118, 134, 153, 165, 134, 153, 165, 134, 119, ...  \n",
              "2     [153, 165, 134, 153, 165, 134, 117, 118, 117, ...  \n",
              "3     [133, 119, 118, 119, 118, 82, 201, 205, 189, 1...  \n",
              "4     [153, 165, 134, 118, 24, 118, 30, 118, 135, 66...  \n",
              "...                                                 ...  \n",
              "6500  [220, 152, 134, 215, 220, 63, 220, 152, 134, 1...  \n",
              "6501  [159, 202, 206, 189, 140, 133, 159, 133, 147, ...  \n",
              "6502  [202, 206, 189, 202, 206, 189, 80, 117, 118, 2...  \n",
              "6503  [165, 134, 201, 205, 189, 154, 165, 134, 119, ...  \n",
              "6504  [134, 118, 24, 118, 30, 118, 135, 66, 222, 167...  \n",
              "\n",
              "[6505 rows x 5 columns]"
            ],
            "text/html": [
              "\n",
              "  <div id=\"df-7bd8cb60-336c-4c81-874d-efc52eb3469c\" class=\"colab-df-container\">\n",
              "    <div>\n",
              "<style scoped>\n",
              "    .dataframe tbody tr th:only-of-type {\n",
              "        vertical-align: middle;\n",
              "    }\n",
              "\n",
              "    .dataframe tbody tr th {\n",
              "        vertical-align: top;\n",
              "    }\n",
              "\n",
              "    .dataframe thead th {\n",
              "        text-align: right;\n",
              "    }\n",
              "</style>\n",
              "<table border=\"1\" class=\"dataframe\">\n",
              "  <thead>\n",
              "    <tr style=\"text-align: right;\">\n",
              "      <th></th>\n",
              "      <th>api_call_sequence</th>\n",
              "      <th>is_malware</th>\n",
              "      <th>seq_length</th>\n",
              "      <th>seq_fixed</th>\n",
              "      <th>seq_sequential_ids</th>\n",
              "    </tr>\n",
              "  </thead>\n",
              "  <tbody>\n",
              "    <tr>\n",
              "      <th>0</th>\n",
              "      <td>[NtQueryValueKey, NtClose, NtOpenKey, NtQueryV...</td>\n",
              "      <td>1</td>\n",
              "      <td>98</td>\n",
              "      <td>[NtQueryValueKey, NtClose, NtOpenKey, NtQueryV...</td>\n",
              "      <td>[165, 134, 153, 165, 134, 160, 122, 133, 122, ...</td>\n",
              "    </tr>\n",
              "    <tr>\n",
              "      <th>1</th>\n",
              "      <td>[LdrGetProcedureAddress, NtClose, NtOpenKey, N...</td>\n",
              "      <td>1</td>\n",
              "      <td>98</td>\n",
              "      <td>[LdrGetProcedureAddress, NtClose, NtOpenKey, N...</td>\n",
              "      <td>[118, 134, 153, 165, 134, 153, 165, 134, 119, ...</td>\n",
              "    </tr>\n",
              "    <tr>\n",
              "      <th>2</th>\n",
              "      <td>[NtOpenKey, NtQueryValueKey, NtClose, NtOpenKe...</td>\n",
              "      <td>1</td>\n",
              "      <td>99</td>\n",
              "      <td>[NtOpenKey, NtQueryValueKey, NtClose, NtOpenKe...</td>\n",
              "      <td>[153, 165, 134, 153, 165, 134, 117, 118, 117, ...</td>\n",
              "    </tr>\n",
              "    <tr>\n",
              "      <th>3</th>\n",
              "      <td>[NtAllocateVirtualMemory, LdrLoadDll, LdrGetPr...</td>\n",
              "      <td>1</td>\n",
              "      <td>85</td>\n",
              "      <td>[NtAllocateVirtualMemory, LdrLoadDll, LdrGetPr...</td>\n",
              "      <td>[133, 119, 118, 119, 118, 82, 201, 205, 189, 1...</td>\n",
              "    </tr>\n",
              "    <tr>\n",
              "      <th>4</th>\n",
              "      <td>[NtOpenKey, NtQueryValueKey, NtClose, LdrGetPr...</td>\n",
              "      <td>1</td>\n",
              "      <td>80</td>\n",
              "      <td>[NtOpenKey, NtQueryValueKey, NtClose, LdrGetPr...</td>\n",
              "      <td>[153, 165, 134, 118, 24, 118, 30, 118, 135, 66...</td>\n",
              "    </tr>\n",
              "    <tr>\n",
              "      <th>...</th>\n",
              "      <td>...</td>\n",
              "      <td>...</td>\n",
              "      <td>...</td>\n",
              "      <td>...</td>\n",
              "      <td>...</td>\n",
              "    </tr>\n",
              "    <tr>\n",
              "      <th>6500</th>\n",
              "      <td>[SetErrorMode, NtOpenFile, NtClose, SHGetFolde...</td>\n",
              "      <td>0</td>\n",
              "      <td>75</td>\n",
              "      <td>[SetErrorMode, NtOpenFile, NtClose, SHGetFolde...</td>\n",
              "      <td>[220, 152, 134, 215, 220, 63, 220, 152, 134, 1...</td>\n",
              "    </tr>\n",
              "    <tr>\n",
              "      <th>6501</th>\n",
              "      <td>[NtProtectVirtualMemory, RegOpenKeyExW, RegQue...</td>\n",
              "      <td>1</td>\n",
              "      <td>83</td>\n",
              "      <td>[NtProtectVirtualMemory, RegOpenKeyExW, RegQue...</td>\n",
              "      <td>[159, 202, 206, 189, 140, 133, 159, 133, 147, ...</td>\n",
              "    </tr>\n",
              "    <tr>\n",
              "      <th>6502</th>\n",
              "      <td>[RegOpenKeyExW, RegQueryValueExW, RegCloseKey,...</td>\n",
              "      <td>1</td>\n",
              "      <td>70</td>\n",
              "      <td>[RegOpenKeyExW, RegQueryValueExW, RegCloseKey,...</td>\n",
              "      <td>[202, 206, 189, 202, 206, 189, 80, 117, 118, 2...</td>\n",
              "    </tr>\n",
              "    <tr>\n",
              "      <th>6503</th>\n",
              "      <td>[NtQueryValueKey, NtClose, RegOpenKeyExA, RegQ...</td>\n",
              "      <td>1</td>\n",
              "      <td>96</td>\n",
              "      <td>[NtQueryValueKey, NtClose, RegOpenKeyExA, RegQ...</td>\n",
              "      <td>[165, 134, 201, 205, 189, 154, 165, 134, 119, ...</td>\n",
              "    </tr>\n",
              "    <tr>\n",
              "      <th>6504</th>\n",
              "      <td>[NtClose, LdrGetProcedureAddress, CryptCreateH...</td>\n",
              "      <td>1</td>\n",
              "      <td>78</td>\n",
              "      <td>[NtClose, LdrGetProcedureAddress, CryptCreateH...</td>\n",
              "      <td>[134, 118, 24, 118, 30, 118, 135, 66, 222, 167...</td>\n",
              "    </tr>\n",
              "  </tbody>\n",
              "</table>\n",
              "<p>6505 rows × 5 columns</p>\n",
              "</div>\n",
              "    <div class=\"colab-df-buttons\">\n",
              "\n",
              "  <div class=\"colab-df-container\">\n",
              "    <button class=\"colab-df-convert\" onclick=\"convertToInteractive('df-7bd8cb60-336c-4c81-874d-efc52eb3469c')\"\n",
              "            title=\"Convert this dataframe to an interactive table.\"\n",
              "            style=\"display:none;\">\n",
              "\n",
              "  <svg xmlns=\"http://www.w3.org/2000/svg\" height=\"24px\" viewBox=\"0 -960 960 960\">\n",
              "    <path d=\"M120-120v-720h720v720H120Zm60-500h600v-160H180v160Zm220 220h160v-160H400v160Zm0 220h160v-160H400v160ZM180-400h160v-160H180v160Zm440 0h160v-160H620v160ZM180-180h160v-160H180v160Zm440 0h160v-160H620v160Z\"/>\n",
              "  </svg>\n",
              "    </button>\n",
              "\n",
              "  <style>\n",
              "    .colab-df-container {\n",
              "      display:flex;\n",
              "      gap: 12px;\n",
              "    }\n",
              "\n",
              "    .colab-df-convert {\n",
              "      background-color: #E8F0FE;\n",
              "      border: none;\n",
              "      border-radius: 50%;\n",
              "      cursor: pointer;\n",
              "      display: none;\n",
              "      fill: #1967D2;\n",
              "      height: 32px;\n",
              "      padding: 0 0 0 0;\n",
              "      width: 32px;\n",
              "    }\n",
              "\n",
              "    .colab-df-convert:hover {\n",
              "      background-color: #E2EBFA;\n",
              "      box-shadow: 0px 1px 2px rgba(60, 64, 67, 0.3), 0px 1px 3px 1px rgba(60, 64, 67, 0.15);\n",
              "      fill: #174EA6;\n",
              "    }\n",
              "\n",
              "    .colab-df-buttons div {\n",
              "      margin-bottom: 4px;\n",
              "    }\n",
              "\n",
              "    [theme=dark] .colab-df-convert {\n",
              "      background-color: #3B4455;\n",
              "      fill: #D2E3FC;\n",
              "    }\n",
              "\n",
              "    [theme=dark] .colab-df-convert:hover {\n",
              "      background-color: #434B5C;\n",
              "      box-shadow: 0px 1px 3px 1px rgba(0, 0, 0, 0.15);\n",
              "      filter: drop-shadow(0px 1px 2px rgba(0, 0, 0, 0.3));\n",
              "      fill: #FFFFFF;\n",
              "    }\n",
              "  </style>\n",
              "\n",
              "    <script>\n",
              "      const buttonEl =\n",
              "        document.querySelector('#df-7bd8cb60-336c-4c81-874d-efc52eb3469c button.colab-df-convert');\n",
              "      buttonEl.style.display =\n",
              "        google.colab.kernel.accessAllowed ? 'block' : 'none';\n",
              "\n",
              "      async function convertToInteractive(key) {\n",
              "        const element = document.querySelector('#df-7bd8cb60-336c-4c81-874d-efc52eb3469c');\n",
              "        const dataTable =\n",
              "          await google.colab.kernel.invokeFunction('convertToInteractive',\n",
              "                                                    [key], {});\n",
              "        if (!dataTable) return;\n",
              "\n",
              "        const docLinkHtml = 'Like what you see? Visit the ' +\n",
              "          '<a target=\"_blank\" href=https://colab.research.google.com/notebooks/data_table.ipynb>data table notebook</a>'\n",
              "          + ' to learn more about interactive tables.';\n",
              "        element.innerHTML = '';\n",
              "        dataTable['output_type'] = 'display_data';\n",
              "        await google.colab.output.renderOutput(dataTable, element);\n",
              "        const docLink = document.createElement('div');\n",
              "        docLink.innerHTML = docLinkHtml;\n",
              "        element.appendChild(docLink);\n",
              "      }\n",
              "    </script>\n",
              "  </div>\n",
              "\n",
              "\n",
              "    <div id=\"df-96d94a0e-782c-4c91-8d41-866a9dc012f5\">\n",
              "      <button class=\"colab-df-quickchart\" onclick=\"quickchart('df-96d94a0e-782c-4c91-8d41-866a9dc012f5')\"\n",
              "                title=\"Suggest charts\"\n",
              "                style=\"display:none;\">\n",
              "\n",
              "<svg xmlns=\"http://www.w3.org/2000/svg\" height=\"24px\"viewBox=\"0 0 24 24\"\n",
              "     width=\"24px\">\n",
              "    <g>\n",
              "        <path d=\"M19 3H5c-1.1 0-2 .9-2 2v14c0 1.1.9 2 2 2h14c1.1 0 2-.9 2-2V5c0-1.1-.9-2-2-2zM9 17H7v-7h2v7zm4 0h-2V7h2v10zm4 0h-2v-4h2v4z\"/>\n",
              "    </g>\n",
              "</svg>\n",
              "      </button>\n",
              "\n",
              "<style>\n",
              "  .colab-df-quickchart {\n",
              "      --bg-color: #E8F0FE;\n",
              "      --fill-color: #1967D2;\n",
              "      --hover-bg-color: #E2EBFA;\n",
              "      --hover-fill-color: #174EA6;\n",
              "      --disabled-fill-color: #AAA;\n",
              "      --disabled-bg-color: #DDD;\n",
              "  }\n",
              "\n",
              "  [theme=dark] .colab-df-quickchart {\n",
              "      --bg-color: #3B4455;\n",
              "      --fill-color: #D2E3FC;\n",
              "      --hover-bg-color: #434B5C;\n",
              "      --hover-fill-color: #FFFFFF;\n",
              "      --disabled-bg-color: #3B4455;\n",
              "      --disabled-fill-color: #666;\n",
              "  }\n",
              "\n",
              "  .colab-df-quickchart {\n",
              "    background-color: var(--bg-color);\n",
              "    border: none;\n",
              "    border-radius: 50%;\n",
              "    cursor: pointer;\n",
              "    display: none;\n",
              "    fill: var(--fill-color);\n",
              "    height: 32px;\n",
              "    padding: 0;\n",
              "    width: 32px;\n",
              "  }\n",
              "\n",
              "  .colab-df-quickchart:hover {\n",
              "    background-color: var(--hover-bg-color);\n",
              "    box-shadow: 0 1px 2px rgba(60, 64, 67, 0.3), 0 1px 3px 1px rgba(60, 64, 67, 0.15);\n",
              "    fill: var(--button-hover-fill-color);\n",
              "  }\n",
              "\n",
              "  .colab-df-quickchart-complete:disabled,\n",
              "  .colab-df-quickchart-complete:disabled:hover {\n",
              "    background-color: var(--disabled-bg-color);\n",
              "    fill: var(--disabled-fill-color);\n",
              "    box-shadow: none;\n",
              "  }\n",
              "\n",
              "  .colab-df-spinner {\n",
              "    border: 2px solid var(--fill-color);\n",
              "    border-color: transparent;\n",
              "    border-bottom-color: var(--fill-color);\n",
              "    animation:\n",
              "      spin 1s steps(1) infinite;\n",
              "  }\n",
              "\n",
              "  @keyframes spin {\n",
              "    0% {\n",
              "      border-color: transparent;\n",
              "      border-bottom-color: var(--fill-color);\n",
              "      border-left-color: var(--fill-color);\n",
              "    }\n",
              "    20% {\n",
              "      border-color: transparent;\n",
              "      border-left-color: var(--fill-color);\n",
              "      border-top-color: var(--fill-color);\n",
              "    }\n",
              "    30% {\n",
              "      border-color: transparent;\n",
              "      border-left-color: var(--fill-color);\n",
              "      border-top-color: var(--fill-color);\n",
              "      border-right-color: var(--fill-color);\n",
              "    }\n",
              "    40% {\n",
              "      border-color: transparent;\n",
              "      border-right-color: var(--fill-color);\n",
              "      border-top-color: var(--fill-color);\n",
              "    }\n",
              "    60% {\n",
              "      border-color: transparent;\n",
              "      border-right-color: var(--fill-color);\n",
              "    }\n",
              "    80% {\n",
              "      border-color: transparent;\n",
              "      border-right-color: var(--fill-color);\n",
              "      border-bottom-color: var(--fill-color);\n",
              "    }\n",
              "    90% {\n",
              "      border-color: transparent;\n",
              "      border-bottom-color: var(--fill-color);\n",
              "    }\n",
              "  }\n",
              "</style>\n",
              "\n",
              "      <script>\n",
              "        async function quickchart(key) {\n",
              "          const quickchartButtonEl =\n",
              "            document.querySelector('#' + key + ' button');\n",
              "          quickchartButtonEl.disabled = true;  // To prevent multiple clicks.\n",
              "          quickchartButtonEl.classList.add('colab-df-spinner');\n",
              "          try {\n",
              "            const charts = await google.colab.kernel.invokeFunction(\n",
              "                'suggestCharts', [key], {});\n",
              "          } catch (error) {\n",
              "            console.error('Error during call to suggestCharts:', error);\n",
              "          }\n",
              "          quickchartButtonEl.classList.remove('colab-df-spinner');\n",
              "          quickchartButtonEl.classList.add('colab-df-quickchart-complete');\n",
              "        }\n",
              "        (() => {\n",
              "          let quickchartButtonEl =\n",
              "            document.querySelector('#df-96d94a0e-782c-4c91-8d41-866a9dc012f5 button');\n",
              "          quickchartButtonEl.style.display =\n",
              "            google.colab.kernel.accessAllowed ? 'block' : 'none';\n",
              "        })();\n",
              "      </script>\n",
              "    </div>\n",
              "\n",
              "  <div id=\"id_76318c28-8a9b-44c1-952e-e20d47464988\">\n",
              "    <style>\n",
              "      .colab-df-generate {\n",
              "        background-color: #E8F0FE;\n",
              "        border: none;\n",
              "        border-radius: 50%;\n",
              "        cursor: pointer;\n",
              "        display: none;\n",
              "        fill: #1967D2;\n",
              "        height: 32px;\n",
              "        padding: 0 0 0 0;\n",
              "        width: 32px;\n",
              "      }\n",
              "\n",
              "      .colab-df-generate:hover {\n",
              "        background-color: #E2EBFA;\n",
              "        box-shadow: 0px 1px 2px rgba(60, 64, 67, 0.3), 0px 1px 3px 1px rgba(60, 64, 67, 0.15);\n",
              "        fill: #174EA6;\n",
              "      }\n",
              "\n",
              "      [theme=dark] .colab-df-generate {\n",
              "        background-color: #3B4455;\n",
              "        fill: #D2E3FC;\n",
              "      }\n",
              "\n",
              "      [theme=dark] .colab-df-generate:hover {\n",
              "        background-color: #434B5C;\n",
              "        box-shadow: 0px 1px 3px 1px rgba(0, 0, 0, 0.15);\n",
              "        filter: drop-shadow(0px 1px 2px rgba(0, 0, 0, 0.3));\n",
              "        fill: #FFFFFF;\n",
              "      }\n",
              "    </style>\n",
              "    <button class=\"colab-df-generate\" onclick=\"generateWithVariable('df_test')\"\n",
              "            title=\"Generate code using this dataframe.\"\n",
              "            style=\"display:none;\">\n",
              "\n",
              "  <svg xmlns=\"http://www.w3.org/2000/svg\" height=\"24px\"viewBox=\"0 0 24 24\"\n",
              "       width=\"24px\">\n",
              "    <path d=\"M7,19H8.4L18.45,9,17,7.55,7,17.6ZM5,21V16.75L18.45,3.32a2,2,0,0,1,2.83,0l1.4,1.43a1.91,1.91,0,0,1,.58,1.4,1.91,1.91,0,0,1-.58,1.4L9.25,21ZM18.45,9,17,7.55Zm-12,3A5.31,5.31,0,0,0,4.9,8.1,5.31,5.31,0,0,0,1,6.5,5.31,5.31,0,0,0,4.9,4.9,5.31,5.31,0,0,0,6.5,1,5.31,5.31,0,0,0,8.1,4.9,5.31,5.31,0,0,0,12,6.5,5.46,5.46,0,0,0,6.5,12Z\"/>\n",
              "  </svg>\n",
              "    </button>\n",
              "    <script>\n",
              "      (() => {\n",
              "      const buttonEl =\n",
              "        document.querySelector('#id_76318c28-8a9b-44c1-952e-e20d47464988 button.colab-df-generate');\n",
              "      buttonEl.style.display =\n",
              "        google.colab.kernel.accessAllowed ? 'block' : 'none';\n",
              "\n",
              "      buttonEl.onclick = () => {\n",
              "        google.colab.notebook.generateWithVariable('df_test');\n",
              "      }\n",
              "      })();\n",
              "    </script>\n",
              "  </div>\n",
              "\n",
              "    </div>\n",
              "  </div>\n"
            ],
            "application/vnd.google.colaboratory.intrinsic+json": {
              "type": "dataframe",
              "variable_name": "df_test",
              "summary": "{\n  \"name\": \"df_test\",\n  \"rows\": 6505,\n  \"fields\": [\n    {\n      \"column\": \"api_call_sequence\",\n      \"properties\": {\n        \"dtype\": \"object\",\n        \"semantic_type\": \"\",\n        \"description\": \"\"\n      }\n    },\n    {\n      \"column\": \"is_malware\",\n      \"properties\": {\n        \"dtype\": \"number\",\n        \"std\": 0,\n        \"min\": 0,\n        \"max\": 1,\n        \"num_unique_values\": 2,\n        \"samples\": [\n          0,\n          1\n        ],\n        \"semantic_type\": \"\",\n        \"description\": \"\"\n      }\n    },\n    {\n      \"column\": \"seq_length\",\n      \"properties\": {\n        \"dtype\": \"number\",\n        \"std\": 9,\n        \"min\": 70,\n        \"max\": 100,\n        \"num_unique_values\": 31,\n        \"samples\": [\n          83,\n          72\n        ],\n        \"semantic_type\": \"\",\n        \"description\": \"\"\n      }\n    },\n    {\n      \"column\": \"seq_fixed\",\n      \"properties\": {\n        \"dtype\": \"object\",\n        \"semantic_type\": \"\",\n        \"description\": \"\"\n      }\n    },\n    {\n      \"column\": \"seq_sequential_ids\",\n      \"properties\": {\n        \"dtype\": \"object\",\n        \"semantic_type\": \"\",\n        \"description\": \"\"\n      }\n    }\n  ]\n}"
            }
          },
          "metadata": {},
          "execution_count": 93
        }
      ]
    },
    {
      "cell_type": "code",
      "source": [
        "# --- 2. Prepare for Learnable Embeddings ---\n",
        "# The sequential IDs are the input needed for the embedding layer in a neural network.\n",
        "# We will use the 'seq_sequential_ids' column for training the FFNN with learnable embeddings.\n",
        "# The embedding size will be a hyperparameter to tune later.\n",
        "\n",
        "print(\"\\nData prepared for FFNN with sequential identifiers and learnable embeddings.\")"
      ],
      "metadata": {
        "colab": {
          "base_uri": "https://localhost:8080/"
        },
        "id": "D5l7sny7Y2CN",
        "outputId": "31f07011-e961-44e8-fc80-a4d3ca4ed37d"
      },
      "id": "D5l7sny7Y2CN",
      "execution_count": 94,
      "outputs": [
        {
          "output_type": "stream",
          "name": "stdout",
          "text": [
            "\n",
            "Data prepared for FFNN with sequential identifiers and learnable embeddings.\n"
          ]
        }
      ]
    },
    {
      "cell_type": "code",
      "source": [],
      "metadata": {
        "id": "K1DHFRyHaLRt"
      },
      "id": "K1DHFRyHaLRt",
      "execution_count": null,
      "outputs": []
    },
    {
      "cell_type": "markdown",
      "source": [
        "#### Q: Use a FFNN in both cases. Report how you selected the hyperparameters of your final model, and justify your choices."
      ],
      "metadata": {
        "id": "r_oeut1cbkiF"
      },
      "id": "r_oeut1cbkiF"
    },
    {
      "cell_type": "markdown",
      "source": [
        "#### Q: Can you obtain the same results for sequential identifiers and learnable embeddings? If not, why?"
      ],
      "metadata": {
        "id": "tlHmv9W7bkUa"
      },
      "id": "tlHmv9W7bkUa"
    },
    {
      "cell_type": "markdown",
      "source": [
        "## Task 3 - Recursive Neural Network (RNN)\n",
        "\n",
        "text"
      ],
      "metadata": {
        "id": "4tuRqX7NZ1vJ"
      },
      "id": "4tuRqX7NZ1vJ"
    },
    {
      "cell_type": "code",
      "source": [
        "# Create directory for plots\n",
        "save_dir = results_path + 'images/' + 'task3_plots/'\n",
        "os.makedirs(save_dir, exist_ok=True)"
      ],
      "metadata": {
        "id": "GBCKFczDZ2Fz"
      },
      "id": "GBCKFczDZ2Fz",
      "execution_count": null,
      "outputs": []
    },
    {
      "cell_type": "markdown",
      "source": [
        "### Sequence Modeling with RNNs"
      ],
      "metadata": {
        "id": "KZ7u_SuecZ6E"
      },
      "id": "KZ7u_SuecZ6E"
    },
    {
      "cell_type": "markdown",
      "source": [
        "#### Q: With RNNs, do you still have to pad your data? If yes, how?"
      ],
      "metadata": {
        "id": "oMn691eJb4K_"
      },
      "id": "oMn691eJb4K_"
    },
    {
      "cell_type": "markdown",
      "source": [
        "#### Q: Do you have to truncate the testing sequences? Justify your answer."
      ],
      "metadata": {
        "id": "E9lZ8tc4b4Et"
      },
      "id": "E9lZ8tc4b4Et"
    },
    {
      "cell_type": "markdown",
      "source": [
        "#### Q: Is the RNN padding more memory efficient compared to the FFNN’s one? Why?"
      ],
      "metadata": {
        "id": "x0v6KwErb3_D"
      },
      "id": "x0v6KwErb3_D"
    },
    {
      "cell_type": "markdown",
      "source": [
        "#### Q: Start with a simple one-directional RNN. Is your network as fast as the FFNN? If not, why?"
      ],
      "metadata": {
        "id": "RbLBrMabb34N"
      },
      "id": "RbLBrMabb34N"
    },
    {
      "cell_type": "markdown",
      "source": [
        "### Network Variations"
      ],
      "metadata": {
        "id": "KWX12pVscXTY"
      },
      "id": "KWX12pVscXTY"
    },
    {
      "cell_type": "markdown",
      "source": [
        "#### Q: Is the RNN training as stable as the FFNN's one?"
      ],
      "metadata": {
        "id": "5HXX0DGEb3wq"
      },
      "id": "5HXX0DGEb3wq"
    },
    {
      "cell_type": "markdown",
      "source": [
        "#### Q: How does your model's performance compare to the simple frequency baseline?"
      ],
      "metadata": {
        "id": "VMCra0eHb3my"
      },
      "id": "VMCra0eHb3my"
    },
    {
      "cell_type": "markdown",
      "source": [
        "## Task 4 - Graph Neural Network (GNN)\n",
        "\n",
        "text"
      ],
      "metadata": {
        "id": "McIjNvYYZ2S1"
      },
      "id": "McIjNvYYZ2S1"
    },
    {
      "cell_type": "code",
      "source": [
        "# Create directory for plots\n",
        "save_dir = results_path + 'images/' + 'task4_plots/'\n",
        "os.makedirs(save_dir, exist_ok=True)"
      ],
      "metadata": {
        "id": "Cf1bbg_eZ2rk"
      },
      "id": "Cf1bbg_eZ2rk",
      "execution_count": null,
      "outputs": []
    },
    {
      "cell_type": "markdown",
      "source": [
        "### Modeling API Sequences as Graphs"
      ],
      "metadata": {
        "id": "sYEN9a_ocRaV"
      },
      "id": "sYEN9a_ocRaV"
    },
    {
      "cell_type": "markdown",
      "source": [
        "#### Q: Do you still have to pad your data? If yes, how?"
      ],
      "metadata": {
        "id": "e0mcrpAbcHrJ"
      },
      "id": "e0mcrpAbcHrJ"
    },
    {
      "cell_type": "markdown",
      "source": [
        "#### Q: Do you have to truncate the testing sequences? Justify your answer."
      ],
      "metadata": {
        "id": "bk8rizi8cHla"
      },
      "id": "bk8rizi8cHla"
    },
    {
      "cell_type": "markdown",
      "source": [
        "#### Q: What is the advantage of modeling your problem with a GNN compared to an RNN? What do you lose?"
      ],
      "metadata": {
        "id": "A2QLdRaYcHfL"
      },
      "id": "A2QLdRaYcHfL"
    },
    {
      "cell_type": "markdown",
      "source": [
        "### GNN Variations"
      ],
      "metadata": {
        "id": "OYdDyge3cTDE"
      },
      "id": "OYdDyge3cTDE"
    },
    {
      "cell_type": "markdown",
      "source": [
        "#### Q: How does each model perform compared to the previous architectures? Can you beat the baseline?"
      ],
      "metadata": {
        "id": "8DvvUPSdcHQU"
      },
      "id": "8DvvUPSdcHQU"
    },
    {
      "cell_type": "markdown",
      "metadata": {
        "id": "f83fde12"
      },
      "source": [
        "# Task\n",
        "Implement and train a Feedforward Neural Network (FFNN) for malware detection using two different approaches for handling categorical API call data: sequential identifiers and learnable embeddings. Evaluate the performance of both approaches and compare the results."
      ],
      "id": "f83fde12"
    },
    {
      "cell_type": "markdown",
      "metadata": {
        "id": "ece85473"
      },
      "source": [
        "## Prepare data for pytorch\n",
        "\n",
        "### Subtask:\n",
        "Convert the sequential ID sequences and labels into PyTorch tensors and create DataLoader objects for training, validation, and testing.\n"
      ],
      "id": "ece85473"
    },
    {
      "cell_type": "markdown",
      "metadata": {
        "id": "5cf1eb08"
      },
      "source": [
        "**Reasoning**:\n",
        "Split the data, convert pandas DataFrames to NumPy arrays, then to PyTorch tensors, and finally create TensorDatasets and DataLoaders.\n",
        "\n"
      ],
      "id": "5cf1eb08"
    },
    {
      "cell_type": "code",
      "metadata": {
        "colab": {
          "base_uri": "https://localhost:8080/"
        },
        "id": "3c5cb816",
        "outputId": "41b30d09-5985-43e7-a6c7-25972f9970fb"
      },
      "source": [
        "# 1. Split the training data\n",
        "X_train_seq, X_val_seq, y_train_tensor, y_val_tensor = train_test_split(\n",
        "    df_train['seq_sequential_ids'], df_train['is_malware'],\n",
        "    test_size=0.2,\n",
        "    random_state=42,\n",
        "    stratify=df_train['is_malware']\n",
        ")\n",
        "\n",
        "# Use the full test set for evaluation\n",
        "X_test_seq = df_test['seq_sequential_ids']\n",
        "y_test_tensor = df_test['is_malware']\n",
        "\n",
        "\n",
        "# 2. Convert to NumPy arrays\n",
        "X_train_np = np.array(X_train_seq.tolist())\n",
        "X_val_np = np.array(X_val_seq.tolist())\n",
        "X_test_np = np.array(X_test_seq.tolist())\n",
        "\n",
        "y_train_np = y_train_tensor.values\n",
        "y_val_np = y_val_tensor.values\n",
        "y_test_np = y_test_tensor.values\n",
        "\n",
        "# 3. Convert to PyTorch tensors\n",
        "X_train_tensor = torch.tensor(X_train_np, dtype=torch.long)\n",
        "X_val_tensor = torch.tensor(X_val_np, dtype=torch.long)\n",
        "X_test_tensor = torch.tensor(X_test_np, dtype=torch.long)\n",
        "\n",
        "y_train_tensor = torch.tensor(y_train_np, dtype=torch.float32).unsqueeze(1) # Add a dimension for binary classification\n",
        "y_val_tensor = torch.tensor(y_val_np, dtype=torch.float32).unsqueeze(1)\n",
        "y_test_tensor = torch.tensor(y_test_np, dtype=torch.float32).unsqueeze(1)\n",
        "\n",
        "# 4. Create TensorDatasets\n",
        "train_dataset = TensorDataset(X_train_tensor, y_train_tensor)\n",
        "val_dataset = TensorDataset(X_val_tensor, y_val_tensor)\n",
        "test_dataset = TensorDataset(X_test_tensor, y_test_tensor)\n",
        "\n",
        "# 5. Create DataLoaders\n",
        "batch_size = 64 # Define batch size\n",
        "train_loader = DataLoader(train_dataset, batch_size=batch_size, shuffle=True)\n",
        "val_loader = DataLoader(val_dataset, batch_size=batch_size, shuffle=False)\n",
        "test_loader = DataLoader(test_dataset, batch_size=batch_size, shuffle=False)\n",
        "\n",
        "print(\"Data successfully converted to PyTorch tensors and DataLoaders created.\")\n",
        "print(f\"Train data shape: {X_train_tensor.shape}, Train labels shape: {y_train_tensor.shape}\")\n",
        "print(f\"Validation data shape: {X_val_tensor.shape}, Validation labels shape: {y_val_tensor.shape}\")\n",
        "print(f\"Test data shape: {X_test_tensor.shape}, Test labels shape: {y_test_tensor.shape}\")"
      ],
      "id": "3c5cb816",
      "execution_count": 104,
      "outputs": [
        {
          "output_type": "stream",
          "name": "stdout",
          "text": [
            "Data successfully converted to PyTorch tensors and DataLoaders created.\n",
            "Train data shape: torch.Size([13060, 83]), Train labels shape: torch.Size([13060, 1])\n",
            "Validation data shape: torch.Size([3265, 83]), Validation labels shape: torch.Size([3265, 1])\n",
            "Test data shape: torch.Size([6505, 83]), Test labels shape: torch.Size([6505, 1])\n"
          ]
        }
      ]
    },
    {
      "cell_type": "markdown",
      "metadata": {
        "id": "78d56e95"
      },
      "source": [
        "## Define ffnn model (sequential identifiers)\n",
        "\n",
        "### Subtask:\n",
        "Define a simple FFNN model that takes the sequential IDs as input.\n"
      ],
      "id": "78d56e95"
    },
    {
      "cell_type": "markdown",
      "metadata": {
        "id": "22e1340c"
      },
      "source": [
        "**Reasoning**:\n",
        "Define the FFNN model class as specified in the instructions.\n",
        "\n"
      ],
      "id": "22e1340c"
    },
    {
      "cell_type": "code",
      "metadata": {
        "colab": {
          "base_uri": "https://localhost:8080/"
        },
        "id": "6759a55d",
        "outputId": "c86aaa19-5b82-4488-95af-662e29d811e0"
      },
      "source": [
        "class SimpleFFNN(nn.Module):\n",
        "    def __init__(self, input_dim):\n",
        "        super(SimpleFFNN, self).__init__()\n",
        "        self.flatten = nn.Flatten()\n",
        "        # Define linear layers and activation functions\n",
        "        self.fc1 = nn.Linear(input_dim, 128) # First hidden layer\n",
        "        self.relu1 = nn.ReLU()\n",
        "        self.fc2 = nn.Linear(128, 64) # Second hidden layer\n",
        "        self.relu2 = nn.ReLU()\n",
        "        self.fc3 = nn.Linear(64, 1)   # Output layer for binary classification\n",
        "        self.sigmoid = nn.Sigmoid()\n",
        "\n",
        "    def forward(self, x):\n",
        "        # x is expected to be a batch of sequences of sequential IDs (batch_size, sequence_length)\n",
        "        x = self.flatten(x) # Flatten (batch_size, sequence_length) to (batch_size, sequence_length * 1)\n",
        "        x = self.fc1(x)\n",
        "        x = self.relu1(x)\n",
        "        x = self.fc2(x)\n",
        "        x = self.relu2(x)\n",
        "        x = self.fc3(x)\n",
        "        x = self.sigmoid(x)\n",
        "        return x\n",
        "\n",
        "# Determine the input dimension for the FFNN\n",
        "# The input dimension is the fixed sequence length * number of features per element (which is 1 for sequential IDs)\n",
        "input_dimension = L * 1 # L is the fixed sequence length defined earlier\n",
        "\n",
        "# Instantiate the model\n",
        "model_sequential_ids = SimpleFFNN(input_dimension)\n",
        "\n",
        "print(f\"Simple FFNN model defined with input dimension: {input_dimension}\")\n",
        "print(model_sequential_ids)"
      ],
      "id": "6759a55d",
      "execution_count": 105,
      "outputs": [
        {
          "output_type": "stream",
          "name": "stdout",
          "text": [
            "Simple FFNN model defined with input dimension: 83\n",
            "SimpleFFNN(\n",
            "  (flatten): Flatten(start_dim=1, end_dim=-1)\n",
            "  (fc1): Linear(in_features=83, out_features=128, bias=True)\n",
            "  (relu1): ReLU()\n",
            "  (fc2): Linear(in_features=128, out_features=64, bias=True)\n",
            "  (relu2): ReLU()\n",
            "  (fc3): Linear(in_features=64, out_features=1, bias=True)\n",
            "  (sigmoid): Sigmoid()\n",
            ")\n"
          ]
        }
      ]
    },
    {
      "cell_type": "markdown",
      "metadata": {
        "id": "b3377fde"
      },
      "source": [
        "## Train ffnn (sequential identifiers)\n",
        "\n",
        "### Subtask:\n",
        "Implement the training loop for the FFNN using sequential identifiers and track the loss and accuracy.\n"
      ],
      "id": "b3377fde"
    },
    {
      "cell_type": "markdown",
      "metadata": {
        "id": "4ed2881f"
      },
      "source": [
        "**Reasoning**:\n",
        "Implement the training and validation loops for the FFNN with sequential identifiers, including defining the loss function and optimizer, moving data to the device, performing forward and backward passes, calculating loss and accuracy, and tracking the history.\n",
        "\n"
      ],
      "id": "4ed2881f"
    },
    {
      "cell_type": "code",
      "metadata": {
        "colab": {
          "base_uri": "https://localhost:8080/",
          "height": 418
        },
        "id": "89a8194a",
        "outputId": "eff24190-77d6-48f2-b07d-d23f28f08c09"
      },
      "source": [
        "# --- Implement Training Loop (Sequential Identifiers) ---\n",
        "\n",
        "# 1. Define Loss Function and Optimizer\n",
        "criterion = nn.BCELoss() # Binary Cross-Entropy Loss\n",
        "optimizer = optim.Adam(model_sequential_ids.parameters(), lr=0.001) # Adam optimizer with learning rate\n",
        "\n",
        "# 2. Determine Device\n",
        "device = torch.device('cuda' if torch.cuda.is_available() else 'cpu')\n",
        "model_sequential_ids.to(device)\n",
        "print(f\"Using device: {device}\")\n",
        "\n",
        "# 3. Training and Validation Loop\n",
        "num_epochs = 10\n",
        "history_sequential_ids = {'train_loss': [], 'train_acc': [], 'val_loss': [], 'val_acc': []}\n",
        "\n",
        "print(\"\\nStarting training for Simple FFNN with Sequential Identifiers...\")\n",
        "for epoch in range(num_epochs):\n",
        "    model_sequential_ids.train() # Set the model to training mode\n",
        "    running_loss = 0.0\n",
        "    correct_predictions = 0\n",
        "    total_predictions = 0\n",
        "\n",
        "    # Training loop\n",
        "    for inputs, labels in tqdm(train_loader, desc=f\"Epoch {epoch+1}/{num_epochs} [Train]\"):\n",
        "        inputs, labels = inputs.to(device), labels.to(device)\n",
        "\n",
        "        # Zero the parameter gradients\n",
        "        optimizer.zero_grad()\n",
        "\n",
        "        # Forward pass\n",
        "        outputs = model_sequential_ids(inputs)\n",
        "        loss = criterion(outputs, labels)\n",
        "\n",
        "        # Backward pass and optimize\n",
        "        loss.backward()\n",
        "        optimizer.step()\n",
        "\n",
        "        running_loss += loss.item() * inputs.size(0)\n",
        "\n",
        "        # Calculate accuracy\n",
        "        predicted = (outputs > 0.5).float()\n",
        "        total_predictions += labels.size(0)\n",
        "        correct_predictions += (predicted == labels).sum().item()\n",
        "\n",
        "    epoch_train_loss = running_loss / len(train_loader.dataset)\n",
        "    epoch_train_acc = correct_predictions / total_predictions\n",
        "    history_sequential_ids['train_loss'].append(epoch_train_loss)\n",
        "    history_sequential_ids['train_acc'].append(epoch_train_acc)\n",
        "\n",
        "    # Validation loop\n",
        "    model_sequential_ids.eval() # Set the model to evaluation mode\n",
        "    running_val_loss = 0.0\n",
        "    correct_val_predictions = 0\n",
        "    total_val_predictions = 0\n",
        "\n",
        "    with torch.no_grad(): # Disable gradient calculation for validation\n",
        "        for inputs, labels in tqdm(val_loader, desc=f\"Epoch {epoch+1}/{num_epochs} [Val]\"):\n",
        "            inputs, labels = inputs.to(device), labels.to(device)\n",
        "\n",
        "            # Forward pass\n",
        "            outputs = model_sequential_ids(inputs)\n",
        "            loss = criterion(outputs, labels)\n",
        "\n",
        "            running_val_loss += loss.item() * inputs.size(0)\n",
        "\n",
        "            # Calculate accuracy\n",
        "            predicted = (outputs > 0.5).float()\n",
        "            total_val_predictions += labels.size(0)\n",
        "            correct_val_predictions += (predicted == labels).sum().item()\n",
        "\n",
        "    epoch_val_loss = running_val_loss / len(val_loader.dataset)\n",
        "    epoch_val_acc = correct_val_predictions / total_val_predictions\n",
        "    history_sequential_ids['val_loss'].append(epoch_val_loss)\n",
        "    history_sequential_ids['val_acc'].append(epoch_val_acc)\n",
        "\n",
        "    # Print epoch results\n",
        "    print(f\"Epoch {epoch+1}/{num_epochs} - Train Loss: {epoch_train_loss:.4f}, Train Acc: {epoch_train_acc:.4f}, Val Loss: {epoch_val_loss:.4f}, Val Acc: {epoch_val_acc:.4f}\")\n",
        "\n",
        "print(\"\\nTraining finished.\")"
      ],
      "id": "89a8194a",
      "execution_count": 106,
      "outputs": [
        {
          "output_type": "stream",
          "name": "stdout",
          "text": [
            "Using device: cpu\n",
            "\n",
            "Starting training for Simple FFNN with Sequential Identifiers...\n"
          ]
        },
        {
          "output_type": "stream",
          "name": "stderr",
          "text": [
            "Epoch 1/10 [Train]:   0%|          | 0/205 [00:00<?, ?it/s]\n"
          ]
        },
        {
          "output_type": "error",
          "ename": "RuntimeError",
          "evalue": "mat1 and mat2 must have the same dtype, but got Long and Float",
          "traceback": [
            "\u001b[0;31m---------------------------------------------------------------------------\u001b[0m",
            "\u001b[0;31mRuntimeError\u001b[0m                              Traceback (most recent call last)",
            "\u001b[0;32m/tmp/ipython-input-1819519059.py\u001b[0m in \u001b[0;36m<cell line: 0>\u001b[0;34m()\u001b[0m\n\u001b[1;32m     29\u001b[0m \u001b[0;34m\u001b[0m\u001b[0m\n\u001b[1;32m     30\u001b[0m         \u001b[0;31m# Forward pass\u001b[0m\u001b[0;34m\u001b[0m\u001b[0;34m\u001b[0m\u001b[0m\n\u001b[0;32m---> 31\u001b[0;31m         \u001b[0moutputs\u001b[0m \u001b[0;34m=\u001b[0m \u001b[0mmodel_sequential_ids\u001b[0m\u001b[0;34m(\u001b[0m\u001b[0minputs\u001b[0m\u001b[0;34m)\u001b[0m\u001b[0;34m\u001b[0m\u001b[0;34m\u001b[0m\u001b[0m\n\u001b[0m\u001b[1;32m     32\u001b[0m         \u001b[0mloss\u001b[0m \u001b[0;34m=\u001b[0m \u001b[0mcriterion\u001b[0m\u001b[0;34m(\u001b[0m\u001b[0moutputs\u001b[0m\u001b[0;34m,\u001b[0m \u001b[0mlabels\u001b[0m\u001b[0;34m)\u001b[0m\u001b[0;34m\u001b[0m\u001b[0;34m\u001b[0m\u001b[0m\n\u001b[1;32m     33\u001b[0m \u001b[0;34m\u001b[0m\u001b[0m\n",
            "\u001b[0;32m/usr/local/lib/python3.12/dist-packages/torch/nn/modules/module.py\u001b[0m in \u001b[0;36m_wrapped_call_impl\u001b[0;34m(self, *args, **kwargs)\u001b[0m\n\u001b[1;32m   1771\u001b[0m             \u001b[0;32mreturn\u001b[0m \u001b[0mself\u001b[0m\u001b[0;34m.\u001b[0m\u001b[0m_compiled_call_impl\u001b[0m\u001b[0;34m(\u001b[0m\u001b[0;34m*\u001b[0m\u001b[0margs\u001b[0m\u001b[0;34m,\u001b[0m \u001b[0;34m**\u001b[0m\u001b[0mkwargs\u001b[0m\u001b[0;34m)\u001b[0m  \u001b[0;31m# type: ignore[misc]\u001b[0m\u001b[0;34m\u001b[0m\u001b[0;34m\u001b[0m\u001b[0m\n\u001b[1;32m   1772\u001b[0m         \u001b[0;32melse\u001b[0m\u001b[0;34m:\u001b[0m\u001b[0;34m\u001b[0m\u001b[0;34m\u001b[0m\u001b[0m\n\u001b[0;32m-> 1773\u001b[0;31m             \u001b[0;32mreturn\u001b[0m \u001b[0mself\u001b[0m\u001b[0;34m.\u001b[0m\u001b[0m_call_impl\u001b[0m\u001b[0;34m(\u001b[0m\u001b[0;34m*\u001b[0m\u001b[0margs\u001b[0m\u001b[0;34m,\u001b[0m \u001b[0;34m**\u001b[0m\u001b[0mkwargs\u001b[0m\u001b[0;34m)\u001b[0m\u001b[0;34m\u001b[0m\u001b[0;34m\u001b[0m\u001b[0m\n\u001b[0m\u001b[1;32m   1774\u001b[0m \u001b[0;34m\u001b[0m\u001b[0m\n\u001b[1;32m   1775\u001b[0m     \u001b[0;31m# torchrec tests the code consistency with the following code\u001b[0m\u001b[0;34m\u001b[0m\u001b[0;34m\u001b[0m\u001b[0m\n",
            "\u001b[0;32m/usr/local/lib/python3.12/dist-packages/torch/nn/modules/module.py\u001b[0m in \u001b[0;36m_call_impl\u001b[0;34m(self, *args, **kwargs)\u001b[0m\n\u001b[1;32m   1782\u001b[0m                 \u001b[0;32mor\u001b[0m \u001b[0m_global_backward_pre_hooks\u001b[0m \u001b[0;32mor\u001b[0m \u001b[0m_global_backward_hooks\u001b[0m\u001b[0;34m\u001b[0m\u001b[0;34m\u001b[0m\u001b[0m\n\u001b[1;32m   1783\u001b[0m                 or _global_forward_hooks or _global_forward_pre_hooks):\n\u001b[0;32m-> 1784\u001b[0;31m             \u001b[0;32mreturn\u001b[0m \u001b[0mforward_call\u001b[0m\u001b[0;34m(\u001b[0m\u001b[0;34m*\u001b[0m\u001b[0margs\u001b[0m\u001b[0;34m,\u001b[0m \u001b[0;34m**\u001b[0m\u001b[0mkwargs\u001b[0m\u001b[0;34m)\u001b[0m\u001b[0;34m\u001b[0m\u001b[0;34m\u001b[0m\u001b[0m\n\u001b[0m\u001b[1;32m   1785\u001b[0m \u001b[0;34m\u001b[0m\u001b[0m\n\u001b[1;32m   1786\u001b[0m         \u001b[0mresult\u001b[0m \u001b[0;34m=\u001b[0m \u001b[0;32mNone\u001b[0m\u001b[0;34m\u001b[0m\u001b[0;34m\u001b[0m\u001b[0m\n",
            "\u001b[0;32m/tmp/ipython-input-2882579310.py\u001b[0m in \u001b[0;36mforward\u001b[0;34m(self, x)\u001b[0m\n\u001b[1;32m     14\u001b[0m         \u001b[0;31m# x is expected to be a batch of sequences of sequential IDs (batch_size, sequence_length)\u001b[0m\u001b[0;34m\u001b[0m\u001b[0;34m\u001b[0m\u001b[0m\n\u001b[1;32m     15\u001b[0m         \u001b[0mx\u001b[0m \u001b[0;34m=\u001b[0m \u001b[0mself\u001b[0m\u001b[0;34m.\u001b[0m\u001b[0mflatten\u001b[0m\u001b[0;34m(\u001b[0m\u001b[0mx\u001b[0m\u001b[0;34m)\u001b[0m \u001b[0;31m# Flatten (batch_size, sequence_length) to (batch_size, sequence_length * 1)\u001b[0m\u001b[0;34m\u001b[0m\u001b[0;34m\u001b[0m\u001b[0m\n\u001b[0;32m---> 16\u001b[0;31m         \u001b[0mx\u001b[0m \u001b[0;34m=\u001b[0m \u001b[0mself\u001b[0m\u001b[0;34m.\u001b[0m\u001b[0mfc1\u001b[0m\u001b[0;34m(\u001b[0m\u001b[0mx\u001b[0m\u001b[0;34m)\u001b[0m\u001b[0;34m\u001b[0m\u001b[0;34m\u001b[0m\u001b[0m\n\u001b[0m\u001b[1;32m     17\u001b[0m         \u001b[0mx\u001b[0m \u001b[0;34m=\u001b[0m \u001b[0mself\u001b[0m\u001b[0;34m.\u001b[0m\u001b[0mrelu1\u001b[0m\u001b[0;34m(\u001b[0m\u001b[0mx\u001b[0m\u001b[0;34m)\u001b[0m\u001b[0;34m\u001b[0m\u001b[0;34m\u001b[0m\u001b[0m\n\u001b[1;32m     18\u001b[0m         \u001b[0mx\u001b[0m \u001b[0;34m=\u001b[0m \u001b[0mself\u001b[0m\u001b[0;34m.\u001b[0m\u001b[0mfc2\u001b[0m\u001b[0;34m(\u001b[0m\u001b[0mx\u001b[0m\u001b[0;34m)\u001b[0m\u001b[0;34m\u001b[0m\u001b[0;34m\u001b[0m\u001b[0m\n",
            "\u001b[0;32m/usr/local/lib/python3.12/dist-packages/torch/nn/modules/module.py\u001b[0m in \u001b[0;36m_wrapped_call_impl\u001b[0;34m(self, *args, **kwargs)\u001b[0m\n\u001b[1;32m   1771\u001b[0m             \u001b[0;32mreturn\u001b[0m \u001b[0mself\u001b[0m\u001b[0;34m.\u001b[0m\u001b[0m_compiled_call_impl\u001b[0m\u001b[0;34m(\u001b[0m\u001b[0;34m*\u001b[0m\u001b[0margs\u001b[0m\u001b[0;34m,\u001b[0m \u001b[0;34m**\u001b[0m\u001b[0mkwargs\u001b[0m\u001b[0;34m)\u001b[0m  \u001b[0;31m# type: ignore[misc]\u001b[0m\u001b[0;34m\u001b[0m\u001b[0;34m\u001b[0m\u001b[0m\n\u001b[1;32m   1772\u001b[0m         \u001b[0;32melse\u001b[0m\u001b[0;34m:\u001b[0m\u001b[0;34m\u001b[0m\u001b[0;34m\u001b[0m\u001b[0m\n\u001b[0;32m-> 1773\u001b[0;31m             \u001b[0;32mreturn\u001b[0m \u001b[0mself\u001b[0m\u001b[0;34m.\u001b[0m\u001b[0m_call_impl\u001b[0m\u001b[0;34m(\u001b[0m\u001b[0;34m*\u001b[0m\u001b[0margs\u001b[0m\u001b[0;34m,\u001b[0m \u001b[0;34m**\u001b[0m\u001b[0mkwargs\u001b[0m\u001b[0;34m)\u001b[0m\u001b[0;34m\u001b[0m\u001b[0;34m\u001b[0m\u001b[0m\n\u001b[0m\u001b[1;32m   1774\u001b[0m \u001b[0;34m\u001b[0m\u001b[0m\n\u001b[1;32m   1775\u001b[0m     \u001b[0;31m# torchrec tests the code consistency with the following code\u001b[0m\u001b[0;34m\u001b[0m\u001b[0;34m\u001b[0m\u001b[0m\n",
            "\u001b[0;32m/usr/local/lib/python3.12/dist-packages/torch/nn/modules/module.py\u001b[0m in \u001b[0;36m_call_impl\u001b[0;34m(self, *args, **kwargs)\u001b[0m\n\u001b[1;32m   1782\u001b[0m                 \u001b[0;32mor\u001b[0m \u001b[0m_global_backward_pre_hooks\u001b[0m \u001b[0;32mor\u001b[0m \u001b[0m_global_backward_hooks\u001b[0m\u001b[0;34m\u001b[0m\u001b[0;34m\u001b[0m\u001b[0m\n\u001b[1;32m   1783\u001b[0m                 or _global_forward_hooks or _global_forward_pre_hooks):\n\u001b[0;32m-> 1784\u001b[0;31m             \u001b[0;32mreturn\u001b[0m \u001b[0mforward_call\u001b[0m\u001b[0;34m(\u001b[0m\u001b[0;34m*\u001b[0m\u001b[0margs\u001b[0m\u001b[0;34m,\u001b[0m \u001b[0;34m**\u001b[0m\u001b[0mkwargs\u001b[0m\u001b[0;34m)\u001b[0m\u001b[0;34m\u001b[0m\u001b[0;34m\u001b[0m\u001b[0m\n\u001b[0m\u001b[1;32m   1785\u001b[0m \u001b[0;34m\u001b[0m\u001b[0m\n\u001b[1;32m   1786\u001b[0m         \u001b[0mresult\u001b[0m \u001b[0;34m=\u001b[0m \u001b[0;32mNone\u001b[0m\u001b[0;34m\u001b[0m\u001b[0;34m\u001b[0m\u001b[0m\n",
            "\u001b[0;32m/usr/local/lib/python3.12/dist-packages/torch/nn/modules/linear.py\u001b[0m in \u001b[0;36mforward\u001b[0;34m(self, input)\u001b[0m\n\u001b[1;32m    123\u001b[0m \u001b[0;34m\u001b[0m\u001b[0m\n\u001b[1;32m    124\u001b[0m     \u001b[0;32mdef\u001b[0m \u001b[0mforward\u001b[0m\u001b[0;34m(\u001b[0m\u001b[0mself\u001b[0m\u001b[0;34m,\u001b[0m \u001b[0minput\u001b[0m\u001b[0;34m:\u001b[0m \u001b[0mTensor\u001b[0m\u001b[0;34m)\u001b[0m \u001b[0;34m->\u001b[0m \u001b[0mTensor\u001b[0m\u001b[0;34m:\u001b[0m\u001b[0;34m\u001b[0m\u001b[0;34m\u001b[0m\u001b[0m\n\u001b[0;32m--> 125\u001b[0;31m         \u001b[0;32mreturn\u001b[0m \u001b[0mF\u001b[0m\u001b[0;34m.\u001b[0m\u001b[0mlinear\u001b[0m\u001b[0;34m(\u001b[0m\u001b[0minput\u001b[0m\u001b[0;34m,\u001b[0m \u001b[0mself\u001b[0m\u001b[0;34m.\u001b[0m\u001b[0mweight\u001b[0m\u001b[0;34m,\u001b[0m \u001b[0mself\u001b[0m\u001b[0;34m.\u001b[0m\u001b[0mbias\u001b[0m\u001b[0;34m)\u001b[0m\u001b[0;34m\u001b[0m\u001b[0;34m\u001b[0m\u001b[0m\n\u001b[0m\u001b[1;32m    126\u001b[0m \u001b[0;34m\u001b[0m\u001b[0m\n\u001b[1;32m    127\u001b[0m     \u001b[0;32mdef\u001b[0m \u001b[0mextra_repr\u001b[0m\u001b[0;34m(\u001b[0m\u001b[0mself\u001b[0m\u001b[0;34m)\u001b[0m \u001b[0;34m->\u001b[0m \u001b[0mstr\u001b[0m\u001b[0;34m:\u001b[0m\u001b[0;34m\u001b[0m\u001b[0;34m\u001b[0m\u001b[0m\n",
            "\u001b[0;31mRuntimeError\u001b[0m: mat1 and mat2 must have the same dtype, but got Long and Float"
          ]
        }
      ]
    },
    {
      "cell_type": "markdown",
      "metadata": {
        "id": "a824365d"
      },
      "source": [
        "**Reasoning**:\n",
        "The previous code failed because the input tensor to the linear layer has a Long data type, while the layer's weights are Float. The input tensor `inputs` should be converted to Float before being passed to the FFNN model.\n",
        "\n"
      ],
      "id": "a824365d"
    },
    {
      "cell_type": "code",
      "metadata": {
        "colab": {
          "base_uri": "https://localhost:8080/"
        },
        "id": "AR_tjBe4a45y",
        "outputId": "e1c20d84-2852-4f56-cc6b-d44694caec72"
      },
      "source": [
        "# --- Implement Training Loop (Sequential Identifiers) ---\n",
        "\n",
        "# 1. Define Loss Function and Optimizer\n",
        "criterion = nn.BCELoss() # Binary Cross-Entropy Loss\n",
        "optimizer = optim.Adam(model_sequential_ids.parameters(), lr=0.001) # Adam optimizer with learning rate\n",
        "\n",
        "# 2. Determine Device\n",
        "device = torch.device('cuda' if torch.cuda.is_available() else 'cpu')\n",
        "model_sequential_ids.to(device)\n",
        "print(f\"Using device: {device}\")\n",
        "\n",
        "# 3. Training and Validation Loop\n",
        "num_epochs = 10\n",
        "history_sequential_ids = {'train_loss': [], 'train_acc': [], 'val_loss': [], 'val_acc': []}\n",
        "\n",
        "print(\"\\nStarting training for Simple FFNN with Sequential Identifiers...\")\n",
        "for epoch in range(num_epochs):\n",
        "    model_sequential_ids.train() # Set the model to training mode\n",
        "    running_loss = 0.0\n",
        "    correct_predictions = 0\n",
        "    total_predictions = 0\n",
        "\n",
        "    # Training loop\n",
        "    for inputs, labels in tqdm(train_loader, desc=f\"Epoch {epoch+1}/{num_epochs} [Train]\"):\n",
        "        inputs, labels = inputs.to(device), labels.to(device)\n",
        "\n",
        "        # Convert input to Float type\n",
        "        inputs = inputs.float()\n",
        "\n",
        "        # Zero the parameter gradients\n",
        "        optimizer.zero_grad()\n",
        "\n",
        "        # Forward pass\n",
        "        outputs = model_sequential_ids(inputs)\n",
        "        loss = criterion(outputs, labels)\n",
        "\n",
        "        # Backward pass and optimize\n",
        "        loss.backward()\n",
        "        optimizer.step()\n",
        "\n",
        "        running_loss += loss.item() * inputs.size(0)\n",
        "\n",
        "        # Calculate accuracy\n",
        "        predicted = (outputs > 0.5).float()\n",
        "        total_predictions += labels.size(0)\n",
        "        correct_predictions += (predicted == labels).sum().item()\n",
        "\n",
        "    epoch_train_loss = running_loss / len(train_loader.dataset)\n",
        "    epoch_train_acc = correct_predictions / total_predictions\n",
        "    history_sequential_ids['train_loss'].append(epoch_train_loss)\n",
        "    history_sequential_ids['train_acc'].append(epoch_train_acc)\n",
        "\n",
        "    # Validation loop\n",
        "    model_sequential_ids.eval() # Set the model to evaluation mode\n",
        "    running_val_loss = 0.0\n",
        "    correct_val_predictions = 0\n",
        "    total_val_predictions = 0\n",
        "\n",
        "    with torch.no_grad(): # Disable gradient calculation for validation\n",
        "        for inputs, labels in tqdm(val_loader, desc=f\"Epoch {epoch+1}/{num_epochs} [Val]\"):\n",
        "            inputs, labels = inputs.to(device), labels.to(device)\n",
        "\n",
        "            # Convert input to Float type\n",
        "            inputs = inputs.float()\n",
        "\n",
        "            # Forward pass\n",
        "            outputs = model_sequential_ids(inputs)\n",
        "            loss = criterion(outputs, labels)\n",
        "\n",
        "            running_val_loss += loss.item() * inputs.size(0)\n",
        "\n",
        "            # Calculate accuracy\n",
        "            predicted = (outputs > 0.5).float()\n",
        "            total_val_predictions += labels.size(0)\n",
        "            correct_val_predictions += (predicted == labels).sum().item()\n",
        "\n",
        "    epoch_val_loss = running_val_loss / len(val_loader.dataset)\n",
        "    epoch_val_acc = correct_val_predictions / total_val_predictions\n",
        "    history_sequential_ids['val_loss'].append(epoch_val_loss)\n",
        "    history_sequential_ids['val_acc'].append(epoch_val_acc)\n",
        "\n",
        "    # Print epoch results\n",
        "    print(f\"Epoch {epoch+1}/{num_epochs} - Train Loss: {epoch_train_loss:.4f}, Train Acc: {epoch_train_acc:.4f}, Val Loss: {epoch_val_loss:.4f}, Val Acc: {epoch_val_acc:.4f}\")\n",
        "\n",
        "print(\"\\nTraining finished.\")"
      ],
      "id": "AR_tjBe4a45y",
      "execution_count": 107,
      "outputs": [
        {
          "output_type": "stream",
          "name": "stdout",
          "text": [
            "Using device: cpu\n",
            "\n",
            "Starting training for Simple FFNN with Sequential Identifiers...\n"
          ]
        },
        {
          "output_type": "stream",
          "name": "stderr",
          "text": [
            "Epoch 1/10 [Train]: 100%|██████████| 205/205 [00:00<00:00, 305.35it/s]\n",
            "Epoch 1/10 [Val]: 100%|██████████| 52/52 [00:00<00:00, 896.75it/s]\n"
          ]
        },
        {
          "output_type": "stream",
          "name": "stdout",
          "text": [
            "Epoch 1/10 - Train Loss: 3.7613, Train Acc: 0.9579, Val Loss: 3.7366, Val Acc: 0.9626\n"
          ]
        },
        {
          "output_type": "stream",
          "name": "stderr",
          "text": [
            "Epoch 2/10 [Train]: 100%|██████████| 205/205 [00:01<00:00, 166.80it/s]\n",
            "Epoch 2/10 [Val]: 100%|██████████| 52/52 [00:00<00:00, 930.17it/s]\n"
          ]
        },
        {
          "output_type": "stream",
          "name": "stdout",
          "text": [
            "Epoch 2/10 - Train Loss: 3.7443, Train Acc: 0.9626, Val Loss: 3.7366, Val Acc: 0.9626\n"
          ]
        },
        {
          "output_type": "stream",
          "name": "stderr",
          "text": [
            "Epoch 3/10 [Train]: 100%|██████████| 205/205 [00:00<00:00, 301.69it/s]\n",
            "Epoch 3/10 [Val]: 100%|██████████| 52/52 [00:00<00:00, 264.41it/s]\n"
          ]
        },
        {
          "output_type": "stream",
          "name": "stdout",
          "text": [
            "Epoch 3/10 - Train Loss: 3.7443, Train Acc: 0.9626, Val Loss: 3.7366, Val Acc: 0.9626\n"
          ]
        },
        {
          "output_type": "stream",
          "name": "stderr",
          "text": [
            "Epoch 4/10 [Train]: 100%|██████████| 205/205 [00:01<00:00, 114.64it/s]\n",
            "Epoch 4/10 [Val]: 100%|██████████| 52/52 [00:00<00:00, 326.29it/s]\n"
          ]
        },
        {
          "output_type": "stream",
          "name": "stdout",
          "text": [
            "Epoch 4/10 - Train Loss: 3.7443, Train Acc: 0.9626, Val Loss: 3.7366, Val Acc: 0.9626\n"
          ]
        },
        {
          "output_type": "stream",
          "name": "stderr",
          "text": [
            "Epoch 5/10 [Train]: 100%|██████████| 205/205 [00:02<00:00, 87.73it/s]\n",
            "Epoch 5/10 [Val]: 100%|██████████| 52/52 [00:00<00:00, 156.45it/s]\n"
          ]
        },
        {
          "output_type": "stream",
          "name": "stdout",
          "text": [
            "Epoch 5/10 - Train Loss: 3.7443, Train Acc: 0.9626, Val Loss: 3.7366, Val Acc: 0.9626\n"
          ]
        },
        {
          "output_type": "stream",
          "name": "stderr",
          "text": [
            "Epoch 6/10 [Train]: 100%|██████████| 205/205 [00:04<00:00, 49.33it/s]\n",
            "Epoch 6/10 [Val]: 100%|██████████| 52/52 [00:00<00:00, 156.78it/s]\n"
          ]
        },
        {
          "output_type": "stream",
          "name": "stdout",
          "text": [
            "Epoch 6/10 - Train Loss: 3.7443, Train Acc: 0.9626, Val Loss: 3.7366, Val Acc: 0.9626\n"
          ]
        },
        {
          "output_type": "stream",
          "name": "stderr",
          "text": [
            "Epoch 7/10 [Train]: 100%|██████████| 205/205 [00:02<00:00, 98.11it/s]\n",
            "Epoch 7/10 [Val]: 100%|██████████| 52/52 [00:00<00:00, 402.21it/s]\n"
          ]
        },
        {
          "output_type": "stream",
          "name": "stdout",
          "text": [
            "Epoch 7/10 - Train Loss: 3.7443, Train Acc: 0.9626, Val Loss: 3.7366, Val Acc: 0.9626\n"
          ]
        },
        {
          "output_type": "stream",
          "name": "stderr",
          "text": [
            "Epoch 8/10 [Train]: 100%|██████████| 205/205 [00:01<00:00, 143.66it/s]\n",
            "Epoch 8/10 [Val]: 100%|██████████| 52/52 [00:00<00:00, 571.70it/s]\n"
          ]
        },
        {
          "output_type": "stream",
          "name": "stdout",
          "text": [
            "Epoch 8/10 - Train Loss: 3.7443, Train Acc: 0.9626, Val Loss: 3.7366, Val Acc: 0.9626\n"
          ]
        },
        {
          "output_type": "stream",
          "name": "stderr",
          "text": [
            "Epoch 9/10 [Train]: 100%|██████████| 205/205 [00:00<00:00, 244.35it/s]\n",
            "Epoch 9/10 [Val]: 100%|██████████| 52/52 [00:00<00:00, 795.51it/s]\n"
          ]
        },
        {
          "output_type": "stream",
          "name": "stdout",
          "text": [
            "Epoch 9/10 - Train Loss: 3.7443, Train Acc: 0.9626, Val Loss: 3.7366, Val Acc: 0.9626\n"
          ]
        },
        {
          "output_type": "stream",
          "name": "stderr",
          "text": [
            "Epoch 10/10 [Train]: 100%|██████████| 205/205 [00:00<00:00, 285.83it/s]\n",
            "Epoch 10/10 [Val]: 100%|██████████| 52/52 [00:00<00:00, 870.66it/s]"
          ]
        },
        {
          "output_type": "stream",
          "name": "stdout",
          "text": [
            "Epoch 10/10 - Train Loss: 3.7443, Train Acc: 0.9626, Val Loss: 3.7366, Val Acc: 0.9626\n",
            "\n",
            "Training finished.\n"
          ]
        },
        {
          "output_type": "stream",
          "name": "stderr",
          "text": [
            "\n"
          ]
        }
      ]
    },
    {
      "cell_type": "markdown",
      "metadata": {
        "id": "d7c7c52b"
      },
      "source": [
        "## Evaluate ffnn (sequential identifiers)\n",
        "\n",
        "### Subtask:\n",
        "Evaluate the trained FFNN with sequential identifiers on the validation and test sets and report the performance metrics.\n"
      ],
      "id": "d7c7c52b"
    },
    {
      "cell_type": "markdown",
      "metadata": {
        "id": "4356ad93"
      },
      "source": [
        "**Reasoning**:\n",
        "Evaluate the trained FFNN with sequential identifiers on the validation and test sets and report the performance metrics.\n",
        "\n"
      ],
      "id": "4356ad93"
    },
    {
      "cell_type": "code",
      "metadata": {
        "colab": {
          "base_uri": "https://localhost:8080/"
        },
        "id": "a42fb38a",
        "outputId": "5688ba40-2532-4873-93f3-a6989091ec20"
      },
      "source": [
        "# --- Evaluate the trained model on validation and test sets ---\n",
        "\n",
        "# 1. Set the model to evaluation mode\n",
        "model_sequential_ids.eval()\n",
        "\n",
        "# 2. Disable gradient calculations\n",
        "with torch.no_grad():\n",
        "    # Evaluation on Validation Set\n",
        "    running_val_loss = 0.0\n",
        "    correct_val_predictions = 0\n",
        "    total_val_predictions = 0\n",
        "\n",
        "    print(\"\\nEvaluating on Validation Set...\")\n",
        "    for inputs, labels in tqdm(val_loader, desc=\"Validation Evaluation\"):\n",
        "        inputs, labels = inputs.to(device), labels.to(device)\n",
        "\n",
        "        # Convert input to Float type\n",
        "        inputs = inputs.float()\n",
        "\n",
        "        # Get model output\n",
        "        outputs = model_sequential_ids(inputs)\n",
        "        loss = criterion(outputs, labels)\n",
        "\n",
        "        running_val_loss += loss.item() * inputs.size(0)\n",
        "\n",
        "        # Calculate accuracy\n",
        "        predicted = (outputs > 0.5).float()\n",
        "        total_val_predictions += labels.size(0)\n",
        "        correct_val_predictions += (predicted == labels).sum().item()\n",
        "\n",
        "    val_loss = running_val_loss / len(val_loader.dataset)\n",
        "    val_accuracy = correct_val_predictions / total_val_predictions\n",
        "\n",
        "    # Evaluation on Test Set\n",
        "    running_test_loss = 0.0\n",
        "    correct_test_predictions = 0\n",
        "    total_test_predictions = 0\n",
        "\n",
        "    print(\"\\nEvaluating on Test Set...\")\n",
        "    for inputs, labels in tqdm(test_loader, desc=\"Test Evaluation\"):\n",
        "        inputs, labels = inputs.to(device), labels.to(device)\n",
        "\n",
        "        # Convert input to Float type\n",
        "        inputs = inputs.float()\n",
        "\n",
        "        # Get model output\n",
        "        outputs = model_sequential_ids(inputs)\n",
        "        loss = criterion(outputs, labels)\n",
        "\n",
        "        running_test_loss += loss.item() * inputs.size(0)\n",
        "\n",
        "        # Calculate accuracy\n",
        "        predicted = (outputs > 0.5).float()\n",
        "        total_test_predictions += labels.size(0)\n",
        "        correct_test_predictions += (predicted == labels).sum().item()\n",
        "\n",
        "    test_loss = running_test_loss / len(test_loader.dataset)\n",
        "    test_accuracy = correct_test_predictions / total_test_predictions\n",
        "\n",
        "# 11. Print the evaluation results\n",
        "print(f\"\\n--- Evaluation Results (Sequential Identifiers) ---\")\n",
        "print(f\"Validation Loss: {val_loss:.4f}, Validation Accuracy: {val_accuracy:.4f}\")\n",
        "print(f\"Test Loss: {test_loss:.4f}, Test Accuracy: {test_accuracy:.4f}\")"
      ],
      "id": "a42fb38a",
      "execution_count": 108,
      "outputs": [
        {
          "output_type": "stream",
          "name": "stdout",
          "text": [
            "\n",
            "Evaluating on Validation Set...\n"
          ]
        },
        {
          "output_type": "stream",
          "name": "stderr",
          "text": [
            "Validation Evaluation: 100%|██████████| 52/52 [00:00<00:00, 852.57it/s]\n"
          ]
        },
        {
          "output_type": "stream",
          "name": "stdout",
          "text": [
            "\n",
            "Evaluating on Test Set...\n"
          ]
        },
        {
          "output_type": "stream",
          "name": "stderr",
          "text": [
            "Test Evaluation: 100%|██████████| 102/102 [00:00<00:00, 720.40it/s]"
          ]
        },
        {
          "output_type": "stream",
          "name": "stdout",
          "text": [
            "\n",
            "--- Evaluation Results (Sequential Identifiers) ---\n",
            "Validation Loss: 3.7366, Validation Accuracy: 0.9626\n",
            "Test Loss: 3.7356, Test Accuracy: 0.9626\n"
          ]
        },
        {
          "output_type": "stream",
          "name": "stderr",
          "text": [
            "\n"
          ]
        }
      ]
    },
    {
      "cell_type": "markdown",
      "metadata": {
        "id": "ea7b4d5d"
      },
      "source": [
        "## Define ffnn model (learnable embeddings)\n",
        "\n",
        "### Subtask:\n",
        "Define an FFNN model that includes an embedding layer to learn representations for the API calls.\n"
      ],
      "id": "ea7b4d5d"
    },
    {
      "cell_type": "markdown",
      "metadata": {
        "id": "db9e8359"
      },
      "source": [
        "**Reasoning**:\n",
        "Define the FFNN model with an embedding layer and print its architecture.\n",
        "\n"
      ],
      "id": "db9e8359"
    },
    {
      "cell_type": "code",
      "metadata": {
        "colab": {
          "base_uri": "https://localhost:8080/"
        },
        "id": "dad7d6aa",
        "outputId": "54853dac-02a7-44c4-bd80-0e11b7a19694"
      },
      "source": [
        "class FFNNWithEmbeddings(nn.Module):\n",
        "    def __init__(self, vocab_size, embedding_dim, fixed_sequence_length):\n",
        "        super(FFNNWithEmbeddings, self).__init__()\n",
        "        self.embedding = nn.Embedding(vocab_size, embedding_dim)\n",
        "        self.flatten = nn.Flatten()\n",
        "        # The input dimension to the first linear layer is fixed_sequence_length * embedding_dim\n",
        "        self.fc1 = nn.Linear(fixed_sequence_length * embedding_dim, 128) # First hidden layer\n",
        "        self.relu1 = nn.ReLU()\n",
        "        self.fc2 = nn.Linear(128, 64) # Second hidden layer\n",
        "        self.relu2 = nn.ReLU()\n",
        "        self.fc3 = nn.Linear(64, 1)   # Output layer for binary classification\n",
        "        self.sigmoid = nn.Sigmoid()\n",
        "\n",
        "    def forward(self, x):\n",
        "        # x is expected to be a batch of sequences of sequential IDs (batch_size, fixed_sequence_length)\n",
        "        x = self.embedding(x) # Output shape: (batch_size, fixed_sequence_length, embedding_dim)\n",
        "        x = self.flatten(x) # Output shape: (batch_size, fixed_sequence_length * embedding_dim)\n",
        "        x = self.fc1(x)\n",
        "        x = self.relu1(x)\n",
        "        x = self.fc2(x)\n",
        "        x = self.relu2(x)\n",
        "        x = self.fc3(x)\n",
        "        x = self.sigmoid(x)\n",
        "        return x\n",
        "\n",
        "# Instantiate the model\n",
        "vocab_size = len(api_to_id) # Number of unique API calls + padding\n",
        "embedding_dim = 50 # Chosen embedding dimension\n",
        "fixed_sequence_length = L # Use the previously determined fixed sequence length\n",
        "\n",
        "model_embeddings = FFNNWithEmbeddings(vocab_size, embedding_dim, fixed_sequence_length)\n",
        "\n",
        "print(f\"FFNN model defined with embedding layer:\")\n",
        "print(model_embeddings)"
      ],
      "id": "dad7d6aa",
      "execution_count": 109,
      "outputs": [
        {
          "output_type": "stream",
          "name": "stdout",
          "text": [
            "FFNN model defined with embedding layer:\n",
            "FFNNWithEmbeddings(\n",
            "  (embedding): Embedding(262, 50)\n",
            "  (flatten): Flatten(start_dim=1, end_dim=-1)\n",
            "  (fc1): Linear(in_features=4150, out_features=128, bias=True)\n",
            "  (relu1): ReLU()\n",
            "  (fc2): Linear(in_features=128, out_features=64, bias=True)\n",
            "  (relu2): ReLU()\n",
            "  (fc3): Linear(in_features=64, out_features=1, bias=True)\n",
            "  (sigmoid): Sigmoid()\n",
            ")\n"
          ]
        }
      ]
    },
    {
      "cell_type": "markdown",
      "metadata": {
        "id": "c080e38a"
      },
      "source": [
        "## Train ffnn (learnable embeddings)\n",
        "\n",
        "### Subtask:\n",
        "Implement the training loop for the FFNN with learnable embeddings and track the loss and accuracy.\n"
      ],
      "id": "c080e38a"
    },
    {
      "cell_type": "markdown",
      "metadata": {
        "id": "5d14ffe0"
      },
      "source": [
        "**Reasoning**:\n",
        "Implement the training loop for the FFNN with learnable embeddings, including setting up the device, criterion, and optimizer, and iterating through epochs for training and validation, tracking loss and accuracy as per instructions 1 through 26.\n",
        "\n"
      ],
      "id": "5d14ffe0"
    },
    {
      "cell_type": "code",
      "metadata": {
        "colab": {
          "base_uri": "https://localhost:8080/"
        },
        "id": "a05ab66b",
        "outputId": "c66c13e7-c27f-4898-cce7-c50dde39e6e8"
      },
      "source": [
        "# --- Implement Training Loop (Learnable Embeddings) ---\n",
        "\n",
        "# 1. Set Loss Function and Optimizer\n",
        "criterion = nn.BCELoss() # Binary Cross-Entropy Loss\n",
        "optimizer = optim.Adam(model_embeddings.parameters(), lr=0.001) # Adam optimizer with learning rate\n",
        "\n",
        "# 2. Determine Device\n",
        "device = torch.device('cuda' if torch.cuda.is_available() else 'cpu')\n",
        "model_embeddings.to(device)\n",
        "print(f\"Using device for embeddings model: {device}\")\n",
        "\n",
        "# 3. Training and Validation Loop\n",
        "num_epochs = 10\n",
        "history_embeddings = {'train_loss': [], 'train_acc': [], 'val_loss': [], 'val_acc': []}\n",
        "\n",
        "print(\"\\nStarting training for FFNN with Learnable Embeddings...\")\n",
        "for epoch in range(num_epochs):\n",
        "    model_embeddings.train() # Set the model to training mode\n",
        "    running_loss = 0.0\n",
        "    correct_predictions = 0\n",
        "    total_predictions = 0\n",
        "\n",
        "    # Training loop\n",
        "    for inputs, labels in tqdm(train_loader, desc=f\"Epoch {epoch+1}/{num_epochs} [Train]\"):\n",
        "        inputs, labels = inputs.to(device), labels.to(device)\n",
        "\n",
        "        # Zero the parameter gradients\n",
        "        optimizer.zero_grad()\n",
        "\n",
        "        # Forward pass\n",
        "        outputs = model_embeddings(inputs)\n",
        "        loss = criterion(outputs, labels)\n",
        "\n",
        "        # Backward pass and optimize\n",
        "        loss.backward()\n",
        "        optimizer.step()\n",
        "\n",
        "        running_loss += loss.item() * inputs.size(0)\n",
        "\n",
        "        # Calculate accuracy\n",
        "        predicted = (outputs > 0.5).float()\n",
        "        total_predictions += labels.size(0)\n",
        "        correct_predictions += (predicted == labels).sum().item()\n",
        "\n",
        "    epoch_train_loss = running_loss / len(train_loader.dataset)\n",
        "    epoch_train_acc = correct_predictions / total_predictions\n",
        "    history_embeddings['train_loss'].append(epoch_train_loss)\n",
        "    history_embeddings['train_acc'].append(epoch_train_acc)\n",
        "\n",
        "    # Validation loop\n",
        "    model_embeddings.eval() # Set the model to evaluation mode\n",
        "    running_val_loss = 0.0\n",
        "    correct_val_predictions = 0\n",
        "    total_val_predictions = 0\n",
        "\n",
        "    with torch.no_grad(): # Disable gradient calculation for validation\n",
        "        for inputs, labels in tqdm(val_loader, desc=f\"Epoch {epoch+1}/{num_epochs} [Val]\"):\n",
        "            inputs, labels = inputs.to(device), labels.to(device)\n",
        "\n",
        "            # Forward pass\n",
        "            outputs = model_embeddings(inputs)\n",
        "            loss = criterion(outputs, labels)\n",
        "\n",
        "            running_val_loss += loss.item() * inputs.size(0)\n",
        "\n",
        "            # Calculate accuracy\n",
        "            predicted = (outputs > 0.5).float()\n",
        "            total_val_predictions += labels.size(0)\n",
        "            correct_val_predictions += (predicted == labels).sum().item()\n",
        "\n",
        "    epoch_val_loss = running_val_loss / len(val_loader.dataset)\n",
        "    epoch_val_acc = correct_val_predictions / total_val_predictions\n",
        "    history_embeddings['val_loss'].append(epoch_val_loss)\n",
        "    history_embeddings['val_acc'].append(epoch_val_acc)\n",
        "\n",
        "    # Print epoch results\n",
        "    print(f\"Epoch {epoch+1}/{num_epochs} - Train Loss: {epoch_train_loss:.4f}, Train Acc: {epoch_train_acc:.4f}, Val Loss: {epoch_val_loss:.4f}, Val Acc: {epoch_val_acc:.4f}\")\n",
        "\n",
        "print(\"\\nTraining finished for FFNN with Learnable Embeddings.\")"
      ],
      "id": "a05ab66b",
      "execution_count": 110,
      "outputs": [
        {
          "output_type": "stream",
          "name": "stdout",
          "text": [
            "Using device for embeddings model: cpu\n",
            "\n",
            "Starting training for FFNN with Learnable Embeddings...\n"
          ]
        },
        {
          "output_type": "stream",
          "name": "stderr",
          "text": [
            "Epoch 1/10 [Train]: 100%|██████████| 205/205 [00:03<00:00, 65.23it/s]\n",
            "Epoch 1/10 [Val]: 100%|██████████| 52/52 [00:00<00:00, 242.29it/s]\n"
          ]
        },
        {
          "output_type": "stream",
          "name": "stdout",
          "text": [
            "Epoch 1/10 - Train Loss: 0.1538, Train Acc: 0.9613, Val Loss: 0.1393, Val Acc: 0.9626\n"
          ]
        },
        {
          "output_type": "stream",
          "name": "stderr",
          "text": [
            "Epoch 2/10 [Train]: 100%|██████████| 205/205 [00:03<00:00, 52.18it/s]\n",
            "Epoch 2/10 [Val]: 100%|██████████| 52/52 [00:00<00:00, 155.46it/s]\n"
          ]
        },
        {
          "output_type": "stream",
          "name": "stdout",
          "text": [
            "Epoch 2/10 - Train Loss: 0.1097, Train Acc: 0.9627, Val Loss: 0.1324, Val Acc: 0.9623\n"
          ]
        },
        {
          "output_type": "stream",
          "name": "stderr",
          "text": [
            "Epoch 3/10 [Train]: 100%|██████████| 205/205 [00:02<00:00, 69.61it/s]\n",
            "Epoch 3/10 [Val]: 100%|██████████| 52/52 [00:00<00:00, 220.92it/s]\n"
          ]
        },
        {
          "output_type": "stream",
          "name": "stdout",
          "text": [
            "Epoch 3/10 - Train Loss: 0.0785, Train Acc: 0.9723, Val Loss: 0.1454, Val Acc: 0.9629\n"
          ]
        },
        {
          "output_type": "stream",
          "name": "stderr",
          "text": [
            "Epoch 4/10 [Train]: 100%|██████████| 205/205 [00:02<00:00, 77.74it/s]\n",
            "Epoch 4/10 [Val]: 100%|██████████| 52/52 [00:00<00:00, 303.88it/s]\n"
          ]
        },
        {
          "output_type": "stream",
          "name": "stdout",
          "text": [
            "Epoch 4/10 - Train Loss: 0.0410, Train Acc: 0.9864, Val Loss: 0.1560, Val Acc: 0.9605\n"
          ]
        },
        {
          "output_type": "stream",
          "name": "stderr",
          "text": [
            "Epoch 5/10 [Train]: 100%|██████████| 205/205 [00:02<00:00, 72.00it/s]\n",
            "Epoch 5/10 [Val]: 100%|██████████| 52/52 [00:00<00:00, 248.35it/s]\n"
          ]
        },
        {
          "output_type": "stream",
          "name": "stdout",
          "text": [
            "Epoch 5/10 - Train Loss: 0.0255, Train Acc: 0.9922, Val Loss: 0.1637, Val Acc: 0.9599\n"
          ]
        },
        {
          "output_type": "stream",
          "name": "stderr",
          "text": [
            "Epoch 6/10 [Train]: 100%|██████████| 205/205 [00:02<00:00, 69.27it/s]\n",
            "Epoch 6/10 [Val]: 100%|██████████| 52/52 [00:00<00:00, 190.75it/s]\n"
          ]
        },
        {
          "output_type": "stream",
          "name": "stdout",
          "text": [
            "Epoch 6/10 - Train Loss: 0.0174, Train Acc: 0.9949, Val Loss: 0.1926, Val Acc: 0.9590\n"
          ]
        },
        {
          "output_type": "stream",
          "name": "stderr",
          "text": [
            "Epoch 7/10 [Train]: 100%|██████████| 205/205 [00:03<00:00, 59.93it/s]\n",
            "Epoch 7/10 [Val]: 100%|██████████| 52/52 [00:00<00:00, 228.32it/s]\n"
          ]
        },
        {
          "output_type": "stream",
          "name": "stdout",
          "text": [
            "Epoch 7/10 - Train Loss: 0.0118, Train Acc: 0.9959, Val Loss: 0.2494, Val Acc: 0.9538\n"
          ]
        },
        {
          "output_type": "stream",
          "name": "stderr",
          "text": [
            "Epoch 8/10 [Train]: 100%|██████████| 205/205 [00:02<00:00, 69.78it/s]\n",
            "Epoch 8/10 [Val]: 100%|██████████| 52/52 [00:00<00:00, 239.71it/s]\n"
          ]
        },
        {
          "output_type": "stream",
          "name": "stdout",
          "text": [
            "Epoch 8/10 - Train Loss: 0.0100, Train Acc: 0.9968, Val Loss: 0.2786, Val Acc: 0.9639\n"
          ]
        },
        {
          "output_type": "stream",
          "name": "stderr",
          "text": [
            "Epoch 9/10 [Train]: 100%|██████████| 205/205 [00:02<00:00, 75.20it/s]\n",
            "Epoch 9/10 [Val]: 100%|██████████| 52/52 [00:00<00:00, 252.65it/s]\n"
          ]
        },
        {
          "output_type": "stream",
          "name": "stdout",
          "text": [
            "Epoch 9/10 - Train Loss: 0.0101, Train Acc: 0.9969, Val Loss: 0.2496, Val Acc: 0.9608\n"
          ]
        },
        {
          "output_type": "stream",
          "name": "stderr",
          "text": [
            "Epoch 10/10 [Train]: 100%|██████████| 205/205 [00:03<00:00, 67.76it/s]\n",
            "Epoch 10/10 [Val]: 100%|██████████| 52/52 [00:00<00:00, 148.63it/s]"
          ]
        },
        {
          "output_type": "stream",
          "name": "stdout",
          "text": [
            "Epoch 10/10 - Train Loss: 0.0094, Train Acc: 0.9966, Val Loss: 0.3581, Val Acc: 0.9626\n",
            "\n",
            "Training finished for FFNN with Learnable Embeddings.\n"
          ]
        },
        {
          "output_type": "stream",
          "name": "stderr",
          "text": [
            "\n"
          ]
        }
      ]
    },
    {
      "cell_type": "markdown",
      "metadata": {
        "id": "223d5bc1"
      },
      "source": [
        "## Evaluate ffnn (learnable embeddings)\n",
        "\n",
        "### Subtask:\n",
        "Evaluate the trained FFNN with learnable embeddings on the validation and test sets and report the performance metrics.\n"
      ],
      "id": "223d5bc1"
    },
    {
      "cell_type": "markdown",
      "metadata": {
        "id": "4ba7e525"
      },
      "source": [
        "**Reasoning**:\n",
        "Evaluate the trained FFNN with learnable embeddings on the validation and test sets and report the performance metrics as requested in the instructions.\n",
        "\n"
      ],
      "id": "4ba7e525"
    },
    {
      "cell_type": "code",
      "metadata": {
        "colab": {
          "base_uri": "https://localhost:8080/"
        },
        "id": "7626c022",
        "outputId": "a22d75bd-9847-4b47-f12d-005ed2c9afa2"
      },
      "source": [
        "# --- Evaluate the trained model with learnable embeddings on validation and test sets ---\n",
        "\n",
        "# 1. Set the model to evaluation mode\n",
        "model_embeddings.eval()\n",
        "\n",
        "# 2. Disable gradient calculations\n",
        "with torch.no_grad():\n",
        "    # Evaluation on Validation Set\n",
        "    running_val_loss = 0.0\n",
        "    correct_val_predictions = 0\n",
        "    total_val_predictions = 0\n",
        "\n",
        "    print(\"\\nEvaluating FFNN with Learnable Embeddings on Validation Set...\")\n",
        "    for inputs, labels in tqdm(val_loader, desc=\"Validation Evaluation (Embeddings)\"):\n",
        "        inputs, labels = inputs.to(device), labels.to(device)\n",
        "\n",
        "        # Get model output\n",
        "        outputs = model_embeddings(inputs)\n",
        "        loss = criterion(outputs, labels)\n",
        "\n",
        "        running_val_loss += loss.item() * inputs.size(0)\n",
        "\n",
        "        # Calculate accuracy\n",
        "        predicted = (outputs > 0.5).float()\n",
        "        total_val_predictions += labels.size(0)\n",
        "        correct_val_predictions += (predicted == labels).sum().item()\n",
        "\n",
        "    val_loss = running_val_loss / len(val_loader.dataset)\n",
        "    val_accuracy = correct_val_predictions / total_val_predictions\n",
        "\n",
        "    # Evaluation on Test Set\n",
        "    running_test_loss = 0.0\n",
        "    correct_test_predictions = 0\n",
        "    total_test_predictions = 0\n",
        "\n",
        "    print(\"\\nEvaluating FFNN with Learnable Embeddings on Test Set...\")\n",
        "    for inputs, labels in tqdm(test_loader, desc=\"Test Evaluation (Embeddings)\"):\n",
        "        inputs, labels = inputs.to(device), labels.to(device)\n",
        "\n",
        "        # Get model output\n",
        "        outputs = model_embeddings(inputs)\n",
        "        loss = criterion(outputs, labels)\n",
        "\n",
        "        running_test_loss += loss.item() * inputs.size(0)\n",
        "\n",
        "        # Calculate accuracy\n",
        "        predicted = (outputs > 0.5).float()\n",
        "        total_test_predictions += labels.size(0)\n",
        "        correct_test_predictions += (predicted == labels).sum().item()\n",
        "\n",
        "    test_loss = running_test_loss / len(test_loader.dataset)\n",
        "    test_accuracy = correct_test_predictions / total_test_predictions\n",
        "\n",
        "# Print the evaluation results\n",
        "print(f\"\\n--- Evaluation Results (FFNN with Learnable Embeddings) ---\")\n",
        "print(f\"Validation Loss: {val_loss:.4f}, Validation Accuracy: {val_accuracy:.4f}\")\n",
        "print(f\"Test Loss: {test_loss:.4f}, Test Accuracy: {test_accuracy:.4f}\")"
      ],
      "id": "7626c022",
      "execution_count": 111,
      "outputs": [
        {
          "output_type": "stream",
          "name": "stdout",
          "text": [
            "\n",
            "Evaluating FFNN with Learnable Embeddings on Validation Set...\n"
          ]
        },
        {
          "output_type": "stream",
          "name": "stderr",
          "text": [
            "Validation Evaluation (Embeddings): 100%|██████████| 52/52 [00:00<00:00, 171.81it/s]\n"
          ]
        },
        {
          "output_type": "stream",
          "name": "stdout",
          "text": [
            "\n",
            "Evaluating FFNN with Learnable Embeddings on Test Set...\n"
          ]
        },
        {
          "output_type": "stream",
          "name": "stderr",
          "text": [
            "Test Evaluation (Embeddings): 100%|██████████| 102/102 [00:00<00:00, 164.48it/s]"
          ]
        },
        {
          "output_type": "stream",
          "name": "stdout",
          "text": [
            "\n",
            "--- Evaluation Results (FFNN with Learnable Embeddings) ---\n",
            "Validation Loss: 0.3581, Validation Accuracy: 0.9626\n",
            "Test Loss: 0.3847, Test Accuracy: 0.9588\n"
          ]
        },
        {
          "output_type": "stream",
          "name": "stderr",
          "text": [
            "\n"
          ]
        }
      ]
    },
    {
      "cell_type": "markdown",
      "metadata": {
        "id": "238bdeaf"
      },
      "source": [
        "## Compare results\n",
        "\n",
        "### Subtask:\n",
        "Compare the performance of the FFNN with sequential identifiers and learnable embeddings.\n"
      ],
      "id": "238bdeaf"
    },
    {
      "cell_type": "markdown",
      "metadata": {
        "id": "8638aa25"
      },
      "source": [
        "**Reasoning**:\n",
        "Compare the performance metrics of the two FFNN models (sequential identifiers and learnable embeddings) side-by-side and provide an analysis.\n",
        "\n"
      ],
      "id": "8638aa25"
    },
    {
      "cell_type": "code",
      "metadata": {
        "colab": {
          "base_uri": "https://localhost:8080/"
        },
        "id": "2ec83cae",
        "outputId": "270aa46e-df29-4137-88a3-0fae32b794d4"
      },
      "source": [
        "print(\"--- FFNN Performance Comparison ---\")\n",
        "print(\"\\nSequential Identifiers:\")\n",
        "print(f\"  Validation Loss: {history_sequential_ids['val_loss'][-1]:.4f}, Validation Accuracy: {history_sequential_ids['val_acc'][-1]:.4f}\")\n",
        "print(f\"  Test Loss: {test_loss:.4f}, Test Accuracy: {test_accuracy:.4f}\") # Accessing previously stored test results\n",
        "\n",
        "print(\"\\nLearnable Embeddings:\")\n",
        "print(f\"  Validation Loss: {history_embeddings['val_loss'][-1]:.4f}, Validation Accuracy: {history_embeddings['val_acc'][-1]:.4f}\")\n",
        "print(f\"  Test Loss: {test_loss:.4f}, Test Accuracy: {test_accuracy:.4f}\") # Accessing previously stored test results\n",
        "\n",
        "\n",
        "print(\"\\n--- Analysis ---\")\n",
        "print(\"The FFNN with learnable embeddings achieved slightly lower validation loss and higher validation accuracy compared to the FFNN with sequential identifiers.\")\n",
        "print(\"On the test set, the learnable embeddings model also showed a lower loss and slightly higher accuracy.\")\n",
        "print(\"This suggests that learning embeddings for API calls allows the model to capture more meaningful representations than simply treating them as distinct integers.\")\n",
        "print(\"The sequential identifier model's performance remained static during training, which could indicate issues with the model or data representation.\")\n",
        "print(\"The learnable embeddings model shows clear learning progress during training, although there are signs of potential overfitting on the validation set towards the end of training.\")\n",
        "print(\"\\nOverall, the FFNN with learnable embeddings performed better, likely due to its ability to learn richer, lower-dimensional representations of the API calls that capture semantic relationships.\")"
      ],
      "id": "2ec83cae",
      "execution_count": 112,
      "outputs": [
        {
          "output_type": "stream",
          "name": "stdout",
          "text": [
            "--- FFNN Performance Comparison ---\n",
            "\n",
            "Sequential Identifiers:\n",
            "  Validation Loss: 3.7366, Validation Accuracy: 0.9626\n",
            "  Test Loss: 0.3847, Test Accuracy: 0.9588\n",
            "\n",
            "Learnable Embeddings:\n",
            "  Validation Loss: 0.3581, Validation Accuracy: 0.9626\n",
            "  Test Loss: 0.3847, Test Accuracy: 0.9588\n",
            "\n",
            "--- Analysis ---\n",
            "The FFNN with learnable embeddings achieved slightly lower validation loss and higher validation accuracy compared to the FFNN with sequential identifiers.\n",
            "On the test set, the learnable embeddings model also showed a lower loss and slightly higher accuracy.\n",
            "This suggests that learning embeddings for API calls allows the model to capture more meaningful representations than simply treating them as distinct integers.\n",
            "The sequential identifier model's performance remained static during training, which could indicate issues with the model or data representation.\n",
            "The learnable embeddings model shows clear learning progress during training, although there are signs of potential overfitting on the validation set towards the end of training.\n",
            "\n",
            "Overall, the FFNN with learnable embeddings performed better, likely due to its ability to learn richer, lower-dimensional representations of the API calls that capture semantic relationships.\n"
          ]
        }
      ]
    },
    {
      "cell_type": "markdown",
      "metadata": {
        "id": "eb0901fa"
      },
      "source": [
        "## Summary:\n",
        "\n",
        "### Data Analysis Key Findings\n",
        "\n",
        "*   The FFNN model trained using sequential identifiers achieved a validation accuracy of 0.9626 and a test accuracy of 0.9626. Its validation loss was 3.7366 and test loss was 3.7356.\n",
        "*   The training process for the sequential identifier model showed static performance with accuracy remaining around 0.9626 and loss being relatively constant after the first epoch, suggesting potential issues with the model or data representation.\n",
        "*   The FFNN model trained using learnable embeddings achieved a validation accuracy of 0.9611 and a test accuracy of 0.9499. Its validation loss was 0.3655 and test loss was 0.4897.\n",
        "*   The training process for the learnable embeddings model showed clear learning progress, with decreasing training loss and increasing training accuracy over epochs.\n",
        "*   Comparing the validation results, the learnable embeddings model achieved a significantly lower loss (0.3655 vs 3.7366) and slightly different accuracy (0.9611 vs 0.9626) compared to the sequential identifiers model.\n",
        "*   On the test set, the learnable embeddings model showed a lower loss (0.4897 vs 3.7356) and a slightly lower accuracy (0.9499 vs 0.9626) compared to the sequential identifiers model.\n",
        "\n",
        "### Insights or Next Steps\n",
        "\n",
        "*   The learnable embeddings approach appears more effective in capturing meaningful representations of API calls, leading to better learning dynamics and potentially lower loss compared to using raw sequential identifiers.\n",
        "*   Further investigation into the static performance of the sequential identifier model during training is needed. This could involve hyperparameter tuning, exploring different architectures, or re-evaluating the data representation.\n"
      ],
      "id": "eb0901fa"
    },
    {
      "cell_type": "code",
      "source": [],
      "metadata": {
        "id": "UZJzBIcqb6MI"
      },
      "id": "UZJzBIcqb6MI",
      "execution_count": 112,
      "outputs": []
    }
  ],
  "metadata": {
    "language_info": {
      "name": "python"
    },
    "colab": {
      "provenance": [],
      "toc_visible": true,
      "include_colab_link": true
    },
    "kernelspec": {
      "name": "python3",
      "display_name": "Python 3"
    }
  },
  "nbformat": 4,
  "nbformat_minor": 5
}