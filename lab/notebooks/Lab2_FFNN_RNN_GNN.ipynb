{
 "cells": [
  {
   "cell_type": "markdown",
   "id": "4d244321",
   "metadata": {},
   "source": [
    "# Laboratory 1 — Model Engineering"
   ]
  },
  {
   "cell_type": "markdown",
   "id": "e1eef53d",
   "metadata": {},
   "source": []
  }
 ],
 "metadata": {
  "language_info": {
   "name": "python"
  }
 },
 "nbformat": 4,
 "nbformat_minor": 5
}
